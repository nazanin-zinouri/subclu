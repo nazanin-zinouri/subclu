{
 "cells": [
  {
   "cell_type": "markdown",
   "id": "5e9e0777",
   "metadata": {},
   "source": [
    "# Purpose\n",
    "\n",
    "2021-06-16.\n",
    "Test loading and setting up USE-multilingual before kicking off jobs to get embeddings for all posts/notes/comments.\n",
    "\n",
    "If time allows, might also compare with loading fastText embeddings and converting the German-language POSTS.\n"
   ]
  },
  {
   "cell_type": "markdown",
   "id": "1863f5ef",
   "metadata": {},
   "source": [
    "# Notebook setup"
   ]
  },
  {
   "cell_type": "code",
   "execution_count": 1,
   "id": "f8a8d6c1",
   "metadata": {},
   "outputs": [],
   "source": [
    "%load_ext autoreload\n",
    "%autoreload 2"
   ]
  },
  {
   "cell_type": "code",
   "execution_count": 2,
   "id": "80d0f4d3",
   "metadata": {},
   "outputs": [
    {
     "name": "stdout",
     "output_type": "stream",
     "text": [
      "python\t\tv 3.7.10\n",
      "===\n",
      "fse\t\tv: 0.1.15\n",
      "gensim\t\tv: 3.8.3\n",
      "joblib\t\tv: 1.0.1\n",
      "numpy\t\tv: 1.18.5\n",
      "pandas\t\tv: 1.2.4\n",
      "plotly\t\tv: 4.14.3\n"
     ]
    }
   ],
   "source": [
    "from datetime import datetime\n",
    "import gc\n",
    "import os\n",
    "\n",
    "import fse\n",
    "from fse.models import uSIF\n",
    "import gensim\n",
    "from gensim.models.fasttext import FastText, load_facebook_vectors\n",
    "import joblib\n",
    "\n",
    "import math\n",
    "import numpy as np\n",
    "import pandas as pd\n",
    "import plotly\n",
    "import plotly.express as px\n",
    "\n",
    "from subclu.data.fasttext_utils import (\n",
    "    download_ft_pretrained_model,\n",
    "    get_df_for_most_similar,\n",
    "    get_project_subfolder,\n",
    ")\n",
    "from subclu.utils import set_working_directory\n",
    "from subclu.utils.eda import (\n",
    "    setup_logging, counts_describe, value_counts_and_pcts,\n",
    "    notebook_display_config, print_lib_versions,\n",
    "    style_df_numeric\n",
    ")\n",
    "from subclu.eda.aggregates import (\n",
    "    compare_raw_v_weighted_language\n",
    ")\n",
    "from subclu.utils.data_irl_style import (\n",
    "    get_colormap, theme_dirl\n",
    ")\n",
    "\n",
    "\n",
    "print_lib_versions([fse, gensim, joblib, np, pd, plotly])"
   ]
  },
  {
   "cell_type": "code",
   "execution_count": 3,
   "id": "af9a9eda",
   "metadata": {},
   "outputs": [
    {
     "name": "stdout",
     "output_type": "stream",
     "text": [
      "python\t\tv 3.7.10\n",
      "===\n",
      "tensorflow\tv: 2.3.2\n"
     ]
    }
   ],
   "source": [
    "# USE & TF-focused imports\n",
    "import tensorflow\n",
    "import tensorflow as tf\n",
    "# import tensorflow.compat.v2 as tf\n",
    "import tensorflow_hub as hub\n",
    "import tensorflow_text\n",
    "\n",
    "print_lib_versions([tensorflow])"
   ]
  },
  {
   "cell_type": "code",
   "execution_count": 4,
   "id": "603070ce",
   "metadata": {},
   "outputs": [],
   "source": [
    "# plotting\n",
    "import matplotlib.pyplot as plt\n",
    "import matplotlib.ticker as mtick\n",
    "import matplotlib.dates as mdates\n",
    "plt.style.use('default')\n",
    "\n",
    "setup_logging()\n",
    "notebook_display_config()"
   ]
  },
  {
   "cell_type": "markdown",
   "id": "ce93b8c8",
   "metadata": {},
   "source": [
    "# Load model from hub"
   ]
  },
  {
   "cell_type": "code",
   "execution_count": 5,
   "id": "bd8ecfaa",
   "metadata": {},
   "outputs": [
    {
     "name": "stdout",
     "output_type": "stream",
     "text": [
      "CPU times: user 10 s, sys: 2.9 s, total: 12.9 s\n",
      "Wall time: 17.7 s\n"
     ]
    }
   ],
   "source": [
    "%%time\n",
    "# The 16-language multilingual module is the default but feel free\n",
    "# to pick others from the list and compare the results.\n",
    "#@param ['https://tfhub.dev/google/universal-sentence-encoder-multilingual/3', 'https://tfhub.dev/google/universal-sentence-encoder-multilingual-large/3']\n",
    "module_url = 'https://tfhub.dev/google/universal-sentence-encoder-multilingual-large/3' \n",
    "\n",
    "\n",
    "model = hub.load(module_url)\n",
    "\n",
    "def embed_text(input):\n",
    "  return model(input)"
   ]
  },
  {
   "cell_type": "markdown",
   "id": "07bb73dd",
   "metadata": {},
   "source": [
    "## Example from tutorial"
   ]
  },
  {
   "cell_type": "code",
   "execution_count": 6,
   "id": "6087c11b",
   "metadata": {},
   "outputs": [],
   "source": [
    "# Some texts of different lengths.\n",
    "english_sentences = [\"dog\", \"Puppies are nice.\", \"I enjoy taking long walks along the beach with my dog.\"]\n",
    "italian_sentences = [\"cane\", \"I cuccioli sono carini.\", \"Mi piace fare lunghe passeggiate lungo la spiaggia con il mio cane.\"]\n",
    "japanese_sentences = [\"犬\", \"子犬はいいです\", \"私は犬と一緒にビーチを散歩するのが好きです\"]\n"
   ]
  },
  {
   "cell_type": "code",
   "execution_count": 7,
   "id": "176143e6",
   "metadata": {},
   "outputs": [
    {
     "name": "stdout",
     "output_type": "stream",
     "text": [
      "CPU times: user 3.24 s, sys: 177 ms, total: 3.42 s\n",
      "Wall time: 3.63 s\n"
     ]
    }
   ],
   "source": [
    "%%time\n",
    "\n",
    "# Compute embeddings.\n",
    "en_result = model(english_sentences)\n",
    "it_result = model(italian_sentences)\n",
    "ja_result = model(japanese_sentences)\n"
   ]
  },
  {
   "cell_type": "code",
   "execution_count": 8,
   "id": "41751f09",
   "metadata": {},
   "outputs": [
    {
     "data": {
      "text/html": [
       "<div>\n",
       "<style scoped>\n",
       "    .dataframe tbody tr th:only-of-type {\n",
       "        vertical-align: middle;\n",
       "    }\n",
       "\n",
       "    .dataframe tbody tr th {\n",
       "        vertical-align: top;\n",
       "    }\n",
       "\n",
       "    .dataframe thead th {\n",
       "        text-align: right;\n",
       "    }\n",
       "</style>\n",
       "<table border=\"1\" class=\"dataframe\">\n",
       "  <thead>\n",
       "    <tr style=\"text-align: right;\">\n",
       "      <th></th>\n",
       "      <th>0</th>\n",
       "      <th>1</th>\n",
       "      <th>2</th>\n",
       "      <th>3</th>\n",
       "      <th>4</th>\n",
       "      <th>5</th>\n",
       "      <th>6</th>\n",
       "      <th>7</th>\n",
       "      <th>8</th>\n",
       "      <th>9</th>\n",
       "      <th>10</th>\n",
       "      <th>11</th>\n",
       "      <th>12</th>\n",
       "      <th>13</th>\n",
       "      <th>14</th>\n",
       "      <th>15</th>\n",
       "      <th>16</th>\n",
       "      <th>17</th>\n",
       "      <th>18</th>\n",
       "      <th>19</th>\n",
       "      <th>20</th>\n",
       "      <th>21</th>\n",
       "      <th>22</th>\n",
       "      <th>23</th>\n",
       "      <th>24</th>\n",
       "      <th>25</th>\n",
       "      <th>26</th>\n",
       "      <th>27</th>\n",
       "      <th>28</th>\n",
       "      <th>29</th>\n",
       "      <th>...</th>\n",
       "      <th>482</th>\n",
       "      <th>483</th>\n",
       "      <th>484</th>\n",
       "      <th>485</th>\n",
       "      <th>486</th>\n",
       "      <th>487</th>\n",
       "      <th>488</th>\n",
       "      <th>489</th>\n",
       "      <th>490</th>\n",
       "      <th>491</th>\n",
       "      <th>492</th>\n",
       "      <th>493</th>\n",
       "      <th>494</th>\n",
       "      <th>495</th>\n",
       "      <th>496</th>\n",
       "      <th>497</th>\n",
       "      <th>498</th>\n",
       "      <th>499</th>\n",
       "      <th>500</th>\n",
       "      <th>501</th>\n",
       "      <th>502</th>\n",
       "      <th>503</th>\n",
       "      <th>504</th>\n",
       "      <th>505</th>\n",
       "      <th>506</th>\n",
       "      <th>507</th>\n",
       "      <th>508</th>\n",
       "      <th>509</th>\n",
       "      <th>510</th>\n",
       "      <th>511</th>\n",
       "    </tr>\n",
       "  </thead>\n",
       "  <tbody>\n",
       "    <tr>\n",
       "      <th>0</th>\n",
       "      <td>tf.Tensor(-0.0052521327, shape=(), dtype=float32)</td>\n",
       "      <td>tf.Tensor(-0.038312003, shape=(), dtype=float32)</td>\n",
       "      <td>tf.Tensor(-0.00922017, shape=(), dtype=float32)</td>\n",
       "      <td>tf.Tensor(-0.04609629, shape=(), dtype=float32)</td>\n",
       "      <td>tf.Tensor(-0.057657726, shape=(), dtype=float32)</td>\n",
       "      <td>tf.Tensor(-0.04768435, shape=(), dtype=float32)</td>\n",
       "      <td>tf.Tensor(-0.016511654, shape=(), dtype=float32)</td>\n",
       "      <td>tf.Tensor(0.0047285818, shape=(), dtype=float32)</td>\n",
       "      <td>tf.Tensor(-0.013010713, shape=(), dtype=float32)</td>\n",
       "      <td>tf.Tensor(-0.071381606, shape=(), dtype=float32)</td>\n",
       "      <td>tf.Tensor(-0.030422544, shape=(), dtype=float32)</td>\n",
       "      <td>tf.Tensor(0.023165468, shape=(), dtype=float32)</td>\n",
       "      <td>tf.Tensor(0.017145867, shape=(), dtype=float32)</td>\n",
       "      <td>tf.Tensor(0.04533129, shape=(), dtype=float32)</td>\n",
       "      <td>tf.Tensor(0.015669951, shape=(), dtype=float32)</td>\n",
       "      <td>tf.Tensor(-0.013959979, shape=(), dtype=float32)</td>\n",
       "      <td>tf.Tensor(-0.053601343, shape=(), dtype=float32)</td>\n",
       "      <td>tf.Tensor(-0.0118785035, shape=(), dtype=float32)</td>\n",
       "      <td>tf.Tensor(-0.110630944, shape=(), dtype=float32)</td>\n",
       "      <td>tf.Tensor(0.004849981, shape=(), dtype=float32)</td>\n",
       "      <td>tf.Tensor(0.006763194, shape=(), dtype=float32)</td>\n",
       "      <td>tf.Tensor(0.03981161, shape=(), dtype=float32)</td>\n",
       "      <td>tf.Tensor(0.066015504, shape=(), dtype=float32)</td>\n",
       "      <td>tf.Tensor(-0.012721933, shape=(), dtype=float32)</td>\n",
       "      <td>tf.Tensor(0.037441503, shape=(), dtype=float32)</td>\n",
       "      <td>tf.Tensor(0.030250406, shape=(), dtype=float32)</td>\n",
       "      <td>tf.Tensor(-0.015202955, shape=(), dtype=float32)</td>\n",
       "      <td>tf.Tensor(0.011007942, shape=(), dtype=float32)</td>\n",
       "      <td>tf.Tensor(0.016856827, shape=(), dtype=float32)</td>\n",
       "      <td>tf.Tensor(-0.019257631, shape=(), dtype=float32)</td>\n",
       "      <td>...</td>\n",
       "      <td>tf.Tensor(0.08616642, shape=(), dtype=float32)</td>\n",
       "      <td>tf.Tensor(-0.024433251, shape=(), dtype=float32)</td>\n",
       "      <td>tf.Tensor(-0.00091491063, shape=(), dtype=float32)</td>\n",
       "      <td>tf.Tensor(0.038853936, shape=(), dtype=float32)</td>\n",
       "      <td>tf.Tensor(-0.0319451, shape=(), dtype=float32)</td>\n",
       "      <td>tf.Tensor(0.043825824, shape=(), dtype=float32)</td>\n",
       "      <td>tf.Tensor(0.058404714, shape=(), dtype=float32)</td>\n",
       "      <td>tf.Tensor(0.039348062, shape=(), dtype=float32)</td>\n",
       "      <td>tf.Tensor(0.082391866, shape=(), dtype=float32)</td>\n",
       "      <td>tf.Tensor(-0.028973889, shape=(), dtype=float32)</td>\n",
       "      <td>tf.Tensor(0.012636836, shape=(), dtype=float32)</td>\n",
       "      <td>tf.Tensor(-0.008682325, shape=(), dtype=float32)</td>\n",
       "      <td>tf.Tensor(0.0005825156, shape=(), dtype=float32)</td>\n",
       "      <td>tf.Tensor(0.0751793, shape=(), dtype=float32)</td>\n",
       "      <td>tf.Tensor(0.017356148, shape=(), dtype=float32)</td>\n",
       "      <td>tf.Tensor(0.012234448, shape=(), dtype=float32)</td>\n",
       "      <td>tf.Tensor(-0.019842025, shape=(), dtype=float32)</td>\n",
       "      <td>tf.Tensor(-0.07749193, shape=(), dtype=float32)</td>\n",
       "      <td>tf.Tensor(-0.024406092, shape=(), dtype=float32)</td>\n",
       "      <td>tf.Tensor(-0.032542046, shape=(), dtype=float32)</td>\n",
       "      <td>tf.Tensor(0.012990007, shape=(), dtype=float32)</td>\n",
       "      <td>tf.Tensor(-0.05957967, shape=(), dtype=float32)</td>\n",
       "      <td>tf.Tensor(0.026064066, shape=(), dtype=float32)</td>\n",
       "      <td>tf.Tensor(-0.05239152, shape=(), dtype=float32)</td>\n",
       "      <td>tf.Tensor(-0.05916793, shape=(), dtype=float32)</td>\n",
       "      <td>tf.Tensor(-0.025977192, shape=(), dtype=float32)</td>\n",
       "      <td>tf.Tensor(-0.031976104, shape=(), dtype=float32)</td>\n",
       "      <td>tf.Tensor(0.021790508, shape=(), dtype=float32)</td>\n",
       "      <td>tf.Tensor(0.06280179, shape=(), dtype=float32)</td>\n",
       "      <td>tf.Tensor(-0.016225368, shape=(), dtype=float32)</td>\n",
       "    </tr>\n",
       "    <tr>\n",
       "      <th>1</th>\n",
       "      <td>tf.Tensor(-0.022675816, shape=(), dtype=float32)</td>\n",
       "      <td>tf.Tensor(-0.069071844, shape=(), dtype=float32)</td>\n",
       "      <td>tf.Tensor(0.015508695, shape=(), dtype=float32)</td>\n",
       "      <td>tf.Tensor(-0.029039735, shape=(), dtype=float32)</td>\n",
       "      <td>tf.Tensor(-0.08988534, shape=(), dtype=float32)</td>\n",
       "      <td>tf.Tensor(-0.0010676612, shape=(), dtype=float32)</td>\n",
       "      <td>tf.Tensor(-0.014085721, shape=(), dtype=float32)</td>\n",
       "      <td>tf.Tensor(0.0072551174, shape=(), dtype=float32)</td>\n",
       "      <td>tf.Tensor(-0.01998963, shape=(), dtype=float32)</td>\n",
       "      <td>tf.Tensor(0.06695189, shape=(), dtype=float32)</td>\n",
       "      <td>tf.Tensor(0.017029494, shape=(), dtype=float32)</td>\n",
       "      <td>tf.Tensor(0.02294588, shape=(), dtype=float32)</td>\n",
       "      <td>tf.Tensor(-0.0061085685, shape=(), dtype=float32)</td>\n",
       "      <td>tf.Tensor(0.051182978, shape=(), dtype=float32)</td>\n",
       "      <td>tf.Tensor(-0.043797847, shape=(), dtype=float32)</td>\n",
       "      <td>tf.Tensor(-0.041236263, shape=(), dtype=float32)</td>\n",
       "      <td>tf.Tensor(0.02942931, shape=(), dtype=float32)</td>\n",
       "      <td>tf.Tensor(0.048888758, shape=(), dtype=float32)</td>\n",
       "      <td>tf.Tensor(-0.11650517, shape=(), dtype=float32)</td>\n",
       "      <td>tf.Tensor(-0.0024727208, shape=(), dtype=float32)</td>\n",
       "      <td>tf.Tensor(0.028916731, shape=(), dtype=float32)</td>\n",
       "      <td>tf.Tensor(9.121719e-05, shape=(), dtype=float32)</td>\n",
       "      <td>tf.Tensor(0.024404425, shape=(), dtype=float32)</td>\n",
       "      <td>tf.Tensor(0.012593304, shape=(), dtype=float32)</td>\n",
       "      <td>tf.Tensor(0.020244474, shape=(), dtype=float32)</td>\n",
       "      <td>tf.Tensor(0.0207117, shape=(), dtype=float32)</td>\n",
       "      <td>tf.Tensor(-0.031881034, shape=(), dtype=float32)</td>\n",
       "      <td>tf.Tensor(0.053425197, shape=(), dtype=float32)</td>\n",
       "      <td>tf.Tensor(0.0026995584, shape=(), dtype=float32)</td>\n",
       "      <td>tf.Tensor(-0.08084271, shape=(), dtype=float32)</td>\n",
       "      <td>...</td>\n",
       "      <td>tf.Tensor(0.10710527, shape=(), dtype=float32)</td>\n",
       "      <td>tf.Tensor(0.00011629223, shape=(), dtype=float32)</td>\n",
       "      <td>tf.Tensor(0.008712977, shape=(), dtype=float32)</td>\n",
       "      <td>tf.Tensor(0.07481751, shape=(), dtype=float32)</td>\n",
       "      <td>tf.Tensor(-0.04523135, shape=(), dtype=float32)</td>\n",
       "      <td>tf.Tensor(0.052447546, shape=(), dtype=float32)</td>\n",
       "      <td>tf.Tensor(0.039153565, shape=(), dtype=float32)</td>\n",
       "      <td>tf.Tensor(-0.0018760605, shape=(), dtype=float32)</td>\n",
       "      <td>tf.Tensor(0.017901925, shape=(), dtype=float32)</td>\n",
       "      <td>tf.Tensor(-0.01471055, shape=(), dtype=float32)</td>\n",
       "      <td>tf.Tensor(0.04312735, shape=(), dtype=float32)</td>\n",
       "      <td>tf.Tensor(-0.030878652, shape=(), dtype=float32)</td>\n",
       "      <td>tf.Tensor(-0.056910444, shape=(), dtype=float32)</td>\n",
       "      <td>tf.Tensor(0.058894195, shape=(), dtype=float32)</td>\n",
       "      <td>tf.Tensor(-0.006595898, shape=(), dtype=float32)</td>\n",
       "      <td>tf.Tensor(-0.019973187, shape=(), dtype=float32)</td>\n",
       "      <td>tf.Tensor(-0.03776713, shape=(), dtype=float32)</td>\n",
       "      <td>tf.Tensor(0.021722123, shape=(), dtype=float32)</td>\n",
       "      <td>tf.Tensor(-0.032639634, shape=(), dtype=float32)</td>\n",
       "      <td>tf.Tensor(-0.0055215745, shape=(), dtype=float32)</td>\n",
       "      <td>tf.Tensor(-0.039815918, shape=(), dtype=float32)</td>\n",
       "      <td>tf.Tensor(-0.0046574036, shape=(), dtype=float32)</td>\n",
       "      <td>tf.Tensor(0.02420081, shape=(), dtype=float32)</td>\n",
       "      <td>tf.Tensor(-0.02665795, shape=(), dtype=float32)</td>\n",
       "      <td>tf.Tensor(-0.006368065, shape=(), dtype=float32)</td>\n",
       "      <td>tf.Tensor(-0.06910574, shape=(), dtype=float32)</td>\n",
       "      <td>tf.Tensor(0.029129563, shape=(), dtype=float32)</td>\n",
       "      <td>tf.Tensor(0.08762301, shape=(), dtype=float32)</td>\n",
       "      <td>tf.Tensor(-0.00076923, shape=(), dtype=float32)</td>\n",
       "      <td>tf.Tensor(-0.05410821, shape=(), dtype=float32)</td>\n",
       "    </tr>\n",
       "    <tr>\n",
       "      <th>2</th>\n",
       "      <td>tf.Tensor(0.019088328, shape=(), dtype=float32)</td>\n",
       "      <td>tf.Tensor(0.009552198, shape=(), dtype=float32)</td>\n",
       "      <td>tf.Tensor(-0.04741294, shape=(), dtype=float32)</td>\n",
       "      <td>tf.Tensor(0.010493756, shape=(), dtype=float32)</td>\n",
       "      <td>tf.Tensor(-0.04290846, shape=(), dtype=float32)</td>\n",
       "      <td>tf.Tensor(-0.063314535, shape=(), dtype=float32)</td>\n",
       "      <td>tf.Tensor(-0.0031612464, shape=(), dtype=float32)</td>\n",
       "      <td>tf.Tensor(0.051496133, shape=(), dtype=float32)</td>\n",
       "      <td>tf.Tensor(0.02714772, shape=(), dtype=float32)</td>\n",
       "      <td>tf.Tensor(-0.010961108, shape=(), dtype=float32)</td>\n",
       "      <td>tf.Tensor(0.0349886, shape=(), dtype=float32)</td>\n",
       "      <td>tf.Tensor(0.057352286, shape=(), dtype=float32)</td>\n",
       "      <td>tf.Tensor(0.046823524, shape=(), dtype=float32)</td>\n",
       "      <td>tf.Tensor(0.057418343, shape=(), dtype=float32)</td>\n",
       "      <td>tf.Tensor(-0.0036693674, shape=(), dtype=float32)</td>\n",
       "      <td>tf.Tensor(0.006604579, shape=(), dtype=float32)</td>\n",
       "      <td>tf.Tensor(-0.0013654018, shape=(), dtype=float32)</td>\n",
       "      <td>tf.Tensor(0.0038320322, shape=(), dtype=float32)</td>\n",
       "      <td>tf.Tensor(-0.090584226, shape=(), dtype=float32)</td>\n",
       "      <td>tf.Tensor(0.04874486, shape=(), dtype=float32)</td>\n",
       "      <td>tf.Tensor(0.02869543, shape=(), dtype=float32)</td>\n",
       "      <td>tf.Tensor(-0.02148356, shape=(), dtype=float32)</td>\n",
       "      <td>tf.Tensor(0.052940544, shape=(), dtype=float32)</td>\n",
       "      <td>tf.Tensor(-0.01777254, shape=(), dtype=float32)</td>\n",
       "      <td>tf.Tensor(-0.048549965, shape=(), dtype=float32)</td>\n",
       "      <td>tf.Tensor(-0.07571311, shape=(), dtype=float32)</td>\n",
       "      <td>tf.Tensor(-0.061066054, shape=(), dtype=float32)</td>\n",
       "      <td>tf.Tensor(0.063769765, shape=(), dtype=float32)</td>\n",
       "      <td>tf.Tensor(-0.030032238, shape=(), dtype=float32)</td>\n",
       "      <td>tf.Tensor(0.026240462, shape=(), dtype=float32)</td>\n",
       "      <td>...</td>\n",
       "      <td>tf.Tensor(-0.021820953, shape=(), dtype=float32)</td>\n",
       "      <td>tf.Tensor(-0.054204836, shape=(), dtype=float32)</td>\n",
       "      <td>tf.Tensor(0.07822651, shape=(), dtype=float32)</td>\n",
       "      <td>tf.Tensor(-0.013889629, shape=(), dtype=float32)</td>\n",
       "      <td>tf.Tensor(-0.054223295, shape=(), dtype=float32)</td>\n",
       "      <td>tf.Tensor(-0.05325499, shape=(), dtype=float32)</td>\n",
       "      <td>tf.Tensor(0.007227717, shape=(), dtype=float32)</td>\n",
       "      <td>tf.Tensor(-0.029698567, shape=(), dtype=float32)</td>\n",
       "      <td>tf.Tensor(0.025481405, shape=(), dtype=float32)</td>\n",
       "      <td>tf.Tensor(0.0121243205, shape=(), dtype=float32)</td>\n",
       "      <td>tf.Tensor(0.00032450585, shape=(), dtype=float32)</td>\n",
       "      <td>tf.Tensor(0.00836992, shape=(), dtype=float32)</td>\n",
       "      <td>tf.Tensor(-0.041196987, shape=(), dtype=float32)</td>\n",
       "      <td>tf.Tensor(0.08043291, shape=(), dtype=float32)</td>\n",
       "      <td>tf.Tensor(0.0070090187, shape=(), dtype=float32)</td>\n",
       "      <td>tf.Tensor(-0.050937872, shape=(), dtype=float32)</td>\n",
       "      <td>tf.Tensor(0.013866421, shape=(), dtype=float32)</td>\n",
       "      <td>tf.Tensor(0.03464066, shape=(), dtype=float32)</td>\n",
       "      <td>tf.Tensor(0.008104312, shape=(), dtype=float32)</td>\n",
       "      <td>tf.Tensor(0.021492792, shape=(), dtype=float32)</td>\n",
       "      <td>tf.Tensor(0.1141071, shape=(), dtype=float32)</td>\n",
       "      <td>tf.Tensor(-0.07061693, shape=(), dtype=float32)</td>\n",
       "      <td>tf.Tensor(0.065581456, shape=(), dtype=float32)</td>\n",
       "      <td>tf.Tensor(-0.039064355, shape=(), dtype=float32)</td>\n",
       "      <td>tf.Tensor(0.005809179, shape=(), dtype=float32)</td>\n",
       "      <td>tf.Tensor(-0.0789544, shape=(), dtype=float32)</td>\n",
       "      <td>tf.Tensor(0.059527934, shape=(), dtype=float32)</td>\n",
       "      <td>tf.Tensor(0.0320648, shape=(), dtype=float32)</td>\n",
       "      <td>tf.Tensor(0.03661666, shape=(), dtype=float32)</td>\n",
       "      <td>tf.Tensor(0.0033105891, shape=(), dtype=float32)</td>\n",
       "    </tr>\n",
       "  </tbody>\n",
       "</table>\n",
       "<p>3 rows × 512 columns</p>\n",
       "</div>"
      ],
      "text/plain": [
       "                                                 0                                                 1                                                2                                                 3                                                 4    \\\n",
       "0  tf.Tensor(-0.0052521327, shape=(), dtype=float32)  tf.Tensor(-0.038312003, shape=(), dtype=float32)  tf.Tensor(-0.00922017, shape=(), dtype=float32)   tf.Tensor(-0.04609629, shape=(), dtype=float32)  tf.Tensor(-0.057657726, shape=(), dtype=float32)   \n",
       "1   tf.Tensor(-0.022675816, shape=(), dtype=float32)  tf.Tensor(-0.069071844, shape=(), dtype=float32)  tf.Tensor(0.015508695, shape=(), dtype=float32)  tf.Tensor(-0.029039735, shape=(), dtype=float32)   tf.Tensor(-0.08988534, shape=(), dtype=float32)   \n",
       "2    tf.Tensor(0.019088328, shape=(), dtype=float32)   tf.Tensor(0.009552198, shape=(), dtype=float32)  tf.Tensor(-0.04741294, shape=(), dtype=float32)   tf.Tensor(0.010493756, shape=(), dtype=float32)   tf.Tensor(-0.04290846, shape=(), dtype=float32)   \n",
       "\n",
       "                                                 5                                                  6                                                 7                                                 8                                                 9    \\\n",
       "0    tf.Tensor(-0.04768435, shape=(), dtype=float32)   tf.Tensor(-0.016511654, shape=(), dtype=float32)  tf.Tensor(0.0047285818, shape=(), dtype=float32)  tf.Tensor(-0.013010713, shape=(), dtype=float32)  tf.Tensor(-0.071381606, shape=(), dtype=float32)   \n",
       "1  tf.Tensor(-0.0010676612, shape=(), dtype=float32)   tf.Tensor(-0.014085721, shape=(), dtype=float32)  tf.Tensor(0.0072551174, shape=(), dtype=float32)   tf.Tensor(-0.01998963, shape=(), dtype=float32)    tf.Tensor(0.06695189, shape=(), dtype=float32)   \n",
       "2   tf.Tensor(-0.063314535, shape=(), dtype=float32)  tf.Tensor(-0.0031612464, shape=(), dtype=float32)   tf.Tensor(0.051496133, shape=(), dtype=float32)    tf.Tensor(0.02714772, shape=(), dtype=float32)  tf.Tensor(-0.010961108, shape=(), dtype=float32)   \n",
       "\n",
       "                                                10                                               11                                                 12                                               13                                                 14   \\\n",
       "0  tf.Tensor(-0.030422544, shape=(), dtype=float32)  tf.Tensor(0.023165468, shape=(), dtype=float32)    tf.Tensor(0.017145867, shape=(), dtype=float32)   tf.Tensor(0.04533129, shape=(), dtype=float32)    tf.Tensor(0.015669951, shape=(), dtype=float32)   \n",
       "1   tf.Tensor(0.017029494, shape=(), dtype=float32)   tf.Tensor(0.02294588, shape=(), dtype=float32)  tf.Tensor(-0.0061085685, shape=(), dtype=float32)  tf.Tensor(0.051182978, shape=(), dtype=float32)   tf.Tensor(-0.043797847, shape=(), dtype=float32)   \n",
       "2     tf.Tensor(0.0349886, shape=(), dtype=float32)  tf.Tensor(0.057352286, shape=(), dtype=float32)    tf.Tensor(0.046823524, shape=(), dtype=float32)  tf.Tensor(0.057418343, shape=(), dtype=float32)  tf.Tensor(-0.0036693674, shape=(), dtype=float32)   \n",
       "\n",
       "                                                15                                                 16                                                 17                                                18                                                 19   \\\n",
       "0  tf.Tensor(-0.013959979, shape=(), dtype=float32)   tf.Tensor(-0.053601343, shape=(), dtype=float32)  tf.Tensor(-0.0118785035, shape=(), dtype=float32)  tf.Tensor(-0.110630944, shape=(), dtype=float32)    tf.Tensor(0.004849981, shape=(), dtype=float32)   \n",
       "1  tf.Tensor(-0.041236263, shape=(), dtype=float32)     tf.Tensor(0.02942931, shape=(), dtype=float32)    tf.Tensor(0.048888758, shape=(), dtype=float32)   tf.Tensor(-0.11650517, shape=(), dtype=float32)  tf.Tensor(-0.0024727208, shape=(), dtype=float32)   \n",
       "2   tf.Tensor(0.006604579, shape=(), dtype=float32)  tf.Tensor(-0.0013654018, shape=(), dtype=float32)   tf.Tensor(0.0038320322, shape=(), dtype=float32)  tf.Tensor(-0.090584226, shape=(), dtype=float32)     tf.Tensor(0.04874486, shape=(), dtype=float32)   \n",
       "\n",
       "                                               20                                                21                                               22                                                23                                                24   \\\n",
       "0  tf.Tensor(0.006763194, shape=(), dtype=float32)    tf.Tensor(0.03981161, shape=(), dtype=float32)  tf.Tensor(0.066015504, shape=(), dtype=float32)  tf.Tensor(-0.012721933, shape=(), dtype=float32)   tf.Tensor(0.037441503, shape=(), dtype=float32)   \n",
       "1  tf.Tensor(0.028916731, shape=(), dtype=float32)  tf.Tensor(9.121719e-05, shape=(), dtype=float32)  tf.Tensor(0.024404425, shape=(), dtype=float32)   tf.Tensor(0.012593304, shape=(), dtype=float32)   tf.Tensor(0.020244474, shape=(), dtype=float32)   \n",
       "2   tf.Tensor(0.02869543, shape=(), dtype=float32)   tf.Tensor(-0.02148356, shape=(), dtype=float32)  tf.Tensor(0.052940544, shape=(), dtype=float32)   tf.Tensor(-0.01777254, shape=(), dtype=float32)  tf.Tensor(-0.048549965, shape=(), dtype=float32)   \n",
       "\n",
       "                                               25                                                26                                               27                                                28                                                29   ...  \\\n",
       "0  tf.Tensor(0.030250406, shape=(), dtype=float32)  tf.Tensor(-0.015202955, shape=(), dtype=float32)  tf.Tensor(0.011007942, shape=(), dtype=float32)   tf.Tensor(0.016856827, shape=(), dtype=float32)  tf.Tensor(-0.019257631, shape=(), dtype=float32)  ...   \n",
       "1    tf.Tensor(0.0207117, shape=(), dtype=float32)  tf.Tensor(-0.031881034, shape=(), dtype=float32)  tf.Tensor(0.053425197, shape=(), dtype=float32)  tf.Tensor(0.0026995584, shape=(), dtype=float32)   tf.Tensor(-0.08084271, shape=(), dtype=float32)  ...   \n",
       "2  tf.Tensor(-0.07571311, shape=(), dtype=float32)  tf.Tensor(-0.061066054, shape=(), dtype=float32)  tf.Tensor(0.063769765, shape=(), dtype=float32)  tf.Tensor(-0.030032238, shape=(), dtype=float32)   tf.Tensor(0.026240462, shape=(), dtype=float32)  ...   \n",
       "\n",
       "                                                482                                                483                                                 484                                               485                                               486  \\\n",
       "0    tf.Tensor(0.08616642, shape=(), dtype=float32)   tf.Tensor(-0.024433251, shape=(), dtype=float32)  tf.Tensor(-0.00091491063, shape=(), dtype=float32)   tf.Tensor(0.038853936, shape=(), dtype=float32)    tf.Tensor(-0.0319451, shape=(), dtype=float32)   \n",
       "1    tf.Tensor(0.10710527, shape=(), dtype=float32)  tf.Tensor(0.00011629223, shape=(), dtype=float32)     tf.Tensor(0.008712977, shape=(), dtype=float32)    tf.Tensor(0.07481751, shape=(), dtype=float32)   tf.Tensor(-0.04523135, shape=(), dtype=float32)   \n",
       "2  tf.Tensor(-0.021820953, shape=(), dtype=float32)   tf.Tensor(-0.054204836, shape=(), dtype=float32)      tf.Tensor(0.07822651, shape=(), dtype=float32)  tf.Tensor(-0.013889629, shape=(), dtype=float32)  tf.Tensor(-0.054223295, shape=(), dtype=float32)   \n",
       "\n",
       "                                               487                                              488                                                489                                              490                                               491  \\\n",
       "0  tf.Tensor(0.043825824, shape=(), dtype=float32)  tf.Tensor(0.058404714, shape=(), dtype=float32)    tf.Tensor(0.039348062, shape=(), dtype=float32)  tf.Tensor(0.082391866, shape=(), dtype=float32)  tf.Tensor(-0.028973889, shape=(), dtype=float32)   \n",
       "1  tf.Tensor(0.052447546, shape=(), dtype=float32)  tf.Tensor(0.039153565, shape=(), dtype=float32)  tf.Tensor(-0.0018760605, shape=(), dtype=float32)  tf.Tensor(0.017901925, shape=(), dtype=float32)   tf.Tensor(-0.01471055, shape=(), dtype=float32)   \n",
       "2  tf.Tensor(-0.05325499, shape=(), dtype=float32)  tf.Tensor(0.007227717, shape=(), dtype=float32)   tf.Tensor(-0.029698567, shape=(), dtype=float32)  tf.Tensor(0.025481405, shape=(), dtype=float32)  tf.Tensor(0.0121243205, shape=(), dtype=float32)   \n",
       "\n",
       "                                                 492                                               493                                               494                                              495                                               496  \\\n",
       "0    tf.Tensor(0.012636836, shape=(), dtype=float32)  tf.Tensor(-0.008682325, shape=(), dtype=float32)  tf.Tensor(0.0005825156, shape=(), dtype=float32)    tf.Tensor(0.0751793, shape=(), dtype=float32)   tf.Tensor(0.017356148, shape=(), dtype=float32)   \n",
       "1     tf.Tensor(0.04312735, shape=(), dtype=float32)  tf.Tensor(-0.030878652, shape=(), dtype=float32)  tf.Tensor(-0.056910444, shape=(), dtype=float32)  tf.Tensor(0.058894195, shape=(), dtype=float32)  tf.Tensor(-0.006595898, shape=(), dtype=float32)   \n",
       "2  tf.Tensor(0.00032450585, shape=(), dtype=float32)    tf.Tensor(0.00836992, shape=(), dtype=float32)  tf.Tensor(-0.041196987, shape=(), dtype=float32)   tf.Tensor(0.08043291, shape=(), dtype=float32)  tf.Tensor(0.0070090187, shape=(), dtype=float32)   \n",
       "\n",
       "                                                497                                               498                                              499                                               500                                                501  \\\n",
       "0   tf.Tensor(0.012234448, shape=(), dtype=float32)  tf.Tensor(-0.019842025, shape=(), dtype=float32)  tf.Tensor(-0.07749193, shape=(), dtype=float32)  tf.Tensor(-0.024406092, shape=(), dtype=float32)   tf.Tensor(-0.032542046, shape=(), dtype=float32)   \n",
       "1  tf.Tensor(-0.019973187, shape=(), dtype=float32)   tf.Tensor(-0.03776713, shape=(), dtype=float32)  tf.Tensor(0.021722123, shape=(), dtype=float32)  tf.Tensor(-0.032639634, shape=(), dtype=float32)  tf.Tensor(-0.0055215745, shape=(), dtype=float32)   \n",
       "2  tf.Tensor(-0.050937872, shape=(), dtype=float32)   tf.Tensor(0.013866421, shape=(), dtype=float32)   tf.Tensor(0.03464066, shape=(), dtype=float32)   tf.Tensor(0.008104312, shape=(), dtype=float32)    tf.Tensor(0.021492792, shape=(), dtype=float32)   \n",
       "\n",
       "                                                502                                                503                                              504                                               505                                               506  \\\n",
       "0   tf.Tensor(0.012990007, shape=(), dtype=float32)    tf.Tensor(-0.05957967, shape=(), dtype=float32)  tf.Tensor(0.026064066, shape=(), dtype=float32)   tf.Tensor(-0.05239152, shape=(), dtype=float32)   tf.Tensor(-0.05916793, shape=(), dtype=float32)   \n",
       "1  tf.Tensor(-0.039815918, shape=(), dtype=float32)  tf.Tensor(-0.0046574036, shape=(), dtype=float32)   tf.Tensor(0.02420081, shape=(), dtype=float32)   tf.Tensor(-0.02665795, shape=(), dtype=float32)  tf.Tensor(-0.006368065, shape=(), dtype=float32)   \n",
       "2     tf.Tensor(0.1141071, shape=(), dtype=float32)    tf.Tensor(-0.07061693, shape=(), dtype=float32)  tf.Tensor(0.065581456, shape=(), dtype=float32)  tf.Tensor(-0.039064355, shape=(), dtype=float32)   tf.Tensor(0.005809179, shape=(), dtype=float32)   \n",
       "\n",
       "                                                507                                               508                                              509                                              510                                               511  \n",
       "0  tf.Tensor(-0.025977192, shape=(), dtype=float32)  tf.Tensor(-0.031976104, shape=(), dtype=float32)  tf.Tensor(0.021790508, shape=(), dtype=float32)   tf.Tensor(0.06280179, shape=(), dtype=float32)  tf.Tensor(-0.016225368, shape=(), dtype=float32)  \n",
       "1   tf.Tensor(-0.06910574, shape=(), dtype=float32)   tf.Tensor(0.029129563, shape=(), dtype=float32)   tf.Tensor(0.08762301, shape=(), dtype=float32)  tf.Tensor(-0.00076923, shape=(), dtype=float32)   tf.Tensor(-0.05410821, shape=(), dtype=float32)  \n",
       "2    tf.Tensor(-0.0789544, shape=(), dtype=float32)   tf.Tensor(0.059527934, shape=(), dtype=float32)    tf.Tensor(0.0320648, shape=(), dtype=float32)   tf.Tensor(0.03661666, shape=(), dtype=float32)  tf.Tensor(0.0033105891, shape=(), dtype=float32)  \n",
       "\n",
       "[3 rows x 512 columns]"
      ]
     },
     "execution_count": 8,
     "metadata": {},
     "output_type": "execute_result"
    }
   ],
   "source": [
    "pd.DataFrame(en_result)"
   ]
  },
  {
   "cell_type": "code",
   "execution_count": 9,
   "id": "0950521f",
   "metadata": {},
   "outputs": [
    {
     "data": {
      "text/plain": [
       "<tf.Tensor: shape=(3, 512), dtype=float32, numpy=\n",
       "array([[ 0.00720229, -0.02716358, -0.00670169, ...,  0.0047842 ,\n",
       "         0.03265055, -0.01112303],\n",
       "       [-0.00031301, -0.03090754, -0.00294118, ...,  0.04377454,\n",
       "        -0.01193869, -0.01058715],\n",
       "       [ 0.01333501,  0.01904838, -0.02599623, ...,  0.0150301 ,\n",
       "         0.01788162, -0.00163474]], dtype=float32)>"
      ]
     },
     "execution_count": 9,
     "metadata": {},
     "output_type": "execute_result"
    }
   ],
   "source": [
    "tf.nn.l2_normalize(it_result)"
   ]
  },
  {
   "cell_type": "code",
   "execution_count": 10,
   "id": "a777236d",
   "metadata": {},
   "outputs": [],
   "source": [
    "# it_result"
   ]
  },
  {
   "cell_type": "code",
   "execution_count": 10,
   "id": "b60a4600",
   "metadata": {},
   "outputs": [
    {
     "data": {
      "text/plain": [
       "array([[0.96964586, 0.27347848, 0.25536823],\n",
       "       [0.3772605 , 0.8931674 , 0.2880668 ],\n",
       "       [0.24611363, 0.23792979, 0.9352153 ]], dtype=float32)"
      ]
     },
     "execution_count": 10,
     "metadata": {},
     "output_type": "execute_result"
    }
   ],
   "source": [
    "# Compute similarity matrix. Higher score indicates greater similarity.\n",
    "similarity_matrix_it = np.inner(en_result, it_result)\n",
    "similarity_matrix_it"
   ]
  },
  {
   "cell_type": "code",
   "execution_count": 11,
   "id": "6131b6b8",
   "metadata": {},
   "outputs": [
    {
     "data": {
      "text/plain": [
       "array([[0.97994244, 0.53417313, 0.33749652],\n",
       "       [0.4187406 , 0.77861166, 0.3792975 ],\n",
       "       [0.25998732, 0.29997385, 0.8583673 ]], dtype=float32)"
      ]
     },
     "execution_count": 11,
     "metadata": {},
     "output_type": "execute_result"
    }
   ],
   "source": [
    "similarity_matrix_ja = np.inner(en_result, ja_result)\n",
    "similarity_matrix_ja"
   ]
  },
  {
   "cell_type": "markdown",
   "id": "bf777f4d",
   "metadata": {},
   "source": [
    "# Cosine Similarities\n",
    "Using example form Colab\n",
    "\n",
    "https://colab.research.google.com/github/tensorflow/hub/blob/master/examples/colab/semantic_similarity_with_tf_hub_universal_encoder.ipynb#scrollTo=W-q2r7jyZGb7"
   ]
  },
  {
   "cell_type": "code",
   "execution_count": 12,
   "id": "2a875673",
   "metadata": {},
   "outputs": [],
   "source": [
    "def get_similarities(sent_1, sent_2):\n",
    "    sts_encode1 = tf.nn.l2_normalize(model(sent_1), axis=1)\n",
    "    sts_encode2 = tf.nn.l2_normalize(model(sent_2), axis=1)\n",
    "    \n",
    "    cosine_similarities = tf.reduce_sum(tf.multiply(sts_encode1, sts_encode2), axis=1)\n",
    "    clip_cosine_similarities = tf.clip_by_value(cosine_similarities, -1.0, 1.0)\n",
    "    scores = 1.0 - tf.acos(clip_cosine_similarities) / math.pi\n",
    "    \"\"\"Returns the similarity scores\"\"\"\n",
    "    return scores"
   ]
  },
  {
   "cell_type": "code",
   "execution_count": 13,
   "id": "6c1314e5",
   "metadata": {},
   "outputs": [
    {
     "data": {
      "text/plain": [
       "<tf.Tensor: shape=(1,), dtype=float32, numpy=array([0.921372], dtype=float32)>"
      ]
     },
     "execution_count": 13,
     "metadata": {},
     "output_type": "execute_result"
    }
   ],
   "source": [
    "get_similarities(english_sentences[0], italian_sentences[0])"
   ]
  },
  {
   "cell_type": "code",
   "execution_count": 14,
   "id": "7e3f9728",
   "metadata": {},
   "outputs": [
    {
     "data": {
      "text/plain": [
       "<tf.Tensor: shape=(1,), dtype=float32, numpy=array([0.93613935], dtype=float32)>"
      ]
     },
     "execution_count": 14,
     "metadata": {},
     "output_type": "execute_result"
    }
   ],
   "source": [
    "get_similarities(english_sentences[0], japanese_sentences[0])"
   ]
  },
  {
   "cell_type": "code",
   "execution_count": 15,
   "id": "420b3710",
   "metadata": {},
   "outputs": [
    {
     "data": {
      "text/plain": [
       "(1, 512)"
      ]
     },
     "execution_count": 15,
     "metadata": {},
     "output_type": "execute_result"
    }
   ],
   "source": [
    "model(\"hello\").numpy().shape"
   ]
  },
  {
   "cell_type": "markdown",
   "id": "228ccff1",
   "metadata": {},
   "source": [
    "## Test in df\n",
    "\n",
    "Pandas .apply()\n",
    "```\n",
    "s_output = df_test['text'].apply(model)\n",
    "\n",
    ">\n",
    "CPU times: user 1min 39s, sys: 14 s, total: 1min 53s\n",
    "Wall time: 1min 4s\n",
    "```\n",
    "\n",
    "\n",
    "```\n",
    "ddf_text['embeddings'] = (\n",
    "    ddf_text\n",
    "    .map_partitions(model,\n",
    "                    meta=pd.Series(name='text', dtype=str)\n",
    "                    )\n",
    "    .compute()\n",
    ")\n",
    "\n",
    ">\n",
    "CPU times: user 692 ms, sys: 168 ms, total: 860 ms\n",
    "Wall time: 982 ms\n",
    "```"
   ]
  },
  {
   "cell_type": "code",
   "execution_count": 16,
   "id": "57cd7232",
   "metadata": {},
   "outputs": [
    {
     "name": "stdout",
     "output_type": "stream",
     "text": [
      "CPU times: user 1.14 ms, sys: 0 ns, total: 1.14 ms\n",
      "Wall time: 1.11 ms\n"
     ]
    },
    {
     "data": {
      "text/html": [
       "<div>\n",
       "<style scoped>\n",
       "    .dataframe tbody tr th:only-of-type {\n",
       "        vertical-align: middle;\n",
       "    }\n",
       "\n",
       "    .dataframe tbody tr th {\n",
       "        vertical-align: top;\n",
       "    }\n",
       "\n",
       "    .dataframe thead th {\n",
       "        text-align: right;\n",
       "    }\n",
       "</style>\n",
       "<table border=\"1\" class=\"dataframe\">\n",
       "  <thead>\n",
       "    <tr style=\"text-align: right;\">\n",
       "      <th></th>\n",
       "      <th>text</th>\n",
       "    </tr>\n",
       "  </thead>\n",
       "  <tbody>\n",
       "    <tr>\n",
       "      <th>0</th>\n",
       "      <td>dog</td>\n",
       "    </tr>\n",
       "    <tr>\n",
       "      <th>1</th>\n",
       "      <td>Puppies are nice.</td>\n",
       "    </tr>\n",
       "    <tr>\n",
       "      <th>2</th>\n",
       "      <td>I enjoy taking long walks along the beach with my dog.</td>\n",
       "    </tr>\n",
       "    <tr>\n",
       "      <th>3</th>\n",
       "      <td>dog</td>\n",
       "    </tr>\n",
       "    <tr>\n",
       "      <th>4</th>\n",
       "      <td>Puppies are nice.</td>\n",
       "    </tr>\n",
       "    <tr>\n",
       "      <th>...</th>\n",
       "      <td>...</td>\n",
       "    </tr>\n",
       "    <tr>\n",
       "      <th>5995</th>\n",
       "      <td>Puppies are nice.</td>\n",
       "    </tr>\n",
       "    <tr>\n",
       "      <th>5996</th>\n",
       "      <td>I enjoy taking long walks along the beach with my dog.</td>\n",
       "    </tr>\n",
       "    <tr>\n",
       "      <th>5997</th>\n",
       "      <td>dog</td>\n",
       "    </tr>\n",
       "    <tr>\n",
       "      <th>5998</th>\n",
       "      <td>Puppies are nice.</td>\n",
       "    </tr>\n",
       "    <tr>\n",
       "      <th>5999</th>\n",
       "      <td>I enjoy taking long walks along the beach with my dog.</td>\n",
       "    </tr>\n",
       "  </tbody>\n",
       "</table>\n",
       "<p>6000 rows × 1 columns</p>\n",
       "</div>"
      ],
      "text/plain": [
       "                                                        text\n",
       "0                                                        dog\n",
       "1                                          Puppies are nice.\n",
       "2     I enjoy taking long walks along the beach with my dog.\n",
       "3                                                        dog\n",
       "4                                          Puppies are nice.\n",
       "...                                                      ...\n",
       "5995                                       Puppies are nice.\n",
       "5996  I enjoy taking long walks along the beach with my dog.\n",
       "5997                                                     dog\n",
       "5998                                       Puppies are nice.\n",
       "5999  I enjoy taking long walks along the beach with my dog.\n",
       "\n",
       "[6000 rows x 1 columns]"
      ]
     },
     "execution_count": 16,
     "metadata": {},
     "output_type": "execute_result"
    }
   ],
   "source": [
    "%%time\n",
    "df_test = pd.DataFrame({'text': english_sentences*2000})\n",
    "df_test"
   ]
  },
  {
   "cell_type": "code",
   "execution_count": 39,
   "id": "a5c71a6e",
   "metadata": {},
   "outputs": [
    {
     "name": "stdout",
     "output_type": "stream",
     "text": [
      "CPU times: user 1min 39s, sys: 14 s, total: 1min 53s\n",
      "Wall time: 1min 4s\n"
     ]
    }
   ],
   "source": [
    "%%time\n",
    "\n",
    "s_output = df_test['text'].apply(model)"
   ]
  },
  {
   "cell_type": "markdown",
   "id": "fe36fab8",
   "metadata": {},
   "source": [
    "### Try in parallel"
   ]
  },
  {
   "cell_type": "code",
   "execution_count": 17,
   "id": "5d3d2cc7",
   "metadata": {},
   "outputs": [],
   "source": [
    "import dask.dataframe as dd"
   ]
  },
  {
   "cell_type": "code",
   "execution_count": 18,
   "id": "6b0ef9d9",
   "metadata": {},
   "outputs": [],
   "source": [
    "ddf_text = dd.from_pandas(df_test, npartitions=6)"
   ]
  },
  {
   "cell_type": "code",
   "execution_count": 19,
   "id": "7fab57e3",
   "metadata": {},
   "outputs": [
    {
     "data": {
      "text/html": [
       "<div>\n",
       "<style scoped>\n",
       "    .dataframe tbody tr th:only-of-type {\n",
       "        vertical-align: middle;\n",
       "    }\n",
       "\n",
       "    .dataframe tbody tr th {\n",
       "        vertical-align: top;\n",
       "    }\n",
       "\n",
       "    .dataframe thead th {\n",
       "        text-align: right;\n",
       "    }\n",
       "</style>\n",
       "<table border=\"1\" class=\"dataframe\">\n",
       "  <thead>\n",
       "    <tr style=\"text-align: right;\">\n",
       "      <th></th>\n",
       "      <th>text</th>\n",
       "    </tr>\n",
       "  </thead>\n",
       "  <tbody>\n",
       "    <tr>\n",
       "      <th>0</th>\n",
       "      <td>dog</td>\n",
       "    </tr>\n",
       "    <tr>\n",
       "      <th>1</th>\n",
       "      <td>Puppies are nice.</td>\n",
       "    </tr>\n",
       "    <tr>\n",
       "      <th>2</th>\n",
       "      <td>I enjoy taking long walks along the beach with my dog.</td>\n",
       "    </tr>\n",
       "    <tr>\n",
       "      <th>3</th>\n",
       "      <td>dog</td>\n",
       "    </tr>\n",
       "    <tr>\n",
       "      <th>4</th>\n",
       "      <td>Puppies are nice.</td>\n",
       "    </tr>\n",
       "  </tbody>\n",
       "</table>\n",
       "</div>"
      ],
      "text/plain": [
       "                                                     text\n",
       "0                                                     dog\n",
       "1                                       Puppies are nice.\n",
       "2  I enjoy taking long walks along the beach with my dog.\n",
       "3                                                     dog\n",
       "4                                       Puppies are nice."
      ]
     },
     "execution_count": 19,
     "metadata": {},
     "output_type": "execute_result"
    }
   ],
   "source": [
    "ddf_text.head()"
   ]
  },
  {
   "cell_type": "code",
   "execution_count": 20,
   "id": "3b9527d8",
   "metadata": {},
   "outputs": [
    {
     "data": {
      "text/html": [
       "<div>\n",
       "<style scoped>\n",
       "    .dataframe tbody tr th:only-of-type {\n",
       "        vertical-align: middle;\n",
       "    }\n",
       "\n",
       "    .dataframe tbody tr th {\n",
       "        vertical-align: top;\n",
       "    }\n",
       "\n",
       "    .dataframe thead th {\n",
       "        text-align: right;\n",
       "    }\n",
       "</style>\n",
       "<table border=\"1\" class=\"dataframe\">\n",
       "  <thead>\n",
       "    <tr style=\"text-align: right;\">\n",
       "      <th></th>\n",
       "      <th>text</th>\n",
       "    </tr>\n",
       "  </thead>\n",
       "  <tbody>\n",
       "    <tr>\n",
       "      <th>5990</th>\n",
       "      <td>I enjoy taking long walks along the beach with my dog.</td>\n",
       "    </tr>\n",
       "    <tr>\n",
       "      <th>5991</th>\n",
       "      <td>dog</td>\n",
       "    </tr>\n",
       "    <tr>\n",
       "      <th>5992</th>\n",
       "      <td>Puppies are nice.</td>\n",
       "    </tr>\n",
       "    <tr>\n",
       "      <th>5993</th>\n",
       "      <td>I enjoy taking long walks along the beach with my dog.</td>\n",
       "    </tr>\n",
       "    <tr>\n",
       "      <th>5994</th>\n",
       "      <td>dog</td>\n",
       "    </tr>\n",
       "    <tr>\n",
       "      <th>5995</th>\n",
       "      <td>Puppies are nice.</td>\n",
       "    </tr>\n",
       "    <tr>\n",
       "      <th>5996</th>\n",
       "      <td>I enjoy taking long walks along the beach with my dog.</td>\n",
       "    </tr>\n",
       "    <tr>\n",
       "      <th>5997</th>\n",
       "      <td>dog</td>\n",
       "    </tr>\n",
       "    <tr>\n",
       "      <th>5998</th>\n",
       "      <td>Puppies are nice.</td>\n",
       "    </tr>\n",
       "    <tr>\n",
       "      <th>5999</th>\n",
       "      <td>I enjoy taking long walks along the beach with my dog.</td>\n",
       "    </tr>\n",
       "  </tbody>\n",
       "</table>\n",
       "</div>"
      ],
      "text/plain": [
       "                                                        text\n",
       "5990  I enjoy taking long walks along the beach with my dog.\n",
       "5991                                                     dog\n",
       "5992                                       Puppies are nice.\n",
       "5993  I enjoy taking long walks along the beach with my dog.\n",
       "5994                                                     dog\n",
       "5995                                       Puppies are nice.\n",
       "5996  I enjoy taking long walks along the beach with my dog.\n",
       "5997                                                     dog\n",
       "5998                                       Puppies are nice.\n",
       "5999  I enjoy taking long walks along the beach with my dog."
      ]
     },
     "execution_count": 20,
     "metadata": {},
     "output_type": "execute_result"
    }
   ],
   "source": [
    "ddf_text[['text']].tail(10)"
   ]
  },
  {
   "cell_type": "markdown",
   "id": "7b952ffb",
   "metadata": {},
   "source": [
    "## Define functions to get numpy array"
   ]
  },
  {
   "cell_type": "code",
   "execution_count": 21,
   "id": "b97f4498",
   "metadata": {},
   "outputs": [],
   "source": [
    "def get_embeddings_as_numpy_df(\n",
    "    df: pd.DataFrame,\n",
    "    text_col: str = 'text',\n",
    "    model_fxn: callable = model,\n",
    "    apply_fxn: str = 'apply',\n",
    ") -> pd.Series:\n",
    "    \"\"\"Apply fxn to get embeddings to a df\n",
    "    Use it so that we can pair it with dask and apply it in parallel\n",
    "    \"\"\"\n",
    "    if apply_fxn == 'apply':\n",
    "        return df[text_col].apply(lambda x: model(x).numpy())\n",
    "    else:\n",
    "        # original example used map\n",
    "        return df[text_col].map(model_fxn).apply(lambda x: x.numpy())\n",
    "    "
   ]
  },
  {
   "cell_type": "code",
   "execution_count": 22,
   "id": "81a7cf77",
   "metadata": {},
   "outputs": [],
   "source": [
    "def get_embeddings_as_numpy(\n",
    "    text_string: str,\n",
    "#     tf_model: callable = model,\n",
    ") -> np.ndarray:\n",
    "    \"\"\"Wrapper to convert Tensor type to numpy to make downstream transformations faster\"\"\"\n",
    "    return model(text_string).numpy()"
   ]
  },
  {
   "cell_type": "markdown",
   "id": "b988ad5e",
   "metadata": {},
   "source": [
    "## Get embeddings with `dask.map_partition`"
   ]
  },
  {
   "cell_type": "code",
   "execution_count": 23,
   "id": "f052cfc4",
   "metadata": {},
   "outputs": [
    {
     "name": "stdout",
     "output_type": "stream",
     "text": [
      "CPU times: user 2.69 s, sys: 953 ms, total: 3.64 s\n",
      "Wall time: 3.5 s\n"
     ]
    }
   ],
   "source": [
    "%%time\n",
    "\n",
    "ddf_text['embeddings'] = (\n",
    "    ddf_text[['text']]\n",
    "    .map_partitions(model,\n",
    "                    meta=pd.Series(name='embeddings', dtype=str)\n",
    "                    )\n",
    "    .compute()\n",
    ")"
   ]
  },
  {
   "cell_type": "code",
   "execution_count": 26,
   "id": "5d317303",
   "metadata": {},
   "outputs": [
    {
     "data": {
      "text/html": [
       "<div>\n",
       "<style scoped>\n",
       "    .dataframe tbody tr th:only-of-type {\n",
       "        vertical-align: middle;\n",
       "    }\n",
       "\n",
       "    .dataframe tbody tr th {\n",
       "        vertical-align: top;\n",
       "    }\n",
       "\n",
       "    .dataframe thead th {\n",
       "        text-align: right;\n",
       "    }\n",
       "</style>\n",
       "<table border=\"1\" class=\"dataframe\">\n",
       "  <thead>\n",
       "    <tr style=\"text-align: right;\">\n",
       "      <th></th>\n",
       "      <th>embeddings</th>\n",
       "    </tr>\n",
       "  </thead>\n",
       "  <tbody>\n",
       "    <tr>\n",
       "      <th>5990</th>\n",
       "      <td>NaN</td>\n",
       "    </tr>\n",
       "    <tr>\n",
       "      <th>5991</th>\n",
       "      <td>NaN</td>\n",
       "    </tr>\n",
       "    <tr>\n",
       "      <th>5992</th>\n",
       "      <td>NaN</td>\n",
       "    </tr>\n",
       "    <tr>\n",
       "      <th>5993</th>\n",
       "      <td>NaN</td>\n",
       "    </tr>\n",
       "    <tr>\n",
       "      <th>5994</th>\n",
       "      <td>NaN</td>\n",
       "    </tr>\n",
       "    <tr>\n",
       "      <th>5995</th>\n",
       "      <td>NaN</td>\n",
       "    </tr>\n",
       "    <tr>\n",
       "      <th>5996</th>\n",
       "      <td>NaN</td>\n",
       "    </tr>\n",
       "    <tr>\n",
       "      <th>5997</th>\n",
       "      <td>NaN</td>\n",
       "    </tr>\n",
       "    <tr>\n",
       "      <th>5998</th>\n",
       "      <td>NaN</td>\n",
       "    </tr>\n",
       "    <tr>\n",
       "      <th>5999</th>\n",
       "      <td>NaN</td>\n",
       "    </tr>\n",
       "  </tbody>\n",
       "</table>\n",
       "</div>"
      ],
      "text/plain": [
       "     embeddings\n",
       "5990        NaN\n",
       "5991        NaN\n",
       "5992        NaN\n",
       "5993        NaN\n",
       "5994        NaN\n",
       "5995        NaN\n",
       "5996        NaN\n",
       "5997        NaN\n",
       "5998        NaN\n",
       "5999        NaN"
      ]
     },
     "execution_count": 26,
     "metadata": {},
     "output_type": "execute_result"
    }
   ],
   "source": [
    "ddf_text[['embeddings']].tail(10)"
   ]
  },
  {
   "cell_type": "code",
   "execution_count": 28,
   "id": "257556b4",
   "metadata": {},
   "outputs": [
    {
     "data": {
      "text/html": [
       "<div>\n",
       "<style scoped>\n",
       "    .dataframe tbody tr th:only-of-type {\n",
       "        vertical-align: middle;\n",
       "    }\n",
       "\n",
       "    .dataframe tbody tr th {\n",
       "        vertical-align: top;\n",
       "    }\n",
       "\n",
       "    .dataframe thead th {\n",
       "        text-align: right;\n",
       "    }\n",
       "</style>\n",
       "<table border=\"1\" class=\"dataframe\">\n",
       "  <thead>\n",
       "    <tr style=\"text-align: right;\">\n",
       "      <th></th>\n",
       "      <th>embeddings</th>\n",
       "    </tr>\n",
       "  </thead>\n",
       "  <tbody>\n",
       "    <tr>\n",
       "      <th>0</th>\n",
       "      <td>((tf.Tensor(-0.0052521233, shape=(), dtype=float32), tf.Tensor(-0.038311988, shape=(), dtype=float32), tf.Tensor(-0.009220155, shape=(), dtype=float32), tf.Tensor(-0.0460963, shape=(), dtype=float32), tf.Tensor(-0.057657693, shape=(), d...</td>\n",
       "    </tr>\n",
       "    <tr>\n",
       "      <th>1</th>\n",
       "      <td>((tf.Tensor(-0.022675822, shape=(), dtype=float32), tf.Tensor(-0.069071874, shape=(), dtype=float32), tf.Tensor(0.01550865, shape=(), dtype=float32), tf.Tensor(-0.029039716, shape=(), dtype=float32), tf.Tensor(-0.08988534, shape=(), dty...</td>\n",
       "    </tr>\n",
       "    <tr>\n",
       "      <th>2</th>\n",
       "      <td>((tf.Tensor(0.019088339, shape=(), dtype=float32), tf.Tensor(0.00955222, shape=(), dtype=float32), tf.Tensor(-0.047412947, shape=(), dtype=float32), tf.Tensor(0.010493789, shape=(), dtype=float32), tf.Tensor(-0.042908438, shape=(), dtyp...</td>\n",
       "    </tr>\n",
       "    <tr>\n",
       "      <th>3</th>\n",
       "      <td>((tf.Tensor(-0.0052521233, shape=(), dtype=float32), tf.Tensor(-0.03831199, shape=(), dtype=float32), tf.Tensor(-0.009220156, shape=(), dtype=float32), tf.Tensor(-0.046096303, shape=(), dtype=float32), tf.Tensor(-0.05765769, shape=(), d...</td>\n",
       "    </tr>\n",
       "    <tr>\n",
       "      <th>4</th>\n",
       "      <td>((tf.Tensor(-0.022675809, shape=(), dtype=float32), tf.Tensor(-0.069071874, shape=(), dtype=float32), tf.Tensor(0.015508649, shape=(), dtype=float32), tf.Tensor(-0.029039716, shape=(), dtype=float32), tf.Tensor(-0.08988534, shape=(), dt...</td>\n",
       "    </tr>\n",
       "    <tr>\n",
       "      <th>5</th>\n",
       "      <td>((tf.Tensor(0.019088333, shape=(), dtype=float32), tf.Tensor(0.009552219, shape=(), dtype=float32), tf.Tensor(-0.047412943, shape=(), dtype=float32), tf.Tensor(0.010493787, shape=(), dtype=float32), tf.Tensor(-0.042908438, shape=(), dty...</td>\n",
       "    </tr>\n",
       "    <tr>\n",
       "      <th>6</th>\n",
       "      <td>NaN</td>\n",
       "    </tr>\n",
       "    <tr>\n",
       "      <th>7</th>\n",
       "      <td>NaN</td>\n",
       "    </tr>\n",
       "    <tr>\n",
       "      <th>8</th>\n",
       "      <td>NaN</td>\n",
       "    </tr>\n",
       "    <tr>\n",
       "      <th>9</th>\n",
       "      <td>NaN</td>\n",
       "    </tr>\n",
       "  </tbody>\n",
       "</table>\n",
       "</div>"
      ],
      "text/plain": [
       "                                                                                                                                                                                                                                        embeddings\n",
       "0  ((tf.Tensor(-0.0052521233, shape=(), dtype=float32), tf.Tensor(-0.038311988, shape=(), dtype=float32), tf.Tensor(-0.009220155, shape=(), dtype=float32), tf.Tensor(-0.0460963, shape=(), dtype=float32), tf.Tensor(-0.057657693, shape=(), d...\n",
       "1  ((tf.Tensor(-0.022675822, shape=(), dtype=float32), tf.Tensor(-0.069071874, shape=(), dtype=float32), tf.Tensor(0.01550865, shape=(), dtype=float32), tf.Tensor(-0.029039716, shape=(), dtype=float32), tf.Tensor(-0.08988534, shape=(), dty...\n",
       "2  ((tf.Tensor(0.019088339, shape=(), dtype=float32), tf.Tensor(0.00955222, shape=(), dtype=float32), tf.Tensor(-0.047412947, shape=(), dtype=float32), tf.Tensor(0.010493789, shape=(), dtype=float32), tf.Tensor(-0.042908438, shape=(), dtyp...\n",
       "3  ((tf.Tensor(-0.0052521233, shape=(), dtype=float32), tf.Tensor(-0.03831199, shape=(), dtype=float32), tf.Tensor(-0.009220156, shape=(), dtype=float32), tf.Tensor(-0.046096303, shape=(), dtype=float32), tf.Tensor(-0.05765769, shape=(), d...\n",
       "4  ((tf.Tensor(-0.022675809, shape=(), dtype=float32), tf.Tensor(-0.069071874, shape=(), dtype=float32), tf.Tensor(0.015508649, shape=(), dtype=float32), tf.Tensor(-0.029039716, shape=(), dtype=float32), tf.Tensor(-0.08988534, shape=(), dt...\n",
       "5  ((tf.Tensor(0.019088333, shape=(), dtype=float32), tf.Tensor(0.009552219, shape=(), dtype=float32), tf.Tensor(-0.047412943, shape=(), dtype=float32), tf.Tensor(0.010493787, shape=(), dtype=float32), tf.Tensor(-0.042908438, shape=(), dty...\n",
       "6                                                                                                                                                                                                                                              NaN\n",
       "7                                                                                                                                                                                                                                              NaN\n",
       "8                                                                                                                                                                                                                                              NaN\n",
       "9                                                                                                                                                                                                                                              NaN"
      ]
     },
     "execution_count": 28,
     "metadata": {},
     "output_type": "execute_result"
    }
   ],
   "source": [
    "ddf_text[['embeddings']].compute().head(10)"
   ]
  },
  {
   "cell_type": "code",
   "execution_count": 96,
   "id": "ae6aef6f",
   "metadata": {},
   "outputs": [],
   "source": [
    "embeddings_size = 512\n",
    "# tf_embeddings = np.empty([len(ddf_text), embeddings_size])\n",
    "# tf_embeddings.shape"
   ]
  },
  {
   "cell_type": "code",
   "execution_count": 98,
   "id": "155a5d05",
   "metadata": {},
   "outputs": [
    {
     "data": {
      "text/plain": [
       "dask.dataframe.core.DataFrame"
      ]
     },
     "execution_count": 98,
     "metadata": {},
     "output_type": "execute_result"
    }
   ],
   "source": [
    "type(ddf_text)"
   ]
  },
  {
   "cell_type": "code",
   "execution_count": 102,
   "id": "03781938",
   "metadata": {},
   "outputs": [
    {
     "name": "stdout",
     "output_type": "stream",
     "text": [
      "CPU times: user 39 ms, sys: 6.32 ms, total: 45.4 ms\n",
      "Wall time: 34.9 ms\n"
     ]
    },
    {
     "data": {
      "text/html": [
       "<div>\n",
       "<style scoped>\n",
       "    .dataframe tbody tr th:only-of-type {\n",
       "        vertical-align: middle;\n",
       "    }\n",
       "\n",
       "    .dataframe tbody tr th {\n",
       "        vertical-align: top;\n",
       "    }\n",
       "\n",
       "    .dataframe thead th {\n",
       "        text-align: right;\n",
       "    }\n",
       "</style>\n",
       "<table border=\"1\" class=\"dataframe\">\n",
       "  <thead>\n",
       "    <tr style=\"text-align: right;\">\n",
       "      <th></th>\n",
       "      <th>embeddings</th>\n",
       "    </tr>\n",
       "  </thead>\n",
       "  <tbody>\n",
       "    <tr>\n",
       "      <th>0</th>\n",
       "      <td>((tf.Tensor(-0.005252141, shape=(), dtype=float32), tf.Tensor(-0.038312018, shape=(), dtype=float32), tf.Tensor(-0.009220189, shape=(), dtype=float32), tf.Tensor(-0.04609629, shape=(), dtype=float32), tf.Tensor(-0.05765771, shape=(), dt...</td>\n",
       "    </tr>\n",
       "    <tr>\n",
       "      <th>1</th>\n",
       "      <td>((tf.Tensor(0.019088347, shape=(), dtype=float32), tf.Tensor(0.009552213, shape=(), dtype=float32), tf.Tensor(-0.047412947, shape=(), dtype=float32), tf.Tensor(0.0104937935, shape=(), dtype=float32), tf.Tensor(-0.04290844, shape=(), dty...</td>\n",
       "    </tr>\n",
       "    <tr>\n",
       "      <th>2</th>\n",
       "      <td>((tf.Tensor(-0.022675823, shape=(), dtype=float32), tf.Tensor(-0.069071874, shape=(), dtype=float32), tf.Tensor(0.0155086545, shape=(), dtype=float32), tf.Tensor(-0.029039716, shape=(), dtype=float32), tf.Tensor(-0.08988534, shape=(), d...</td>\n",
       "    </tr>\n",
       "    <tr>\n",
       "      <th>3</th>\n",
       "      <td>((tf.Tensor(0.01908833, shape=(), dtype=float32), tf.Tensor(0.009552218, shape=(), dtype=float32), tf.Tensor(-0.047412947, shape=(), dtype=float32), tf.Tensor(0.010493787, shape=(), dtype=float32), tf.Tensor(-0.04290844, shape=(), dtype...</td>\n",
       "    </tr>\n",
       "    <tr>\n",
       "      <th>4</th>\n",
       "      <td>((tf.Tensor(-0.0052521243, shape=(), dtype=float32), tf.Tensor(-0.03831199, shape=(), dtype=float32), tf.Tensor(-0.009220154, shape=(), dtype=float32), tf.Tensor(-0.0460963, shape=(), dtype=float32), tf.Tensor(-0.05765769, shape=(), dty...</td>\n",
       "    </tr>\n",
       "  </tbody>\n",
       "</table>\n",
       "</div>"
      ],
      "text/plain": [
       "                                                                                                                                                                                                                                        embeddings\n",
       "0  ((tf.Tensor(-0.005252141, shape=(), dtype=float32), tf.Tensor(-0.038312018, shape=(), dtype=float32), tf.Tensor(-0.009220189, shape=(), dtype=float32), tf.Tensor(-0.04609629, shape=(), dtype=float32), tf.Tensor(-0.05765771, shape=(), dt...\n",
       "1  ((tf.Tensor(0.019088347, shape=(), dtype=float32), tf.Tensor(0.009552213, shape=(), dtype=float32), tf.Tensor(-0.047412947, shape=(), dtype=float32), tf.Tensor(0.0104937935, shape=(), dtype=float32), tf.Tensor(-0.04290844, shape=(), dty...\n",
       "2  ((tf.Tensor(-0.022675823, shape=(), dtype=float32), tf.Tensor(-0.069071874, shape=(), dtype=float32), tf.Tensor(0.0155086545, shape=(), dtype=float32), tf.Tensor(-0.029039716, shape=(), dtype=float32), tf.Tensor(-0.08988534, shape=(), d...\n",
       "3  ((tf.Tensor(0.01908833, shape=(), dtype=float32), tf.Tensor(0.009552218, shape=(), dtype=float32), tf.Tensor(-0.047412947, shape=(), dtype=float32), tf.Tensor(0.010493787, shape=(), dtype=float32), tf.Tensor(-0.04290844, shape=(), dtype...\n",
       "4  ((tf.Tensor(-0.0052521243, shape=(), dtype=float32), tf.Tensor(-0.03831199, shape=(), dtype=float32), tf.Tensor(-0.009220154, shape=(), dtype=float32), tf.Tensor(-0.0460963, shape=(), dtype=float32), tf.Tensor(-0.05765769, shape=(), dty..."
      ]
     },
     "execution_count": 102,
     "metadata": {},
     "output_type": "execute_result"
    }
   ],
   "source": [
    "%%time\n",
    "\n",
    "ddf_text[['embeddings']].compute().head()"
   ]
  },
  {
   "cell_type": "code",
   "execution_count": 103,
   "id": "9c8d8033",
   "metadata": {},
   "outputs": [],
   "source": [
    "# %%time\n",
    "\n",
    "# # This doesn't seem to work because dask expects the output to collapse to a single dimension (instead of 512)\n",
    "# # tf_embeddings = \n",
    "# (\n",
    "#     ddf_text[['text']]\n",
    "#     .map_partitions(get_embeddings_as_numpy,\n",
    "#                     meta=pd.Series(name='embeddings', dtype=str)\n",
    "#                     )\n",
    "#     .compute()\n",
    "# )"
   ]
  },
  {
   "cell_type": "code",
   "execution_count": 107,
   "id": "8cb4e2cc",
   "metadata": {},
   "outputs": [
    {
     "name": "stdout",
     "output_type": "stream",
     "text": [
      "CPU times: user 2min 40s, sys: 52.2 s, total: 3min 32s\n",
      "Wall time: 46.8 s\n"
     ]
    }
   ],
   "source": [
    "%%time\n",
    "\n",
    "ddf_text['embeddings_np1'] = (\n",
    "    ddf_text\n",
    "    .map_partitions(get_embeddings_as_numpy_df,\n",
    "                    text_col='text',\n",
    "                    apply_fxn='map',\n",
    "                    meta=pd.Series(name='text', dtype=str)\n",
    "                    )\n",
    "    .compute()\n",
    ")"
   ]
  },
  {
   "cell_type": "code",
   "execution_count": 106,
   "id": "2e4b8247",
   "metadata": {},
   "outputs": [
    {
     "name": "stdout",
     "output_type": "stream",
     "text": [
      "CPU times: user 2min 43s, sys: 52.5 s, total: 3min 35s\n",
      "Wall time: 49.1 s\n"
     ]
    }
   ],
   "source": [
    "%%time\n",
    "\n",
    "ddf_text['embeddings_np2'] = (\n",
    "    ddf_text\n",
    "    .map_partitions(get_embeddings_as_numpy_df,\n",
    "                    text_col='text',\n",
    "                    apply_fxn='apply',\n",
    "                    meta=pd.Series(name='text', dtype=str)\n",
    "                    )\n",
    "    .compute()\n",
    ")"
   ]
  },
  {
   "cell_type": "markdown",
   "id": "8b572df1",
   "metadata": {},
   "source": [
    "## What is the dtype? / how do we get embeddings out of this output?\n",
    "\n",
    "By default it looks like the dtype is a `tensorflow.Tensor` object, which could be a pain to manipulate."
   ]
  },
  {
   "cell_type": "code",
   "execution_count": 108,
   "id": "cbb8fd5f",
   "metadata": {},
   "outputs": [
    {
     "data": {
      "text/plain": [
       "0    ((tf.Tensor(-0.005252141, shape=(), dtype=float32), tf.Tensor(-0.038312018, shape=(), dtype=float32), tf.Tensor(-0.009220189, shape=(), dtype=float32), tf.Tensor(-0.04609629, shape=(), dtype=float32), tf.Tensor(-0.05765771, shape=(), dt...\n",
       "1    ((tf.Tensor(0.019088347, shape=(), dtype=float32), tf.Tensor(0.009552213, shape=(), dtype=float32), tf.Tensor(-0.047412947, shape=(), dtype=float32), tf.Tensor(0.0104937935, shape=(), dtype=float32), tf.Tensor(-0.04290844, shape=(), dty...\n",
       "2    ((tf.Tensor(-0.022675823, shape=(), dtype=float32), tf.Tensor(-0.069071874, shape=(), dtype=float32), tf.Tensor(0.0155086545, shape=(), dtype=float32), tf.Tensor(-0.029039716, shape=(), dtype=float32), tf.Tensor(-0.08988534, shape=(), d...\n",
       "3    ((tf.Tensor(0.01908833, shape=(), dtype=float32), tf.Tensor(0.009552218, shape=(), dtype=float32), tf.Tensor(-0.047412947, shape=(), dtype=float32), tf.Tensor(0.010493787, shape=(), dtype=float32), tf.Tensor(-0.04290844, shape=(), dtype...\n",
       "4    ((tf.Tensor(-0.0052521243, shape=(), dtype=float32), tf.Tensor(-0.03831199, shape=(), dtype=float32), tf.Tensor(-0.009220154, shape=(), dtype=float32), tf.Tensor(-0.0460963, shape=(), dtype=float32), tf.Tensor(-0.05765769, shape=(), dty...\n",
       "Name: embeddings, dtype: object"
      ]
     },
     "execution_count": 108,
     "metadata": {},
     "output_type": "execute_result"
    }
   ],
   "source": [
    "ddf_text['embeddings'].head()"
   ]
  },
  {
   "cell_type": "code",
   "execution_count": 109,
   "id": "47ebf068",
   "metadata": {},
   "outputs": [
    {
     "data": {
      "text/plain": [
       "5995    NaN\n",
       "5996    NaN\n",
       "5997    NaN\n",
       "5998    NaN\n",
       "5999    NaN\n",
       "Name: embeddings, dtype: object"
      ]
     },
     "execution_count": 109,
     "metadata": {},
     "output_type": "execute_result"
    }
   ],
   "source": [
    "ddf_text['embeddings'].tail()"
   ]
  },
  {
   "cell_type": "code",
   "execution_count": 49,
   "id": "56646645",
   "metadata": {},
   "outputs": [
    {
     "data": {
      "text/plain": [
       "0    [[-0.005252127, -0.03831199, -0.00922016, -0.046096295, -0.057657722, -0.04768436, -0.016511641, 0.0047285636, -0.013010718, -0.0713816, -0.030422542, 0.023165481, 0.017145848, 0.045331325, 0.015669955, -0.01395997, -0.05360133, -0.0118...\n",
       "1    [[-0.02267581, -0.069071844, 0.015508692, -0.029039733, -0.08988534, -0.0010676696, -0.014085712, 0.0072551174, -0.019989632, 0.0669519, 0.017029503, 0.022945907, -0.006108564, 0.05118298, -0.043797858, -0.041236266, 0.029429343, 0.0488...\n",
       "2    [[0.019088332, 0.009552218, -0.04741294, 0.0104937535, -0.042908445, -0.06331453, -0.0031612532, 0.051496144, 0.027147723, -0.010961102, 0.034988593, 0.057352275, 0.046823528, 0.057418354, -0.00366939, 0.0066046086, -0.0013654096, 0.003...\n",
       "3    [[-0.0052521275, -0.03831199, -0.009220155, -0.046096295, -0.05765772, -0.04768436, -0.016511641, 0.0047285655, -0.013010721, -0.0713816, -0.030422544, 0.023165483, 0.017145844, 0.04533133, 0.015669957, -0.013959968, -0.05360133, -0.011...\n",
       "4    [[-0.02267581, -0.069071844, 0.015508692, -0.029039731, -0.08988534, -0.0010676745, -0.014085707, 0.0072551128, -0.019989632, 0.0669519, 0.017029509, 0.02294591, -0.006108567, 0.05118298, -0.043797866, -0.041236263, 0.029429344, 0.04888...\n",
       "Name: embeddings_np, dtype: object"
      ]
     },
     "execution_count": 49,
     "metadata": {},
     "output_type": "execute_result"
    }
   ],
   "source": [
    "ddf_text['embeddings_np'].head()"
   ]
  },
  {
   "cell_type": "code",
   "execution_count": null,
   "id": "2bf720fd",
   "metadata": {},
   "outputs": [],
   "source": [
    "ddf_text['embeddings_np'].tail()"
   ]
  },
  {
   "cell_type": "code",
   "execution_count": 55,
   "id": "8b4c6c89",
   "metadata": {},
   "outputs": [
    {
     "name": "stdout",
     "output_type": "stream",
     "text": [
      "CPU times: user 12.6 ms, sys: 0 ns, total: 12.6 ms\n",
      "Wall time: 10.2 ms\n"
     ]
    },
    {
     "data": {
      "text/plain": [
       "0    [[-0.0052521224, -0.03831199, -0.009220155, -0.0460963, -0.057657693, -0.047684345, -0.016511647, 0.004728538, -0.01301072, -0.07138159, -0.03042251, 0.023165515, 0.017145874, 0.045331337, 0.015669929, -0.013959975, -0.05360135, -0.0118...\n",
       "1    [[-0.022675814, -0.069071874, 0.015508659, -0.02903972, -0.08988533, -0.0010676887, -0.014085756, 0.007255134, -0.019989597, 0.06695186, 0.01702949, 0.02294587, -0.006108526, 0.05118297, -0.043797873, -0.04123629, 0.029429296, 0.0488887...\n",
       "2    [[0.019088339, 0.009552221, -0.04741294, 0.010493785, -0.04290844, -0.06331449, -0.0031612637, 0.051496122, 0.027147735, -0.010961098, 0.034988593, 0.057352237, 0.046823513, 0.057418343, -0.0036693846, 0.006604615, -0.0013653795, 0.0038...\n",
       "3    [[-0.0052521233, -0.03831199, -0.009220155, -0.0460963, -0.057657693, -0.047684345, -0.016511645, 0.0047285357, -0.013010718, -0.07138159, -0.030422507, 0.023165515, 0.017145874, 0.045331337, 0.015669929, -0.013959976, -0.05360135, -0.0...\n",
       "4    [[-0.022675822, -0.069071874, 0.015508652, -0.029039716, -0.08988534, -0.0010676958, -0.014085753, 0.007255138, -0.0199896, 0.06695186, 0.017029488, 0.022945873, -0.0061085303, 0.05118296, -0.04379786, -0.04123628, 0.029429302, 0.048888...\n",
       "Name: embeddings, dtype: object"
      ]
     },
     "execution_count": 55,
     "metadata": {},
     "output_type": "execute_result"
    }
   ],
   "source": [
    "%%time\n",
    "ddf_text['embeddings'].head().apply(lambda x: x.numpy())"
   ]
  },
  {
   "cell_type": "code",
   "execution_count": 111,
   "id": "8836da66",
   "metadata": {},
   "outputs": [
    {
     "data": {
      "text/plain": [
       "0       ((tf.Tensor(-0.005252141, shape=(), dtype=float32), tf.Tensor(-0.038312018, shape=(), dtype=float32), tf.Tensor(-0.009220189, shape=(), dtype=float32), tf.Tensor(-0.04609629, shape=(), dtype=float32), tf.Tensor(-0.05765771, shape=(), dt...\n",
       "1       ((tf.Tensor(0.019088347, shape=(), dtype=float32), tf.Tensor(0.009552213, shape=(), dtype=float32), tf.Tensor(-0.047412947, shape=(), dtype=float32), tf.Tensor(0.0104937935, shape=(), dtype=float32), tf.Tensor(-0.04290844, shape=(), dty...\n",
       "2       ((tf.Tensor(-0.022675823, shape=(), dtype=float32), tf.Tensor(-0.069071874, shape=(), dtype=float32), tf.Tensor(0.0155086545, shape=(), dtype=float32), tf.Tensor(-0.029039716, shape=(), dtype=float32), tf.Tensor(-0.08988534, shape=(), d...\n",
       "3       ((tf.Tensor(0.01908833, shape=(), dtype=float32), tf.Tensor(0.009552218, shape=(), dtype=float32), tf.Tensor(-0.047412947, shape=(), dtype=float32), tf.Tensor(0.010493787, shape=(), dtype=float32), tf.Tensor(-0.04290844, shape=(), dtype...\n",
       "4       ((tf.Tensor(-0.0052521243, shape=(), dtype=float32), tf.Tensor(-0.03831199, shape=(), dtype=float32), tf.Tensor(-0.009220154, shape=(), dtype=float32), tf.Tensor(-0.0460963, shape=(), dtype=float32), tf.Tensor(-0.05765769, shape=(), dty...\n",
       "                                                                                                                             ...                                                                                                                       \n",
       "5995                                                                                                                                                                                                                                                NaN\n",
       "5996                                                                                                                                                                                                                                                NaN\n",
       "5997                                                                                                                                                                                                                                                NaN\n",
       "5998                                                                                                                                                                                                                                                NaN\n",
       "5999                                                                                                                                                                                                                                                NaN\n",
       "Name: embeddings, Length: 6000, dtype: object"
      ]
     },
     "execution_count": 111,
     "metadata": {},
     "output_type": "execute_result"
    }
   ],
   "source": [
    "ddf_text['embeddings'].compute()"
   ]
  },
  {
   "cell_type": "code",
   "execution_count": 110,
   "id": "715b388e",
   "metadata": {},
   "outputs": [],
   "source": [
    "# %%time\n",
    "# ddf_text['embeddings'].apply(lambda x: x.numpy())"
   ]
  },
  {
   "cell_type": "code",
   "execution_count": 112,
   "id": "c4cd9a08",
   "metadata": {},
   "outputs": [
    {
     "data": {
      "text/plain": [
       "0    [[-0.005252141, -0.038312018, -0.009220189, -0.04609629, -0.05765771, -0.047684345, -0.01651165, 0.0047285794, -0.013010711, -0.071381606, -0.030422565, 0.02316548, 0.017145867, 0.045331288, 0.015669933, -0.013959985, -0.053601343, -0.0...\n",
       "1    [[0.019088347, 0.009552213, -0.047412947, 0.0104937935, -0.04290844, -0.06331449, -0.0031612592, 0.051496133, 0.027147729, -0.010961093, 0.034988593, 0.05735223, 0.046823505, 0.057418343, -0.0036693835, 0.0066046203, -0.0013653715, 0.00...\n",
       "2    [[-0.022675823, -0.069071874, 0.0155086545, -0.029039716, -0.08988534, -0.0010676958, -0.014085754, 0.0072551346, -0.019989599, 0.06695186, 0.01702949, 0.022945872, -0.0061085364, 0.051182974, -0.04379786, -0.04123629, 0.029429302, 0.04...\n",
       "3    [[0.01908833, 0.009552218, -0.047412947, 0.010493787, -0.04290844, -0.063314475, -0.0031612662, 0.051496133, 0.027147733, -0.010961089, 0.0349886, 0.05735224, 0.046823505, 0.057418346, -0.003669383, 0.0066046147, -0.0013653776, 0.003832...\n",
       "4    [[-0.0052521243, -0.03831199, -0.009220154, -0.0460963, -0.05765769, -0.047684345, -0.01651165, 0.0047285333, -0.013010722, -0.07138159, -0.030422512, 0.023165513, 0.017145878, 0.045331337, 0.01566993, -0.013959976, -0.05360135, -0.0118...\n",
       "Name: embeddings, dtype: object"
      ]
     },
     "execution_count": 112,
     "metadata": {},
     "output_type": "execute_result"
    }
   ],
   "source": [
    "ddf_text['embeddings'].head().apply(lambda x: x.numpy())"
   ]
  },
  {
   "cell_type": "code",
   "execution_count": 113,
   "id": "7227c416",
   "metadata": {},
   "outputs": [],
   "source": [
    "# ddf_text['embeddings'].apply(lambda x: x.numpy())"
   ]
  },
  {
   "cell_type": "code",
   "execution_count": null,
   "id": "1dc2069c",
   "metadata": {},
   "outputs": [],
   "source": []
  }
 ],
 "metadata": {
  "environment": {
   "name": "tf2-gpu.2-3.m71",
   "type": "gcloud",
   "uri": "gcr.io/deeplearning-platform-release/tf2-gpu.2-3:m71"
  },
  "kernelspec": {
   "display_name": "Python [conda env:root] *",
   "language": "python",
   "name": "conda-root-py"
  },
  "language_info": {
   "codemirror_mode": {
    "name": "ipython",
    "version": 3
   },
   "file_extension": ".py",
   "mimetype": "text/x-python",
   "name": "python",
   "nbconvert_exporter": "python",
   "pygments_lexer": "ipython3",
   "version": "3.7.10"
  }
 },
 "nbformat": 4,
 "nbformat_minor": 5
}
