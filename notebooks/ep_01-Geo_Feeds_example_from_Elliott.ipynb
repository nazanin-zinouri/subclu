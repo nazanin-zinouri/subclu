{
  "nbformat": 4,
  "nbformat_minor": 0,
  "metadata": {
    "colab": {
      "name": "Geo_Feeds-djb.ipynb",
      "provenance": [],
      "collapsed_sections": []
    },
    "kernelspec": {
      "name": "python3",
      "display_name": "Python 3"
    },
    "language_info": {
      "name": "python"
    }
  },
  "cells": [
    {
      "cell_type": "markdown",
      "metadata": {
        "id": "JyRNrHg_GUV7"
      },
      "source": [
        "## Setup\n",
        "\n",
        "Context: 2021-06-16. Elliott created this notebook as a brain dump for us to replicate/create feeds.\n"
      ]
    },
    {
      "cell_type": "code",
      "metadata": {
        "colab": {
          "base_uri": "https://localhost:8080/"
        },
        "id": "nj7v4AJB71Rc",
        "outputId": "d6316060-f813-4f4a-ed39-af0232834d51"
      },
      "source": [
        "from google.cloud import bigquery\n",
        "\n",
        "from google.colab import auth\n",
        "auth.authenticate_user()\n",
        "print('Authenticated')"
      ],
      "execution_count": null,
      "outputs": [
        {
          "output_type": "stream",
          "text": [
            "Authenticated\n"
          ],
          "name": "stdout"
        }
      ]
    },
    {
      "cell_type": "code",
      "metadata": {
        "colab": {
          "base_uri": "https://localhost:8080/"
        },
        "id": "UqYY2ovm8FuX",
        "outputId": "f80938af-6205-449d-ad2f-b855ffd77cbb"
      },
      "source": [
        "project_id = 'data-prod-165221'\n",
        "!gcloud config set project {project_id}"
      ],
      "execution_count": null,
      "outputs": [
        {
          "output_type": "stream",
          "text": [
            "Updated property [core/project].\n",
            "\n",
            "\n",
            "To take a quick anonymous survey, run:\n",
            "  $ gcloud survey\n",
            "\n"
          ],
          "name": "stdout"
        }
      ]
    },
    {
      "cell_type": "code",
      "metadata": {
        "id": "8TabboQk8Nza"
      },
      "source": [
        "import pandas as pd\n",
        "\n",
        "from matplotlib import pyplot as plt\n",
        "%matplotlib inline\n",
        "\n",
        "import seaborn as sns"
      ],
      "execution_count": null,
      "outputs": []
    },
    {
      "cell_type": "code",
      "metadata": {
        "id": "Cjw67X2r8FxA"
      },
      "source": [
        "!mkdir tmp"
      ],
      "execution_count": null,
      "outputs": []
    },
    {
      "cell_type": "markdown",
      "metadata": {
        "id": "V-D5cb8qGghH"
      },
      "source": [
        "Fetch Cultural Relevance Data\n",
        "\n",
        "This query computes geo/cultural relevancy scores of subreddits based on screenviews, consume events, view events, and consume/view ratios."
      ]
    },
    {
      "cell_type": "code",
      "metadata": {
        "id": "XBGliDBv8Fzd"
      },
      "source": [
        "import datetime\n",
        "client = bigquery.Client(project='data-prod-165221')\n",
        "\n",
        "cultural_relevance_data = client.query('''\n",
        "    WITH\n",
        "    post_consumes AS (\n",
        "      SELECT\n",
        "        subreddit_name,\n",
        "        geo_country_code,\n",
        "        COUNT(*) AS ct\n",
        "      FROM (\n",
        "        SELECT\n",
        "          user_id,\n",
        "          post_id,\n",
        "          subreddit_name,\n",
        "          geo_country_code\n",
        "        FROM `data-prod-165221.events_v2.sample` -- change to events_v2.analytics for more data\n",
        "        WHERE pt = TIMESTAMP_TRUNC(TIMESTAMP_SUB(CURRENT_TIMESTAMP, INTERVAL 2 DAY), DAY)\n",
        "          AND geo_country_code IN ('AT','IT', 'CA', 'GB', 'DE', 'FR', 'ES')\n",
        "          AND subreddit_name IS NOT NULL\n",
        "          AND source = 'post'\n",
        "          AND action = 'consume'\n",
        "          AND noun = 'post'\n",
        "          AND action_info_page_type IN ('community', 'home', 'popular')\n",
        "          AND subreddit_name IS NOT NULL\n",
        "        GROUP BY\n",
        "          user_id,\n",
        "          post_id,\n",
        "          subreddit_name,\n",
        "          geo_country_code\n",
        "      )\n",
        "      GROUP BY\n",
        "        subreddit_name,\n",
        "        geo_country_code\n",
        "    ),\n",
        "\n",
        "    post_views AS (\n",
        "      SELECT\n",
        "        subreddit_name,\n",
        "        geo_country_code,\n",
        "        COUNT(*) AS ct\n",
        "      FROM (\n",
        "        SELECT\n",
        "          user_id,\n",
        "          post_id,\n",
        "          subreddit_name,\n",
        "          geo_country_code\n",
        "        FROM `data-prod-165221.events_v2.sample` -- change to events_v2.analytics for more data\n",
        "        WHERE pt = TIMESTAMP_TRUNC(TIMESTAMP_SUB(CURRENT_TIMESTAMP, INTERVAL 2 DAY), DAY)\n",
        "          AND geo_country_code IN ('AT','IT', 'CA', 'GB', 'DE', 'FR', 'ES')\n",
        "          AND subreddit_name IS NOT NULL\n",
        "          AND source = 'post'\n",
        "          AND action = 'view'\n",
        "          AND noun = 'post'\n",
        "          AND action_info_page_type IN ('community', 'home', 'popular')\n",
        "          AND subreddit_name IS NOT NULL\n",
        "        GROUP BY\n",
        "          user_id,\n",
        "          post_id,\n",
        "          subreddit_name,\n",
        "          geo_country_code\n",
        "      )\n",
        "      GROUP BY\n",
        "        subreddit_name,\n",
        "        geo_country_code\n",
        "    ),\n",
        "    \n",
        "    post_screenviews AS (\n",
        "      SELECT\n",
        "        subreddit_name,\n",
        "        geo_country_code,\n",
        "        COUNT(*) AS ct\n",
        "      FROM (\n",
        "        SELECT\n",
        "          user_id,\n",
        "          post_id,\n",
        "          subreddit_name,\n",
        "          geo_country_code\n",
        "        FROM `data-prod-165221.fact_tables.screenview_events`\n",
        "        WHERE pt = TIMESTAMP_TRUNC(TIMESTAMP_SUB(CURRENT_TIMESTAMP, INTERVAL 2 DAY), DAY)\n",
        "          AND geo_country_code IN ('AT','IT', 'CA', 'GB', 'DE', 'FR', 'ES')\n",
        "          AND action_info_page_type IN ('post_detail', 'community')\n",
        "          AND subreddit_name IS NOT NULL\n",
        "        GROUP BY\n",
        "          user_id,\n",
        "          post_id,\n",
        "          subreddit_name,\n",
        "          geo_country_code\n",
        "      )\n",
        "      GROUP BY\n",
        "        subreddit_name,\n",
        "        geo_country_code\n",
        "    ),\n",
        "    \n",
        "    consume_sums AS (\n",
        "      SELECT\n",
        "        geo_country_code,\n",
        "        SUM(ct) AS sum\n",
        "      FROM post_consumes\n",
        "      GROUP BY geo_country_code\n",
        "    ),\n",
        "    \n",
        "    view_sums AS (\n",
        "      SELECT\n",
        "        geo_country_code,\n",
        "        SUM(ct) AS sum\n",
        "      FROM post_views\n",
        "      GROUP BY geo_country_code\n",
        "    ),\n",
        "    \n",
        "    screenview_sums AS (\n",
        "      SELECT\n",
        "        geo_country_code,\n",
        "        SUM(ct) AS sum\n",
        "      FROM post_screenviews\n",
        "      GROUP BY geo_country_code\n",
        "    )\n",
        "\n",
        "  SELECT\n",
        "    geo_country_code,\n",
        "    rank,\n",
        "    subreddit_name,\n",
        "    consumes,\n",
        "    views,\n",
        "    screenviews,\n",
        "    consume_sum,\n",
        "    view_sum,\n",
        "    screenview_sum,\n",
        "    consume_prob,\n",
        "    view_prob,\n",
        "    screenview_prob,\n",
        "    consume_view_ratio\n",
        "  FROM (\n",
        "    SELECT\n",
        "      post_consumes.subreddit_name AS subreddit_name,\n",
        "      post_consumes.geo_country_code AS geo_country_code,\n",
        "      post_consumes.ct AS consumes,\n",
        "      post_views.ct AS views,\n",
        "      post_screenviews.ct AS screenviews,\n",
        "      consume_sums.sum AS consume_sum,\n",
        "      view_sums.sum AS view_sum,\n",
        "      screenview_sums.sum AS screenview_sum,\n",
        "      (post_consumes.ct/consume_sums.sum) AS consume_prob,\n",
        "      (post_views.ct/view_sums.sum) AS view_prob,\n",
        "      (post_screenviews.ct/screenview_sums.sum) AS screenview_prob,\n",
        "      (post_consumes.ct/post_views.ct) AS consume_view_ratio,\n",
        "      ROW_NUMBER() OVER(PARTITION BY post_consumes.geo_country_code ORDER BY post_screenviews.ct DESC) AS rank\n",
        "    FROM post_consumes\n",
        "    JOIN post_views ON post_consumes.subreddit_name = post_views.subreddit_name\n",
        "      AND post_consumes.geo_country_code = post_views.geo_country_code\n",
        "    JOIN post_screenviews ON post_consumes.subreddit_name = post_screenviews.subreddit_name\n",
        "      AND post_consumes.geo_country_code = post_screenviews.geo_country_code\n",
        "    JOIN consume_sums ON post_consumes.geo_country_code = consume_sums.geo_country_code\n",
        "    JOIN view_sums ON post_consumes.geo_country_code = view_sums.geo_country_code\n",
        "    JOIN screenview_sums ON post_consumes.geo_country_code = screenview_sums.geo_country_code\n",
        "    ORDER BY screenviews DESC\n",
        "  )\n",
        "  WHERE rank < 25\n",
        "  ORDER BY geo_country_code, rank\n",
        "''').result()\n",
        "\n"
      ],
      "execution_count": null,
      "outputs": []
    },
    {
      "cell_type": "code",
      "metadata": {
        "id": "iuTVfNTM8F2S"
      },
      "source": [
        "cr_data = [row for row in cultural_relevance_data]"
      ],
      "execution_count": null,
      "outputs": []
    },
    {
      "cell_type": "markdown",
      "metadata": {
        "id": "z8vqqbIPGnnx"
      },
      "source": [
        "Compute cultural relevance probabilities for screenviews.\n",
        "\n",
        "This can just as easily be done for post views, post consumes, or post consume/view ratios"
      ]
    },
    {
      "cell_type": "code",
      "metadata": {
        "colab": {
          "base_uri": "https://localhost:8080/"
        },
        "id": "hETck3ft8p13",
        "outputId": "a592ecbf-8698-4770-8d4a-aaa9a95639ac"
      },
      "source": [
        "\n",
        "\"\"\"\n",
        "  Renormalize the probability data based on the number of subs returned.\n",
        "\"\"\"\n",
        "\n",
        "from collections import defaultdict\n",
        "\n",
        "geo_sums = defaultdict(lambda: 0)\n",
        "renormalized_sr_probs = defaultdict(lambda: defaultdict(lambda: 0))\n",
        "\n",
        "for row in cr_data:\n",
        "  geo_sums[row.geo_country_code] += float(row.screenview_prob)\n",
        "\n",
        "for row in cr_data:\n",
        "  renormalized_sr_probs[row.geo_country_code][row.subreddit_name] = row.screenview_prob/geo_sums[row.geo_country_code]\n",
        "\n",
        "for geo, data in renormalized_sr_probs.items():\n",
        "  print(geo)\n",
        "  for subreddit, prob in sorted(data.items(), key=lambda x: x[1], reverse=True):\n",
        "    print('\\t{}: {}'.format(subreddit, prob))\n",
        "  print()"
      ],
      "execution_count": null,
      "outputs": [
        {
          "output_type": "stream",
          "text": [
            "AT\n",
            "\taustria: 0.17202621993585385\n",
            "\tsoccer: 0.10408668861018903\n",
            "\taskreddit: 0.08517619151220815\n",
            "\tmemes: 0.07111525963772136\n",
            "\tamitheasshole: 0.05379789033385503\n",
            "\tleagueoflegends: 0.0522749443808909\n",
            "\tsuperstonk: 0.03998961308750975\n",
            "\twien: 0.03528392063837404\n",
            "\tlivestreamfail: 0.031662537635012325\n",
            "\tcryptocurrency: 0.031101082905808958\n",
            "\tde: 0.02886930035722558\n",
            "\tfunny: 0.02874648213521234\n",
            "\twallstreetbets: 0.02569006295311152\n",
            "\tgames: 0.0247355899134658\n",
            "\teurope: 0.023749535045302386\n",
            "\trelationship_advice: 0.02353898952185112\n",
            "\tpublicfreakout: 0.023510916785390953\n",
            "\tnextfuckinglevel: 0.022282734565258592\n",
            "\taww: 0.021717770743997705\n",
            "\tinterestingasfuck: 0.021524770680834047\n",
            "\tich_iel: 0.020977352319860764\n",
            "\tdankmemes: 0.019987788359639835\n",
            "\tcringetopia: 0.019756188283843446\n",
            "\tworldnews: 0.018398169657582803\n",
            "\n",
            "CA\n",
            "\taskreddit: 0.12216876892242105\n",
            "\tamitheasshole: 0.08832256357900867\n",
            "\tnba: 0.056096548932954245\n",
            "\tsuperstonk: 0.05600634513104875\n",
            "\tontario: 0.04356104612935487\n",
            "\tmma: 0.04097578343088749\n",
            "\tvancouver: 0.03962250904374624\n",
            "\tmemes: 0.03941362746873135\n",
            "\tcanada: 0.037883423214720054\n",
            "\tpersonalfinancecanada: 0.03747500648271903\n",
            "\tsoccer: 0.036185418153308654\n",
            "\tworldnews: 0.035232735590051335\n",
            "\trelationship_advice: 0.03492908568339596\n",
            "\tpublicfreakout: 0.033577550164725196\n",
            "\tnews: 0.032838531064776556\n",
            "\tleagueoflegends: 0.031775212995085754\n",
            "\tlivestreamfail: 0.0313637532432614\n",
            "\tfunny: 0.030941860280614252\n",
            "\twallstreetbets: 0.030831007415621958\n",
            "\ttoronto: 0.03020805778607702\n",
            "\thockey: 0.029010629485601416\n",
            "\tgames: 0.028956941921575736\n",
            "\tottawa: 0.027599755080375942\n",
            "\tpics: 0.02502383879993732\n",
            "\n",
            "DE\n",
            "\tde: 0.1481912387650051\n",
            "\taskreddit: 0.08340504524566232\n",
            "\tmemes: 0.08070345912328367\n",
            "\tsoccer: 0.06814823940693863\n",
            "\tich_iel: 0.06488947719931713\n",
            "\tleagueoflegends: 0.06274506716218131\n",
            "\tamitheasshole: 0.05404885920164958\n",
            "\tsuperstonk: 0.053218884517730054\n",
            "\tlivestreamfail: 0.0387661166540534\n",
            "\twallstreetbets: 0.033450943957256306\n",
            "\tfunny: 0.028462295898943172\n",
            "\tgames: 0.025543026684241875\n",
            "\trelationship_advice: 0.023226785950825855\n",
            "\tcryptocurrency: 0.023121649648789173\n",
            "\tpublicfreakout: 0.023081355118933708\n",
            "\tgenshin_impact: 0.022099928581419497\n",
            "\tnextfuckinglevel: 0.02143483726104649\n",
            "\tfinanzen: 0.021359342912006935\n",
            "\tinterestingasfuck: 0.021131007242825954\n",
            "\taww: 0.020818377269809393\n",
            "\tcringetopia: 0.02070166207988321\n",
            "\teurope: 0.020599767866455593\n",
            "\thentai: 0.020458042278688086\n",
            "\tdankmemes: 0.020394589973053615\n",
            "\n",
            "ES\n",
            "\taskreddit: 0.09498683315376076\n",
            "\torslokx: 0.09129555907828821\n",
            "\tleagueoflegends: 0.07798223370907942\n",
            "\tmemes: 0.07528701771746453\n",
            "\tsoccer: 0.0640406756268493\n",
            "\tamitheasshole: 0.060215942788506914\n",
            "\tgenshin_impact: 0.05248509981738935\n",
            "\tsuperstonk: 0.0412647984609926\n",
            "\tgames: 0.03347861892966072\n",
            "\tcryptocurrency: 0.03316938521081601\n",
            "\tlostarkgame: 0.03129770743886123\n",
            "\thololive: 0.03123911578686961\n",
            "\tnba: 0.02945858058467958\n",
            "\trelationship_advice: 0.028400675757052966\n",
            "\tcringetopia: 0.027476229692296173\n",
            "\tlivestreamfail: 0.026929374273707642\n",
            "\twallstreetbets: 0.026821956245056327\n",
            "\tnextfuckinglevel: 0.026545273443984753\n",
            "\tgaming: 0.02554270517657245\n",
            "\tfunny: 0.02540599132192532\n",
            "\thentai: 0.025025145583979738\n",
            "\tinterestingasfuck: 0.02435785176963064\n",
            "\teldenring: 0.023794720892155553\n",
            "\taww: 0.0234985075404201\n",
            "\n",
            "FR\n",
            "\tfrance: 0.2195329974382193\n",
            "\taskreddit: 0.07963345639168157\n",
            "\tmemes: 0.07034912969111581\n",
            "\tleagueoflegends: 0.06469773309495615\n",
            "\tamitheasshole: 0.06282941326708305\n",
            "\tsoccer: 0.05528028667177475\n",
            "\tfrenchyoutube: 0.03949940792681511\n",
            "\tgenshin_impact: 0.035032157700434184\n",
            "\trelationship_advice: 0.02875231218122857\n",
            "\trance: 0.026241612296547402\n",
            "\tfunny: 0.025342280217016105\n",
            "\tnextfuckinglevel: 0.025072944964282123\n",
            "\tsuperstonk: 0.024859334246596546\n",
            "\tcringetopia: 0.02403739735463249\n",
            "\tgames: 0.02396000216706525\n",
            "\tlivestreamfail: 0.023826882444449606\n",
            "\thentai: 0.02331917001400853\n",
            "\tcryptocurrency: 0.02275728095227039\n",
            "\thololive: 0.021534436988708043\n",
            "\taww: 0.02118770654840682\n",
            "\teurope: 0.02104065569202907\n",
            "\tpublicfreakout: 0.020757389305532982\n",
            "\tfacepalm: 0.020305401410140318\n",
            "\tinterestingasfuck: 0.02015061103500584\n",
            "\n",
            "GB\n",
            "\tsoccer: 0.1477766351660431\n",
            "\tamitheasshole: 0.12778627700792197\n",
            "\taskreddit: 0.12577495670880534\n",
            "\tmemes: 0.04908706448129506\n",
            "\trelationship_advice: 0.04130267024985202\n",
            "\tsuperstonk: 0.038414128084523984\n",
            "\tgames: 0.03345178783557535\n",
            "\tmma: 0.030254867146057005\n",
            "\tlivestreamfail: 0.02977657437684741\n",
            "\tksi: 0.029709030826032285\n",
            "\tcasualuk: 0.02887908944539145\n",
            "\tpublicfreakout: 0.028487336850663725\n",
            "\tukpolitics: 0.02809030741602858\n",
            "\tfunny: 0.026638754294292306\n",
            "\tnextfuckinglevel: 0.02614695281491968\n",
            "\tunitedkingdom: 0.02544006734092015\n",
            "\tcringetopia: 0.024417626840456213\n",
            "\tinterestingasfuck: 0.023555180125985595\n",
            "\ttodayilearned: 0.023460830228440723\n",
            "\tworldnews: 0.02271616258070398\n",
            "\tgaming: 0.022557646309884733\n",
            "\tukpersonalfinance: 0.022136132338079102\n",
            "\tleagueoflegends: 0.022121146112741998\n",
            "\tcryptocurrency: 0.022018775418537827\n",
            "\n",
            "IT\n",
            "\titaly: 0.19484209961932333\n",
            "\tmemes: 0.09039729773202508\n",
            "\taskreddit: 0.07558307865529998\n",
            "\tsoccer: 0.07470645005629725\n",
            "\tleagueoflegends: 0.04922792343574071\n",
            "\tgenshin_impact: 0.04768377030722213\n",
            "\tmemesita: 0.04353653959573213\n",
            "\tamitheasshole: 0.03828749128733044\n",
            "\tcringetopia: 0.029392525869926543\n",
            "\teurope: 0.029226314942898502\n",
            "\tsuperstonk: 0.029178060157632295\n",
            "\thentai: 0.029027934159026325\n",
            "\teldenring: 0.026770682537129373\n",
            "\tdankmemes: 0.024105946061873357\n",
            "\tinterestingasfuck: 0.02387807624256072\n",
            "\tcryptocurrency: 0.023433059889550155\n",
            "\tteenagers: 0.022301753257198003\n",
            "\tnextfuckinglevel: 0.0217763122620771\n",
            "\thololive: 0.021682483512948363\n",
            "\twallstreetbets: 0.021650313656104227\n",
            "\tlivestreamfail: 0.021360784944506994\n",
            "\tgames: 0.021309849337837108\n",
            "\tfunny: 0.020843386413597124\n",
            "\tpublicfreakout: 0.01979786606616267\n",
            "\n"
          ],
          "name": "stdout"
        }
      ]
    },
    {
      "cell_type": "markdown",
      "metadata": {
        "id": "2lAtE0OXG-hu"
      },
      "source": [
        "DE cultural relevance subreddit scores based on screenviews"
      ]
    },
    {
      "cell_type": "code",
      "metadata": {
        "id": "XskQs9zZ8p4T"
      },
      "source": [
        "de_cultural_relevance_scores = { # remove the hentai sub\n",
        "  'de': 0.1481912387650051,\n",
        "\t'askreddit': 0.08340504524566232,\n",
        "\t'memes': 0.08070345912328367,\n",
        "\t'soccer': 0.06814823940693863,\n",
        "\t'ich_iel': 0.06488947719931713,\n",
        "\t'leagueoflegends': 0.06274506716218131,\n",
        "\t'amitheasshole': 0.05404885920164958,\n",
        "\t'superstonk': 0.053218884517730054,\n",
        "\t'livestreamfail': 0.0387661166540534,\n",
        "\t'wallstreetbets': 0.033450943957256306,\n",
        "\t'funny': 0.028462295898943172,\n",
        "\t'games': 0.025543026684241875,\n",
        "\t'relationship_advice': 0.023226785950825855,\n",
        "\t'cryptocurrency': 0.023121649648789173,\n",
        "\t'publicfreakout': 0.023081355118933708,\n",
        "\t'genshin_impact': 0.022099928581419497,\n",
        "\t'nextfuckinglevel': 0.02143483726104649,\n",
        "\t'finanzen': 0.021359342912006935,\n",
        "\t'interestingasfuck': 0.021131007242825954,\n",
        "\t'aww': 0.020818377269809393,\n",
        "\t'cringetopia': 0.02070166207988321,\n",
        "\t'europe': 0.020599767866455593,\n",
        "\t'dankmemes': 0.020394589973053615\n",
        "}"
      ],
      "execution_count": null,
      "outputs": []
    },
    {
      "cell_type": "markdown",
      "metadata": {
        "id": "uJCK8F_Gcy16"
      },
      "source": [
        "Visualize the mighty geo data"
      ]
    },
    {
      "cell_type": "code",
      "metadata": {
        "id": "CmBbQjR_b10N"
      },
      "source": [
        "DE_SV = ['{},{}\\n'.format(sub, score) for sub, score in de_cultural_relevance_scores.items()]"
      ],
      "execution_count": null,
      "outputs": []
    },
    {
      "cell_type": "code",
      "metadata": {
        "colab": {
          "base_uri": "https://localhost:8080/",
          "height": 756
        },
        "id": "tDNY3MnUbt50",
        "outputId": "9b014888-2144-4c3c-fde3-2e5ee9781424"
      },
      "source": [
        "import pandas as pd\n",
        "\n",
        "from matplotlib import pyplot as plt\n",
        "%matplotlib inline\n",
        "\n",
        "import seaborn as sns\n",
        "sub_geo_csv = 'subreddit,geo_score\\n' + '\\n'.join(DE_SV)\n",
        "from io import StringIO\n",
        "sub_geo_df = pd.read_csv(StringIO(sub_geo_csv))\n",
        "g = sns.catplot(x=\"geo_score\", y=\"subreddit\", data=sub_geo_df,\n",
        "                height=10,aspect=1, kind=\"bar\", orient='h')\n",
        "g.despine(left=True)\n",
        "plt.xticks(rotation=-45)\n",
        "# g.despine(left=True, bottom=True)\n",
        "g.set_ylabels(\"Cluster\")\n",
        "g.set_xlabels(\"US Subreddit Engagement by Screenview Probability\")\n",
        "g.savefig(\"tmp/i18n_us_sv.png\")"
      ],
      "execution_count": null,
      "outputs": [
        {
          "output_type": "display_data",
          "data": {
            "image/png": "[encoded data removed]",
            "text/plain": [
              "<Figure size 720x720 with 1 Axes>"
            ]
          },
          "metadata": {
            "tags": [],
            "needs_background": "light"
          }
        }
      ]
    },
    {
      "cell_type": "markdown",
      "metadata": {
        "id": "18JX8SvpHnQi"
      },
      "source": [
        "Fetch the regular popular listing"
      ]
    },
    {
      "cell_type": "code",
      "metadata": {
        "id": "eXkWsz3N8p6x"
      },
      "source": [
        "popular_hot_data = client.query('''\n",
        "  WITH\n",
        "    post_votes AS (\n",
        "      SELECT\n",
        "        post_id,\n",
        "        LOWER(subreddit_name) AS subreddit_name,\n",
        "        post_created_timestamp,\n",
        "        MAX(post_score) AS vote_score,\n",
        "      FROM `data-prod-165221.events_v2.analytics`\n",
        "      WHERE\n",
        "        pt <= TIMESTAMP_TRUNC(CURRENT_TIMESTAMP, DAY)\n",
        "        AND pt >= TIMESTAMP_TRUNC(TIMESTAMP_SUB(CURRENT_TIMESTAMP, INTERVAL 24 HOUR), DAY)\n",
        "        AND post_created_timestamp >= TIMESTAMP_SUB(CURRENT_TIMESTAMP, INTERVAL 24 HOUR)\n",
        "        AND source = 'backend'\n",
        "        AND action = 'vote'\n",
        "        AND noun IN ('upvote', 'downvote')\n",
        "        AND post_id IS NOT NULL\n",
        "        AND post_score IS NOT NULL\n",
        "        AND (\n",
        "          post_nsfw IS NULL\n",
        "          OR post_nsfw IS False\n",
        "        )\n",
        "        AND LOWER(subreddit_name) NOT IN (\n",
        "          SELECT LOWER(subreddit_name) AS subreddit_name\n",
        "          FROM `data-prod-165221.unified_feature_store.popular_blacklist`\n",
        "          WHERE pt = TIMESTAMP_TRUNC(TIMESTAMP_SUB(CURRENT_TIMESTAMP, INTERVAL 2 DAY), DAY)    \n",
        "      )\n",
        "    GROUP BY\n",
        "      post_id,\n",
        "      subreddit_name,\n",
        "      post_created_timestamp\n",
        "    )\n",
        "    \n",
        "  SELECT\n",
        "    post_id,\n",
        "    subreddit_name,\n",
        "    SIGN(vote_score) * LOG(GREATEST(vote_score, 1), 10) - TIMESTAMP_DIFF(CURRENT_TIMESTAMP, LEAST(post_created_timestamp, CURRENT_TIMESTAMP), SECOND)/45000 AS hot_score\n",
        "  FROM post_votes\n",
        "  WHERE vote_score > 50\n",
        "  ORDER BY hot_score DESC\n",
        "''').result()"
      ],
      "execution_count": null,
      "outputs": []
    },
    {
      "cell_type": "code",
      "metadata": {
        "id": "m2tSlyxA8p9Z"
      },
      "source": [
        "popular_hot = [row for row in popular_hot_data]"
      ],
      "execution_count": null,
      "outputs": []
    },
    {
      "cell_type": "code",
      "metadata": {
        "id": "TwO1aoyUKkpy"
      },
      "source": [
        "popular_listing = [row.post_id for row in popular_hot]"
      ],
      "execution_count": null,
      "outputs": []
    },
    {
      "cell_type": "code",
      "metadata": {
        "colab": {
          "base_uri": "https://localhost:8080/"
        },
        "id": "ZCQjYMGBKksA",
        "outputId": "9c1a5c03-c619-43fb-b3eb-d895db4ca4df"
      },
      "source": [
        "print('reddit.com/by_id/{}'.format(','.join(popular_listing[:100])))"
      ],
      "execution_count": null,
      "outputs": [
        {
          "output_type": "stream",
          "text": [
            "reddit.com/by_id/t3_nzvpb2,t3_nzxudz,t3_o01lqo,t3_o00n0m,t3_nzt99n,t3_nzwta9,t3_nztoxw,t3_nzudu6,t3_nzuvct,t3_nzwbfr,t3_nzs4gm,t3_nzsgo3,t3_nzx6g6,t3_nzvpbe,t3_nzuiul,t3_nztdh0,t3_nzu3d6,t3_nzs73n,t3_nzxh8a,t3_nzvcro,t3_o010xk,t3_nzwap4,t3_nzsf8u,t3_nzx2r7,t3_nzsni8,t3_nzp7va,t3_nzs7xl,t3_nzwy0e,t3_nztdl8,t3_o008l2,t3_o01emv,t3_o01sq3,t3_nzoa8n,t3_nzxe1j,t3_nzyd2z,t3_nzt6xs,t3_nzpdwg,t3_nzwxrs,t3_nzz0ov,t3_o02mhf,t3_nzxbe0,t3_nzvnnp,t3_nzy6hy,t3_nzxxbg,t3_o0077p,t3_nzz4vb,t3_nzw8cw,t3_o04ii6,t3_nzsytv,t3_nzqq3x,t3_nzsi23,t3_nzwaj4,t3_nzu0q8,t3_nzuqo3,t3_o021yj,t3_nzyhk6,t3_nzoc8s,t3_nzxm0d,t3_nzpljh,t3_nzlx98,t3_nzv4dm,t3_nznju5,t3_nzzmaw,t3_nztk9l,t3_nzts85,t3_nznp6b,t3_nzpgwb,t3_nzvwt1,t3_nzy46y,t3_nzo3fi,t3_o011ob,t3_nzphhi,t3_nzy68x,t3_nzle7w,t3_nzo4dh,t3_nzrj4n,t3_nzr7mh,t3_nzragg,t3_nzv0x1,t3_nzq00u,t3_nzs6qq,t3_nzsavf,t3_nzioa6,t3_nzuq06,t3_nzw208,t3_nzr9m5,t3_nzubym,t3_nzksjv,t3_o02656,t3_nzu80m,t3_nznlhg,t3_nzmcpa,t3_nzvich,t3_nzrjz3,t3_nzolp6,t3_nzxoko,t3_nzrq3b,t3_nzvtxs,t3_nztd45,t3_nzvgb6\n"
          ],
          "name": "stdout"
        }
      ]
    },
    {
      "cell_type": "markdown",
      "metadata": {
        "id": "Me7amZe7LQVk"
      },
      "source": [
        "Fetch popular posts for DE based on the above subs"
      ]
    },
    {
      "cell_type": "code",
      "metadata": {
        "id": "-xLkpihhKkuh"
      },
      "source": [
        "de_hot_post_data = client.query('''\n",
        "  WITH\n",
        "    post_votes AS (\n",
        "      SELECT\n",
        "        post_id,\n",
        "        LOWER(subreddit_name) AS subreddit_name,\n",
        "        post_created_timestamp,\n",
        "        MAX(post_score) AS vote_score,\n",
        "      FROM `data-prod-165221.events_v2.analytics`\n",
        "      WHERE\n",
        "        pt <= TIMESTAMP_TRUNC(CURRENT_TIMESTAMP, DAY)\n",
        "        AND pt >= TIMESTAMP_TRUNC(TIMESTAMP_SUB(CURRENT_TIMESTAMP, INTERVAL 24 HOUR), DAY)\n",
        "        AND post_created_timestamp >= TIMESTAMP_SUB(CURRENT_TIMESTAMP, INTERVAL 24 HOUR)\n",
        "        AND source = 'backend'\n",
        "        AND action = 'vote'\n",
        "        AND noun IN ('upvote', 'downvote')\n",
        "        AND post_id IS NOT NULL\n",
        "        AND post_score IS NOT NULL\n",
        "        AND (\n",
        "          post_nsfw IS NULL\n",
        "          OR post_nsfw IS False\n",
        "        )\n",
        "        AND LOWER(subreddit_name) NOT IN (\n",
        "          SELECT LOWER(subreddit_name) AS subreddit_name\n",
        "          FROM `data-prod-165221.unified_feature_store.popular_blacklist`\n",
        "          WHERE pt = TIMESTAMP_TRUNC(TIMESTAMP_SUB(CURRENT_TIMESTAMP, INTERVAL 2 DAY), DAY)    \n",
        "      )\n",
        "      AND LOWER(subreddit_name) IN (\n",
        "        'de',\n",
        "        'askreddit',\n",
        "        'memes',\n",
        "        'soccer',\n",
        "        'ich_iel',\n",
        "        'leagueoflegends',\n",
        "        'amitheasshole',\n",
        "        'superstonk',\n",
        "        'livestreamfail',\n",
        "        'wallstreetbets',\n",
        "        'funny',\n",
        "        'games',\n",
        "        'relationship_advice',\n",
        "        'cryptocurrency',\n",
        "        'publicfreakout',\n",
        "        'genshin_impact',\n",
        "        'nextfuckinglevel',\n",
        "        'finanzen',\n",
        "        'interestingasfuck',\n",
        "        'aww',\n",
        "        'cringetopia',\n",
        "        'europe',\n",
        "        'dankmemes'\n",
        "      )\n",
        "    GROUP BY\n",
        "      post_id,\n",
        "      subreddit_name,\n",
        "      post_created_timestamp\n",
        "    ),\n",
        "    \n",
        "    popular_hot AS (\n",
        "      SELECT\n",
        "        post_id,\n",
        "        subreddit_name,\n",
        "        SIGN(vote_score) * LOG(GREATEST(vote_score, 1), 10) - TIMESTAMP_DIFF(CURRENT_TIMESTAMP, LEAST(post_created_timestamp, CURRENT_TIMESTAMP), SECOND)/45000 AS hot_score\n",
        "      FROM post_votes\n",
        "      WHERE vote_score > 10\n",
        "      ORDER BY hot_score DESC\n",
        "    )\n",
        "\n",
        "  SELECT\n",
        "    post_id,\n",
        "    subreddit_name,\n",
        "    hot_score\n",
        "  FROM (\n",
        "    SELECT\n",
        "      post_id,\n",
        "      subreddit_name,\n",
        "      hot_score,\n",
        "      ROW_NUMBER() OVER(PARTITION BY subreddit_name ORDER BY hot_score DESC) AS rank\n",
        "    FROM popular_hot\n",
        "  )\n",
        "  WHERE rank < 50\n",
        "''').result()"
      ],
      "execution_count": null,
      "outputs": []
    },
    {
      "cell_type": "code",
      "metadata": {
        "id": "r6TcINQ8NnIN"
      },
      "source": [
        "de_hot_posts = [row for row in de_hot_post_data]"
      ],
      "execution_count": null,
      "outputs": []
    },
    {
      "cell_type": "markdown",
      "metadata": {
        "id": "YX1URGjpOQ-b"
      },
      "source": [
        "Create DE listing by mixing posts from the above subs"
      ]
    },
    {
      "cell_type": "code",
      "metadata": {
        "id": "wWNJtNwBLWbN"
      },
      "source": [
        "de_sub_posts = defaultdict(lambda: [])\n",
        "for row in de_hot_posts:\n",
        "  de_sub_posts[row.subreddit_name].append(row.post_id)\n",
        "\n",
        "de_sub_sample_list_with_weights = [(row.subreddit_name, de_cultural_relevance_scores[row.subreddit_name]) for row in de_hot_posts]"
      ],
      "execution_count": null,
      "outputs": []
    },
    {
      "cell_type": "code",
      "metadata": {
        "colab": {
          "base_uri": "https://localhost:8080/"
        },
        "id": "0tidUo00LWgS",
        "outputId": "aa217575-98c2-49b6-cf92-1443d11396c5"
      },
      "source": [
        "import heapq\n",
        "import math\n",
        "import random\n",
        "\n",
        "\"\"\"\n",
        "  Slightly modified code from listing-service:\n",
        "  https://github.snooguts.net/reddit/reddit-service-listing/blob/7aa4533be211ccba8520d7cb373993f172201cd6/listing/one_feed/stitch.py#L21\n",
        "\"\"\"\n",
        "def sampling_order(weighted_items, n):\n",
        "  # See https://stackoverflow.com/questions/352670/weighted-random-selection-with-and-without-replacement\n",
        "  # https://www.sciencedirect.com/science/article/abs/pii/S002001900500298X\n",
        "  elt = [(math.log(random.random()) / weighted_items[i][1], weighted_items[i][0]) for i in range(len(weighted_items))]\n",
        "  sampling_order = [x[1] for x in heapq.nlargest(n, elt)]\n",
        "  return sampling_order\n",
        "\n",
        "sampling_order = mix(de_sub_sample_list_with_weights, len(de_sub_sample_list_with_weights))\n",
        "\n",
        "# For your viewing pleasure\n",
        "for sub in sampling_order[:25]:\n",
        "  print(sub)"
      ],
      "execution_count": null,
      "outputs": [
        {
          "output_type": "stream",
          "text": [
            "europe\n",
            "wallstreetbets\n",
            "soccer\n",
            "ich_iel\n",
            "livestreamfail\n",
            "askreddit\n",
            "ich_iel\n",
            "relationship_advice\n",
            "amitheasshole\n",
            "leagueoflegends\n",
            "ich_iel\n",
            "memes\n",
            "ich_iel\n",
            "nextfuckinglevel\n",
            "askreddit\n",
            "games\n",
            "funny\n",
            "soccer\n",
            "superstonk\n",
            "games\n",
            "aww\n",
            "amitheasshole\n",
            "de\n",
            "genshin_impact\n",
            "askreddit\n"
          ],
          "name": "stdout"
        }
      ]
    },
    {
      "cell_type": "code",
      "metadata": {
        "id": "0MVV-tDxT6N_"
      },
      "source": [
        "de_mixed_listing = [de_sub_posts[subreddit_name].pop() for subreddit_name in sampling_order]"
      ],
      "execution_count": null,
      "outputs": []
    },
    {
      "cell_type": "code",
      "metadata": {
        "colab": {
          "base_uri": "https://localhost:8080/"
        },
        "id": "ZVc_vx-lOQYV",
        "outputId": "5c8617e3-adae-4d70-cca3-690d1e12407f"
      },
      "source": [
        "print('reddit.com/by_id/{}'.format(','.join(de_mixed_listing[:100])))"
      ],
      "execution_count": null,
      "outputs": [
        {
          "output_type": "stream",
          "text": [
            "reddit.com/by_id/t3_nziuim,t3_nzqsos,t3_nzki8y,t3_nzgfmi,t3_o04l0s,t3_o03pdp,t3_nzmf3x,t3_nzhf0x,t3_nzqch9,t3_nzmdbj,t3_nzvzos,t3_nzzse4,t3_o05o00,t3_o04xgh,t3_o01q9h,t3_o01inv,t3_o00jbz,t3_nzubez,t3_nzkvjj,t3_nzsbzz,t3_o04y8z,t3_nzyxzg,t3_nzj7bx,t3_nzs3xj,t3_o04x7t,t3_nzhlt4,t3_nzksqv,t3_nznprk,t3_nzqjbj,t3_nzvdrb,t3_nztrlh,t3_nzlv07,t3_nzxvub,t3_nzut01,t3_nzp71g,t3_nztyom,t3_nziof3,t3_nzhh37,t3_nzpibq,t3_nzlmnn,t3_nzrxo3,t3_nzlr5a,t3_nzpazf,t3_nzlodb,t3_o02wr7,t3_o00csf,t3_nzwd15,t3_nzhqze,t3_nzqkqr,t3_nzuxsw,t3_nzsajh,t3_nzo1as,t3_o03d5f,t3_nzq9yi,t3_nztptv,t3_nzmcg6,t3_nzkw00,t3_nzoqov,t3_nzk8iz,t3_nzgk3n,t3_nzhrnu,t3_nzlkwt,t3_o03raz,t3_nzhguh,t3_nzmqml,t3_nzhic6,t3_o04z0i,t3_o04m12,t3_nzockp,t3_nzllrh,t3_nzujf5,t3_nzosbj,t3_nzm73c,t3_nzol18,t3_o05g53,t3_nzm27w,t3_nzx959,t3_nzz2pm,t3_o04ms3,t3_nzvgbj,t3_nzvxj0,t3_nzvvty,t3_nzosi7,t3_nzwbgl,t3_o01v71,t3_nzjvxa,t3_nzvqov,t3_nzz486,t3_nztqbe,t3_nzk4pa,t3_nzuglx,t3_o02f8x,t3_o02ecx,t3_nzup4r,t3_nzmov3,t3_nzgavu,t3_nzobrk,t3_nzidkp,t3_nzrojf,t3_o05807\n"
          ],
          "name": "stdout"
        }
      ]
    },
    {
      "cell_type": "markdown",
      "metadata": {
        "id": "pKlTxLU7UcNd"
      },
      "source": [
        "Mix the popular and DE listings"
      ]
    },
    {
      "cell_type": "code",
      "metadata": {
        "id": "6ViPb_jFTn7B"
      },
      "source": [
        "\"\"\"\n",
        "  Copied with some modifications from listing-service:\n",
        "  https://github.snooguts.net/reddit/reddit-service-listing/blob/7aa4533be211ccba8520d7cb373993f172201cd6/listing/lib/mixing_functions.py#L70\n",
        "\"\"\"\n",
        "def mix_with_ratio(main_list, experiment_list, experiment_ratio=0, seed=None):\n",
        "    \"\"\"\n",
        "    Given a list of experimental links, and a experiment_ratio,\n",
        "    interweave this sorted list with the `main_list`.\n",
        "\n",
        "    :param main_list: list of link fullnames in sorted order\n",
        "    :param experiment_list: list links to mix into a main_list\n",
        "    :param experiment_ratio: (float) Ratio of experiment links to main_list links\n",
        "    in the range of 0 to 1. The higher the number the more experimental links will\n",
        "    be mixed in.\n",
        "    \"\"\"\n",
        "  \n",
        "    if seed:\n",
        "        random.seed(seed)\n",
        "\n",
        "    assert 0 <= experiment_ratio <= 1, \\\n",
        "        'experiment_ratio should be in the range of 0 to 1.'\n",
        "\n",
        "    sorted_links = []\n",
        "    i = 0\n",
        "    j = 0\n",
        "    added_links = set({})\n",
        "    while i < len(main_list) and j < len(experiment_list):\n",
        "        if random.random() < experiment_ratio:\n",
        "            while j < len(experiment_list) and experiment_list[j] in added_links:\n",
        "                j += 1\n",
        "            if j < len(experiment_list):\n",
        "                sorted_links.append(experiment_list[j])\n",
        "                added_links.add(experiment_list[j])\n",
        "                j += 1\n",
        "        else:\n",
        "            while i < len(main_list) and main_list[i] in added_links:\n",
        "                i += 1\n",
        "            if i < len(main_list):\n",
        "                sorted_links.append(main_list[i])\n",
        "                added_links.add(main_list[i])\n",
        "                i += 1\n",
        "\n",
        "    # Add possible leftovers.\n",
        "    while j < len(experiment_list):\n",
        "        if experiment_list[j] not in added_links:\n",
        "            sorted_links.append(experiment_list[j])\n",
        "        j += 1\n",
        "\n",
        "    while i < len(main_list):\n",
        "        if main_list[i] not in added_links:\n",
        "            sorted_links.append(main_list[i])\n",
        "        i += 1\n",
        "\n",
        "    return sorted_links"
      ],
      "execution_count": null,
      "outputs": []
    },
    {
      "cell_type": "code",
      "metadata": {
        "id": "bTBbxxmnTn93"
      },
      "source": [
        "# Mix popular and de listing at 0.66 ratio, meaning two de links for every one popular link\n",
        "de_cultural_relevance_popular = mix_with_ratio(popular_listing[:250], de_mixed_listing[:250], 0.5)"
      ],
      "execution_count": null,
      "outputs": []
    },
    {
      "cell_type": "code",
      "metadata": {
        "colab": {
          "base_uri": "https://localhost:8080/"
        },
        "id": "ET6uM-ZLV0l3",
        "outputId": "5067c71a-d086-4469-8c2b-697a0536ae69"
      },
      "source": [
        "print('reddit.com/by_id/{}'.format(','.join(de_cultural_relevance_popular[:100])))"
      ],
      "execution_count": null,
      "outputs": [
        {
          "output_type": "stream",
          "text": [
            "reddit.com/by_id/t3_nzvpb2,t3_nziuim,t3_nzqsos,t3_nzki8y,t3_nzxudz,t3_nzgfmi,t3_o04l0s,t3_o01lqo,t3_o03pdp,t3_o00n0m,t3_nzt99n,t3_nzmf3x,t3_nzhf0x,t3_nzwta9,t3_nzqch9,t3_nztoxw,t3_nzudu6,t3_nzmdbj,t3_nzuvct,t3_nzvzos,t3_nzzse4,t3_nzwbfr,t3_o05o00,t3_nzs4gm,t3_o04xgh,t3_nzsgo3,t3_o01q9h,t3_o01inv,t3_o00jbz,t3_nzx6g6,t3_nzubez,t3_nzkvjj,t3_nzvpbe,t3_nzuiul,t3_nzsbzz,t3_nztdh0,t3_nzu3d6,t3_o04y8z,t3_nzs73n,t3_nzxh8a,t3_nzvcro,t3_nzyxzg,t3_nzj7bx,t3_o010xk,t3_nzs3xj,t3_o04x7t,t3_nzhlt4,t3_nzksqv,t3_nznprk,t3_nzqjbj,t3_nzvdrb,t3_nztrlh,t3_nzwap4,t3_nzlv07,t3_nzxvub,t3_nzut01,t3_nzp71g,t3_nztyom,t3_nzsf8u,t3_nziof3,t3_nzx2r7,t3_nzsni8,t3_nzhh37,t3_nzpibq,t3_nzlmnn,t3_nzrxo3,t3_nzp7va,t3_nzs7xl,t3_nzlr5a,t3_nzwy0e,t3_nztdl8,t3_o008l2,t3_nzpazf,t3_nzlodb,t3_o02wr7,t3_o00csf,t3_o01emv,t3_nzwd15,t3_nzhqze,t3_nzqkqr,t3_o01sq3,t3_nzuxsw,t3_nzsajh,t3_nzoa8n,t3_nzxe1j,t3_nzo1as,t3_o03d5f,t3_nzq9yi,t3_nztptv,t3_nzyd2z,t3_nzmcg6,t3_nzt6xs,t3_nzkw00,t3_nzoqov,t3_nzpdwg,t3_nzk8iz,t3_nzwxrs,t3_nzz0ov,t3_o02mhf,t3_nzxbe0\n"
          ],
          "name": "stdout"
        }
      ]
    },
    {
      "cell_type": "markdown",
      "metadata": {
        "id": "ElJz_D9OY5r1"
      },
      "source": [
        "Relevant links to feeds created in lisitng service. These demonstrate fetching data from caches and interweaving content from different sources.\n",
        "\n",
        "\n",
        "https://github.snooguts.net/reddit/reddit-service-listing/blob/master/listing/user_interest/best.py\n",
        "\n",
        "\n",
        "https://github.snooguts.net/reddit/reddit-service-listing/blob/master/listing/experiments/interest_model_popular.py\n",
        "\n",
        "\n",
        "https://github.snooguts.net/reddit/reddit-service-listing/pull/1615/files\n"
      ]
    }
  ]
}