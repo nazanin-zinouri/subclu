{
 "cells": [
  {
   "cell_type": "markdown",
   "id": "48fec92f",
   "metadata": {},
   "source": [
    "# Purpose\n",
    "\n",
    "\n",
    "### 2023-06-05\n",
    "This notebook processes the full manual refresh for 06/05\n",
    "\n",
    "**New in this notebook:**\n",
    "Instead of doing the ranking and reshaping in pandas/polars, I'll:\n",
    "- Save the raw inference data to a stating table in BQ\n",
    "- Run a BQ query to\n",
    "    - Create the rank column (in a CTE)\n",
    "    - Reshape the data to the desired target format\n",
    "    - Insert it into a staging table (`tmp` table for gazette inference?)\n",
    "    - Copy partition from stating table to prod table\n",
    "    \n",
    "By inserting data into the staging table, we ensure that the model outputs match the prod outputs and reduce the chance of blasting data from the prod table.\n",
    "\n",
    "---\n",
    "\n",
    "***General steps**\n",
    "- Pull data for inference from GCS\n",
    "- Load best model from previous run \n",
    "- Run inference on large 1k subreddits (r/de, r/ich_iel, r/fragreddit)\n",
    "    - Save inference data (raw)\n",
    "\n",
    "\n",
    "- Reshape data for cache\n",
    "    - 1 row = subreddit + country + subscribed status. Examples:\n",
    "        - r/`de` | DE (Germany) | 1 (Subscribed) | {Nested struct of top N users}\n",
    "        - r/`de` | DE (Germany) | 0 (viewed, but NOT Subscribed) |  {Nested struct of top N users}\n",
    "        \n",
    "Open questions:\n",
    "- Other Geos: For now we'll exclude them because ROW can take up a lot of inference & processing time\n",
    "    - How do we handle users that have NULL/no Geo?\n",
    "        - Exclude them\n",
    "    - How do we handle users from non-target Geos?\n",
    "        - Exclude them"
   ]
  },
  {
   "cell_type": "markdown",
   "id": "16aefec1",
   "metadata": {},
   "source": [
    "# Imports & Setup"
   ]
  },
  {
   "cell_type": "code",
   "execution_count": 1,
   "id": "612eb56a",
   "metadata": {},
   "outputs": [],
   "source": [
    "%load_ext autoreload\n",
    "%autoreload 2"
   ]
  },
  {
   "cell_type": "code",
   "execution_count": 2,
   "id": "c8be6a69",
   "metadata": {},
   "outputs": [
    {
     "name": "stdout",
     "output_type": "stream",
     "text": [
      "python\t\tv 3.7.10\n",
      "===\n",
      "google.cloud.bigquery\tv: 2.13.1\n",
      "joblib\t\tv: 1.0.1\n",
      "numpy\t\tv: 1.19.5\n",
      "pandas\t\tv: 1.2.4\n",
      "polars\t\tv: 0.17.1\n",
      "plotly\t\tv: 5.11.0\n",
      "mlflow\t\tv: 1.16.0\n",
      "subclu\t\tv: 0.6.1\n"
     ]
    }
   ],
   "source": [
    "from datetime import datetime\n",
    "import gc\n",
    "import glob\n",
    "import logging\n",
    "from logging import info\n",
    "import os\n",
    "from pathlib import Path\n",
    "import json\n",
    "from typing import List, Union\n",
    "\n",
    "import polars as pl\n",
    "import numpy as np\n",
    "import pandas as pd\n",
    "import plotly\n",
    "import seaborn as sns\n",
    "\n",
    "from tqdm.auto import tqdm\n",
    "import dask\n",
    "import mlflow\n",
    "\n",
    "import subclu\n",
    "from subclu.eda.aggregates import compare_raw_v_weighted_language\n",
    "from subclu.utils import set_working_directory, get_project_subfolder\n",
    "from subclu.utils.eda import (\n",
    "    setup_logging, counts_describe, value_counts_and_pcts,\n",
    "    notebook_display_config, print_lib_versions,\n",
    "    style_df_numeric, reorder_array,\n",
    ")\n",
    "from subclu.utils.mlflow_logger import MlflowLogger\n",
    "from subclu.utils.hydra_config_loader import LoadHydraConfig\n",
    "from subclu.utils.data_irl_style import (\n",
    "    get_colormap, theme_dirl, \n",
    "    get_color_dict, base_colors_for_manual_labels,\n",
    "    check_colors_used,\n",
    ")\n",
    "from subclu.data.data_loaders import LoadPosts, LoadSubreddits, create_sub_level_aggregates\n",
    "\n",
    "\n",
    "# ===\n",
    "# imports specific to this notebook\n",
    "import joblib\n",
    "from typing import Tuple, Union\n",
    "\n",
    "from subclu.models.nn_annoy import AnnoyIndex\n",
    "from subclu.utils.eda import get_venn_sets2\n",
    "\n",
    "from matplotlib_venn import venn2_unweighted\n",
    "\n",
    "from google.cloud import bigquery\n",
    "from subclu.pn_models import get_data\n",
    "\n",
    "\n",
    "client = bigquery.Client()\n",
    "\n",
    "print_lib_versions([bigquery, joblib, np, pd, pl, plotly, mlflow, subclu])"
   ]
  },
  {
   "cell_type": "code",
   "execution_count": 3,
   "id": "b4020137",
   "metadata": {},
   "outputs": [],
   "source": [
    "# plotting\n",
    "import matplotlib.pyplot as plt\n",
    "import matplotlib.ticker as mtick\n",
    "import matplotlib.dates as mdates\n",
    "plt.style.use('default')\n",
    "\n",
    "setup_logging()\n",
    "notebook_display_config()"
   ]
  },
  {
   "cell_type": "markdown",
   "id": "181c72ff",
   "metadata": {},
   "source": [
    "# Define local path for INFERENCE outputs\n",
    "\n",
    "Make sure dir is different from modeling/testing path so we don't over-write or delete modeling data accidentally."
   ]
  },
  {
   "cell_type": "code",
   "execution_count": 4,
   "id": "d801c02c",
   "metadata": {},
   "outputs": [
    {
     "name": "stdout",
     "output_type": "stream",
     "text": [
      "/home/jupyter/subreddit_clustering_i18n/data/models/pn_model/inference/pn_manual_inference_2023-06-05_230216\n"
     ]
    }
   ],
   "source": [
    "manual_model_timestamp = datetime.utcnow().strftime('%Y-%m-%d_%H%M%S')\n",
    "path_this_model = get_project_subfolder(\n",
    "    f\"data/models/pn_model/inference/pn_manual_inference_{manual_model_timestamp}\"\n",
    ")\n",
    "Path.mkdir(path_this_model, parents=True, exist_ok=True)\n",
    "print(path_this_model)"
   ]
  },
  {
   "cell_type": "markdown",
   "id": "719b7575",
   "metadata": {},
   "source": [
    "# Pick top model & upload it to GCS\n",
    "We'll want to move it to GCS so that we can recover it in kubeflow or elsewhere to run inference in parallel\n",
    "\n",
    "If we use `gsutil rsync`, it automatically checks if the files already exist and only uploads if they do not.\n",
    "\n",
    "---\n",
    "```\n",
    "# Upload other model output files to GCS, so we can clear the local cache\n",
    "# gsutil -o GSUtil:parallel_thread_count=9 -o GSUtil:parallel_process_count=9 -m rsync -r /home/jupyter/subreddit_clustering_i18n/data/models/pn_model/ gs://i18n-subreddit-clustering/data/models/pn_model/\n",
    "```"
   ]
  },
  {
   "cell_type": "code",
   "execution_count": 5,
   "id": "0f7b6e7c",
   "metadata": {},
   "outputs": [
    {
     "data": {
      "text/plain": [
       "'gs://i18n-subreddit-clustering/data/models/pn_model/pn_manual_test_2023-05-30_153024'"
      ]
     },
     "execution_count": 5,
     "metadata": {},
     "output_type": "execute_result"
    }
   ],
   "source": [
    "path_inference_model = Path(\"/home/jupyter/subreddit_clustering_i18n/data/models/pn_model/pn_manual_test_2023-05-30_153024\")\n",
    "\n",
    "gcs_inf_model_upload_dir = f\"gs://i18n-subreddit-clustering/data/models/pn_model/{path_inference_model.name}\"\n",
    "gcs_inf_model_upload_dir"
   ]
  },
  {
   "cell_type": "code",
   "execution_count": 6,
   "id": "fe4d2f8b",
   "metadata": {},
   "outputs": [
    {
     "name": "stdout",
     "output_type": "stream",
     "text": [
      "X_test-172807_47.parquet\t    model-rf_pre1-train_806431_40.gz\n",
      "X_train-806431_47.parquet\t    model-xgboost-train_20000_40.gz\n",
      "X_validate-172807_47.parquet\t    model-xgboost-train_806431_40.gz\n",
      "df_train-1152045_52.parquet\t    model-xgboost_pre1-train_20000_40.gz\n",
      "model-hgbc_pre1-train_20000_40.gz   model-xgboost_pre1-train_806431_40.gz\n",
      "model-hgbc_pre1-train_806431_40.gz  y_test-172807_1.parquet\n",
      "model-rf-train_20000_40.gz\t    y_train-806431_1.parquet\n",
      "model-rf-train_806431_40.gz\t    y_validate-172807_1.parquet\n",
      "model-rf_pre1-train_20000_40.gz\n"
     ]
    }
   ],
   "source": [
    "!ls $path_inference_model"
   ]
  },
  {
   "cell_type": "code",
   "execution_count": 7,
   "id": "39341b87",
   "metadata": {},
   "outputs": [
    {
     "name": "stdout",
     "output_type": "stream",
     "text": [
      "gsutil -m rsync -r /home/jupyter/subreddit_clustering_i18n/data/models/pn_model/pn_manual_test_2023-05-30_153024 gs://i18n-subreddit-clustering/data/models/pn_model/pn_manual_test_2023-05-30_153024\n"
     ]
    }
   ],
   "source": [
    "!echo gsutil -m rsync -r $path_inference_model $gcs_inf_model_upload_dir"
   ]
  },
  {
   "cell_type": "code",
   "execution_count": 8,
   "id": "ea2a00f6",
   "metadata": {},
   "outputs": [
    {
     "name": "stdout",
     "output_type": "stream",
     "text": [
      "Building synchronization state...\n",
      "Starting synchronization...\n",
      "CPU times: user 16.7 ms, sys: 21 ms, total: 37.7 ms\n",
      "Wall time: 2.04 s\n"
     ]
    }
   ],
   "source": [
    "%%time\n",
    "\n",
    "!gsutil -m rsync -r $path_inference_model $gcs_inf_model_upload_dir"
   ]
  },
  {
   "cell_type": "markdown",
   "id": "0c9981f7",
   "metadata": {},
   "source": [
    "# Load Model & Get list of columns used for training"
   ]
  },
  {
   "cell_type": "code",
   "execution_count": 9,
   "id": "a7031687",
   "metadata": {},
   "outputs": [
    {
     "name": "stdout",
     "output_type": "stream",
     "text": [
      "CPU times: user 3.81 s, sys: 111 ms, total: 3.92 s\n",
      "Wall time: 168 ms\n"
     ]
    },
    {
     "data": {
      "text/plain": [
       "GridSearchCV(cv=StratifiedKFold(n_splits=4, random_state=42, shuffle=True),\n",
       "             estimator=Pipeline(steps=[('preprocess',\n",
       "                                        ColumnTransformer(remainder='passthrough',\n",
       "                                                          transformers=[('scale',\n",
       "                                                                         StandardScaler(),\n",
       "                                                                         ['screen_view_count_14d_log',\n",
       "                                                                          'user_receives_pn_subreddit_count_t7',\n",
       "                                                                          'user_receives_pn_t7',\n",
       "                                                                          'user_receives_pn_t14',\n",
       "                                                                          'user_receives_pn_t30',\n",
       "                                                                          'log_user_clicks_pn_...\n",
       "                                                      predictor=None,\n",
       "                                                      random_state=42,\n",
       "                                                      reg_alpha=None,\n",
       "                                                      reg_lambda=None, ...))]),\n",
       "             n_jobs=-1,\n",
       "             param_grid={'clf__eval_metric': ['auc'],\n",
       "                         'clf__learning_rate': [0.1, 0.2, 0.25],\n",
       "                         'clf__max_depth': [5, 4],\n",
       "                         'clf__min_child_weight': [1, 2],\n",
       "                         'clf__n_estimators': [900, 1100],\n",
       "                         'preprocess__scale': [StandardScaler(),\n",
       "                                               RobustScaler()]},\n",
       "             refit='recall', scoring=['f1', 'precision', 'recall', 'accuracy'])"
      ]
     },
     "execution_count": 9,
     "metadata": {},
     "output_type": "execute_result"
    }
   ],
   "source": [
    "%%time\n",
    "\n",
    "model_path = f\"{path_inference_model}/model-xgboost_pre1-train_806431_40.gz\"\n",
    "model = joblib.load(\n",
    "    model_path\n",
    ")\n",
    "\n",
    "model"
   ]
  },
  {
   "cell_type": "code",
   "execution_count": 10,
   "id": "6ca72fae",
   "metadata": {},
   "outputs": [
    {
     "name": "stdout",
     "output_type": "stream",
     "text": [
      "40 <- Model feature count\n",
      "Features:\n",
      "  ['screen_view_count_14d_log', 'user_receives_pn_subreddit_count_t7', 'user_receives_pn_t7', 'user_receives_pn_t14', 'user_receives_pn_t30', 'log_user_clicks_pn_t7', 'log_user_clicks_trnd_t7', 'log_post_consumes_30', 'log_num_post_consumes_home_30', 'pct_post_consumes_home_30', 'pct_post_consumes_community_30', 'pct_post_consumes_post_detail_30', 'pct_post_consumes_ios_30', 'pct_post_consumes_android_30', 'pct_post_consumes_nsfw_30', 'num_post_consumes_ios_30', 'num_post_consumes_android_30', 'sub_dau_perc_l28', 'perc_by_country_sd', 'us_screenviews_l14_log', 'us_distinct_posts_viewed_l14_log', 'us_post_screenviews_l14_log', 'us_trend_pn_receive_l14_log', 'us_days_active_ios_l30_pct', 'us_android_days_active_l30_pct', 'us_upvotes_l14', 'us_comments_l14', 'us_posts_l14', 'us_trend_pn_click_l14', 'us_sessions_l14', 'us_ios_days_active_l30', 'us_android_days_active_l30', 'us_days_active_l30', 'users_log_l28', 'seo_users_pct_l28', 'loggedin_users_pct_l28', 'ios_users_pct_l28', 'android_users_pct_l28', 'legacy_user_cohort_ord', 'subscribed']\n"
     ]
    }
   ],
   "source": [
    "# Get input feature names for modeling\n",
    "l_feature_names = [\n",
    "    '__'.join(_.split('__')[1:]) for _ in model.best_estimator_['preprocess'].get_feature_names_out()\n",
    "]\n",
    "print(\n",
    "    f\"{len(l_feature_names)} <- Model feature count\"\n",
    "    f\"\\nFeatures:\"\n",
    "    f\"\\n  {l_feature_names}\"\n",
    ")"
   ]
  },
  {
   "cell_type": "code",
   "execution_count": 11,
   "id": "5174c0f6",
   "metadata": {},
   "outputs": [
    {
     "name": "stdout",
     "output_type": "stream",
     "text": [
      "CPU times: user 4 µs, sys: 2 µs, total: 6 µs\n",
      "Wall time: 11.7 µs\n"
     ]
    }
   ],
   "source": [
    "%%time\n",
    "\n",
    "# We also need these columns to save the outputs (even if not used for inference directly)\n",
    "c_user_geo_col = 'user_geo_country_code'\n",
    "l_ix_cols = [\n",
    "    'pt',\n",
    "    'target_subreddit',\n",
    "    'target_subreddit_id',\n",
    "    'subscribed',\n",
    "    c_user_geo_col,  # We'll maybe need to rename it in final table?\n",
    "    'user_id',\n",
    "]\n",
    "\n",
    "\n",
    "# Each row in output table will be at this grain:\n",
    "l_ix_cache = [\n",
    "    'pt',\n",
    "    'target_subreddit_id',\n",
    "    'target_subreddit',\n",
    "    'subscribed',\n",
    "    c_user_geo_col,  # We'll maybe need to rename it in final table?\n",
    "]\n",
    "\n",
    "# Other columns for output: These we'll create as part of inference\n",
    "c_pred_proba = 'click_proba'\n",
    "#   TODO(djb): this rank also needs to be at SUBSCRIPTION level! subscribers & non-subscribers will have a different rank!\n",
    "c_user_rank = 'user_rank_by_sub_and_geo'  "
   ]
  },
  {
   "cell_type": "code",
   "execution_count": 12,
   "id": "a71c1402",
   "metadata": {},
   "outputs": [],
   "source": [
    "# columns to query in BQ table:\n",
    "# set(l_ix_cols + l_feature_names)"
   ]
  },
  {
   "cell_type": "markdown",
   "id": "3d4fe7d5",
   "metadata": {},
   "source": [
    "# Load & reshape data"
   ]
  },
  {
   "cell_type": "markdown",
   "id": "c8a51e38",
   "metadata": {},
   "source": [
    "## Export data to GCS\n",
    "\n",
    "Here we'll export a SAMPLE so we can test the process before running on 26k subreddits"
   ]
  },
  {
   "cell_type": "code",
   "execution_count": 13,
   "id": "bb0e1f11",
   "metadata": {},
   "outputs": [],
   "source": [
    "# %%time\n",
    "# %%bigquery _ --project data-prod-165221/ \n",
    "\n",
    "# -- Export inference data to GCS\n",
    "# --  ETA:  7 minutes for 3.4 Billion rows, ~5k files. Slot: 20 hours\n",
    "# EXPORT DATA OPTIONS(\n",
    "#     uri='gs://i18n-subreddit-clustering/pn_model/runs/inference/20230603/*.parquet',\n",
    "#     format='PARQUET',\n",
    "#     overwrite=true\n",
    "# ) AS\n",
    "# SELECT\n",
    "#     -- Index columns for output (subscribed also used for input)\n",
    "#     pt, target_subreddit, target_subreddit_id, subscribed, user_geo_country_code, user_id\n",
    "\n",
    "#     -- Input columns for model:\n",
    "#     , screen_view_count_14d_log, user_receives_pn_subreddit_count_t7, user_receives_pn_t7\n",
    "#     , user_receives_pn_t14, user_receives_pn_t30, log_user_clicks_pn_t7, log_user_clicks_trnd_t7\n",
    "#     , log_post_consumes_30, log_num_post_consumes_home_30, pct_post_consumes_home_30\n",
    "#     , pct_post_consumes_community_30, pct_post_consumes_post_detail_30, pct_post_consumes_ios_30\n",
    "#     , pct_post_consumes_android_30, pct_post_consumes_nsfw_30, num_post_consumes_ios_30\n",
    "#     , num_post_consumes_android_30, sub_dau_perc_l28, perc_by_country_sd, us_screenviews_l14_log\n",
    "#     , us_distinct_posts_viewed_l14_log, us_post_screenviews_l14_log, us_trend_pn_receive_l14_log\n",
    "#     , us_days_active_ios_l30_pct, us_android_days_active_l30_pct, us_upvotes_l14, us_comments_l14\n",
    "#     , us_posts_l14, us_trend_pn_click_l14, us_sessions_l14, us_ios_days_active_l30\n",
    "#     , us_android_days_active_l30, us_days_active_l30, users_log_l28, seo_users_pct_l28\n",
    "#     , loggedin_users_pct_l28, ios_users_pct_l28, android_users_pct_l28, legacy_user_cohort_ord\n",
    "# FROM `reddit-employee-datasets.david_bermejo.pn_ft_all_20230530` AS f\n",
    "\n",
    "# WHERE pt = '2023-06-03'\n",
    "# ;\n"
   ]
  },
  {
   "cell_type": "markdown",
   "id": "a8cd8c16",
   "metadata": {},
   "source": [
    "\n",
    "\n",
    "## Download training data from GCS\n",
    "\n",
    "Here we mostly copy the query used for training. Note that we should match column names.\n",
    "\n",
    "We uset GCS instead of pulling from BigQuery to save time. We also sync data with `gsutil` instead of trying to read directly from GCS\n",
    "\n",
    "for 1k subreddits:\n",
    "- ~1,800 files\n",
    "- ~50 GB\n",
    "- ~10 minutes to download with `gsutil`\n",
    "\n",
    "For 2k subreddits:\n",
    "- 5,000 files\n",
    "- ~198 GB\n",
    "- ~25 minutes to download with `gsutil`\n"
   ]
  },
  {
   "cell_type": "code",
   "execution_count": 14,
   "id": "f5b44679",
   "metadata": {},
   "outputs": [
    {
     "name": "stdout",
     "output_type": "stream",
     "text": [
      "gs://i18n-subreddit-clustering/pn_model/runs/inference/20230603/\n",
      "/home/jupyter/subreddit_clustering_i18n/data/local_cache/i18n-subreddit-clustering/pn_model/runs/inference/20230603\n"
     ]
    }
   ],
   "source": [
    "bucket_name = 'i18n-subreddit-clustering'\n",
    "gcs_inference_in = f\"gs://{bucket_name}/pn_model/runs/inference/20230603/\"\n",
    "\n",
    "path_local_cache = Path(f\"/home/jupyter/subreddit_clustering_i18n/data/local_cache/{bucket_name}/\")\n",
    "local_path_inference_in = path_local_cache / gcs_inference_in.split(f\"{bucket_name}/\")[1]\n",
    "Path.mkdir(local_path_inference_in, exist_ok=True, parents=True)\n",
    "\n",
    "print(gcs_inference_in)\n",
    "print(local_path_inference_in)"
   ]
  },
  {
   "cell_type": "code",
   "execution_count": 15,
   "id": "86ef78f1",
   "metadata": {},
   "outputs": [],
   "source": [
    "# !gsutil ls $gcs_inference_in"
   ]
  },
  {
   "cell_type": "code",
   "execution_count": 16,
   "id": "a1e349fb",
   "metadata": {},
   "outputs": [],
   "source": [
    "## delete in case we exported the wrong data\n",
    "## # !echo gsutil -m rm -r gcs_inference"
   ]
  },
  {
   "cell_type": "code",
   "execution_count": 17,
   "id": "e212b706",
   "metadata": {},
   "outputs": [
    {
     "name": "stdout",
     "output_type": "stream",
     "text": [
      "gsutil -o GSUtil:parallel_thread_count=9 -o GSUtil:parallel_process_count=9 -m rsync -r -n gs://i18n-subreddit-clustering/pn_model/runs/inference/20230603/ /home/jupyter/subreddit_clustering_i18n/data/local_cache/i18n-subreddit-clustering/pn_model/runs/inference/20230603\n",
      "\n",
      "\n",
      "gsutil -q -o GSUtil:parallel_thread_count=9 -o GSUtil:parallel_process_count=9 -m rsync -r gs://i18n-subreddit-clustering/pn_model/runs/inference/20230603/ /home/jupyter/subreddit_clustering_i18n/data/local_cache/i18n-subreddit-clustering/pn_model/runs/inference/20230603\n",
      "\n",
      "\n",
      "gsutil -o GSUtil:parallel_thread_count=9 -o GSUtil:parallel_process_count=9 -m rsync -r gs://i18n-subreddit-clustering/pn_model/runs/inference/20230603/ /home/jupyter/subreddit_clustering_i18n/data/local_cache/i18n-subreddit-clustering/pn_model/runs/inference/20230603\n"
     ]
    }
   ],
   "source": [
    "# try -q (quiet) mode at the end to suppress progress & file list\n",
    "#. This can be helpful when we have 2k+ files b/c gsutil can overwhelm/freeze the system\n",
    "#. also try a lower process count (20 seems to freeze, maybe try 10?)\n",
    "\n",
    "!echo gsutil -o GSUtil:parallel_thread_count=9 -o GSUtil:parallel_process_count=9 -m rsync -r -n $gcs_inference_in $local_path_inference_in\n",
    "print('\\n')\n",
    "\n",
    "!echo gsutil -q -o GSUtil:parallel_thread_count=9 -o GSUtil:parallel_process_count=9 -m rsync -r $gcs_inference_in $local_path_inference_in\n",
    "print('\\n')\n",
    "!echo gsutil -o GSUtil:parallel_thread_count=9 -o GSUtil:parallel_process_count=9 -m rsync -r $gcs_inference_in $local_path_inference_in"
   ]
  },
  {
   "cell_type": "markdown",
   "id": "97e34ffb",
   "metadata": {},
   "source": [
    "To check the status/progress of copy (in a separate CLI) we can use this command:\n",
    "\n",
    "```bash\n",
    "ls $local_path_inference -l | wc -l\n",
    "```\n",
    "\n",
    "But note that it can hang up when files are partially loaded AND that jupyter can sometimes lag/hang while we're downloading the data (even in a terminal)"
   ]
  },
  {
   "cell_type": "code",
   "execution_count": 18,
   "id": "8bf9484d",
   "metadata": {},
   "outputs": [
    {
     "name": "stdout",
     "output_type": "stream",
     "text": [
      "5002\n",
      "CPU times: user 6.15 ms, sys: 5.33 ms, total: 11.5 ms\n",
      "Wall time: 175 ms\n"
     ]
    }
   ],
   "source": [
    "%%time\n",
    "\n",
    "# note that this can take a while when file list keep changing while we're downloading files in parallels\n",
    "\n",
    "!ls $local_path_inference_in -l | wc -l"
   ]
  },
  {
   "cell_type": "markdown",
   "id": "0e5ac959",
   "metadata": {},
   "source": [
    "# Run inference - each file in parallel\n",
    "For running inference we require pandas because it's the format sklearn/XGBoost expects for inputs. \n",
    "\n",
    "~~Because we can't use `polars` for parallel processing, let's just process & run inference on each file individually.\n",
    "Then, once we've run inference on all files we can move to polars for ranking and clipping, which polars can do well in parallel.~~\n",
    "\n",
    "NEW: \n",
    "<br>forget using polars for post-processing/reshaping! Instead load the raw inference to BQ and then rank & reshape there!\n",
    "\n",
    "---\n",
    "\n",
    "ETAs for only `inference` & `save`:\n",
    "- 0:49 (hh:mins): 47,055,198.9 rows / min | `2,305,704,745` rows with pandas + paralle with `dask` (5k files)\n",
    "- 1:42 (hh:mins): 22,604,948.5 rows / min | `2,305,704,745` rows with pandas in series [1 file at a time] (5k files)\n",
    "- 0:21 (hh:mins): 33,617,303.5 rows / min | `0,705,963,374` rows with pandas (1 file)\n",
    "\n",
    "\n",
    "```bash\n",
    "# `2,305,704,745` rows with pandas in SERIES [1 file at a time]\n",
    "42/5000 [00:50<1:41:02, 1.22s/it]\n",
    "\n",
    "# ---\n",
    "\n",
    "# `2,305,704,745` rows with pandas in PARALLEL\n",
    "CPU times: user 15h 54min 6s, sys: 1h 7min 58s, total: 17h 2min 5s\n",
    "Wall time: 49min 7s\n",
    "\n",
    "# ---\n",
    "\n",
    "# Read data. `705,963,374` rows with pandas\n",
    "CPU times: user 7min 59s, sys: 5min 1s, total: 13min 1s\n",
    "Wall time: 26 s\n",
    "(705963374, 26)\n",
    "\n",
    "# Run inference\n",
    "18:33:47 | INFO | \"Create new df for predictions...\"\n",
    "18:47:44 | INFO | \"Done with predictions\"\n",
    "CPU times: user 3h 54min 39s, sys: 3min 2s, total: 3h 57min 41s\n",
    "Wall time: 13min 56s\n",
    "\n",
    "# Save inference file (note it might take longer b/c I also added rank column in the previous step)\n",
    "20:44:55 | INFO | \"start saving predictions...\"\n",
    "CPU times: user 5min 45s, sys: 31.3 s, total: 6min 17s\n",
    "Wall time: 6min 24s\n",
    "```\n",
    "\n",
    "To check progress manually, we can run this command from the CLI to count the number of output files:\n",
    "\n",
    "```bash\n",
    "ls \"/home/jupyter/subreddit_clustering_i18n/data/models/pn_model/pn_manual_test_2023-06-01_190228/inference/\" -l | wc -l\n",
    "# 1473\n",
    "```"
   ]
  },
  {
   "cell_type": "code",
   "execution_count": 19,
   "id": "2c42a227",
   "metadata": {},
   "outputs": [],
   "source": [
    "from subclu.pn_models.pn_inference import run_inference_on_one_file"
   ]
  },
  {
   "cell_type": "code",
   "execution_count": 20,
   "id": "67d38a37",
   "metadata": {},
   "outputs": [
    {
     "name": "stdout",
     "output_type": "stream",
     "text": [
      "5001\n",
      "CPU times: user 10.1 ms, sys: 5.26 ms, total: 15.4 ms\n",
      "Wall time: 14.8 ms\n"
     ]
    },
    {
     "data": {
      "text/plain": [
       "['/home/jupyter/subreddit_clustering_i18n/data/local_cache/i18n-subreddit-clustering/pn_model/runs/inference/20230603/000000004226.parquet']"
      ]
     },
     "execution_count": 20,
     "metadata": {},
     "output_type": "execute_result"
    }
   ],
   "source": [
    "%%time\n",
    "\n",
    "f_list = glob.glob(f\"{local_path_inference_in}/*.parquet\")\n",
    "print(len(f_list))\n",
    "f_list[:1]"
   ]
  },
  {
   "cell_type": "code",
   "execution_count": 21,
   "id": "881465c4",
   "metadata": {},
   "outputs": [
    {
     "data": {
      "application/vnd.jupyter.widget-view+json": {
       "model_id": "49aa2ddb0f324aa080f6f17489ff5a13",
       "version_major": 2,
       "version_minor": 0
      },
      "text/plain": [
       "  0%|          | 0/2 [00:00<?, ?it/s]"
      ]
     },
     "metadata": {},
     "output_type": "display_data"
    },
    {
     "name": "stderr",
     "output_type": "stream",
     "text": [
      "23:02:19 | INFO | \"Loading model...\n",
      "  /home/jupyter/subreddit_clustering_i18n/data/models/pn_model/pn_manual_test_2023-05-30_153024/model-xgboost_pre1-train_806431_40.gz\"\n",
      "23:02:19 | INFO | \"40 <- Model feature count\"\n",
      "23:02:19 | INFO | \"\n",
      "Features:\n",
      "  ['screen_view_count_14d_log', 'user_receives_pn_subreddit_count_t7', 'user_receives_pn_t7', 'user_receives_pn_t14', 'user_receives_pn_t30', 'log_user_clicks_pn_t7', 'log_user_clicks_trnd_t7', 'log_post_consumes_30', 'log_num_post_consumes_home_30', 'pct_post_consumes_home_30', 'pct_post_consumes_community_30', 'pct_post_consumes_post_detail_30', 'pct_post_consumes_ios_30', 'pct_post_consumes_android_30', 'pct_post_consumes_nsfw_30', 'num_post_consumes_ios_30', 'num_post_consumes_android_30', 'sub_dau_perc_l28', 'perc_by_country_sd', 'us_screenviews_l14_log', 'us_distinct_posts_viewed_l14_log', 'us_post_screenviews_l14_log', 'us_trend_pn_receive_l14_log', 'us_days_active_ios_l30_pct', 'us_android_days_active_l30_pct', 'us_upvotes_l14', 'us_comments_l14', 'us_posts_l14', 'us_trend_pn_click_l14', 'us_sessions_l14', 'us_ios_days_active_l30', 'us_android_days_active_l30', 'us_days_active_l30', 'users_log_l28', 'seo_users_pct_l28', 'loggedin_users_pct_l28', 'ios_users_pct_l28', 'android_users_pct_l28', 'legacy_user_cohort_ord', 'subscribed']\"\n",
      "23:02:19 | INFO | \"Loading data:\n",
      "  /home/jupyter/subreddit_clustering_i18n/data/local_cache/i18n-subreddit-clustering/pn_model/runs/inference/20230603/000000004226.parquet\"\n",
      "23:02:20 | INFO | \"Create new df for predictions...\"\n",
      "23:02:21 | INFO | \"Done with predictions\"\n",
      "23:02:21 | INFO | \"Saving prediction to: \n",
      "/home/jupyter/subreddit_clustering_i18n/data/models/pn_model/inference/pn_manual_inference_2023-06-05_230216/inference/pred-000000004226.parquet\"\n",
      "23:02:21 | INFO | \"Prediction done!\"\n",
      "23:02:22 | INFO | \"Loading model...\n",
      "  /home/jupyter/subreddit_clustering_i18n/data/models/pn_model/pn_manual_test_2023-05-30_153024/model-xgboost_pre1-train_806431_40.gz\"\n",
      "23:02:22 | INFO | \"40 <- Model feature count\"\n",
      "23:02:22 | INFO | \"\n",
      "Features:\n",
      "  ['screen_view_count_14d_log', 'user_receives_pn_subreddit_count_t7', 'user_receives_pn_t7', 'user_receives_pn_t14', 'user_receives_pn_t30', 'log_user_clicks_pn_t7', 'log_user_clicks_trnd_t7', 'log_post_consumes_30', 'log_num_post_consumes_home_30', 'pct_post_consumes_home_30', 'pct_post_consumes_community_30', 'pct_post_consumes_post_detail_30', 'pct_post_consumes_ios_30', 'pct_post_consumes_android_30', 'pct_post_consumes_nsfw_30', 'num_post_consumes_ios_30', 'num_post_consumes_android_30', 'sub_dau_perc_l28', 'perc_by_country_sd', 'us_screenviews_l14_log', 'us_distinct_posts_viewed_l14_log', 'us_post_screenviews_l14_log', 'us_trend_pn_receive_l14_log', 'us_days_active_ios_l30_pct', 'us_android_days_active_l30_pct', 'us_upvotes_l14', 'us_comments_l14', 'us_posts_l14', 'us_trend_pn_click_l14', 'us_sessions_l14', 'us_ios_days_active_l30', 'us_android_days_active_l30', 'us_days_active_l30', 'users_log_l28', 'seo_users_pct_l28', 'loggedin_users_pct_l28', 'ios_users_pct_l28', 'android_users_pct_l28', 'legacy_user_cohort_ord', 'subscribed']\"\n",
      "23:02:22 | INFO | \"Loading data:\n",
      "  /home/jupyter/subreddit_clustering_i18n/data/local_cache/i18n-subreddit-clustering/pn_model/runs/inference/20230603/000000004858.parquet\"\n",
      "23:02:22 | INFO | \"Create new df for predictions...\"\n",
      "23:02:23 | INFO | \"Done with predictions\"\n",
      "23:02:23 | INFO | \"Saving prediction to: \n",
      "/home/jupyter/subreddit_clustering_i18n/data/models/pn_model/inference/pn_manual_inference_2023-06-05_230216/inference/pred-000000004858.parquet\"\n",
      "23:02:24 | INFO | \"Prediction done!\"\n"
     ]
    }
   ],
   "source": [
    "# define inference path once so that it's the same for all output files\n",
    "path_this_model_inference = path_this_model / 'inference'\n",
    "\n",
    "for f_ in tqdm(f_list[:2]):\n",
    "    run_inference_on_one_file(\n",
    "        df_path=f_,\n",
    "        model_path=model_path,\n",
    "        path_output=path_this_model_inference,\n",
    "        l_ix_columns=l_ix_cols,\n",
    "        l_feature_columns=None,\n",
    "        verbose=True,\n",
    "    )"
   ]
  },
  {
   "cell_type": "code",
   "execution_count": 22,
   "id": "2af04319",
   "metadata": {},
   "outputs": [],
   "source": [
    "# !ls $path_this_model_inference_in"
   ]
  },
  {
   "cell_type": "code",
   "execution_count": 23,
   "id": "31e8929c",
   "metadata": {},
   "outputs": [
    {
     "data": {
      "application/vnd.jupyter.widget-view+json": {
       "model_id": "ad3dfd6ef6684a6483fbd69d7c77e600",
       "version_major": 2,
       "version_minor": 0
      },
      "text/plain": [
       "  0%|          | 0/5001 [00:00<?, ?it/s]"
      ]
     },
     "metadata": {},
     "output_type": "display_data"
    }
   ],
   "source": [
    "# define inference path once so that it's the same for all output files\n",
    "path_this_model_inference = path_this_model / 'inference'\n",
    "\n",
    "# store all the delayed inference files in a list, then we'll compute the list values in parallel with dask\n",
    "l_inference_files = list()\n",
    "for f_ in tqdm(f_list):\n",
    "    l_inference_files.append(\n",
    "        dask.delayed(run_inference_on_one_file)(\n",
    "            df_path=f_,\n",
    "            model_path=model_path,\n",
    "            path_output=path_this_model_inference,\n",
    "            l_ix_columns=l_ix_cols,\n",
    "            l_feature_columns=None,\n",
    "            verbose=False,\n",
    "        )\n",
    "    )"
   ]
  },
  {
   "cell_type": "code",
   "execution_count": 24,
   "id": "90c9bcba",
   "metadata": {},
   "outputs": [],
   "source": [
    "# l_inference_files_dag[0].visualize(\"djb-dask-IGNORE.png\")"
   ]
  },
  {
   "cell_type": "code",
   "execution_count": 25,
   "id": "eaf27ac4",
   "metadata": {},
   "outputs": [
    {
     "data": {
      "image/png": "[encoded data removed]",
      "text/plain": [
       "<IPython.core.display.Image object>"
      ]
     },
     "execution_count": 25,
     "metadata": {},
     "output_type": "execute_result"
    }
   ],
   "source": [
    "dask.visualize(l_inference_files[:5])"
   ]
  },
  {
   "cell_type": "markdown",
   "id": "04b461c4",
   "metadata": {},
   "source": [
    "### Compute in parallel\n",
    "\n",
    "To check progress manually, we can run this command from the CLI to count the number of output files:\n",
    "\n",
    "```bash\n",
    "ls \"/home/jupyter/subreddit_clustering_i18n/data/models/pn_model/pn_manual_test_2023-06-01_212540/inference/\" -l | wc -l\n",
    "# 1473\n",
    "```\n",
    "\n",
    "---\n",
    "\n",
    "With num_workers=9 the process is slightly slower (53 mins) but still better than serial runs\n",
    "```bash\n",
    "CPU times: user 7h 37min 42s, sys: 35min 52s, total: 8h 13min 35s\n",
    "Wall time: 53min 3s\n",
    "```"
   ]
  },
  {
   "cell_type": "code",
   "execution_count": 26,
   "id": "5269fd5d",
   "metadata": {},
   "outputs": [
    {
     "name": "stdout",
     "output_type": "stream",
     "text": [
      "ls /home/jupyter/subreddit_clustering_i18n/data/models/pn_model/inference/pn_manual_inference_2023-06-05_230216/inference -l | wc -l\n",
      "3\n"
     ]
    }
   ],
   "source": [
    "!echo \"ls $path_this_model_inference -l | wc -l\"\n",
    "!ls $path_this_model_inference -l | wc -l"
   ]
  },
  {
   "cell_type": "code",
   "execution_count": 27,
   "id": "94f91fe7",
   "metadata": {},
   "outputs": [
    {
     "name": "stderr",
     "output_type": "stream",
     "text": [
      "00:12:10 | INFO | \"Found array with 0 sample(s) (shape=(0, 38)) while a minimum of 1 is required by RobustScaler.\"\n",
      "00:12:10 | INFO | \"ERROR Running inference:\n",
      "  /home/jupyter/subreddit_clustering_i18n/data/local_cache/i18n-subreddit-clustering/pn_model/runs/inference/20230603/000000005000.parquet\"\n"
     ]
    },
    {
     "name": "stdout",
     "output_type": "stream",
     "text": [
      "Found array with 0 sample(s) (shape=(0, 38)) while a minimum of 1 is required by RobustScaler.\n",
      "ERROR Running inference:\n",
      "  /home/jupyter/subreddit_clustering_i18n/data/local_cache/i18n-subreddit-clustering/pn_model/runs/inference/20230603/000000005000.parquet\n",
      "1\n",
      "CPU times: user 23h 18min 59s, sys: 1h 50min 36s, total: 1d 1h 9min 35s\n",
      "Wall time: 1h 38min 37s\n"
     ]
    }
   ],
   "source": [
    "%%time\n",
    "# 20 workers SOMETIMES breaks the process... \n",
    "#.  But sometimes the num_workers parameter doesn't seem to make a difference.\n",
    "#.  num_workers=9 is safe... Even if it's slower at least it'll finish\n",
    "# Hypothesis: Maybe these files are bigger than in the top 2k subreddits which might be breaking something\n",
    "\n",
    "_ = dask.compute(\n",
    "    l_inference_files,\n",
    "    traverse=True, num_workers=20\n",
    ")\n",
    "# add print statement to prevent displaying a list of 5k None's\n",
    "print(len(_))"
   ]
  },
  {
   "cell_type": "code",
   "execution_count": 28,
   "id": "df1b11b0",
   "metadata": {},
   "outputs": [
    {
     "name": "stdout",
     "output_type": "stream",
     "text": [
      "ls /home/jupyter/subreddit_clustering_i18n/data/models/pn_model/inference/pn_manual_inference_2023-06-05_230216/inference -l | wc -l\n",
      "5001\n"
     ]
    }
   ],
   "source": [
    "!echo \"ls $path_this_model_inference -l | wc -l\"\n",
    "!ls $path_this_model_inference -l | wc -l"
   ]
  },
  {
   "cell_type": "code",
   "execution_count": 29,
   "id": "15523c04",
   "metadata": {},
   "outputs": [
    {
     "name": "stdout",
     "output_type": "stream",
     "text": [
      "CPU times: user 14 ms, sys: 5.45 ms, total: 19.5 ms\n",
      "Wall time: 17.2 ms\n"
     ]
    },
    {
     "data": {
      "text/plain": [
       "5000"
      ]
     },
     "execution_count": 29,
     "metadata": {},
     "output_type": "execute_result"
    }
   ],
   "source": [
    "%%time\n",
    "\n",
    "l_inference_files_created = glob.glob(f\"{path_this_model_inference}/*.parquet\")\n",
    "len(l_inference_files_created)"
   ]
  },
  {
   "cell_type": "code",
   "execution_count": 30,
   "id": "cb50226e",
   "metadata": {},
   "outputs": [
    {
     "data": {
      "text/plain": [
       "['/home/jupyter/subreddit_clustering_i18n/data/models/pn_model/inference/pn_manual_inference_2023-06-05_230216/inference/pred-000000001444.parquet',\n",
       " '/home/jupyter/subreddit_clustering_i18n/data/models/pn_model/inference/pn_manual_inference_2023-06-05_230216/inference/pred-000000002951.parquet',\n",
       " '/home/jupyter/subreddit_clustering_i18n/data/models/pn_model/inference/pn_manual_inference_2023-06-05_230216/inference/pred-000000002408.parquet',\n",
       " '/home/jupyter/subreddit_clustering_i18n/data/models/pn_model/inference/pn_manual_inference_2023-06-05_230216/inference/pred-000000000405.parquet',\n",
       " '/home/jupyter/subreddit_clustering_i18n/data/models/pn_model/inference/pn_manual_inference_2023-06-05_230216/inference/pred-000000004227.parquet']"
      ]
     },
     "execution_count": 30,
     "metadata": {},
     "output_type": "execute_result"
    }
   ],
   "source": [
    "l_inference_files_created[:5]"
   ]
  },
  {
   "cell_type": "markdown",
   "id": "6fe673a1",
   "metadata": {},
   "source": [
    "## Test load an inference file\n",
    "check column outputs"
   ]
  },
  {
   "cell_type": "code",
   "execution_count": 31,
   "id": "c545e63e",
   "metadata": {},
   "outputs": [
    {
     "name": "stdout",
     "output_type": "stream",
     "text": [
      "CPU times: user 346 ms, sys: 133 ms, total: 479 ms\n",
      "Wall time: 337 ms\n"
     ]
    },
    {
     "data": {
      "text/plain": [
       "(679807, 7)"
      ]
     },
     "execution_count": 31,
     "metadata": {},
     "output_type": "execute_result"
    }
   ],
   "source": [
    "%%time\n",
    "df_inf_check = pd.read_parquet(\n",
    "    l_inference_files_created[0],\n",
    ")\n",
    "df_inf_check.shape"
   ]
  },
  {
   "cell_type": "code",
   "execution_count": 32,
   "id": "cba44359",
   "metadata": {},
   "outputs": [
    {
     "data": {
      "text/html": [
       "<div>\n",
       "<style scoped>\n",
       "    .dataframe tbody tr th:only-of-type {\n",
       "        vertical-align: middle;\n",
       "    }\n",
       "\n",
       "    .dataframe tbody tr th {\n",
       "        vertical-align: top;\n",
       "    }\n",
       "\n",
       "    .dataframe thead th {\n",
       "        text-align: right;\n",
       "    }\n",
       "</style>\n",
       "<table border=\"1\" class=\"dataframe\">\n",
       "  <thead>\n",
       "    <tr style=\"text-align: right;\">\n",
       "      <th></th>\n",
       "      <th>pt</th>\n",
       "      <th>target_subreddit</th>\n",
       "      <th>target_subreddit_id</th>\n",
       "      <th>subscribed</th>\n",
       "      <th>user_geo_country_code</th>\n",
       "      <th>user_id</th>\n",
       "      <th>click_proba</th>\n",
       "    </tr>\n",
       "  </thead>\n",
       "  <tbody>\n",
       "    <tr>\n",
       "      <th>0</th>\n",
       "      <td>2023-06-03</td>\n",
       "      <td>fullcartoonsonyoutube</td>\n",
       "      <td>t5_2yz2g</td>\n",
       "      <td>1</td>\n",
       "      <td>PT</td>\n",
       "      <td>t2_dklqj</td>\n",
       "      <td>0.159681</td>\n",
       "    </tr>\n",
       "    <tr>\n",
       "      <th>1</th>\n",
       "      <td>2023-06-03</td>\n",
       "      <td>semaglutidetalk</td>\n",
       "      <td>t5_6g82d0</td>\n",
       "      <td>0</td>\n",
       "      <td>US</td>\n",
       "      <td>t2_ek8y4ssi</td>\n",
       "      <td>0.714068</td>\n",
       "    </tr>\n",
       "    <tr>\n",
       "      <th>2</th>\n",
       "      <td>2023-06-03</td>\n",
       "      <td>catsanddogsbff</td>\n",
       "      <td>t5_3j425</td>\n",
       "      <td>1</td>\n",
       "      <td>US</td>\n",
       "      <td>t2_rr2dv</td>\n",
       "      <td>0.058914</td>\n",
       "    </tr>\n",
       "    <tr>\n",
       "      <th>3</th>\n",
       "      <td>2023-06-03</td>\n",
       "      <td>cellular_automata</td>\n",
       "      <td>t5_2tr1l</td>\n",
       "      <td>0</td>\n",
       "      <td>CA</td>\n",
       "      <td>t2_74afwsvu2</td>\n",
       "      <td>0.060816</td>\n",
       "    </tr>\n",
       "    <tr>\n",
       "      <th>4</th>\n",
       "      <td>2023-06-03</td>\n",
       "      <td>catsanddogsbff</td>\n",
       "      <td>t5_3j425</td>\n",
       "      <td>1</td>\n",
       "      <td>US</td>\n",
       "      <td>t2_aafuu57s</td>\n",
       "      <td>0.038432</td>\n",
       "    </tr>\n",
       "  </tbody>\n",
       "</table>\n",
       "</div>"
      ],
      "text/plain": [
       "           pt       target_subreddit target_subreddit_id  subscribed user_geo_country_code       user_id  click_proba\n",
       "0  2023-06-03  fullcartoonsonyoutube            t5_2yz2g           1                    PT      t2_dklqj     0.159681\n",
       "1  2023-06-03        semaglutidetalk           t5_6g82d0           0                    US   t2_ek8y4ssi     0.714068\n",
       "2  2023-06-03         catsanddogsbff            t5_3j425           1                    US      t2_rr2dv     0.058914\n",
       "3  2023-06-03      cellular_automata            t5_2tr1l           0                    CA  t2_74afwsvu2     0.060816\n",
       "4  2023-06-03         catsanddogsbff            t5_3j425           1                    US   t2_aafuu57s     0.038432"
      ]
     },
     "execution_count": 32,
     "metadata": {},
     "output_type": "execute_result"
    }
   ],
   "source": [
    "df_inf_check.head()"
   ]
  },
  {
   "cell_type": "markdown",
   "id": "7723ca2b",
   "metadata": {},
   "source": [
    "## Upload predictions to GCS!\n",
    "From GCS we can load it into BigQuery for final ranking & reshaping\n",
    "\n",
    "**ETA**: 5 minutes for 5k files (21 GB)"
   ]
  },
  {
   "cell_type": "code",
   "execution_count": 33,
   "id": "eead932f",
   "metadata": {},
   "outputs": [
    {
     "data": {
      "text/plain": [
       "PosixPath('/home/jupyter/subreddit_clustering_i18n/data/models/pn_model/inference/pn_manual_inference_2023-06-05_230216/inference')"
      ]
     },
     "execution_count": 33,
     "metadata": {},
     "output_type": "execute_result"
    }
   ],
   "source": [
    "path_this_model_inference"
   ]
  },
  {
   "cell_type": "code",
   "execution_count": 34,
   "id": "1478ee56",
   "metadata": {},
   "outputs": [
    {
     "data": {
      "text/plain": [
       "'gs://i18n-subreddit-clustering/pn_model/runs/inference/20230603_out/'"
      ]
     },
     "execution_count": 34,
     "metadata": {},
     "output_type": "execute_result"
    }
   ],
   "source": [
    "gcs_inference_out = f\"{gcs_inference_in.rstrip('/')}_out/\"\n",
    "gcs_inference_out"
   ]
  },
  {
   "cell_type": "code",
   "execution_count": 35,
   "id": "34e7f0d3",
   "metadata": {},
   "outputs": [
    {
     "name": "stdout",
     "output_type": "stream",
     "text": [
      "gsutil -o GSUtil:parallel_thread_count=9 -o GSUtil:parallel_process_count=9 -m rsync -r -n /home/jupyter/subreddit_clustering_i18n/data/models/pn_model/inference/pn_manual_inference_2023-06-05_230216/inference gs://i18n-subreddit-clustering/pn_model/runs/inference/20230603_out/\n",
      "\n",
      "\n",
      "gsutil -q -o GSUtil:parallel_thread_count=9 -o GSUtil:parallel_process_count=9 -m rsync -r /home/jupyter/subreddit_clustering_i18n/data/models/pn_model/inference/pn_manual_inference_2023-06-05_230216/inference gs://i18n-subreddit-clustering/pn_model/runs/inference/20230603_out/\n",
      "\n",
      "\n",
      "gsutil -o GSUtil:parallel_thread_count=9 -o GSUtil:parallel_process_count=9 -m rsync -r /home/jupyter/subreddit_clustering_i18n/data/models/pn_model/inference/pn_manual_inference_2023-06-05_230216/inference gs://i18n-subreddit-clustering/pn_model/runs/inference/20230603_out/\n"
     ]
    }
   ],
   "source": [
    "!echo gsutil -o GSUtil:parallel_thread_count=9 -o GSUtil:parallel_process_count=9 -m rsync -r -n $path_this_model_inference $gcs_inference_out\n",
    "print('\\n')\n",
    "\n",
    "!echo gsutil -q -o GSUtil:parallel_thread_count=9 -o GSUtil:parallel_process_count=9 -m rsync -r $path_this_model_inference $gcs_inference_out\n",
    "print('\\n')\n",
    "!echo gsutil -o GSUtil:parallel_thread_count=9 -o GSUtil:parallel_process_count=9 -m rsync -r $path_this_model_inference $gcs_inference_out "
   ]
  },
  {
   "cell_type": "code",
   "execution_count": 36,
   "id": "ceb00a2e",
   "metadata": {},
   "outputs": [
    {
     "name": "stdout",
     "output_type": "stream",
     "text": [
      "CPU times: user 1.9 s, sys: 2.02 s, total: 3.92 s\n",
      "Wall time: 1min 51s\n"
     ]
    }
   ],
   "source": [
    "%%time\n",
    "\n",
    "# upload inference output to GCS\n",
    "!gsutil -q -o GSUtil:parallel_thread_count=9 -o GSUtil:parallel_process_count=9 -m rsync -r $path_this_model_inference $gcs_inference_out"
   ]
  },
  {
   "cell_type": "markdown",
   "id": "ef581307",
   "metadata": {},
   "source": [
    "## Upload preddictions to BigQuery\n",
    "\n",
    "By loading to a temp/staging table we can load data from multiple jobs in parallel and run the post-processing in BigQuery which will be faster than to customize in kubeflow\n",
    "\n",
    "**ETA:** 2 minutes for 5k files:\n",
    "\n",
    "```bash\n",
    "# only top 2k subreddits:\n",
    "Waiting on bqjob_r849e6f491213b41_000001887911b6cf_1 ... (109s) Current status: DONE\n",
    "\n",
    "# remaining subreddits (24k)\n",
    "Waiting on bqjob_rcd2d68c413745f8_0000018879a0bb7f_1 ... (135s) Current status: DONE\n",
    "\n",
    "# full refresh 2023-06-05 (26k subreddits)\n",
    "Waiting on bqjob_r703c65437cdf0013_000001888e28ff5d_1 ... (66s) Current status: DONE\n",
    "(base)\n",
    "```\n",
    "---\n",
    "\n",
    "**Note** that `bq load` simply uploads data WITHOUT deleting or checking copies. So only run this command once to avoid having duplicate rows\n",
    "\n",
    "Note that we need the quote marks because `zsh` has trouble interpreting an asterisk in the path name."
   ]
  },
  {
   "cell_type": "code",
   "execution_count": 37,
   "id": "ab74c20b",
   "metadata": {},
   "outputs": [
    {
     "name": "stdout",
     "output_type": "stream",
     "text": [
      "bq load --source_format=PARQUET --project_id=reddit-relevance tmp.i18n_pn_model_predictions_raw \"gs://i18n-subreddit-clustering/pn_model/runs/inference/20230603_out/pred*.parquet\"\n",
      "CPU times: user 6.53 ms, sys: 163 ms, total: 170 ms\n",
      "Wall time: 382 ms\n"
     ]
    }
   ],
   "source": [
    "%%time\n",
    "\n",
    "## bq load works, but won't read the \"description\" or other nice metadata from parquet files\n",
    "!echo bq load \\\n",
    "    --source_format=PARQUET \\\n",
    "    --project_id=reddit-relevance \\\n",
    "    tmp.i18n_pn_model_predictions_raw \\\n",
    "    \\\"\"$gcs_inference_out\"pred*.parquet\\\""
   ]
  },
  {
   "cell_type": "code",
   "execution_count": 39,
   "id": "065e3030",
   "metadata": {},
   "outputs": [],
   "source": [
    "# %%time\n",
    "\n",
    "# # BREAK\n",
    "# !bq load \\\n",
    "#     --source_format=PARQUET \\\n",
    "#     --project_id=reddit-relevance \\\n",
    "#     tmp.i18n_pn_model_predictions_raw \\\n",
    "#     \"$gcs_inference_out\"pred*.parquet"
   ]
  },
  {
   "cell_type": "markdown",
   "id": "d94c580e",
   "metadata": {},
   "source": [
    "# F. Rank and reshape data for PN model\n",
    "Bigquery is much better at ranking & reshaping in parallel than python, so let's use it for that.\n",
    "\n",
    "- python (pandas/polars) ETA: 6+ hours\n",
    "- `BigQuery` ETA: ~ 2 minutes (Slot time: ~17 hours)"
   ]
  },
  {
   "cell_type": "code",
   "execution_count": null,
   "id": "2d394f48",
   "metadata": {},
   "outputs": [],
   "source": [
    "BREAK"
   ]
  },
  {
   "cell_type": "code",
   "execution_count": 40,
   "id": "ca907c4f",
   "metadata": {},
   "outputs": [
    {
     "name": "stderr",
     "output_type": "stream",
     "text": [
      "Query complete after 0.00s: 100%|██████████| 1/1 [00:00<00:00, 1473.24query/s] "
     ]
    },
    {
     "name": "stdout",
     "output_type": "stream",
     "text": [
      "CPU times: user 1.09 s, sys: 244 ms, total: 1.33 s\n",
      "Wall time: 1min 39s\n"
     ]
    },
    {
     "name": "stderr",
     "output_type": "stream",
     "text": [
      "\n"
     ]
    }
   ],
   "source": [
    "%%time\n",
    "%%bigquery df__ --project data-prod-165221\n",
    "\n",
    "-- F. Rank and reshape data for PN model into staging or prod\n",
    "--   For now, use staging table before pushing to prod\n",
    "-- ETA: 5 mins (slot: 11 hours)\n",
    "DECLARE PT_TARGET DATE DEFAULT '2023-06-03';\n",
    "DECLARE MODEL_NAME_ DEFAULT 'PN click subreddit-user';\n",
    "DECLARE MODEL_VERSION_ DEFAULT 'v1.0.0 2023-05-29';\n",
    "\n",
    "-- ==================\n",
    "-- After table is created, we can delete a partition & update it\n",
    "-- ===\n",
    "DELETE\n",
    "    `reddit-employee-datasets.david_bermejo.pn_model_output_20230510`\n",
    "WHERE\n",
    "    pt = PT_TARGET\n",
    ";\n",
    "\n",
    "-- Insert latest data\n",
    "INSERT INTO `reddit-employee-datasets.david_bermejo.pn_model_output_20230510`\n",
    "(\n",
    "\n",
    "WITH\n",
    "new_rank AS (\n",
    "    SELECT\n",
    "        *\n",
    "        , ROW_NUMBER() OVER(\n",
    "            PARTITION BY pt, target_subreddit, subscribed, user_geo_country_code\n",
    "            ORDER BY click_proba DESC\n",
    "        ) AS user_rank_by_sub_and_geo\n",
    "    FROM `reddit-relevance.tmp.i18n_pn_model_predictions_raw`\n",
    "    WHERE pt = PT_TARGET\n",
    "        # AND target_subreddit IN ('askreddit', 'de', 'streetfighter', 'zelda')\n",
    "    QUALIFY user_rank_by_sub_and_geo <= 1200000\n",
    ")\n",
    ", nested_reshape AS (\n",
    "    SELECT\n",
    "        pt\n",
    "        , MODEL_NAME_ AS model_name\n",
    "        , MODEL_VERSION_ AS model_version\n",
    "        , target_subreddit_id\n",
    "        , target_subreddit\n",
    "        , subscribed\n",
    "        , user_geo_country_code\n",
    "        , ARRAY_AGG(\n",
    "            STRUCT(\n",
    "                user_id\n",
    "                , click_proba\n",
    "                , user_rank_by_sub_and_geo\n",
    "            )\n",
    "            ORDER BY user_rank_by_sub_and_geo\n",
    "        ) AS top_users\n",
    "    FROM new_rank\n",
    "\n",
    "    GROUP BY pt\n",
    "        , model_name\n",
    "        , model_version\n",
    "        , target_subreddit_id\n",
    "        , target_subreddit\n",
    "        , subscribed\n",
    "        , user_geo_country_code\n",
    ")\n",
    "\n",
    "SELECT *\n",
    "FROM nested_reshape\n",
    "-- ORDER BY target_subreddit, user_geo_country_code, subscribed, user_geo_country_code\n",
    ");  -- close INSERT/CREATE parens\n",
    "\n",
    "\n",
    "-- Test CTEs\n",
    "-- SELECT * FROM new_rank\n",
    "-- ORDER BY target_subreddit, user_geo_country_code, subscribed, user_rank_by_sub_and_geo\n",
    "-- ;\n"
   ]
  },
  {
   "cell_type": "markdown",
   "id": "5ee852cf",
   "metadata": {},
   "source": [
    "## Check counts in staging table"
   ]
  },
  {
   "cell_type": "code",
   "execution_count": 45,
   "id": "f50b6374",
   "metadata": {},
   "outputs": [
    {
     "name": "stderr",
     "output_type": "stream",
     "text": [
      "Query complete after 0.00s: 100%|██████████| 9/9 [00:00<00:00, 6805.25query/s]                        \n",
      "Downloading: 100%|██████████| 3/3 [00:00<00:00,  3.32rows/s]"
     ]
    },
    {
     "name": "stdout",
     "output_type": "stream",
     "text": [
      "CPU times: user 234 ms, sys: 36.2 ms, total: 270 ms\n",
      "Wall time: 22.1 s\n"
     ]
    },
    {
     "name": "stderr",
     "output_type": "stream",
     "text": [
      "\n"
     ]
    }
   ],
   "source": [
    "%%time\n",
    "%%bigquery df_check_staging_counts_ --project data-prod-165221\n",
    "\n",
    "SELECT \n",
    "    pt\n",
    "    , COUNT(DISTINCT user_geo_country_code) as country_count\n",
    "    , COUNT(DISTINCT target_subreddit) as subreddit_count\n",
    "    , COUNT(DISTINCT t.user_id) as user_count\n",
    "    , COUNT(*) as user_subreddit_pairs\n",
    "-- FROM `reddit-growth-prod.pn_targeting.pn_model_subreddit_user_click_v1` \n",
    "FROM `reddit-employee-datasets.david_bermejo.pn_model_output_20230510`\n",
    "    LEFT JOIN UNNEST(top_users) AS t\n",
    "WHERE pt BETWEEN \"2023-05-01\" AND CURRENT_DATE() - 2\n",
    "\n",
    "GROUP BY 1\n",
    "ORDER BY pt\n",
    ";"
   ]
  },
  {
   "cell_type": "code",
   "execution_count": 46,
   "id": "20b2ae13",
   "metadata": {},
   "outputs": [
    {
     "name": "stdout",
     "output_type": "stream",
     "text": [
      "(3, 5)\n"
     ]
    },
    {
     "data": {
      "text/html": [
       "<style  type=\"text/css\" >\n",
       "</style><table id=\"T_1c73d_\" ><thead>    <tr>        <th class=\"blank level0\" ></th>        <th class=\"col_heading level0 col0\" >pt</th>        <th class=\"col_heading level0 col1\" >country_count</th>        <th class=\"col_heading level0 col2\" >subreddit_count</th>        <th class=\"col_heading level0 col3\" >user_count</th>        <th class=\"col_heading level0 col4\" >user_subreddit_pairs</th>    </tr></thead><tbody>\n",
       "                <tr>\n",
       "                        <th id=\"T_1c73d_level0_row0\" class=\"row_heading level0 row0\" >0</th>\n",
       "                        <td id=\"T_1c73d_row0_col0\" class=\"data row0 col0\" >2023-05-07</td>\n",
       "                        <td id=\"T_1c73d_row0_col1\" class=\"data row0 col1\" >18</td>\n",
       "                        <td id=\"T_1c73d_row0_col2\" class=\"data row0 col2\" >1,000</td>\n",
       "                        <td id=\"T_1c73d_row0_col3\" class=\"data row0 col3\" >102,728,694</td>\n",
       "                        <td id=\"T_1c73d_row0_col4\" class=\"data row0 col4\" >376,701,575</td>\n",
       "            </tr>\n",
       "            <tr>\n",
       "                        <th id=\"T_1c73d_level0_row1\" class=\"row_heading level0 row1\" >1</th>\n",
       "                        <td id=\"T_1c73d_row1_col0\" class=\"data row1 col0\" >2023-05-29</td>\n",
       "                        <td id=\"T_1c73d_row1_col1\" class=\"data row1 col1\" >18</td>\n",
       "                        <td id=\"T_1c73d_row1_col2\" class=\"data row1 col2\" >26,689</td>\n",
       "                        <td id=\"T_1c73d_row1_col3\" class=\"data row1 col3\" >314,172,073</td>\n",
       "                        <td id=\"T_1c73d_row1_col4\" class=\"data row1 col4\" >2,972,561,659</td>\n",
       "            </tr>\n",
       "            <tr>\n",
       "                        <th id=\"T_1c73d_level0_row2\" class=\"row_heading level0 row2\" >2</th>\n",
       "                        <td id=\"T_1c73d_row2_col0\" class=\"data row2 col0\" >2023-06-03</td>\n",
       "                        <td id=\"T_1c73d_row2_col1\" class=\"data row2 col1\" >18</td>\n",
       "                        <td id=\"T_1c73d_row2_col2\" class=\"data row2 col2\" >26,839</td>\n",
       "                        <td id=\"T_1c73d_row2_col3\" class=\"data row2 col3\" >313,831,570</td>\n",
       "                        <td id=\"T_1c73d_row2_col4\" class=\"data row2 col4\" >2,983,840,793</td>\n",
       "            </tr>\n",
       "    </tbody></table>"
      ],
      "text/plain": [
       "<pandas.io.formats.style.Styler at 0x7fb1cd085e10>"
      ]
     },
     "execution_count": 46,
     "metadata": {},
     "output_type": "execute_result"
    }
   ],
   "source": [
    "print(df_check_staging_counts_.shape)\n",
    "style_df_numeric(df_check_staging_counts_)"
   ]
  },
  {
   "cell_type": "markdown",
   "id": "bcb270e3",
   "metadata": {},
   "source": [
    "## Make sure there are no duplicates in table\n"
   ]
  },
  {
   "cell_type": "code",
   "execution_count": 47,
   "id": "97256f4e",
   "metadata": {},
   "outputs": [
    {
     "name": "stderr",
     "output_type": "stream",
     "text": [
      "Query complete after 0.00s: 100%|██████████| 7/7 [00:00<00:00, 5786.39query/s]                        \n",
      "Downloading: 0rows [00:00, ?rows/s]"
     ]
    },
    {
     "name": "stdout",
     "output_type": "stream",
     "text": [
      "CPU times: user 176 ms, sys: 18.8 ms, total: 195 ms\n",
      "Wall time: 16 s\n"
     ]
    },
    {
     "name": "stderr",
     "output_type": "stream",
     "text": [
      "\n"
     ]
    }
   ],
   "source": [
    "%%time\n",
    "%%bigquery df_check_staging_dupes_ --project data-prod-165221\n",
    "\n",
    "-- Check duplicates\n",
    "SELECT \n",
    "    pt\n",
    "    , target_subreddit\n",
    "    , t.user_id\n",
    "    , COUNT(*) as dupe_check\n",
    "FROM `reddit-employee-datasets.david_bermejo.pn_model_output_20230510`\n",
    "-- FROM `reddit-growth-prod.pn_targeting.pn_model_subreddit_user_click_v1` \n",
    "    LEFT JOIN UNNEST(top_users) AS t\n",
    "-- WHERE pt BETWEEN \"2023-05-01\" AND \"2023-06-01\"\n",
    "WHERE pt = \"2023-06-03\"\n",
    "\n",
    "GROUP BY 1,2,3\n",
    "HAVING dupe_check > 1\n",
    "\n",
    "ORDER BY dupe_check DESC\n",
    ";"
   ]
  },
  {
   "cell_type": "code",
   "execution_count": 48,
   "id": "846296ab",
   "metadata": {},
   "outputs": [
    {
     "name": "stdout",
     "output_type": "stream",
     "text": [
      "(0, 4)\n"
     ]
    },
    {
     "data": {
      "text/html": [
       "<div>\n",
       "<style scoped>\n",
       "    .dataframe tbody tr th:only-of-type {\n",
       "        vertical-align: middle;\n",
       "    }\n",
       "\n",
       "    .dataframe tbody tr th {\n",
       "        vertical-align: top;\n",
       "    }\n",
       "\n",
       "    .dataframe thead th {\n",
       "        text-align: right;\n",
       "    }\n",
       "</style>\n",
       "<table border=\"1\" class=\"dataframe\">\n",
       "  <thead>\n",
       "    <tr style=\"text-align: right;\">\n",
       "      <th></th>\n",
       "      <th>pt</th>\n",
       "      <th>target_subreddit</th>\n",
       "      <th>user_id</th>\n",
       "      <th>dupe_check</th>\n",
       "    </tr>\n",
       "  </thead>\n",
       "  <tbody>\n",
       "  </tbody>\n",
       "</table>\n",
       "</div>"
      ],
      "text/plain": [
       "Empty DataFrame\n",
       "Columns: [pt, target_subreddit, user_id, dupe_check]\n",
       "Index: []"
      ]
     },
     "execution_count": 48,
     "metadata": {},
     "output_type": "execute_result"
    }
   ],
   "source": [
    "print(df_check_staging_dupes_.shape)\n",
    "df_check_staging_dupes_.head()"
   ]
  },
  {
   "cell_type": "code",
   "execution_count": 49,
   "id": "bf27be0c",
   "metadata": {},
   "outputs": [],
   "source": [
    "assert 0 == len(df_check_staging_dupes_)"
   ]
  },
  {
   "cell_type": "markdown",
   "id": "6ca01e74",
   "metadata": {},
   "source": [
    "# G. Copy staging data to Prod\n",
    "\n",
    "Once we know the data is ok in the staging table, copy it to the prod table.\n",
    "\n",
    "Having the staging table is a nice fail-safe in case somehting weird happens to prod. This way we can roll-back errors"
   ]
  },
  {
   "cell_type": "code",
   "execution_count": null,
   "id": "7270cf90",
   "metadata": {},
   "outputs": [],
   "source": [
    "BREAK"
   ]
  },
  {
   "cell_type": "code",
   "execution_count": 57,
   "id": "98306521",
   "metadata": {},
   "outputs": [
    {
     "name": "stderr",
     "output_type": "stream",
     "text": [
      "Query complete after 0.00s: 100%|██████████| 1/1 [00:00<00:00, 1677.05query/s] "
     ]
    },
    {
     "name": "stdout",
     "output_type": "stream",
     "text": [
      "CPU times: user 230 ms, sys: 23.9 ms, total: 254 ms\n",
      "Wall time: 21.4 s\n"
     ]
    },
    {
     "name": "stderr",
     "output_type": "stream",
     "text": [
      "\n"
     ]
    }
   ],
   "source": [
    "%%time\n",
    "%%bigquery df_model_final_ --project data-prod-165221\n",
    "\n",
    "\n",
    "-- G. Create prod table for PN subreddit<>user model\n",
    "DECLARE PT_TARGET DATE DEFAULT \"2023-06-03\";\n",
    "\n",
    "-- ==================\n",
    "-- Only need to create the first time we run the script\n",
    "-- ===\n",
    "-- CREATE TABLE `reddit-growth-prod.pn_targeting.pn_model_subreddit_user_click_v1`\n",
    "-- PARTITION BY pt\n",
    "-- AS (\n",
    "\n",
    "-- ==================\n",
    "-- After table is created, we can delete a partition & update it\n",
    "-- ===\n",
    "DELETE\n",
    "    `reddit-growth-prod.pn_targeting.pn_model_subreddit_user_click_v1`\n",
    "WHERE\n",
    "    pt = PT_TARGET\n",
    ";\n",
    "\n",
    "-- Insert latest data\n",
    "INSERT INTO `reddit-growth-prod.pn_targeting.pn_model_subreddit_user_click_v1`\n",
    "(\n",
    "\n",
    "\n",
    "SELECT *\n",
    "FROM `reddit-employee-datasets.david_bermejo.pn_model_output_20230510`\n",
    "WHERE pt = PT_TARGET\n",
    ");  -- Close CREATE/INSERT parens\n"
   ]
  },
  {
   "cell_type": "markdown",
   "id": "89f5b2a1",
   "metadata": {},
   "source": [
    "## Check counts in FINAL table"
   ]
  },
  {
   "cell_type": "code",
   "execution_count": 58,
   "id": "507ef715",
   "metadata": {},
   "outputs": [
    {
     "name": "stderr",
     "output_type": "stream",
     "text": [
      "Query complete after 0.00s: 100%|██████████| 9/9 [00:00<00:00, 6508.40query/s]                        \n",
      "Downloading: 100%|██████████| 3/3 [00:00<00:00,  3.57rows/s]"
     ]
    },
    {
     "name": "stdout",
     "output_type": "stream",
     "text": [
      "CPU times: user 215 ms, sys: 18.2 ms, total: 233 ms\n",
      "Wall time: 20.2 s\n"
     ]
    },
    {
     "name": "stderr",
     "output_type": "stream",
     "text": [
      "\n"
     ]
    }
   ],
   "source": [
    "%%time\n",
    "%%bigquery df_check_final_counts_ --project data-prod-165221\n",
    "\n",
    "SELECT \n",
    "    pt\n",
    "    , COUNT(DISTINCT user_geo_country_code) as country_count\n",
    "    , COUNT(DISTINCT target_subreddit) as subreddit_count\n",
    "    , COUNT(DISTINCT t.user_id) as user_count\n",
    "    , COUNT(*) as user_subreddit_pairs\n",
    "FROM `reddit-growth-prod.pn_targeting.pn_model_subreddit_user_click_v1`\n",
    "    LEFT JOIN UNNEST(top_users) AS t\n",
    "WHERE pt BETWEEN (CURRENT_DATE() - 35) AND (CURRENT_DATE() - 2)\n",
    "\n",
    "GROUP BY 1\n",
    "ORDER BY pt\n",
    ";"
   ]
  },
  {
   "cell_type": "code",
   "execution_count": 59,
   "id": "a8c70512",
   "metadata": {},
   "outputs": [
    {
     "name": "stdout",
     "output_type": "stream",
     "text": [
      "(3, 5)\n"
     ]
    },
    {
     "data": {
      "text/html": [
       "<style  type=\"text/css\" >\n",
       "</style><table id=\"T_3c7ea_\" ><thead>    <tr>        <th class=\"blank level0\" ></th>        <th class=\"col_heading level0 col0\" >pt</th>        <th class=\"col_heading level0 col1\" >country_count</th>        <th class=\"col_heading level0 col2\" >subreddit_count</th>        <th class=\"col_heading level0 col3\" >user_count</th>        <th class=\"col_heading level0 col4\" >user_subreddit_pairs</th>    </tr></thead><tbody>\n",
       "                <tr>\n",
       "                        <th id=\"T_3c7ea_level0_row0\" class=\"row_heading level0 row0\" >0</th>\n",
       "                        <td id=\"T_3c7ea_row0_col0\" class=\"data row0 col0\" >2023-05-07</td>\n",
       "                        <td id=\"T_3c7ea_row0_col1\" class=\"data row0 col1\" >18</td>\n",
       "                        <td id=\"T_3c7ea_row0_col2\" class=\"data row0 col2\" >1,000</td>\n",
       "                        <td id=\"T_3c7ea_row0_col3\" class=\"data row0 col3\" >102,728,694</td>\n",
       "                        <td id=\"T_3c7ea_row0_col4\" class=\"data row0 col4\" >376,701,575</td>\n",
       "            </tr>\n",
       "            <tr>\n",
       "                        <th id=\"T_3c7ea_level0_row1\" class=\"row_heading level0 row1\" >1</th>\n",
       "                        <td id=\"T_3c7ea_row1_col0\" class=\"data row1 col0\" >2023-05-29</td>\n",
       "                        <td id=\"T_3c7ea_row1_col1\" class=\"data row1 col1\" >18</td>\n",
       "                        <td id=\"T_3c7ea_row1_col2\" class=\"data row1 col2\" >26,689</td>\n",
       "                        <td id=\"T_3c7ea_row1_col3\" class=\"data row1 col3\" >314,172,073</td>\n",
       "                        <td id=\"T_3c7ea_row1_col4\" class=\"data row1 col4\" >2,972,561,659</td>\n",
       "            </tr>\n",
       "            <tr>\n",
       "                        <th id=\"T_3c7ea_level0_row2\" class=\"row_heading level0 row2\" >2</th>\n",
       "                        <td id=\"T_3c7ea_row2_col0\" class=\"data row2 col0\" >2023-06-03</td>\n",
       "                        <td id=\"T_3c7ea_row2_col1\" class=\"data row2 col1\" >18</td>\n",
       "                        <td id=\"T_3c7ea_row2_col2\" class=\"data row2 col2\" >26,839</td>\n",
       "                        <td id=\"T_3c7ea_row2_col3\" class=\"data row2 col3\" >313,831,570</td>\n",
       "                        <td id=\"T_3c7ea_row2_col4\" class=\"data row2 col4\" >2,983,840,793</td>\n",
       "            </tr>\n",
       "    </tbody></table>"
      ],
      "text/plain": [
       "<pandas.io.formats.style.Styler at 0x7fb1be956550>"
      ]
     },
     "execution_count": 59,
     "metadata": {},
     "output_type": "execute_result"
    }
   ],
   "source": [
    "print(df_check_final_counts_.shape)\n",
    "style_df_numeric(df_check_final_counts_)"
   ]
  },
  {
   "cell_type": "markdown",
   "id": "1ee6720f",
   "metadata": {},
   "source": [
    "## Make sure there are no duplicates in table\n"
   ]
  },
  {
   "cell_type": "code",
   "execution_count": 63,
   "id": "5da3dd24",
   "metadata": {},
   "outputs": [
    {
     "name": "stderr",
     "output_type": "stream",
     "text": [
      "Query complete after 0.00s: 100%|██████████| 7/7 [00:00<00:00, 5023.98query/s]                        \n",
      "Downloading: 0rows [00:00, ?rows/s]"
     ]
    },
    {
     "name": "stdout",
     "output_type": "stream",
     "text": [
      "CPU times: user 140 ms, sys: 26.4 ms, total: 167 ms\n",
      "Wall time: 13 s\n"
     ]
    },
    {
     "name": "stderr",
     "output_type": "stream",
     "text": [
      "\n"
     ]
    }
   ],
   "source": [
    "%%time\n",
    "%%bigquery df_check_final_dupes_ --project data-prod-165221\n",
    "\n",
    "-- Check duplicates\n",
    "SELECT \n",
    "    pt\n",
    "    , target_subreddit\n",
    "    , t.user_id\n",
    "    , COUNT(*) as dupe_check\n",
    "FROM `reddit-growth-prod.pn_targeting.pn_model_subreddit_user_click_v1` \n",
    "    LEFT JOIN UNNEST(top_users) AS t\n",
    "-- WHERE pt BETWEEN \"2023-05-01\" AND \"2023-06-01\"\n",
    "WHERE pt = \"2023-06-03\"\n",
    "\n",
    "GROUP BY 1,2,3\n",
    "HAVING dupe_check > 1\n",
    "\n",
    "ORDER BY dupe_check DESC\n",
    ";"
   ]
  },
  {
   "cell_type": "code",
   "execution_count": 64,
   "id": "226b3a08",
   "metadata": {},
   "outputs": [
    {
     "name": "stdout",
     "output_type": "stream",
     "text": [
      "(0, 4)\n"
     ]
    },
    {
     "data": {
      "text/html": [
       "<div>\n",
       "<style scoped>\n",
       "    .dataframe tbody tr th:only-of-type {\n",
       "        vertical-align: middle;\n",
       "    }\n",
       "\n",
       "    .dataframe tbody tr th {\n",
       "        vertical-align: top;\n",
       "    }\n",
       "\n",
       "    .dataframe thead th {\n",
       "        text-align: right;\n",
       "    }\n",
       "</style>\n",
       "<table border=\"1\" class=\"dataframe\">\n",
       "  <thead>\n",
       "    <tr style=\"text-align: right;\">\n",
       "      <th></th>\n",
       "      <th>pt</th>\n",
       "      <th>target_subreddit</th>\n",
       "      <th>user_id</th>\n",
       "      <th>dupe_check</th>\n",
       "    </tr>\n",
       "  </thead>\n",
       "  <tbody>\n",
       "  </tbody>\n",
       "</table>\n",
       "</div>"
      ],
      "text/plain": [
       "Empty DataFrame\n",
       "Columns: [pt, target_subreddit, user_id, dupe_check]\n",
       "Index: []"
      ]
     },
     "execution_count": 64,
     "metadata": {},
     "output_type": "execute_result"
    }
   ],
   "source": [
    "print(df_check_final_dupes_.shape)\n",
    "df_check_final_dupes_.head()"
   ]
  },
  {
   "cell_type": "code",
   "execution_count": 65,
   "id": "f563b641",
   "metadata": {},
   "outputs": [],
   "source": [
    "assert 0 == len(df_check_final_dupes_)"
   ]
  },
  {
   "cell_type": "code",
   "execution_count": null,
   "id": "1eaed1b8",
   "metadata": {},
   "outputs": [],
   "source": []
  }
 ],
 "metadata": {
  "environment": {
   "name": "common-cpu.m65",
   "type": "gcloud",
   "uri": "gcr.io/deeplearning-platform-release/base-cpu:m65"
  },
  "kernelspec": {
   "display_name": "Python 3",
   "language": "python",
   "name": "python3"
  },
  "language_info": {
   "codemirror_mode": {
    "name": "ipython",
    "version": 3
   },
   "file_extension": ".py",
   "mimetype": "text/x-python",
   "name": "python",
   "nbconvert_exporter": "python",
   "pygments_lexer": "ipython3",
   "version": "3.7.10"
  }
 },
 "nbformat": 4,
 "nbformat_minor": 5
}
