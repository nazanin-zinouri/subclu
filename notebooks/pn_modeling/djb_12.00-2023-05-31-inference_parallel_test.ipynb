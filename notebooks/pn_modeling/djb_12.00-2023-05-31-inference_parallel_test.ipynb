{
 "cells": [
  {
   "cell_type": "markdown",
   "id": "f598e5cc",
   "metadata": {},
   "source": [
    "# Purpose\n",
    "\n",
    "\n",
    "### 2023-05-31\n",
    "**New in this notebook:**\n",
    "Instead of doing the ranking and reshaping in pandas/polars, I'll \n",
    "- Save the raw inference data to a stating table in BQ\n",
    "- Run a BQ query to\n",
    "    - Create the rank column (in a CTE)\n",
    "    - Reshape the data to the desired target format\n",
    "    - Insert it into a staging table (`tmp` table for gazette inference?)\n",
    "    - Copy partition from stating table to prod table\n",
    "    \n",
    "By inserting data into the staging table, we ensure that the model outputs match the prod outputs and reduce the chance of blasting data from the prod table.\n",
    "\n",
    "---\n",
    "\n",
    "***General steps**\n",
    "- Pull data for inference from GCS\n",
    "- Load best model from previous run \n",
    "- Run inference on large 1k subreddits (r/de, r/ich_iel, r/fragreddit)\n",
    "    - Save inference data (raw)\n",
    "\n",
    "\n",
    "- Reshape data for cache\n",
    "    - 1 row = subreddit + country + subscribed status. Examples:\n",
    "        - r/`de` | DE (Germany) | 1 (Subscribed) | {Nested struct of top N users}\n",
    "        - r/`de` | DE (Germany) | 0 (viewed, but NOT Subscribed) |  {Nested struct of top N users}\n",
    "        \n",
    "Open questions:\n",
    "- Other Geos: For now we'll exclude them because ROW can take up a lot of inference & processing time\n",
    "    - How do we handle users that have NULL/no Geo?\n",
    "        - Exclude them\n",
    "    - How do we handle users from non-target Geos?\n",
    "        - Exclude them"
   ]
  },
  {
   "cell_type": "markdown",
   "id": "d9b8950f",
   "metadata": {},
   "source": [
    "# Imports & Setup"
   ]
  },
  {
   "cell_type": "code",
   "execution_count": 1,
   "id": "96919f6e",
   "metadata": {},
   "outputs": [],
   "source": [
    "%load_ext autoreload\n",
    "%autoreload 2"
   ]
  },
  {
   "cell_type": "code",
   "execution_count": 2,
   "id": "d2ddaa7d",
   "metadata": {},
   "outputs": [
    {
     "name": "stdout",
     "output_type": "stream",
     "text": [
      "python\t\tv 3.7.10\n",
      "===\n",
      "google.cloud.bigquery\tv: 2.13.1\n",
      "joblib\t\tv: 1.0.1\n",
      "numpy\t\tv: 1.19.5\n",
      "pandas\t\tv: 1.2.4\n",
      "polars\t\tv: 0.17.1\n",
      "plotly\t\tv: 5.11.0\n",
      "mlflow\t\tv: 1.16.0\n",
      "subclu\t\tv: 0.6.1\n"
     ]
    }
   ],
   "source": [
    "from datetime import datetime\n",
    "import gc\n",
    "import glob\n",
    "import logging\n",
    "from logging import info\n",
    "import os\n",
    "from pathlib import Path\n",
    "import json\n",
    "from typing import List, Union\n",
    "\n",
    "import polars as pl\n",
    "import numpy as np\n",
    "import pandas as pd\n",
    "import plotly\n",
    "import seaborn as sns\n",
    "\n",
    "from tqdm.auto import tqdm\n",
    "import dask\n",
    "import mlflow\n",
    "\n",
    "import subclu\n",
    "from subclu.eda.aggregates import compare_raw_v_weighted_language\n",
    "from subclu.utils import set_working_directory, get_project_subfolder\n",
    "from subclu.utils.eda import (\n",
    "    setup_logging, counts_describe, value_counts_and_pcts,\n",
    "    notebook_display_config, print_lib_versions,\n",
    "    style_df_numeric, reorder_array,\n",
    ")\n",
    "from subclu.utils.mlflow_logger import MlflowLogger\n",
    "from subclu.utils.hydra_config_loader import LoadHydraConfig\n",
    "from subclu.utils.data_irl_style import (\n",
    "    get_colormap, theme_dirl, \n",
    "    get_color_dict, base_colors_for_manual_labels,\n",
    "    check_colors_used,\n",
    ")\n",
    "from subclu.data.data_loaders import LoadPosts, LoadSubreddits, create_sub_level_aggregates\n",
    "\n",
    "\n",
    "# ===\n",
    "# imports specific to this notebook\n",
    "import joblib\n",
    "from typing import Tuple, Union\n",
    "\n",
    "from subclu.models.nn_annoy import AnnoyIndex\n",
    "from subclu.utils.eda import get_venn_sets2\n",
    "\n",
    "from matplotlib_venn import venn2_unweighted\n",
    "\n",
    "from google.cloud import bigquery\n",
    "from subclu.pn_models import get_data\n",
    "\n",
    "\n",
    "client = bigquery.Client()\n",
    "\n",
    "print_lib_versions([bigquery, joblib, np, pd, pl, plotly, mlflow, subclu])"
   ]
  },
  {
   "cell_type": "code",
   "execution_count": 3,
   "id": "ea805f9e",
   "metadata": {},
   "outputs": [],
   "source": [
    "# plotting\n",
    "import matplotlib.pyplot as plt\n",
    "import matplotlib.ticker as mtick\n",
    "import matplotlib.dates as mdates\n",
    "plt.style.use('default')\n",
    "\n",
    "setup_logging()\n",
    "notebook_display_config()"
   ]
  },
  {
   "cell_type": "markdown",
   "id": "e7109826",
   "metadata": {},
   "source": [
    "# Define local path for this model outputs"
   ]
  },
  {
   "cell_type": "code",
   "execution_count": 4,
   "id": "e5eb1460",
   "metadata": {},
   "outputs": [
    {
     "name": "stdout",
     "output_type": "stream",
     "text": [
      "/home/jupyter/subreddit_clustering_i18n/data/models/pn_model/pn_manual_test_2023-06-01_190228\n"
     ]
    }
   ],
   "source": [
    "manual_model_timestamp = datetime.utcnow().strftime('%Y-%m-%d_%H%M%S')\n",
    "path_this_model = get_project_subfolder(\n",
    "    f\"data/models/pn_model/pn_manual_test_{manual_model_timestamp}\"\n",
    ")\n",
    "Path.mkdir(path_this_model, parents=True, exist_ok=True)\n",
    "print(path_this_model)"
   ]
  },
  {
   "cell_type": "markdown",
   "id": "c633ad26",
   "metadata": {},
   "source": [
    "# Pick top model & upload it to GCS\n",
    "We'll want to move it to GCS so that we can recover it in kubeflow or elsewhere to run inference in parallel"
   ]
  },
  {
   "cell_type": "code",
   "execution_count": 5,
   "id": "45e528ec",
   "metadata": {},
   "outputs": [
    {
     "data": {
      "text/plain": [
       "'gs://i18n-subreddit-clustering/data/models/pn_model/pn_manual_test_2023-05-30_153024'"
      ]
     },
     "execution_count": 5,
     "metadata": {},
     "output_type": "execute_result"
    }
   ],
   "source": [
    "path_inference_model = Path(\"/home/jupyter/subreddit_clustering_i18n/data/models/pn_model/pn_manual_test_2023-05-30_153024\")\n",
    "\n",
    "gcs_inf_model_upload_dir = f\"gs://i18n-subreddit-clustering/data/models/pn_model/{path_inference_model.name}\"\n",
    "gcs_inf_model_upload_dir"
   ]
  },
  {
   "cell_type": "code",
   "execution_count": 6,
   "id": "0fc62925",
   "metadata": {},
   "outputs": [
    {
     "name": "stdout",
     "output_type": "stream",
     "text": [
      "X_test-172807_47.parquet\t    model-rf_pre1-train_806431_40.gz\n",
      "X_train-806431_47.parquet\t    model-xgboost-train_20000_40.gz\n",
      "X_validate-172807_47.parquet\t    model-xgboost-train_806431_40.gz\n",
      "df_train-1152045_52.parquet\t    model-xgboost_pre1-train_20000_40.gz\n",
      "model-hgbc_pre1-train_20000_40.gz   model-xgboost_pre1-train_806431_40.gz\n",
      "model-hgbc_pre1-train_806431_40.gz  y_test-172807_1.parquet\n",
      "model-rf-train_20000_40.gz\t    y_train-806431_1.parquet\n",
      "model-rf-train_806431_40.gz\t    y_validate-172807_1.parquet\n",
      "model-rf_pre1-train_20000_40.gz\n"
     ]
    }
   ],
   "source": [
    "!ls $path_inference_model"
   ]
  },
  {
   "cell_type": "code",
   "execution_count": 7,
   "id": "cc8a73bc",
   "metadata": {},
   "outputs": [
    {
     "name": "stdout",
     "output_type": "stream",
     "text": [
      "gsutil -m cp -r /home/jupyter/subreddit_clustering_i18n/data/models/pn_model/pn_manual_test_2023-05-30_153024 gs://i18n-subreddit-clustering/data/models/pn_model/pn_manual_test_2023-05-30_153024\n"
     ]
    }
   ],
   "source": [
    "!echo gsutil -m cp -r $path_inference_model $gcs_inf_model_upload_dir"
   ]
  },
  {
   "cell_type": "code",
   "execution_count": 8,
   "id": "2e204c59",
   "metadata": {},
   "outputs": [],
   "source": [
    "# !gsutil -m cp -r $path_inference_model $gcs_inf_model_upload_dir"
   ]
  },
  {
   "cell_type": "markdown",
   "id": "8f5d8531",
   "metadata": {},
   "source": [
    "# Load Model & Get list of columns used for training"
   ]
  },
  {
   "cell_type": "code",
   "execution_count": 9,
   "id": "4467d160",
   "metadata": {},
   "outputs": [
    {
     "name": "stdout",
     "output_type": "stream",
     "text": [
      "CPU times: user 3.63 s, sys: 11.6 ms, total: 3.64 s\n",
      "Wall time: 163 ms\n"
     ]
    },
    {
     "data": {
      "text/plain": [
       "GridSearchCV(cv=StratifiedKFold(n_splits=4, random_state=42, shuffle=True),\n",
       "             estimator=Pipeline(steps=[('preprocess',\n",
       "                                        ColumnTransformer(remainder='passthrough',\n",
       "                                                          transformers=[('scale',\n",
       "                                                                         StandardScaler(),\n",
       "                                                                         ['screen_view_count_14d_log',\n",
       "                                                                          'user_receives_pn_subreddit_count_t7',\n",
       "                                                                          'user_receives_pn_t7',\n",
       "                                                                          'user_receives_pn_t14',\n",
       "                                                                          'user_receives_pn_t30',\n",
       "                                                                          'log_user_clicks_pn_...\n",
       "                                                      predictor=None,\n",
       "                                                      random_state=42,\n",
       "                                                      reg_alpha=None,\n",
       "                                                      reg_lambda=None, ...))]),\n",
       "             n_jobs=-1,\n",
       "             param_grid={'clf__eval_metric': ['auc'],\n",
       "                         'clf__learning_rate': [0.1, 0.2, 0.25],\n",
       "                         'clf__max_depth': [5, 4],\n",
       "                         'clf__min_child_weight': [1, 2],\n",
       "                         'clf__n_estimators': [900, 1100],\n",
       "                         'preprocess__scale': [StandardScaler(),\n",
       "                                               RobustScaler()]},\n",
       "             refit='recall', scoring=['f1', 'precision', 'recall', 'accuracy'])"
      ]
     },
     "execution_count": 9,
     "metadata": {},
     "output_type": "execute_result"
    }
   ],
   "source": [
    "%%time\n",
    "\n",
    "model_path = f\"{path_inference_model}/model-xgboost_pre1-train_806431_40.gz\"\n",
    "model = joblib.load(\n",
    "    model_path\n",
    ")\n",
    "\n",
    "model"
   ]
  },
  {
   "cell_type": "code",
   "execution_count": 10,
   "id": "554b6c3d",
   "metadata": {},
   "outputs": [
    {
     "name": "stdout",
     "output_type": "stream",
     "text": [
      "40 <- Model feature count\n",
      "Features:\n",
      "  ['screen_view_count_14d_log', 'user_receives_pn_subreddit_count_t7', 'user_receives_pn_t7', 'user_receives_pn_t14', 'user_receives_pn_t30', 'log_user_clicks_pn_t7', 'log_user_clicks_trnd_t7', 'log_post_consumes_30', 'log_num_post_consumes_home_30', 'pct_post_consumes_home_30', 'pct_post_consumes_community_30', 'pct_post_consumes_post_detail_30', 'pct_post_consumes_ios_30', 'pct_post_consumes_android_30', 'pct_post_consumes_nsfw_30', 'num_post_consumes_ios_30', 'num_post_consumes_android_30', 'sub_dau_perc_l28', 'perc_by_country_sd', 'us_screenviews_l14_log', 'us_distinct_posts_viewed_l14_log', 'us_post_screenviews_l14_log', 'us_trend_pn_receive_l14_log', 'us_days_active_ios_l30_pct', 'us_android_days_active_l30_pct', 'us_upvotes_l14', 'us_comments_l14', 'us_posts_l14', 'us_trend_pn_click_l14', 'us_sessions_l14', 'us_ios_days_active_l30', 'us_android_days_active_l30', 'us_days_active_l30', 'users_log_l28', 'seo_users_pct_l28', 'loggedin_users_pct_l28', 'ios_users_pct_l28', 'android_users_pct_l28', 'legacy_user_cohort_ord', 'subscribed']\n"
     ]
    }
   ],
   "source": [
    "# Get input feature names for modeling\n",
    "l_feature_names = [\n",
    "    '__'.join(_.split('__')[1:]) for _ in model.best_estimator_['preprocess'].get_feature_names_out()\n",
    "]\n",
    "print(\n",
    "    f\"{len(l_feature_names)} <- Model feature count\"\n",
    "    f\"\\nFeatures:\"\n",
    "    f\"\\n  {l_feature_names}\"\n",
    ")"
   ]
  },
  {
   "cell_type": "code",
   "execution_count": 11,
   "id": "66f84caf",
   "metadata": {},
   "outputs": [
    {
     "name": "stdout",
     "output_type": "stream",
     "text": [
      "CPU times: user 3 µs, sys: 2 µs, total: 5 µs\n",
      "Wall time: 11 µs\n"
     ]
    }
   ],
   "source": [
    "%%time\n",
    "\n",
    "# We also need these columns to save the outputs (even if not used for inference directly)\n",
    "c_user_geo_col = 'user_geo_country_code'\n",
    "l_ix_cols = [\n",
    "    'pt',\n",
    "    'target_subreddit',\n",
    "    'target_subreddit_id',\n",
    "    'subscribed',\n",
    "    c_user_geo_col,  # We'll maybe need to rename it in final table?\n",
    "    'user_id',\n",
    "]\n",
    "\n",
    "# Each row in output table will be at this grain:\n",
    "l_ix_cache = [\n",
    "    'pt',\n",
    "    'target_subreddit_id',\n",
    "    'target_subreddit',\n",
    "    'subscribed',\n",
    "    c_user_geo_col,  # We'll maybe need to rename it in final table?\n",
    "]\n",
    "\n",
    "# Other columns for output: These we'll create as part of inference\n",
    "c_pred_proba = 'click_proba'\n",
    "#   TODO(djb): this rank also needs to be at SUBSCRIPTION level! subscribers & non-subscribers will have a different rank!\n",
    "c_user_rank = 'user_rank_by_sub_and_geo'  "
   ]
  },
  {
   "cell_type": "code",
   "execution_count": 12,
   "id": "3b76cbf5",
   "metadata": {},
   "outputs": [
    {
     "data": {
      "text/plain": [
       "{'android_users_pct_l28',\n",
       " 'ios_users_pct_l28',\n",
       " 'legacy_user_cohort_ord',\n",
       " 'log_num_post_consumes_home_30',\n",
       " 'log_post_consumes_30',\n",
       " 'log_user_clicks_pn_t7',\n",
       " 'log_user_clicks_trnd_t7',\n",
       " 'loggedin_users_pct_l28',\n",
       " 'num_post_consumes_android_30',\n",
       " 'num_post_consumes_ios_30',\n",
       " 'pct_post_consumes_android_30',\n",
       " 'pct_post_consumes_community_30',\n",
       " 'pct_post_consumes_home_30',\n",
       " 'pct_post_consumes_ios_30',\n",
       " 'pct_post_consumes_nsfw_30',\n",
       " 'pct_post_consumes_post_detail_30',\n",
       " 'perc_by_country_sd',\n",
       " 'pt',\n",
       " 'screen_view_count_14d_log',\n",
       " 'seo_users_pct_l28',\n",
       " 'sub_dau_perc_l28',\n",
       " 'subscribed',\n",
       " 'target_subreddit',\n",
       " 'target_subreddit_id',\n",
       " 'us_android_days_active_l30',\n",
       " 'us_android_days_active_l30_pct',\n",
       " 'us_comments_l14',\n",
       " 'us_days_active_ios_l30_pct',\n",
       " 'us_days_active_l30',\n",
       " 'us_distinct_posts_viewed_l14_log',\n",
       " 'us_ios_days_active_l30',\n",
       " 'us_post_screenviews_l14_log',\n",
       " 'us_posts_l14',\n",
       " 'us_screenviews_l14_log',\n",
       " 'us_sessions_l14',\n",
       " 'us_trend_pn_click_l14',\n",
       " 'us_trend_pn_receive_l14_log',\n",
       " 'us_upvotes_l14',\n",
       " 'user_geo_country_code',\n",
       " 'user_id',\n",
       " 'user_receives_pn_subreddit_count_t7',\n",
       " 'user_receives_pn_t14',\n",
       " 'user_receives_pn_t30',\n",
       " 'user_receives_pn_t7',\n",
       " 'users_log_l28'}"
      ]
     },
     "execution_count": 12,
     "metadata": {},
     "output_type": "execute_result"
    }
   ],
   "source": [
    "# columns to query in BQ table:\n",
    "set(l_ix_cols + l_feature_names)"
   ]
  },
  {
   "cell_type": "markdown",
   "id": "96627c6d",
   "metadata": {},
   "source": [
    "# Load & reshape data"
   ]
  },
  {
   "cell_type": "markdown",
   "id": "b29f735d",
   "metadata": {},
   "source": [
    "## Export data to GCS\n",
    "\n",
    "Here we'll export a SAMPLE so we can test the process before running on 26k subreddits"
   ]
  },
  {
   "cell_type": "code",
   "execution_count": 13,
   "id": "81f32a2e",
   "metadata": {},
   "outputs": [],
   "source": [
    "# %%time\n",
    "# %%bigquery _ --project data-prod-165221/ \n",
    "\n",
    "# -- ============\n",
    "# -- Export data to GCS because querying such a huge table takes forever and a half\n",
    "# -- ===\n",
    "# EXPORT DATA OPTIONS(\n",
    "#     uri='gs://i18n-subreddit-clustering/pn_model/runs/inference/20230529_sample/*.parquet',\n",
    "#     format='PARQUET',\n",
    "#     overwrite=true\n",
    "# ) AS\n",
    "\n",
    "# SELECT\n",
    "#     pt, target_subreddit, target_subreddit_id, subscribed, user_geo_country_code, user_id\n",
    "#     , screen_view_count_14d_log, user_receives_pn_subreddit_count_t7, user_receives_pn_t7\n",
    "#     , user_receives_pn_t14, user_receives_pn_t30, log_user_clicks_pn_t7, log_user_clicks_trnd_t7\n",
    "#     , log_post_consumes_30, log_num_post_consumes_home_30, pct_post_consumes_home_30, pct_post_consumes_community_30, pct_post_consumes_post_detail_30, pct_post_consumes_ios_30\n",
    "#     , pct_post_consumes_android_30, pct_post_consumes_nsfw_30, num_post_consumes_ios_30\n",
    "#     , num_post_consumes_android_30, sub_dau_perc_l28, perc_by_country_sd, us_screenviews_l14_log\n",
    "#     , us_distinct_posts_viewed_l14_log, us_post_screenviews_l14_log, us_trend_pn_receive_l14_log\n",
    "#     , us_days_active_ios_l30_pct, us_android_days_active_l30_pct, us_upvotes_l14, us_comments_l14\n",
    "#     , us_posts_l14, us_trend_pn_click_l14, us_sessions_l14, us_ios_days_active_l30\n",
    "#     , us_android_days_active_l30, us_days_active_l30, users_log_l28, seo_users_pct_l28\n",
    "#     , loggedin_users_pct_l28, ios_users_pct_l28, android_users_pct_l28, legacy_user_cohort_ord\n",
    "# FROM `reddit-employee-datasets.david_bermejo.pn_ft_all_20230530` AS f\n",
    "#     INNER JOIN (\n",
    "#         -- Pick top subreddits for sampling/testing\n",
    "#         SELECT\n",
    "#             s.subreddit_id, s.subreddit_name\n",
    "#             , ROW_NUMBER() OVER(ORDER BY users_l7 DESC) AS rank_by_users\n",
    "#         FROM `reddit-employee-datasets.david_bermejo.pn_ft_subreddits_20230525` AS s\n",
    "\n",
    "#         WHERE s.pt = '2023-05-29'\n",
    "#         -- For testing, we can limit to only the top subreddits\n",
    "#         QUALIFY (\n",
    "#             rank_by_users <= 2000\n",
    "#             OR subreddit_name LIKE \"%street%\"\n",
    "#             OR subreddit_name LIKE \"%figther%\"\n",
    "#         )\n",
    "#     ) AS sub\n",
    "#         ON f.target_subreddit_id = sub.subreddit_id\n",
    "\n",
    "# WHERE pt = '2023-05-29'\n",
    "# ;"
   ]
  },
  {
   "cell_type": "markdown",
   "id": "358d0012",
   "metadata": {},
   "source": [
    "\n",
    "\n",
    "## Download training data from GCS\n",
    "\n",
    "Here we mostly copy the query used for training. Note that we should match column names.\n",
    "\n",
    "We uset GCS instead of pulling from BigQuery to save time. We also sync data with `gsutil` instead of trying to read directly from GCS\n",
    "\n",
    "for 1k subreddits:\n",
    "- ~1,800 files\n",
    "- ~50 GB\n",
    "- ~10 minutes to download with `gsutil`\n",
    "\n",
    "For 2k subreddits:\n",
    "- 5,000 files\n",
    "- ~198 GB\n",
    "- ~25 minutes to download with `gsutil`\n"
   ]
  },
  {
   "cell_type": "code",
   "execution_count": 14,
   "id": "c93bbc1a",
   "metadata": {},
   "outputs": [
    {
     "name": "stdout",
     "output_type": "stream",
     "text": [
      "gs://i18n-subreddit-clustering/pn_model/runs/inference/20230529_sample/\n",
      "/home/jupyter/subreddit_clustering_i18n/data/local_cache/i18n-subreddit-clustering/pn_model/runs/inference/20230529_sample\n"
     ]
    }
   ],
   "source": [
    "bucket_name = 'i18n-subreddit-clustering'\n",
    "gcs_inference = f\"gs://{bucket_name}/pn_model/runs/inference/20230529_sample/\"\n",
    "\n",
    "path_local_cache = Path(f\"/home/jupyter/subreddit_clustering_i18n/data/local_cache/{bucket_name}/\")\n",
    "local_path_inference = path_local_cache / gcs_inference.split(f\"{bucket_name}/\")[1]\n",
    "Path.mkdir(local_path_inference, exist_ok=True, parents=True)\n",
    "\n",
    "print(gcs_inference)\n",
    "print(local_path_inference)"
   ]
  },
  {
   "cell_type": "code",
   "execution_count": 15,
   "id": "dadd632a",
   "metadata": {},
   "outputs": [],
   "source": [
    "# !gsutil ls $gcs_inference"
   ]
  },
  {
   "cell_type": "code",
   "execution_count": 16,
   "id": "5def0d60",
   "metadata": {},
   "outputs": [],
   "source": [
    "# delete in case we exported the wrong data\n",
    "## !echo gsutil -m rm -r gcs_inference"
   ]
  },
  {
   "cell_type": "code",
   "execution_count": 17,
   "id": "ccfc851e",
   "metadata": {},
   "outputs": [
    {
     "name": "stdout",
     "output_type": "stream",
     "text": [
      "gsutil -o GSUtil:parallel_thread_count=20 -o GSUtil:parallel_process_count=20 -m rsync -r -n gs://i18n-subreddit-clustering/pn_model/runs/inference/20230529_sample/ /home/jupyter/subreddit_clustering_i18n/data/local_cache/i18n-subreddit-clustering/pn_model/runs/inference/20230529_sample -q\n",
      "\n",
      "\n",
      "gsutil -o GSUtil:parallel_thread_count=20 -o GSUtil:parallel_process_count=20 -m rsync -r gs://i18n-subreddit-clustering/pn_model/runs/inference/20230529_sample/ /home/jupyter/subreddit_clustering_i18n/data/local_cache/i18n-subreddit-clustering/pn_model/runs/inference/20230529_sample -q\n"
     ]
    }
   ],
   "source": [
    "# try -q (quiet) mode at the end to suppress progress & file list\n",
    "#. This can be helpful when we have 2k+ files b/c gsutil can overwhelm/freeze the system\n",
    "#. also try a lower process count (20 seems to freeze, maybe try 10?)\n",
    "\n",
    "!echo gsutil -o GSUtil:parallel_thread_count=12 -o GSUtil:parallel_process_count=12 -m rsync -r -n $gcs_inference $local_path_inference\n",
    "print('\\n')\n",
    "\n",
    "!echo gsutil -q -o GSUtil:parallel_thread_count=12 -o GSUtil:parallel_process_count=12 -m rsync -r $gcs_inference $local_path_inference\n",
    "!echo gsutil -o GSUtil:parallel_thread_count=12 -o GSUtil:parallel_process_count=12 -m rsync -r $gcs_inference $local_path_inference"
   ]
  },
  {
   "cell_type": "markdown",
   "id": "5dc7e6db",
   "metadata": {},
   "source": [
    "# Run inference - each file in parallel\n",
    "For running inference we require pandas because it's the format sklearn/XGBoost expects for inputs. \n",
    "\n",
    "~~Because we can't use `polars` for parallel processing, let's just process & run inference on each file individually.\n",
    "Then, once we've run inference on all files we can move to polars for ranking and clipping, which polars can do well in parallel.~~\n",
    "\n",
    "NEW: \n",
    "<br>forget using polars for post-processing/reshaping! Instead load the raw inference to BQ and then rank & reshape there!\n",
    "\n",
    "---\n",
    "\n",
    "ETAs for only `inference` & `save`:\n",
    "- 0:49 (hh:mins): 47,055,198.9 rows / min | `2,305,704,745` rows with pandas + paralle with `dask` (5k files)\n",
    "- 1:42 (hh:mins): 22,604,948.5 rows / min | `2,305,704,745` rows with pandas in series [1 file at a time] (5k files)\n",
    "- 0:21 (hh:mins): 33,617,303.5 rows / min | `0,705,963,374` rows with pandas (1 file)\n",
    "\n",
    "\n",
    "```bash\n",
    "# `2,305,704,745` rows with pandas in SERIES [1 file at a time]\n",
    "42/5000 [00:50<1:41:02, 1.22s/it]\n",
    "\n",
    "# ---\n",
    "\n",
    "# `2,305,704,745` rows with pandas in PARALLEL\n",
    "CPU times: user 15h 54min 6s, sys: 1h 7min 58s, total: 17h 2min 5s\n",
    "Wall time: 49min 7s\n",
    "\n",
    "# ---\n",
    "\n",
    "# Read data. `705,963,374` rows with pandas\n",
    "CPU times: user 7min 59s, sys: 5min 1s, total: 13min 1s\n",
    "Wall time: 26 s\n",
    "(705963374, 26)\n",
    "\n",
    "# Run inference\n",
    "18:33:47 | INFO | \"Create new df for predictions...\"\n",
    "18:47:44 | INFO | \"Done with predictions\"\n",
    "CPU times: user 3h 54min 39s, sys: 3min 2s, total: 3h 57min 41s\n",
    "Wall time: 13min 56s\n",
    "\n",
    "# Save inference file (note it might take longer b/c I also added rank column in the previous step)\n",
    "20:44:55 | INFO | \"start saving predictions...\"\n",
    "CPU times: user 5min 45s, sys: 31.3 s, total: 6min 17s\n",
    "Wall time: 6min 24s\n",
    "```\n",
    "\n",
    "To check progress manually, we can run this command from the CLI to count the number of output files:\n",
    "\n",
    "```bash\n",
    "ls \"/home/jupyter/subreddit_clustering_i18n/data/models/pn_model/pn_manual_test_2023-06-01_190228/inference/\" -l | wc -l\n",
    "# 1473\n",
    "```"
   ]
  },
  {
   "cell_type": "code",
   "execution_count": 62,
   "id": "fe96c354",
   "metadata": {},
   "outputs": [
    {
     "name": "stdout",
     "output_type": "stream",
     "text": [
      "CPU times: user 0 ns, sys: 1.9 ms, total: 1.9 ms\n",
      "Wall time: 3.53 ms\n"
     ]
    }
   ],
   "source": [
    "from subclu.pn_models.pn_inference import run_inference_on_one_file"
   ]
  },
  {
   "cell_type": "code",
   "execution_count": 51,
   "id": "e4e89dad",
   "metadata": {},
   "outputs": [
    {
     "name": "stdout",
     "output_type": "stream",
     "text": [
      "5000\n",
      "CPU times: user 16.1 ms, sys: 0 ns, total: 16.1 ms\n",
      "Wall time: 15.8 ms\n"
     ]
    },
    {
     "data": {
      "text/plain": [
       "['/home/jupyter/subreddit_clustering_i18n/data/local_cache/i18n-subreddit-clustering/pn_model/runs/inference/20230529_sample/000000004226.parquet']"
      ]
     },
     "execution_count": 51,
     "metadata": {},
     "output_type": "execute_result"
    }
   ],
   "source": [
    "%%time\n",
    "\n",
    "f_list = glob.glob(f\"{local_path_inference}/*.parquet\")\n",
    "print(len(f_list))\n",
    "f_list[:1]"
   ]
  },
  {
   "cell_type": "code",
   "execution_count": 47,
   "id": "6b8271ad",
   "metadata": {},
   "outputs": [
    {
     "data": {
      "application/vnd.jupyter.widget-view+json": {
       "model_id": "fc24d455a50646cb9d6db590a09b94f9",
       "version_major": 2,
       "version_minor": 0
      },
      "text/plain": [
       "  0%|          | 0/1 [00:00<?, ?it/s]"
      ]
     },
     "metadata": {},
     "output_type": "display_data"
    },
    {
     "name": "stderr",
     "output_type": "stream",
     "text": [
      "19:09:52 | INFO | \"Loading model...\n",
      "  /home/jupyter/subreddit_clustering_i18n/data/models/pn_model/pn_manual_test_2023-05-30_153024/model-xgboost_pre1-train_806431_40.gz\"\n",
      "19:09:52 | INFO | \"40 <- Model feature count\"\n",
      "19:09:52 | INFO | \"\n",
      "Features:\n",
      "  ['screen_view_count_14d_log', 'user_receives_pn_subreddit_count_t7', 'user_receives_pn_t7', 'user_receives_pn_t14', 'user_receives_pn_t30', 'log_user_clicks_pn_t7', 'log_user_clicks_trnd_t7', 'log_post_consumes_30', 'log_num_post_consumes_home_30', 'pct_post_consumes_home_30', 'pct_post_consumes_community_30', 'pct_post_consumes_post_detail_30', 'pct_post_consumes_ios_30', 'pct_post_consumes_android_30', 'pct_post_consumes_nsfw_30', 'num_post_consumes_ios_30', 'num_post_consumes_android_30', 'sub_dau_perc_l28', 'perc_by_country_sd', 'us_screenviews_l14_log', 'us_distinct_posts_viewed_l14_log', 'us_post_screenviews_l14_log', 'us_trend_pn_receive_l14_log', 'us_days_active_ios_l30_pct', 'us_android_days_active_l30_pct', 'us_upvotes_l14', 'us_comments_l14', 'us_posts_l14', 'us_trend_pn_click_l14', 'us_sessions_l14', 'us_ios_days_active_l30', 'us_android_days_active_l30', 'us_days_active_l30', 'users_log_l28', 'seo_users_pct_l28', 'loggedin_users_pct_l28', 'ios_users_pct_l28', 'android_users_pct_l28', 'legacy_user_cohort_ord', 'subscribed']\"\n",
      "19:09:52 | INFO | \"Loading data:\n",
      "  /home/jupyter/subreddit_clustering_i18n/data/local_cache/i18n-subreddit-clustering/pn_model/runs/inference/20230529_sample/000000004226.parquet\"\n",
      "19:09:52 | INFO | \"Create new df for predictions...\"\n",
      "19:09:53 | INFO | \"Done with predictions\"\n",
      "19:09:53 | INFO | \"Saving prediction to: \n",
      "/home/jupyter/subreddit_clustering_i18n/data/models/pn_model/pn_manual_test_2023-06-01_190228/inference/pred-000000004226.parquet\"\n"
     ]
    }
   ],
   "source": [
    "# define inference path once so that it's the same for all output files\n",
    "path_this_model_inference = path_this_model / 'inference'\n",
    "\n",
    "for f_ in tqdm(f_list[:1]):\n",
    "    run_inference_on_one_file(\n",
    "        df_path=f_,\n",
    "        model_path=model_path,\n",
    "        path_output=path_this_model_inference,\n",
    "        l_ix_columns=l_ix_cols,\n",
    "        l_feature_columns=None,\n",
    "        verbose=False,\n",
    "    )"
   ]
  },
  {
   "cell_type": "code",
   "execution_count": 61,
   "id": "a6ae7cfc",
   "metadata": {},
   "outputs": [],
   "source": [
    "# !ls $path_this_model_inference"
   ]
  },
  {
   "cell_type": "code",
   "execution_count": 56,
   "id": "9281b8c5",
   "metadata": {},
   "outputs": [
    {
     "data": {
      "application/vnd.jupyter.widget-view+json": {
       "model_id": "8a46161181b14c68ac9a3cad2d872558",
       "version_major": 2,
       "version_minor": 0
      },
      "text/plain": [
       "  0%|          | 0/5000 [00:00<?, ?it/s]"
      ]
     },
     "metadata": {},
     "output_type": "display_data"
    }
   ],
   "source": [
    "# define inference path once so that it's the same for all output files\n",
    "path_this_model_inference = path_this_model / 'inference'\n",
    "\n",
    "# store all the delayed inference files in a list, then we'll compute the list values in parallel with dask\n",
    "l_inference_files = list()\n",
    "for f_ in tqdm(f_list):\n",
    "    l_inference_files.append(\n",
    "        dask.delayed(run_inference_on_one_file)(\n",
    "            df_path=f_,\n",
    "            model_path=model_path,\n",
    "            path_output=path_this_model_inference,\n",
    "            l_ix_columns=l_ix_cols,\n",
    "            l_feature_columns=None,\n",
    "            verbose=False,\n",
    "        )\n",
    "    )"
   ]
  },
  {
   "cell_type": "code",
   "execution_count": 59,
   "id": "59843475",
   "metadata": {},
   "outputs": [
    {
     "data": {
      "image/png": "[encoded data removed]",
      "text/plain": [
       "<IPython.core.display.Image object>"
      ]
     },
     "execution_count": 59,
     "metadata": {},
     "output_type": "execute_result"
    }
   ],
   "source": [
    "l_inference_files[0].visualize()"
   ]
  },
  {
   "cell_type": "markdown",
   "id": "30bed8ce",
   "metadata": {},
   "source": [
    "### Compute in parallel\n",
    "\n",
    "To check progress manually, we can run this command from the CLI to count the number of output files:\n",
    "\n",
    "```bash\n",
    "ls \"/home/jupyter/subreddit_clustering_i18n/data/models/pn_model/pn_manual_test_2023-06-01_190228/inference/\" -l | wc -l\n",
    "# 1473\n",
    "```"
   ]
  },
  {
   "cell_type": "code",
   "execution_count": 66,
   "id": "07670dfb",
   "metadata": {},
   "outputs": [],
   "source": [
    "%%time\n",
    "dask.compute(l_inference_files)\n",
    "# add print statement to prevent displaying a list of 5k None's\n",
    "print('')"
   ]
  },
  {
   "cell_type": "code",
   "execution_count": 67,
   "id": "cf2a0ed8",
   "metadata": {},
   "outputs": [
    {
     "name": "stdout",
     "output_type": "stream",
     "text": [
      "CPU times: user 11.8 ms, sys: 4.66 ms, total: 16.5 ms\n",
      "Wall time: 18.1 ms\n"
     ]
    },
    {
     "data": {
      "text/plain": [
       "5000"
      ]
     },
     "execution_count": 67,
     "metadata": {},
     "output_type": "execute_result"
    }
   ],
   "source": [
    "%%time\n",
    "\n",
    "l_inference_files_created = glob.glob(f\"{path_this_model_inference}/*.parquet\")\n",
    "len(l_inference_files_created)"
   ]
  },
  {
   "cell_type": "code",
   "execution_count": 69,
   "id": "fd97e6ae",
   "metadata": {},
   "outputs": [
    {
     "data": {
      "text/plain": [
       "['/home/jupyter/subreddit_clustering_i18n/data/models/pn_model/pn_manual_test_2023-06-01_190228/inference/pred-000000001444.parquet',\n",
       " '/home/jupyter/subreddit_clustering_i18n/data/models/pn_model/pn_manual_test_2023-06-01_190228/inference/pred-000000002951.parquet',\n",
       " '/home/jupyter/subreddit_clustering_i18n/data/models/pn_model/pn_manual_test_2023-06-01_190228/inference/pred-000000002408.parquet',\n",
       " '/home/jupyter/subreddit_clustering_i18n/data/models/pn_model/pn_manual_test_2023-06-01_190228/inference/pred-000000000405.parquet',\n",
       " '/home/jupyter/subreddit_clustering_i18n/data/models/pn_model/pn_manual_test_2023-06-01_190228/inference/pred-000000004227.parquet']"
      ]
     },
     "execution_count": 69,
     "metadata": {},
     "output_type": "execute_result"
    }
   ],
   "source": [
    "l_inference_files_created[:5]"
   ]
  },
  {
   "cell_type": "markdown",
   "id": "1a6b9d95",
   "metadata": {},
   "source": [
    "## Test load an inference file\n",
    "check column outputs"
   ]
  },
  {
   "cell_type": "code",
   "execution_count": 70,
   "id": "20fefe1f",
   "metadata": {},
   "outputs": [
    {
     "name": "stdout",
     "output_type": "stream",
     "text": [
      "CPU times: user 209 ms, sys: 102 ms, total: 312 ms\n",
      "Wall time: 225 ms\n"
     ]
    },
    {
     "data": {
      "text/plain": [
       "(462037, 7)"
      ]
     },
     "execution_count": 70,
     "metadata": {},
     "output_type": "execute_result"
    }
   ],
   "source": [
    "%%time\n",
    "df_inf_check = pd.read_parquet(\n",
    "    l_inference_files_created[0],\n",
    ")\n",
    "df_inf_check.shape"
   ]
  },
  {
   "cell_type": "code",
   "execution_count": 71,
   "id": "c9ab282c",
   "metadata": {},
   "outputs": [
    {
     "data": {
      "text/html": [
       "<div>\n",
       "<style scoped>\n",
       "    .dataframe tbody tr th:only-of-type {\n",
       "        vertical-align: middle;\n",
       "    }\n",
       "\n",
       "    .dataframe tbody tr th {\n",
       "        vertical-align: top;\n",
       "    }\n",
       "\n",
       "    .dataframe thead th {\n",
       "        text-align: right;\n",
       "    }\n",
       "</style>\n",
       "<table border=\"1\" class=\"dataframe\">\n",
       "  <thead>\n",
       "    <tr style=\"text-align: right;\">\n",
       "      <th></th>\n",
       "      <th>pt</th>\n",
       "      <th>target_subreddit</th>\n",
       "      <th>target_subreddit_id</th>\n",
       "      <th>subscribed</th>\n",
       "      <th>user_geo_country_code</th>\n",
       "      <th>user_id</th>\n",
       "      <th>click_proba</th>\n",
       "    </tr>\n",
       "  </thead>\n",
       "  <tbody>\n",
       "    <tr>\n",
       "      <th>0</th>\n",
       "      <td>2023-05-29</td>\n",
       "      <td>de</td>\n",
       "      <td>t5_22i0</td>\n",
       "      <td>0</td>\n",
       "      <td>DE</td>\n",
       "      <td>t2_6qk7v6ig</td>\n",
       "      <td>0.036486</td>\n",
       "    </tr>\n",
       "    <tr>\n",
       "      <th>1</th>\n",
       "      <td>2023-05-29</td>\n",
       "      <td>de</td>\n",
       "      <td>t5_22i0</td>\n",
       "      <td>1</td>\n",
       "      <td>DE</td>\n",
       "      <td>t2_c1h49ro6k</td>\n",
       "      <td>0.064660</td>\n",
       "    </tr>\n",
       "    <tr>\n",
       "      <th>2</th>\n",
       "      <td>2023-05-29</td>\n",
       "      <td>de</td>\n",
       "      <td>t5_22i0</td>\n",
       "      <td>0</td>\n",
       "      <td>DE</td>\n",
       "      <td>t2_9jzw7gih</td>\n",
       "      <td>0.082675</td>\n",
       "    </tr>\n",
       "    <tr>\n",
       "      <th>3</th>\n",
       "      <td>2023-05-29</td>\n",
       "      <td>de</td>\n",
       "      <td>t5_22i0</td>\n",
       "      <td>0</td>\n",
       "      <td>DE</td>\n",
       "      <td>t2_bbo3h71gh</td>\n",
       "      <td>0.060558</td>\n",
       "    </tr>\n",
       "    <tr>\n",
       "      <th>4</th>\n",
       "      <td>2023-05-29</td>\n",
       "      <td>de</td>\n",
       "      <td>t5_22i0</td>\n",
       "      <td>1</td>\n",
       "      <td>DE</td>\n",
       "      <td>t2_fjwzq8gk</td>\n",
       "      <td>0.044669</td>\n",
       "    </tr>\n",
       "  </tbody>\n",
       "</table>\n",
       "</div>"
      ],
      "text/plain": [
       "           pt target_subreddit target_subreddit_id  subscribed user_geo_country_code       user_id  click_proba\n",
       "0  2023-05-29               de             t5_22i0           0                    DE   t2_6qk7v6ig     0.036486\n",
       "1  2023-05-29               de             t5_22i0           1                    DE  t2_c1h49ro6k     0.064660\n",
       "2  2023-05-29               de             t5_22i0           0                    DE   t2_9jzw7gih     0.082675\n",
       "3  2023-05-29               de             t5_22i0           0                    DE  t2_bbo3h71gh     0.060558\n",
       "4  2023-05-29               de             t5_22i0           1                    DE   t2_fjwzq8gk     0.044669"
      ]
     },
     "execution_count": 71,
     "metadata": {},
     "output_type": "execute_result"
    }
   ],
   "source": [
    "df_inf_check.head()"
   ]
  },
  {
   "cell_type": "markdown",
   "id": "2c336082",
   "metadata": {},
   "source": [
    "## Upload predictions to GCS!\n",
    "From GCS we can load it into BigQuery for final ranking & reshaping"
   ]
  },
  {
   "cell_type": "code",
   "execution_count": 84,
   "id": "2e7f7265",
   "metadata": {},
   "outputs": [
    {
     "data": {
      "text/plain": [
       "PosixPath('/home/jupyter/subreddit_clustering_i18n/data/models/pn_model/pn_manual_test_2023-06-01_190228/inference')"
      ]
     },
     "execution_count": 84,
     "metadata": {},
     "output_type": "execute_result"
    }
   ],
   "source": [
    "path_this_model_inference"
   ]
  },
  {
   "cell_type": "code",
   "execution_count": 83,
   "id": "fc9477f3",
   "metadata": {},
   "outputs": [
    {
     "data": {
      "text/plain": [
       "'gs://i18n-subreddit-clustering/pn_model/runs/inference/20230529_sample_out/'"
      ]
     },
     "execution_count": 83,
     "metadata": {},
     "output_type": "execute_result"
    }
   ],
   "source": [
    "gcs_inference_out = f\"{gcs_inference.rstrip('/')}_out/\"\n",
    "gcs_inference_out"
   ]
  },
  {
   "cell_type": "code",
   "execution_count": 86,
   "id": "0b1578d8",
   "metadata": {},
   "outputs": [
    {
     "name": "stdout",
     "output_type": "stream",
     "text": [
      "gsutil -o GSUtil:parallel_thread_count=9 -o GSUtil:parallel_process_count=9 -m rsync -r -n /home/jupyter/subreddit_clustering_i18n/data/models/pn_model/pn_manual_test_2023-06-01_190228/inference gs://i18n-subreddit-clustering/pn_model/runs/inference/20230529_sample_out/\n",
      "\n",
      "\n",
      "gsutil -q -o GSUtil:parallel_thread_count=9 -o GSUtil:parallel_process_count=9 -m rsync -r /home/jupyter/subreddit_clustering_i18n/data/models/pn_model/pn_manual_test_2023-06-01_190228/inference gs://i18n-subreddit-clustering/pn_model/runs/inference/20230529_sample_out/\n",
      "\n",
      "\n",
      "gsutil -o GSUtil:parallel_thread_count=9 -o GSUtil:parallel_process_count=9 -m rsync -r /home/jupyter/subreddit_clustering_i18n/data/models/pn_model/pn_manual_test_2023-06-01_190228/inference gs://i18n-subreddit-clustering/pn_model/runs/inference/20230529_sample_out/\n"
     ]
    }
   ],
   "source": [
    "!echo gsutil -o GSUtil:parallel_thread_count=9 -o GSUtil:parallel_process_count=9 -m rsync -r -n $path_this_model_inference $gcs_inference_out\n",
    "print('\\n')\n",
    "\n",
    "!echo gsutil -q -o GSUtil:parallel_thread_count=9 -o GSUtil:parallel_process_count=9 -m rsync -r $path_this_model_inference $gcs_inference_out\n",
    "print('\\n')\n",
    "!echo gsutil -o GSUtil:parallel_thread_count=9 -o GSUtil:parallel_process_count=9 -m rsync -r $path_this_model_inference $gcs_inference_out "
   ]
  },
  {
   "cell_type": "markdown",
   "id": "caec0abd",
   "metadata": {},
   "source": [
    "## Upload preddictions to BigQuery\n",
    "\n",
    "By loading to a temp/staging table we can load data from multiple jobs in parallel and run the post-processing in BigQuery which will be faster than to customize in kubeflow\n",
    "\n",
    "ETA: 2 minutes for 5k files:\n",
    "```bash\n",
    "Waiting on bqjob_r849e6f491213b41_000001887911b6cf_1 ... (109s) Current status: DONE\n",
    "```"
   ]
  },
  {
   "cell_type": "code",
   "execution_count": 96,
   "id": "84a7f466",
   "metadata": {},
   "outputs": [
    {
     "name": "stdout",
     "output_type": "stream",
     "text": [
      "bq load --source_format=PARQUET --project_id=reddit-relevance tmp.i18n_pn_predictions_raw \"gs://i18n-subreddit-clustering/pn_model/runs/inference/20230529_sample_out/pred*.parquet\"\n",
      "CPU times: user 1.42 ms, sys: 332 ms, total: 334 ms\n",
      "Wall time: 622 ms\n"
     ]
    }
   ],
   "source": [
    "%%time\n",
    "\n",
    "## bq load works, but won't read the \"description\" or other nice metadata from parquet files\n",
    "!echo bq load \\\n",
    "    --source_format=PARQUET \\\n",
    "    --project_id=reddit-relevance \\\n",
    "    tmp.i18n_pn_predictions_raw \\\n",
    "    \\\"\"$gcs_inference_out\"pred*.parquet\\\""
   ]
  },
  {
   "cell_type": "code",
   "execution_count": 91,
   "id": "1968c169",
   "metadata": {},
   "outputs": [
    {
     "name": "stdout",
     "output_type": "stream",
     "text": [
      "BigQuery error in load operation: Access Denied: Project reddit-relevance: User\n",
      "does not have bigquery.jobs.create permission in project reddit-relevance.\n",
      "CPU times: user 20.1 ms, sys: 425 ms, total: 445 ms\n",
      "Wall time: 1.96 s\n"
     ]
    }
   ],
   "source": [
    "%%time\n",
    "\n",
    "!bq load \\\n",
    "    --source_format=PARQUET \\\n",
    "    --project_id=reddit-relevance \\\n",
    "    tmp.i18n_pn_predictions_raw \\\n",
    "    \"$gcs_inference_out\"pred*.parquet"
   ]
  },
  {
   "cell_type": "code",
   "execution_count": null,
   "id": "1dc7ba8b",
   "metadata": {},
   "outputs": [],
   "source": []
  },
  {
   "cell_type": "markdown",
   "id": "fdf1b4eb",
   "metadata": {},
   "source": [
    "# BigQuery processing\n",
    "- rank the users\n",
    "- reshape output\n",
    "- save to staging table"
   ]
  },
  {
   "cell_type": "code",
   "execution_count": null,
   "id": "2c1d8594",
   "metadata": {},
   "outputs": [],
   "source": []
  },
  {
   "cell_type": "code",
   "execution_count": null,
   "id": "065158a5",
   "metadata": {},
   "outputs": [],
   "source": []
  },
  {
   "cell_type": "markdown",
   "id": "652bb5d4",
   "metadata": {},
   "source": [
    "# Redefine BQ table with correct schema partition should NEVER be null!\n",
    "\n",
    "Updating with this schema fails... unclear why"
   ]
  },
  {
   "cell_type": "code",
   "execution_count": 104,
   "id": "7f17a83e",
   "metadata": {},
   "outputs": [],
   "source": [
    "from subclu.pn_models.bq_schemas import pn_model_schema\n",
    "from subclu.utils.big_query_utils import create_partitioned_table_if_not_exist"
   ]
  },
  {
   "cell_type": "code",
   "execution_count": 106,
   "id": "20fe6c36",
   "metadata": {},
   "outputs": [
    {
     "name": "stderr",
     "output_type": "stream",
     "text": [
      "02:58:22 | INFO | \"Updating subreddit description from:\n",
      "  Cache model output with the users most likely to click on a PN from a target subreddit + target country\n",
      "to:\n",
      "  Cache model output with the users most likely to click on a PN from a target subreddit + target country\"\n",
      "02:58:22 | INFO | \"Created table reddit-employee-datasets.david_bermejo.pn_model_output_20230601\"\n"
     ]
    },
    {
     "name": "stdout",
     "output_type": "stream",
     "text": [
      "CPU times: user 33.8 ms, sys: 641 ms, total: 674 ms\n",
      "Wall time: 3.14 s\n"
     ]
    }
   ],
   "source": [
    "%%time\n",
    "\n",
    "\n",
    "create_partitioned_table_if_not_exist(\n",
    "    bq_project='reddit-employee-datasets',\n",
    "    bq_dataset='david_bermejo',\n",
    "    bq_table_name='pn_model_output_20230601',\n",
    "    schema=pn_model_schema(),\n",
    "    partition_column='pt',\n",
    "    partition_expiration_days=60,\n",
    "    table_description=(\n",
    "        \"Cache model output with the users most likely to click on a PN from a target subreddit + target country\"\n",
    "    ),\n",
    ")"
   ]
  },
  {
   "cell_type": "code",
   "execution_count": 107,
   "id": "90c02a13",
   "metadata": {},
   "outputs": [
    {
     "name": "stderr",
     "output_type": "stream",
     "text": [
      "03:06:52 | INFO | \"Updating subreddit description from:\n",
      "  Cache model output with the users most likely to click on a PN from a target subreddit + target country\n",
      "to:\n",
      "  Cache model output with the users most likely to click on a PN from a target subreddit + target country\"\n",
      "03:06:53 | INFO | \"Created table reddit-growth-prod.pn_targeting.pn_model_subreddit_user_click_v1\"\n"
     ]
    },
    {
     "name": "stdout",
     "output_type": "stream",
     "text": [
      "CPU times: user 28 ms, sys: 760 ms, total: 788 ms\n",
      "Wall time: 3.29 s\n"
     ]
    }
   ],
   "source": [
    "# %%time\n",
    "\n",
    "# unclear why creating the table with this schema results in a __NULL__ partition ID when we update the table... sigh\n",
    "# create_partitioned_table_if_not_exist(\n",
    "#     bq_project='reddit-growth-prod',\n",
    "#     bq_dataset='pn_targeting',\n",
    "#     bq_table_name='pn_model_subreddit_user_click_v1',\n",
    "#     schema=pn_model_schema(),\n",
    "#     partition_column='pt',\n",
    "#     partition_expiration_days=45,\n",
    "#     table_description=(\n",
    "#         \"Cache model output with the users most likely to click on a PN from a target subreddit + target country\"\n",
    "#     ),\n",
    "# )"
   ]
  },
  {
   "cell_type": "code",
   "execution_count": null,
   "id": "b811e876",
   "metadata": {},
   "outputs": [],
   "source": []
  },
  {
   "cell_type": "code",
   "execution_count": null,
   "id": "f45307e4",
   "metadata": {},
   "outputs": [],
   "source": []
  }
 ],
 "metadata": {
  "environment": {
   "name": "common-cpu.m65",
   "type": "gcloud",
   "uri": "gcr.io/deeplearning-platform-release/base-cpu:m65"
  },
  "kernelspec": {
   "display_name": "Python 3",
   "language": "python",
   "name": "python3"
  },
  "language_info": {
   "codemirror_mode": {
    "name": "ipython",
    "version": 3
   },
   "file_extension": ".py",
   "mimetype": "text/x-python",
   "name": "python",
   "nbconvert_exporter": "python",
   "pygments_lexer": "ipython3",
   "version": "3.7.10"
  }
 },
 "nbformat": 4,
 "nbformat_minor": 5
}
