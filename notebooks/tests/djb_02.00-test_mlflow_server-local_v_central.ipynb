{
 "cells": [
  {
   "cell_type": "markdown",
   "id": "5929f2e2",
   "metadata": {},
   "source": [
    "# Purpose\n",
    "Test mlflow location utils before kicking off multiple jobs.\n"
   ]
  },
  {
   "cell_type": "markdown",
   "id": "3e515f05",
   "metadata": {},
   "source": [
    "# Notebook setup"
   ]
  },
  {
   "cell_type": "code",
   "execution_count": 1,
   "id": "f79993de",
   "metadata": {},
   "outputs": [],
   "source": [
    "%load_ext autoreload\n",
    "%autoreload 2"
   ]
  },
  {
   "cell_type": "code",
   "execution_count": 2,
   "id": "fe1c2e1a",
   "metadata": {},
   "outputs": [
    {
     "name": "stdout",
     "output_type": "stream",
     "text": [
      "python\t\tv 3.7.10\n",
      "===\n",
      "mlflow\t\tv: 1.16.0\n",
      "numpy\t\tv: 1.19.5\n",
      "pandas\t\tv: 1.2.4\n",
      "subclu\t\tv: 0.1.2\n"
     ]
    }
   ],
   "source": [
    "from datetime import datetime\n",
    "import logging\n",
    "from pathlib import Path\n",
    "\n",
    "import mlflow\n",
    "import numpy as np\n",
    "import pandas as pd\n",
    "\n",
    "import subclu\n",
    "from subclu.utils.mlflow_logger import MlflowLogger\n",
    "from subclu.utils.eda import (\n",
    "    print_lib_versions, setup_logging, notebook_display_config, \n",
    ")\n",
    "\n",
    "\n",
    "print_lib_versions([mlflow, np, pd, subclu])"
   ]
  },
  {
   "cell_type": "code",
   "execution_count": 3,
   "id": "eac80512",
   "metadata": {},
   "outputs": [],
   "source": [
    "# plotting\n",
    "import matplotlib.pyplot as plt\n",
    "import matplotlib.ticker as mtick\n",
    "import matplotlib.dates as mdates\n",
    "plt.style.use('default')\n",
    "\n",
    "setup_logging()\n",
    "notebook_display_config()"
   ]
  },
  {
   "cell_type": "markdown",
   "id": "3dec19a4",
   "metadata": {},
   "source": [
    "# Check mlflow location"
   ]
  },
  {
   "cell_type": "markdown",
   "id": "943cb7c2",
   "metadata": {},
   "source": [
    "## Default (without a server)\n",
    "By default, mlflow will save all data to local files & folders."
   ]
  },
  {
   "cell_type": "code",
   "execution_count": 4,
   "id": "328f93ce",
   "metadata": {},
   "outputs": [
    {
     "data": {
      "text/plain": [
       "'file:///home/jupyter/subreddit_clustering_i18n/notebooks/tests/mlruns'"
      ]
     },
     "execution_count": 4,
     "metadata": {},
     "output_type": "execute_result"
    }
   ],
   "source": [
    "mlflow.get_tracking_uri()"
   ]
  },
  {
   "cell_type": "markdown",
   "id": "ade2b43a",
   "metadata": {},
   "source": [
    "## But with my `MlflowLogger` class, I can set it to a local sqlite database"
   ]
  },
  {
   "cell_type": "code",
   "execution_count": 5,
   "id": "bdeead85",
   "metadata": {},
   "outputs": [
    {
     "data": {
      "text/plain": [
       "'sqlite:////home/jupyter/mlflow/mlruns.db'"
      ]
     },
     "execution_count": 5,
     "metadata": {},
     "output_type": "execute_result"
    }
   ],
   "source": [
    "mlf = MlflowLogger(tracking_uri='sqlite')\n",
    "mlflow.get_tracking_uri()"
   ]
  },
  {
   "cell_type": "markdown",
   "id": "422df852",
   "metadata": {},
   "source": [
    "# Get list of experiments with new function\n",
    "With my custom class, it's easier to pull data from the mlflow database"
   ]
  },
  {
   "cell_type": "markdown",
   "id": "dd0caf56",
   "metadata": {},
   "source": [
    "## As list"
   ]
  },
  {
   "cell_type": "code",
   "execution_count": 6,
   "id": "877ef6ee",
   "metadata": {},
   "outputs": [
    {
     "data": {
      "text/plain": [
       "[{'experiment_id': '0',\n",
       "  'name': 'Default',\n",
       "  'artifact_location': './mlruns/0',\n",
       "  'lifecycle_stage': 'active'},\n",
       " {'experiment_id': '1',\n",
       "  'name': 'fse_v1',\n",
       "  'artifact_location': 'gs://i18n-subreddit-clustering/mlflow/mlruns/1',\n",
       "  'lifecycle_stage': 'active'},\n",
       " {'experiment_id': '2',\n",
       "  'name': 'fse_vectorize_v1',\n",
       "  'artifact_location': 'gs://i18n-subreddit-clustering/mlflow/mlruns/2',\n",
       "  'lifecycle_stage': 'active'},\n",
       " {'experiment_id': '3',\n",
       "  'name': 'subreddit_description_v1',\n",
       "  'artifact_location': 'gs://i18n-subreddit-clustering/mlflow/mlruns/3',\n",
       "  'lifecycle_stage': 'active'},\n",
       " {'experiment_id': '4',\n",
       "  'name': 'fse_vectorize_v1.1',\n",
       "  'artifact_location': 'gs://i18n-subreddit-clustering/mlflow/mlruns/4',\n",
       "  'lifecycle_stage': 'active',\n",
       "  'tags': [{'key': 'mlflow.note.content', 'value': 'Posts & comments.'}]},\n",
       " {'experiment_id': '5',\n",
       "  'name': 'use_multilingual_v0.1_test',\n",
       "  'artifact_location': 'gs://i18n-subreddit-clustering/mlflow/mlruns/5',\n",
       "  'lifecycle_stage': 'active'},\n",
       " {'experiment_id': '6',\n",
       "  'name': 'use_multilingual_v1',\n",
       "  'artifact_location': 'gs://i18n-subreddit-clustering/mlflow/mlruns/6',\n",
       "  'lifecycle_stage': 'active'}]"
      ]
     },
     "execution_count": 6,
     "metadata": {},
     "output_type": "execute_result"
    }
   ],
   "source": [
    "mlf.list_experiment_meta()"
   ]
  },
  {
   "cell_type": "markdown",
   "id": "59c9608a",
   "metadata": {},
   "source": [
    "## As df"
   ]
  },
  {
   "cell_type": "code",
   "execution_count": 7,
   "id": "9f14c4f3",
   "metadata": {},
   "outputs": [
    {
     "data": {
      "text/html": [
       "<div>\n",
       "<style scoped>\n",
       "    .dataframe tbody tr th:only-of-type {\n",
       "        vertical-align: middle;\n",
       "    }\n",
       "\n",
       "    .dataframe tbody tr th {\n",
       "        vertical-align: top;\n",
       "    }\n",
       "\n",
       "    .dataframe thead th {\n",
       "        text-align: right;\n",
       "    }\n",
       "</style>\n",
       "<table border=\"1\" class=\"dataframe\">\n",
       "  <thead>\n",
       "    <tr style=\"text-align: right;\">\n",
       "      <th></th>\n",
       "      <th>experiment_id</th>\n",
       "      <th>name</th>\n",
       "      <th>artifact_location</th>\n",
       "      <th>lifecycle_stage</th>\n",
       "      <th>tags</th>\n",
       "    </tr>\n",
       "  </thead>\n",
       "  <tbody>\n",
       "    <tr>\n",
       "      <th>0</th>\n",
       "      <td>0</td>\n",
       "      <td>Default</td>\n",
       "      <td>./mlruns/0</td>\n",
       "      <td>active</td>\n",
       "      <td>NaN</td>\n",
       "    </tr>\n",
       "    <tr>\n",
       "      <th>1</th>\n",
       "      <td>1</td>\n",
       "      <td>fse_v1</td>\n",
       "      <td>gs://i18n-subreddit-clustering/mlflow/mlruns/1</td>\n",
       "      <td>active</td>\n",
       "      <td>NaN</td>\n",
       "    </tr>\n",
       "    <tr>\n",
       "      <th>2</th>\n",
       "      <td>2</td>\n",
       "      <td>fse_vectorize_v1</td>\n",
       "      <td>gs://i18n-subreddit-clustering/mlflow/mlruns/2</td>\n",
       "      <td>active</td>\n",
       "      <td>NaN</td>\n",
       "    </tr>\n",
       "    <tr>\n",
       "      <th>3</th>\n",
       "      <td>3</td>\n",
       "      <td>subreddit_description_v1</td>\n",
       "      <td>gs://i18n-subreddit-clustering/mlflow/mlruns/3</td>\n",
       "      <td>active</td>\n",
       "      <td>NaN</td>\n",
       "    </tr>\n",
       "    <tr>\n",
       "      <th>4</th>\n",
       "      <td>4</td>\n",
       "      <td>fse_vectorize_v1.1</td>\n",
       "      <td>gs://i18n-subreddit-clustering/mlflow/mlruns/4</td>\n",
       "      <td>active</td>\n",
       "      <td>[{'key': 'mlflow.note.content', 'value': 'Posts &amp; comments.'}]</td>\n",
       "    </tr>\n",
       "    <tr>\n",
       "      <th>5</th>\n",
       "      <td>5</td>\n",
       "      <td>use_multilingual_v0.1_test</td>\n",
       "      <td>gs://i18n-subreddit-clustering/mlflow/mlruns/5</td>\n",
       "      <td>active</td>\n",
       "      <td>NaN</td>\n",
       "    </tr>\n",
       "    <tr>\n",
       "      <th>6</th>\n",
       "      <td>6</td>\n",
       "      <td>use_multilingual_v1</td>\n",
       "      <td>gs://i18n-subreddit-clustering/mlflow/mlruns/6</td>\n",
       "      <td>active</td>\n",
       "      <td>NaN</td>\n",
       "    </tr>\n",
       "  </tbody>\n",
       "</table>\n",
       "</div>"
      ],
      "text/plain": [
       "  experiment_id                        name                               artifact_location lifecycle_stage                                                            tags\n",
       "0             0                     Default                                      ./mlruns/0          active                                                             NaN\n",
       "1             1                      fse_v1  gs://i18n-subreddit-clustering/mlflow/mlruns/1          active                                                             NaN\n",
       "2             2            fse_vectorize_v1  gs://i18n-subreddit-clustering/mlflow/mlruns/2          active                                                             NaN\n",
       "3             3    subreddit_description_v1  gs://i18n-subreddit-clustering/mlflow/mlruns/3          active                                                             NaN\n",
       "4             4          fse_vectorize_v1.1  gs://i18n-subreddit-clustering/mlflow/mlruns/4          active  [{'key': 'mlflow.note.content', 'value': 'Posts & comments.'}]\n",
       "5             5  use_multilingual_v0.1_test  gs://i18n-subreddit-clustering/mlflow/mlruns/5          active                                                             NaN\n",
       "6             6         use_multilingual_v1  gs://i18n-subreddit-clustering/mlflow/mlruns/6          active                                                             NaN"
      ]
     },
     "execution_count": 7,
     "metadata": {},
     "output_type": "execute_result"
    }
   ],
   "source": [
    "mlf.list_experiment_meta(output_format='pandas')"
   ]
  },
  {
   "cell_type": "markdown",
   "id": "0d407b39",
   "metadata": {},
   "source": [
    "# Get run metadata"
   ]
  },
  {
   "cell_type": "markdown",
   "id": "9b501f2b",
   "metadata": {},
   "source": [
    "## For a specific experiment ID (or multiple IDs)"
   ]
  },
  {
   "cell_type": "code",
   "execution_count": 8,
   "id": "c5e77672",
   "metadata": {},
   "outputs": [
    {
     "data": {
      "text/html": [
       "<div>\n",
       "<style scoped>\n",
       "    .dataframe tbody tr th:only-of-type {\n",
       "        vertical-align: middle;\n",
       "    }\n",
       "\n",
       "    .dataframe tbody tr th {\n",
       "        vertical-align: top;\n",
       "    }\n",
       "\n",
       "    .dataframe thead th {\n",
       "        text-align: right;\n",
       "    }\n",
       "</style>\n",
       "<table border=\"1\" class=\"dataframe\">\n",
       "  <thead>\n",
       "    <tr style=\"text-align: right;\">\n",
       "      <th></th>\n",
       "      <th>run_id</th>\n",
       "      <th>experiment_id</th>\n",
       "      <th>status</th>\n",
       "      <th>artifact_uri</th>\n",
       "      <th>start_time</th>\n",
       "      <th>end_time</th>\n",
       "      <th>metrics.training_docs_count</th>\n",
       "      <th>metrics.df_posts_len</th>\n",
       "      <th>metrics.vectorizing_time_minutes</th>\n",
       "      <th>metrics.df_comments_len</th>\n",
       "      <th>params.posts_path</th>\n",
       "      <th>params.bucket_name</th>\n",
       "      <th>params.train_min_word_count</th>\n",
       "      <th>params.preprocess_text_folder</th>\n",
       "      <th>params.col_text_comment</th>\n",
       "      <th>params.tokenize_function</th>\n",
       "      <th>params.col_text_comment_word_count</th>\n",
       "      <th>params.col_text_post_url</th>\n",
       "      <th>params.col_subreddit_id</th>\n",
       "      <th>params.subreddits_path</th>\n",
       "      <th>params.training_data</th>\n",
       "      <th>params.tokenize_lowercase</th>\n",
       "      <th>params.train_use_comments</th>\n",
       "      <th>params.col_text_subreddit_description</th>\n",
       "      <th>params.train_exclude_duplicated_docs</th>\n",
       "      <th>params.col_post_id</th>\n",
       "      <th>params.col_text_post</th>\n",
       "      <th>params.col_comment_id</th>\n",
       "      <th>params.comments_path</th>\n",
       "      <th>params.model_name</th>\n",
       "      <th>params.col_text_subreddit_word_count</th>\n",
       "      <th>params.col_text_post_word_count</th>\n",
       "      <th>tags.mlflow.user</th>\n",
       "      <th>tags.mlflow.source.name</th>\n",
       "      <th>tags.mlflow.source.git.commit</th>\n",
       "      <th>tags.mlflow.source.type</th>\n",
       "    </tr>\n",
       "  </thead>\n",
       "  <tbody>\n",
       "    <tr>\n",
       "      <th>0</th>\n",
       "      <td>aac3e007dfc2446790e25887adf287f6</td>\n",
       "      <td>4</td>\n",
       "      <td>FINISHED</td>\n",
       "      <td>gs://i18n-subreddit-clustering/mlflow/mlruns/4/aac3e007dfc2446790e25887adf287f6/artifacts</td>\n",
       "      <td>2021-06-02 07:50:12.635000+00:00</td>\n",
       "      <td>2021-06-02 07:53:23.837000+00:00</td>\n",
       "      <td>43452.0</td>\n",
       "      <td>111669.0</td>\n",
       "      <td>3.381014</td>\n",
       "      <td>638052.0</td>\n",
       "      <td>posts/2021-05-19</td>\n",
       "      <td>i18n-subreddit-clustering</td>\n",
       "      <td>4</td>\n",
       "      <td>None</td>\n",
       "      <td>comment_body_text</td>\n",
       "      <td>gensim</td>\n",
       "      <td>comment_text_word_count</td>\n",
       "      <td>post_url_for_embeddings</td>\n",
       "      <td>subreddit_id</td>\n",
       "      <td>None</td>\n",
       "      <td>post_title_and_body</td>\n",
       "      <td>False</td>\n",
       "      <td>False</td>\n",
       "      <td>subreddit_name_title_and_clean_descriptions</td>\n",
       "      <td>True</td>\n",
       "      <td>post_id</td>\n",
       "      <td>text</td>\n",
       "      <td>comment_id</td>\n",
       "      <td>comments/2021-05-19</td>\n",
       "      <td>fasttext_usif_de</td>\n",
       "      <td>subreddit_name_title_and_clean_descriptions_word_count</td>\n",
       "      <td>text_word_count</td>\n",
       "      <td>jupyter</td>\n",
       "      <td>/opt/conda/lib/python3.7/site-packages/ipykernel_launcher.py</td>\n",
       "      <td>578a60e37c39cfd2a09de1da8a41ec9f9b76befd</td>\n",
       "      <td>LOCAL</td>\n",
       "    </tr>\n",
       "    <tr>\n",
       "      <th>1</th>\n",
       "      <td>ecb1e4292c8b43159c8e982b75bb7988</td>\n",
       "      <td>4</td>\n",
       "      <td>FINISHED</td>\n",
       "      <td>gs://i18n-subreddit-clustering/mlflow/mlruns/4/ecb1e4292c8b43159c8e982b75bb7988/artifacts</td>\n",
       "      <td>2021-06-02 07:50:00.233000+00:00</td>\n",
       "      <td>2021-06-02 07:53:14.996000+00:00</td>\n",
       "      <td>31790.0</td>\n",
       "      <td>111669.0</td>\n",
       "      <td>3.517798</td>\n",
       "      <td>638052.0</td>\n",
       "      <td>posts/2021-05-19</td>\n",
       "      <td>i18n-subreddit-clustering</td>\n",
       "      <td>4</td>\n",
       "      <td>None</td>\n",
       "      <td>comment_body_text</td>\n",
       "      <td>gensim</td>\n",
       "      <td>comment_text_word_count</td>\n",
       "      <td>post_url_for_embeddings</td>\n",
       "      <td>subreddit_id</td>\n",
       "      <td>None</td>\n",
       "      <td>post_title_and_body</td>\n",
       "      <td>False</td>\n",
       "      <td>False</td>\n",
       "      <td>subreddit_name_title_and_clean_descriptions</td>\n",
       "      <td>True</td>\n",
       "      <td>post_id</td>\n",
       "      <td>text</td>\n",
       "      <td>comment_id</td>\n",
       "      <td>comments/2021-05-19</td>\n",
       "      <td>fasttext_usif_de</td>\n",
       "      <td>subreddit_name_title_and_clean_descriptions_word_count</td>\n",
       "      <td>text_word_count</td>\n",
       "      <td>jupyter</td>\n",
       "      <td>/opt/conda/lib/python3.7/site-packages/ipykernel_launcher.py</td>\n",
       "      <td>578a60e37c39cfd2a09de1da8a41ec9f9b76befd</td>\n",
       "      <td>LOCAL</td>\n",
       "    </tr>\n",
       "    <tr>\n",
       "      <th>2</th>\n",
       "      <td>7052ba2c99c5454f9a29d662fc9e40aa</td>\n",
       "      <td>4</td>\n",
       "      <td>FINISHED</td>\n",
       "      <td>gs://i18n-subreddit-clustering/mlflow/mlruns/4/7052ba2c99c5454f9a29d662fc9e40aa/artifacts</td>\n",
       "      <td>2021-06-02 07:46:14.355000+00:00</td>\n",
       "      <td>2021-06-02 07:49:59.094000+00:00</td>\n",
       "      <td>43452.0</td>\n",
       "      <td>111669.0</td>\n",
       "      <td>3.934723</td>\n",
       "      <td>638052.0</td>\n",
       "      <td>posts/2021-05-19</td>\n",
       "      <td>i18n-subreddit-clustering</td>\n",
       "      <td>4</td>\n",
       "      <td>None</td>\n",
       "      <td>comment_body_text</td>\n",
       "      <td>gensim</td>\n",
       "      <td>comment_text_word_count</td>\n",
       "      <td>post_url_for_embeddings</td>\n",
       "      <td>subreddit_id</td>\n",
       "      <td>None</td>\n",
       "      <td>post_title_and_body</td>\n",
       "      <td>True</td>\n",
       "      <td>False</td>\n",
       "      <td>subreddit_name_title_and_clean_descriptions</td>\n",
       "      <td>True</td>\n",
       "      <td>post_id</td>\n",
       "      <td>text</td>\n",
       "      <td>comment_id</td>\n",
       "      <td>comments/2021-05-19</td>\n",
       "      <td>fasttext_usif_de</td>\n",
       "      <td>subreddit_name_title_and_clean_descriptions_word_count</td>\n",
       "      <td>text_word_count</td>\n",
       "      <td>jupyter</td>\n",
       "      <td>/opt/conda/lib/python3.7/site-packages/ipykernel_launcher.py</td>\n",
       "      <td>578a60e37c39cfd2a09de1da8a41ec9f9b76befd</td>\n",
       "      <td>LOCAL</td>\n",
       "    </tr>\n",
       "    <tr>\n",
       "      <th>3</th>\n",
       "      <td>fcd57925c012414491f90c29df5bc7d1</td>\n",
       "      <td>4</td>\n",
       "      <td>FINISHED</td>\n",
       "      <td>gs://i18n-subreddit-clustering/mlflow/mlruns/4/fcd57925c012414491f90c29df5bc7d1/artifacts</td>\n",
       "      <td>2021-06-02 07:45:59.736000+00:00</td>\n",
       "      <td>2021-06-02 07:49:42.134000+00:00</td>\n",
       "      <td>31790.0</td>\n",
       "      <td>111669.0</td>\n",
       "      <td>3.915259</td>\n",
       "      <td>638052.0</td>\n",
       "      <td>posts/2021-05-19</td>\n",
       "      <td>i18n-subreddit-clustering</td>\n",
       "      <td>4</td>\n",
       "      <td>None</td>\n",
       "      <td>comment_body_text</td>\n",
       "      <td>gensim</td>\n",
       "      <td>comment_text_word_count</td>\n",
       "      <td>post_url_for_embeddings</td>\n",
       "      <td>subreddit_id</td>\n",
       "      <td>None</td>\n",
       "      <td>post_title_and_body</td>\n",
       "      <td>True</td>\n",
       "      <td>False</td>\n",
       "      <td>subreddit_name_title_and_clean_descriptions</td>\n",
       "      <td>True</td>\n",
       "      <td>post_id</td>\n",
       "      <td>text</td>\n",
       "      <td>comment_id</td>\n",
       "      <td>comments/2021-05-19</td>\n",
       "      <td>fasttext_usif_de</td>\n",
       "      <td>subreddit_name_title_and_clean_descriptions_word_count</td>\n",
       "      <td>text_word_count</td>\n",
       "      <td>jupyter</td>\n",
       "      <td>/opt/conda/lib/python3.7/site-packages/ipykernel_launcher.py</td>\n",
       "      <td>578a60e37c39cfd2a09de1da8a41ec9f9b76befd</td>\n",
       "      <td>LOCAL</td>\n",
       "    </tr>\n",
       "    <tr>\n",
       "      <th>4</th>\n",
       "      <td>1a57bdc48f6d42009ce2fccb6d850021</td>\n",
       "      <td>4</td>\n",
       "      <td>KILLED</td>\n",
       "      <td>gs://i18n-subreddit-clustering/mlflow/mlruns/4/1a57bdc48f6d42009ce2fccb6d850021/artifacts</td>\n",
       "      <td>2021-06-02 07:41:48.367000+00:00</td>\n",
       "      <td>2021-06-02 07:46:02.572000+00:00</td>\n",
       "      <td>43452.0</td>\n",
       "      <td>NaN</td>\n",
       "      <td>NaN</td>\n",
       "      <td>NaN</td>\n",
       "      <td>posts/2021-05-19</td>\n",
       "      <td>i18n-subreddit-clustering</td>\n",
       "      <td>4</td>\n",
       "      <td>None</td>\n",
       "      <td>comment_body_text</td>\n",
       "      <td>gensim</td>\n",
       "      <td>comment_text_word_count</td>\n",
       "      <td>post_url_for_embeddings</td>\n",
       "      <td>subreddit_id</td>\n",
       "      <td>None</td>\n",
       "      <td>post_title_and_body</td>\n",
       "      <td>True</td>\n",
       "      <td>False</td>\n",
       "      <td>subreddit_name_title_and_clean_descriptions</td>\n",
       "      <td>True</td>\n",
       "      <td>post_id</td>\n",
       "      <td>text</td>\n",
       "      <td>comment_id</td>\n",
       "      <td>comments/2021-05-19</td>\n",
       "      <td>fasttext_usif_de</td>\n",
       "      <td>subreddit_name_title_and_clean_descriptions_word_count</td>\n",
       "      <td>text_word_count</td>\n",
       "      <td>jupyter</td>\n",
       "      <td>/opt/conda/lib/python3.7/site-packages/ipykernel_launcher.py</td>\n",
       "      <td>de59320181d67c9d75c3db7ab19d07283b587a54</td>\n",
       "      <td>LOCAL</td>\n",
       "    </tr>\n",
       "    <tr>\n",
       "      <th>5</th>\n",
       "      <td>87471c528fb54ccba18b317322d7aace</td>\n",
       "      <td>4</td>\n",
       "      <td>KILLED</td>\n",
       "      <td>gs://i18n-subreddit-clustering/mlflow/mlruns/4/87471c528fb54ccba18b317322d7aace/artifacts</td>\n",
       "      <td>2021-06-02 07:41:11.661000+00:00</td>\n",
       "      <td>2021-06-02 07:45:47.102000+00:00</td>\n",
       "      <td>31790.0</td>\n",
       "      <td>NaN</td>\n",
       "      <td>NaN</td>\n",
       "      <td>NaN</td>\n",
       "      <td>posts/2021-05-19</td>\n",
       "      <td>i18n-subreddit-clustering</td>\n",
       "      <td>4</td>\n",
       "      <td>None</td>\n",
       "      <td>comment_body_text</td>\n",
       "      <td>gensim</td>\n",
       "      <td>comment_text_word_count</td>\n",
       "      <td>post_url_for_embeddings</td>\n",
       "      <td>subreddit_id</td>\n",
       "      <td>None</td>\n",
       "      <td>post_title_and_body</td>\n",
       "      <td>True</td>\n",
       "      <td>False</td>\n",
       "      <td>subreddit_name_title_and_clean_descriptions</td>\n",
       "      <td>True</td>\n",
       "      <td>post_id</td>\n",
       "      <td>text</td>\n",
       "      <td>comment_id</td>\n",
       "      <td>comments/2021-05-19</td>\n",
       "      <td>fasttext_usif_de</td>\n",
       "      <td>subreddit_name_title_and_clean_descriptions_word_count</td>\n",
       "      <td>text_word_count</td>\n",
       "      <td>jupyter</td>\n",
       "      <td>/opt/conda/lib/python3.7/site-packages/ipykernel_launcher.py</td>\n",
       "      <td>de59320181d67c9d75c3db7ab19d07283b587a54</td>\n",
       "      <td>LOCAL</td>\n",
       "    </tr>\n",
       "    <tr>\n",
       "      <th>6</th>\n",
       "      <td>61e5d620095e491b8bff72895e8b9855</td>\n",
       "      <td>4</td>\n",
       "      <td>KILLED</td>\n",
       "      <td>gs://i18n-subreddit-clustering/mlflow/mlruns/4/61e5d620095e491b8bff72895e8b9855/artifacts</td>\n",
       "      <td>2021-06-02 07:28:36.526000+00:00</td>\n",
       "      <td>2021-06-02 07:40:57.756000+00:00</td>\n",
       "      <td>31790.0</td>\n",
       "      <td>NaN</td>\n",
       "      <td>NaN</td>\n",
       "      <td>NaN</td>\n",
       "      <td>posts/2021-05-19</td>\n",
       "      <td>i18n-subreddit-clustering</td>\n",
       "      <td>4</td>\n",
       "      <td>None</td>\n",
       "      <td>comment_body_text</td>\n",
       "      <td>gensim</td>\n",
       "      <td>comment_text_word_count</td>\n",
       "      <td>post_url_for_embeddings</td>\n",
       "      <td>subreddit_id</td>\n",
       "      <td>None</td>\n",
       "      <td>post_title_and_body</td>\n",
       "      <td>True</td>\n",
       "      <td>False</td>\n",
       "      <td>subreddit_name_title_and_clean_descriptions</td>\n",
       "      <td>True</td>\n",
       "      <td>post_id</td>\n",
       "      <td>text</td>\n",
       "      <td>comment_id</td>\n",
       "      <td>comments/2021-05-19</td>\n",
       "      <td>fasttext_usif_de</td>\n",
       "      <td>subreddit_name_title_and_clean_descriptions_word_count</td>\n",
       "      <td>text_word_count</td>\n",
       "      <td>jupyter</td>\n",
       "      <td>/opt/conda/lib/python3.7/site-packages/ipykernel_launcher.py</td>\n",
       "      <td>5f40b761b8590860951ad603d6806efff5cb2eed</td>\n",
       "      <td>LOCAL</td>\n",
       "    </tr>\n",
       "    <tr>\n",
       "      <th>7</th>\n",
       "      <td>3bf280ee76fc4595afc5e8cbaaf79a7d</td>\n",
       "      <td>4</td>\n",
       "      <td>FINISHED</td>\n",
       "      <td>gs://i18n-subreddit-clustering/mlflow/mlruns/4/3bf280ee76fc4595afc5e8cbaaf79a7d/artifacts</td>\n",
       "      <td>2021-06-02 07:25:30.227000+00:00</td>\n",
       "      <td>2021-06-02 07:28:22.093000+00:00</td>\n",
       "      <td>31790.0</td>\n",
       "      <td>111669.0</td>\n",
       "      <td>3.090045</td>\n",
       "      <td>638052.0</td>\n",
       "      <td>posts/2021-05-19</td>\n",
       "      <td>i18n-subreddit-clustering</td>\n",
       "      <td>4</td>\n",
       "      <td>None</td>\n",
       "      <td>comment_body_text</td>\n",
       "      <td>sklearn_acronyms_emoji</td>\n",
       "      <td>comment_text_word_count</td>\n",
       "      <td>post_url_for_embeddings</td>\n",
       "      <td>subreddit_id</td>\n",
       "      <td>None</td>\n",
       "      <td>post_title_and_body</td>\n",
       "      <td>True</td>\n",
       "      <td>False</td>\n",
       "      <td>subreddit_name_title_and_clean_descriptions</td>\n",
       "      <td>True</td>\n",
       "      <td>post_id</td>\n",
       "      <td>text</td>\n",
       "      <td>comment_id</td>\n",
       "      <td>comments/2021-05-19</td>\n",
       "      <td>fasttext_usif_de</td>\n",
       "      <td>subreddit_name_title_and_clean_descriptions_word_count</td>\n",
       "      <td>text_word_count</td>\n",
       "      <td>jupyter</td>\n",
       "      <td>/opt/conda/lib/python3.7/site-packages/ipykernel_launcher.py</td>\n",
       "      <td>5f40b761b8590860951ad603d6806efff5cb2eed</td>\n",
       "      <td>LOCAL</td>\n",
       "    </tr>\n",
       "  </tbody>\n",
       "</table>\n",
       "</div>"
      ],
      "text/plain": [
       "                             run_id experiment_id    status                                                                               artifact_uri                       start_time                         end_time  metrics.training_docs_count  metrics.df_posts_len  \\\n",
       "0  aac3e007dfc2446790e25887adf287f6             4  FINISHED  gs://i18n-subreddit-clustering/mlflow/mlruns/4/aac3e007dfc2446790e25887adf287f6/artifacts 2021-06-02 07:50:12.635000+00:00 2021-06-02 07:53:23.837000+00:00                      43452.0              111669.0   \n",
       "1  ecb1e4292c8b43159c8e982b75bb7988             4  FINISHED  gs://i18n-subreddit-clustering/mlflow/mlruns/4/ecb1e4292c8b43159c8e982b75bb7988/artifacts 2021-06-02 07:50:00.233000+00:00 2021-06-02 07:53:14.996000+00:00                      31790.0              111669.0   \n",
       "2  7052ba2c99c5454f9a29d662fc9e40aa             4  FINISHED  gs://i18n-subreddit-clustering/mlflow/mlruns/4/7052ba2c99c5454f9a29d662fc9e40aa/artifacts 2021-06-02 07:46:14.355000+00:00 2021-06-02 07:49:59.094000+00:00                      43452.0              111669.0   \n",
       "3  fcd57925c012414491f90c29df5bc7d1             4  FINISHED  gs://i18n-subreddit-clustering/mlflow/mlruns/4/fcd57925c012414491f90c29df5bc7d1/artifacts 2021-06-02 07:45:59.736000+00:00 2021-06-02 07:49:42.134000+00:00                      31790.0              111669.0   \n",
       "4  1a57bdc48f6d42009ce2fccb6d850021             4    KILLED  gs://i18n-subreddit-clustering/mlflow/mlruns/4/1a57bdc48f6d42009ce2fccb6d850021/artifacts 2021-06-02 07:41:48.367000+00:00 2021-06-02 07:46:02.572000+00:00                      43452.0                   NaN   \n",
       "5  87471c528fb54ccba18b317322d7aace             4    KILLED  gs://i18n-subreddit-clustering/mlflow/mlruns/4/87471c528fb54ccba18b317322d7aace/artifacts 2021-06-02 07:41:11.661000+00:00 2021-06-02 07:45:47.102000+00:00                      31790.0                   NaN   \n",
       "6  61e5d620095e491b8bff72895e8b9855             4    KILLED  gs://i18n-subreddit-clustering/mlflow/mlruns/4/61e5d620095e491b8bff72895e8b9855/artifacts 2021-06-02 07:28:36.526000+00:00 2021-06-02 07:40:57.756000+00:00                      31790.0                   NaN   \n",
       "7  3bf280ee76fc4595afc5e8cbaaf79a7d             4  FINISHED  gs://i18n-subreddit-clustering/mlflow/mlruns/4/3bf280ee76fc4595afc5e8cbaaf79a7d/artifacts 2021-06-02 07:25:30.227000+00:00 2021-06-02 07:28:22.093000+00:00                      31790.0              111669.0   \n",
       "\n",
       "   metrics.vectorizing_time_minutes  metrics.df_comments_len params.posts_path         params.bucket_name params.train_min_word_count params.preprocess_text_folder params.col_text_comment params.tokenize_function params.col_text_comment_word_count params.col_text_post_url params.col_subreddit_id  \\\n",
       "0                          3.381014                 638052.0  posts/2021-05-19  i18n-subreddit-clustering                           4                          None       comment_body_text                   gensim            comment_text_word_count  post_url_for_embeddings            subreddit_id   \n",
       "1                          3.517798                 638052.0  posts/2021-05-19  i18n-subreddit-clustering                           4                          None       comment_body_text                   gensim            comment_text_word_count  post_url_for_embeddings            subreddit_id   \n",
       "2                          3.934723                 638052.0  posts/2021-05-19  i18n-subreddit-clustering                           4                          None       comment_body_text                   gensim            comment_text_word_count  post_url_for_embeddings            subreddit_id   \n",
       "3                          3.915259                 638052.0  posts/2021-05-19  i18n-subreddit-clustering                           4                          None       comment_body_text                   gensim            comment_text_word_count  post_url_for_embeddings            subreddit_id   \n",
       "4                               NaN                      NaN  posts/2021-05-19  i18n-subreddit-clustering                           4                          None       comment_body_text                   gensim            comment_text_word_count  post_url_for_embeddings            subreddit_id   \n",
       "5                               NaN                      NaN  posts/2021-05-19  i18n-subreddit-clustering                           4                          None       comment_body_text                   gensim            comment_text_word_count  post_url_for_embeddings            subreddit_id   \n",
       "6                               NaN                      NaN  posts/2021-05-19  i18n-subreddit-clustering                           4                          None       comment_body_text                   gensim            comment_text_word_count  post_url_for_embeddings            subreddit_id   \n",
       "7                          3.090045                 638052.0  posts/2021-05-19  i18n-subreddit-clustering                           4                          None       comment_body_text   sklearn_acronyms_emoji            comment_text_word_count  post_url_for_embeddings            subreddit_id   \n",
       "\n",
       "  params.subreddits_path params.training_data params.tokenize_lowercase params.train_use_comments        params.col_text_subreddit_description params.train_exclude_duplicated_docs params.col_post_id params.col_text_post params.col_comment_id params.comments_path params.model_name  \\\n",
       "0                   None  post_title_and_body                     False                     False  subreddit_name_title_and_clean_descriptions                                 True            post_id                 text            comment_id  comments/2021-05-19  fasttext_usif_de   \n",
       "1                   None  post_title_and_body                     False                     False  subreddit_name_title_and_clean_descriptions                                 True            post_id                 text            comment_id  comments/2021-05-19  fasttext_usif_de   \n",
       "2                   None  post_title_and_body                      True                     False  subreddit_name_title_and_clean_descriptions                                 True            post_id                 text            comment_id  comments/2021-05-19  fasttext_usif_de   \n",
       "3                   None  post_title_and_body                      True                     False  subreddit_name_title_and_clean_descriptions                                 True            post_id                 text            comment_id  comments/2021-05-19  fasttext_usif_de   \n",
       "4                   None  post_title_and_body                      True                     False  subreddit_name_title_and_clean_descriptions                                 True            post_id                 text            comment_id  comments/2021-05-19  fasttext_usif_de   \n",
       "5                   None  post_title_and_body                      True                     False  subreddit_name_title_and_clean_descriptions                                 True            post_id                 text            comment_id  comments/2021-05-19  fasttext_usif_de   \n",
       "6                   None  post_title_and_body                      True                     False  subreddit_name_title_and_clean_descriptions                                 True            post_id                 text            comment_id  comments/2021-05-19  fasttext_usif_de   \n",
       "7                   None  post_title_and_body                      True                     False  subreddit_name_title_and_clean_descriptions                                 True            post_id                 text            comment_id  comments/2021-05-19  fasttext_usif_de   \n",
       "\n",
       "                     params.col_text_subreddit_word_count params.col_text_post_word_count tags.mlflow.user                                       tags.mlflow.source.name             tags.mlflow.source.git.commit tags.mlflow.source.type  \n",
       "0  subreddit_name_title_and_clean_descriptions_word_count                 text_word_count          jupyter  /opt/conda/lib/python3.7/site-packages/ipykernel_launcher.py  578a60e37c39cfd2a09de1da8a41ec9f9b76befd                   LOCAL  \n",
       "1  subreddit_name_title_and_clean_descriptions_word_count                 text_word_count          jupyter  /opt/conda/lib/python3.7/site-packages/ipykernel_launcher.py  578a60e37c39cfd2a09de1da8a41ec9f9b76befd                   LOCAL  \n",
       "2  subreddit_name_title_and_clean_descriptions_word_count                 text_word_count          jupyter  /opt/conda/lib/python3.7/site-packages/ipykernel_launcher.py  578a60e37c39cfd2a09de1da8a41ec9f9b76befd                   LOCAL  \n",
       "3  subreddit_name_title_and_clean_descriptions_word_count                 text_word_count          jupyter  /opt/conda/lib/python3.7/site-packages/ipykernel_launcher.py  578a60e37c39cfd2a09de1da8a41ec9f9b76befd                   LOCAL  \n",
       "4  subreddit_name_title_and_clean_descriptions_word_count                 text_word_count          jupyter  /opt/conda/lib/python3.7/site-packages/ipykernel_launcher.py  de59320181d67c9d75c3db7ab19d07283b587a54                   LOCAL  \n",
       "5  subreddit_name_title_and_clean_descriptions_word_count                 text_word_count          jupyter  /opt/conda/lib/python3.7/site-packages/ipykernel_launcher.py  de59320181d67c9d75c3db7ab19d07283b587a54                   LOCAL  \n",
       "6  subreddit_name_title_and_clean_descriptions_word_count                 text_word_count          jupyter  /opt/conda/lib/python3.7/site-packages/ipykernel_launcher.py  5f40b761b8590860951ad603d6806efff5cb2eed                   LOCAL  \n",
       "7  subreddit_name_title_and_clean_descriptions_word_count                 text_word_count          jupyter  /opt/conda/lib/python3.7/site-packages/ipykernel_launcher.py  5f40b761b8590860951ad603d6806efff5cb2eed                   LOCAL  "
      ]
     },
     "execution_count": 8,
     "metadata": {},
     "output_type": "execute_result"
    }
   ],
   "source": [
    "mlf.search_all_runs(experiment_ids=[4]).head(8)"
   ]
  },
  {
   "cell_type": "markdown",
   "id": "4b7ad680",
   "metadata": {},
   "source": [
    "## For all runs"
   ]
  },
  {
   "cell_type": "code",
   "execution_count": 9,
   "id": "40277c47",
   "metadata": {},
   "outputs": [
    {
     "data": {
      "text/plain": [
       "(32, 41)"
      ]
     },
     "execution_count": 9,
     "metadata": {},
     "output_type": "execute_result"
    }
   ],
   "source": [
    "mlf.search_all_runs(experiment_ids=None).shape"
   ]
  },
  {
   "cell_type": "markdown",
   "id": "502d99ad",
   "metadata": {},
   "source": [
    "# Get artifact based only on run_id"
   ]
  },
  {
   "cell_type": "markdown",
   "id": "6868dce3",
   "metadata": {},
   "source": [
    "## Using new function"
   ]
  },
  {
   "cell_type": "code",
   "execution_count": 15,
   "id": "82af53f0",
   "metadata": {},
   "outputs": [
    {
     "name": "stdout",
     "output_type": "stream",
     "text": [
      "(111669, 2)\n"
     ]
    },
    {
     "data": {
      "text/html": [
       "<div>\n",
       "<style scoped>\n",
       "    .dataframe tbody tr th:only-of-type {\n",
       "        vertical-align: middle;\n",
       "    }\n",
       "\n",
       "    .dataframe tbody tr th {\n",
       "        vertical-align: top;\n",
       "    }\n",
       "\n",
       "    .dataframe thead th {\n",
       "        text-align: right;\n",
       "    }\n",
       "</style>\n",
       "<table border=\"1\" class=\"dataframe\">\n",
       "  <thead>\n",
       "    <tr style=\"text-align: right;\">\n",
       "      <th></th>\n",
       "      <th>training_index</th>\n",
       "      <th>post_id</th>\n",
       "    </tr>\n",
       "  </thead>\n",
       "  <tbody>\n",
       "    <tr>\n",
       "      <th>0</th>\n",
       "      <td>0</td>\n",
       "      <td>t3_mkyj2k</td>\n",
       "    </tr>\n",
       "    <tr>\n",
       "      <th>1</th>\n",
       "      <td>1</td>\n",
       "      <td>t3_mkynzi</td>\n",
       "    </tr>\n",
       "    <tr>\n",
       "      <th>2</th>\n",
       "      <td>2</td>\n",
       "      <td>t3_mkyolv</td>\n",
       "    </tr>\n",
       "    <tr>\n",
       "      <th>3</th>\n",
       "      <td>3</td>\n",
       "      <td>t3_mkyp17</td>\n",
       "    </tr>\n",
       "    <tr>\n",
       "      <th>4</th>\n",
       "      <td>4</td>\n",
       "      <td>t3_mkyqrz</td>\n",
       "    </tr>\n",
       "  </tbody>\n",
       "</table>\n",
       "</div>"
      ],
      "text/plain": [
       "   training_index    post_id\n",
       "0               0  t3_mkyj2k\n",
       "1               1  t3_mkynzi\n",
       "2               2  t3_mkyolv\n",
       "3               3  t3_mkyp17\n",
       "4               4  t3_mkyqrz"
      ]
     },
     "execution_count": 15,
     "metadata": {},
     "output_type": "execute_result"
    }
   ],
   "source": [
    "run_id = 'aac3e007dfc2446790e25887adf287f6'\n",
    "\n",
    "df_ix_to_id = mlf.read_run_artifact(\n",
    "    run_id=run_id,\n",
    "    artifact_folder='d_ix_to_id/d_ix_to_id.csv',\n",
    "    read_function=pd.read_csv,\n",
    ")\n",
    "print(df_ix_to_id.shape)\n",
    "df_ix_to_id.head()"
   ]
  },
  {
   "cell_type": "markdown",
   "id": "d06454b2",
   "metadata": {},
   "source": [
    "## Or you could do it manually... \n",
    "By pulling the run's `artifact_uri`"
   ]
  },
  {
   "cell_type": "code",
   "execution_count": 11,
   "id": "f98a5f20",
   "metadata": {},
   "outputs": [],
   "source": [
    "run_id = 'aac3e007dfc2446790e25887adf287f6'\n",
    "run = mlflow.get_run(run_id)"
   ]
  },
  {
   "cell_type": "code",
   "execution_count": 12,
   "id": "df95285f",
   "metadata": {},
   "outputs": [
    {
     "data": {
      "text/plain": [
       "'gs://i18n-subreddit-clustering/mlflow/mlruns/4/aac3e007dfc2446790e25887adf287f6/artifacts/d_ix_to_id/d_ix_to_id.csv'"
      ]
     },
     "execution_count": 12,
     "metadata": {},
     "output_type": "execute_result"
    }
   ],
   "source": [
    "f\"{run.info.artifact_uri}/d_ix_to_id/d_ix_to_id.csv\""
   ]
  },
  {
   "cell_type": "code",
   "execution_count": 13,
   "id": "639d0453",
   "metadata": {},
   "outputs": [
    {
     "name": "stdout",
     "output_type": "stream",
     "text": [
      "(111669, 2)\n"
     ]
    },
    {
     "data": {
      "text/html": [
       "<div>\n",
       "<style scoped>\n",
       "    .dataframe tbody tr th:only-of-type {\n",
       "        vertical-align: middle;\n",
       "    }\n",
       "\n",
       "    .dataframe tbody tr th {\n",
       "        vertical-align: top;\n",
       "    }\n",
       "\n",
       "    .dataframe thead th {\n",
       "        text-align: right;\n",
       "    }\n",
       "</style>\n",
       "<table border=\"1\" class=\"dataframe\">\n",
       "  <thead>\n",
       "    <tr style=\"text-align: right;\">\n",
       "      <th></th>\n",
       "      <th>training_index</th>\n",
       "      <th>post_id</th>\n",
       "    </tr>\n",
       "  </thead>\n",
       "  <tbody>\n",
       "    <tr>\n",
       "      <th>0</th>\n",
       "      <td>0</td>\n",
       "      <td>t3_mkyj2k</td>\n",
       "    </tr>\n",
       "    <tr>\n",
       "      <th>1</th>\n",
       "      <td>1</td>\n",
       "      <td>t3_mkynzi</td>\n",
       "    </tr>\n",
       "    <tr>\n",
       "      <th>2</th>\n",
       "      <td>2</td>\n",
       "      <td>t3_mkyolv</td>\n",
       "    </tr>\n",
       "    <tr>\n",
       "      <th>3</th>\n",
       "      <td>3</td>\n",
       "      <td>t3_mkyp17</td>\n",
       "    </tr>\n",
       "    <tr>\n",
       "      <th>4</th>\n",
       "      <td>4</td>\n",
       "      <td>t3_mkyqrz</td>\n",
       "    </tr>\n",
       "  </tbody>\n",
       "</table>\n",
       "</div>"
      ],
      "text/plain": [
       "   training_index    post_id\n",
       "0               0  t3_mkyj2k\n",
       "1               1  t3_mkynzi\n",
       "2               2  t3_mkyolv\n",
       "3               3  t3_mkyp17\n",
       "4               4  t3_mkyqrz"
      ]
     },
     "execution_count": 13,
     "metadata": {},
     "output_type": "execute_result"
    }
   ],
   "source": [
    "df_idx = pd.read_csv(f\"{run.info.artifact_uri}/d_ix_to_id/d_ix_to_id.csv\")\n",
    "print(df_idx.shape)\n",
    "df_idx.head()"
   ]
  },
  {
   "cell_type": "markdown",
   "id": "daea05e0",
   "metadata": {},
   "source": [
    "# Test connecting mlflow to remote server...\n",
    "\n",
    "Need to figure out some VPC/authentication/firewall stuff to figure this out."
   ]
  },
  {
   "cell_type": "code",
   "execution_count": 14,
   "id": "db9336e7",
   "metadata": {},
   "outputs": [],
   "source": [
    "# mlflow_central_server_internal_ip = \"https://10.138.0.3:5000\" # internal\n",
    "# # mlflow_central_server_internal_ip = \"https://34.82.93.40:5000\" # external...\n",
    "\n",
    "# mlf = MlflowLogger(tracking_uri=mlflow_central_server_internal_ip)\n",
    "# mlflow.get_tracking_uri()"
   ]
  },
  {
   "cell_type": "code",
   "execution_count": null,
   "id": "9d0e7125",
   "metadata": {},
   "outputs": [],
   "source": []
  }
 ],
 "metadata": {
  "environment": {
   "name": "common-cpu.m65",
   "type": "gcloud",
   "uri": "gcr.io/deeplearning-platform-release/base-cpu:m65"
  },
  "kernelspec": {
   "display_name": "Python 3",
   "language": "python",
   "name": "python3"
  },
  "language_info": {
   "codemirror_mode": {
    "name": "ipython",
    "version": 3
   },
   "file_extension": ".py",
   "mimetype": "text/x-python",
   "name": "python",
   "nbconvert_exporter": "python",
   "pygments_lexer": "ipython3",
   "version": "3.7.10"
  }
 },
 "nbformat": 4,
 "nbformat_minor": 5
}
