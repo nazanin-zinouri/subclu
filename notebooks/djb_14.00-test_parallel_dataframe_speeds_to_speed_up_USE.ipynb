{
 "cells": [
  {
   "cell_type": "markdown",
   "id": "3f430dd3",
   "metadata": {},
   "source": [
    "# Purpose\n",
    "\n",
    "2021-06-28.\n",
    "Test different parallel frameworks to speed up getting embeddings from USE-multilingual.\n",
    "\n",
    "test:\n",
    "- dask\n",
    "- modin\n",
    "- pandarallel"
   ]
  },
  {
   "cell_type": "markdown",
   "id": "374ea8db",
   "metadata": {},
   "source": [
    "# Notebook setup"
   ]
  },
  {
   "cell_type": "code",
   "execution_count": 1,
   "id": "d3031c9e",
   "metadata": {},
   "outputs": [],
   "source": [
    "%load_ext autoreload\n",
    "%autoreload 2"
   ]
  },
  {
   "cell_type": "code",
   "execution_count": 34,
   "id": "40cc1c9c",
   "metadata": {},
   "outputs": [
    {
     "name": "stdout",
     "output_type": "stream",
     "text": [
      "python\t\tv 3.7.10\n",
      "===\n",
      "fse\t\tv: 0.1.15\n",
      "gensim\t\tv: 3.8.3\n",
      "joblib\t\tv: 1.0.1\n",
      "modin\t\tv: 0.10.0\n",
      "numpy\t\tv: 1.18.5\n",
      "pandas\t\tv: 1.2.4\n",
      "plotly\t\tv: 4.14.3\n",
      "subclu\t\tv: 0.1.1\n"
     ]
    }
   ],
   "source": [
    "from datetime import datetime\n",
    "import gc\n",
    "import os\n",
    "import logging\n",
    "from pprint import pprint\n",
    "\n",
    "from tqdm.auto import tqdm\n",
    "import fse\n",
    "from fse.models import uSIF\n",
    "import gensim\n",
    "from gensim.models.fasttext import FastText, load_facebook_vectors\n",
    "import joblib\n",
    "\n",
    "import math\n",
    "import numpy as np\n",
    "import pandas as pd\n",
    "import plotly\n",
    "import plotly.express as px\n",
    "\n",
    "# modin df\n",
    "import modin\n",
    "import modin.pandas as mpd\n",
    "\n",
    "import subclu\n",
    "from subclu.data.fasttext_utils import (\n",
    "    download_ft_pretrained_model,\n",
    "    get_df_for_most_similar,\n",
    "    get_project_subfolder,\n",
    ")\n",
    "from subclu.utils import set_working_directory\n",
    "from subclu.utils.eda import (\n",
    "    setup_logging, counts_describe, value_counts_and_pcts,\n",
    "    notebook_display_config, print_lib_versions,\n",
    "    style_df_numeric\n",
    ")\n",
    "from subclu.eda.aggregates import (\n",
    "    compare_raw_v_weighted_language\n",
    ")\n",
    "from subclu.utils.data_irl_style import (\n",
    "    get_colormap, theme_dirl\n",
    ")\n",
    "from subclu.models.vectorize_text import get_embeddings_as_df\n",
    "from subclu.data.data_loaders import LoadPosts, LoadSubreddits, create_sub_level_aggregates\n",
    "\n",
    "print_lib_versions([fse, gensim, joblib, modin, np, pd, plotly, subclu])"
   ]
  },
  {
   "cell_type": "code",
   "execution_count": 3,
   "id": "182d2e09",
   "metadata": {},
   "outputs": [
    {
     "name": "stdout",
     "output_type": "stream",
     "text": [
      "python\t\tv 3.7.10\n",
      "===\n",
      "tensorflow\tv: 2.3.3\n",
      "tensorflow_text\tv: 2.3.0\n"
     ]
    }
   ],
   "source": [
    "# USE & TF-focused imports\n",
    "import tensorflow\n",
    "import tensorflow as tf\n",
    "# import tensorflow.compat.v2 as tf\n",
    "import tensorflow_hub as hub\n",
    "import tensorflow_text\n",
    "from tensorflow.python.client import device_lib\n",
    "\n",
    "print_lib_versions([tensorflow, tensorflow_text])"
   ]
  },
  {
   "cell_type": "code",
   "execution_count": 4,
   "id": "f1207aad",
   "metadata": {},
   "outputs": [],
   "source": [
    "# plotting\n",
    "import matplotlib.pyplot as plt\n",
    "import matplotlib.ticker as mtick\n",
    "import matplotlib.dates as mdates\n",
    "plt.style.use('default')\n",
    "\n",
    "setup_logging()\n",
    "notebook_display_config()"
   ]
  },
  {
   "cell_type": "markdown",
   "id": "8750ca50",
   "metadata": {},
   "source": [
    "# Check whether we have access to a GPU"
   ]
  },
  {
   "cell_type": "code",
   "execution_count": 35,
   "id": "e358345e",
   "metadata": {},
   "outputs": [
    {
     "name": "stdout",
     "output_type": "stream",
     "text": [
      "Num GPUs Available:  0\n"
     ]
    }
   ],
   "source": [
    "print(\"Num GPUs Available: \", len(tf.config.list_physical_devices('GPU')))"
   ]
  },
  {
   "cell_type": "code",
   "execution_count": 6,
   "id": "caf4fad4",
   "metadata": {},
   "outputs": [],
   "source": [
    "# %%time\n",
    "\n",
    "# # don't set debug logging to True in this notebook because we'll be overloaded with TF debug statements\n",
    "# tf.debugging.set_log_device_placement(True)\n",
    "\n",
    "# # Create some tensors\n",
    "# a = tf.constant([[1.0, 2.0, 3.0], [4.0, 5.0, 6.0]])\n",
    "# b = tf.constant([[1.0, 2.0], [3.0, 4.0], [5.0, 6.0]])\n",
    "# c = tf.matmul(a, b)\n",
    "\n",
    "# print(c)"
   ]
  },
  {
   "cell_type": "markdown",
   "id": "2915bb4f",
   "metadata": {},
   "source": [
    "## List devices"
   ]
  },
  {
   "cell_type": "code",
   "execution_count": 7,
   "id": "6d921b94",
   "metadata": {},
   "outputs": [
    {
     "name": "stdout",
     "output_type": "stream",
     "text": [
      "\n",
      "Built with CUDA? True\n",
      "\n",
      "GPUs\n",
      "===\n",
      "Num GPUs Available: 0\n",
      "GPU details:\n",
      "[]\n"
     ]
    }
   ],
   "source": [
    "l_phys_gpus = (\n",
    "    tf.config.list_physical_devices('GPU') +\n",
    "    tf.config.list_physical_devices('XLA_GPU')\n",
    ")\n",
    "\n",
    "print(\n",
    "    f\"\\nBuilt with CUDA? {tf.test.is_built_with_cuda()}\"\n",
    "    f\"\\n\\nGPUs\\n===\"\n",
    "    f\"\\nNum GPUs Available: {len(l_phys_gpus)}\"\n",
    "    f\"\\nGPU details:\\n{l_phys_gpus}\"\n",
    ")"
   ]
  },
  {
   "cell_type": "code",
   "execution_count": 8,
   "id": "6c9180fb",
   "metadata": {},
   "outputs": [
    {
     "name": "stdout",
     "output_type": "stream",
     "text": [
      "\n",
      "Built with CUDA? True\n",
      "\n",
      "All devices:\n",
      "===\n",
      "Num devices: 2\n",
      "Details:\n",
      "[   name: \"/device:CPU:0\"\n",
      "device_type: \"CPU\"\n",
      "memory_limit: 268435456\n",
      "locality {\n",
      "}\n",
      "incarnation: 11966485250818765513\n",
      ",\n",
      "    name: \"/device:XLA_CPU:0\"\n",
      "device_type: \"XLA_CPU\"\n",
      "memory_limit: 17179869184\n",
      "locality {\n",
      "}\n",
      "incarnation: 11578508048565736618\n",
      "physical_device_desc: \"device: XLA_CPU device\"\n",
      "]\n"
     ]
    }
   ],
   "source": [
    "l_all_local_devices = device_lib.list_local_devices()\n",
    "print(\n",
    "    f\"\\nBuilt with CUDA? {tf.test.is_built_with_cuda()}\"\n",
    "    f\"\\n\\nAll devices:\\n===\"\n",
    "    f\"\\nNum devices: {len(l_all_local_devices)}\"\n",
    "    f\"\\nDetails:\"\n",
    ")\n",
    "pprint(l_all_local_devices, indent=4,)"
   ]
  },
  {
   "cell_type": "markdown",
   "id": "60781461",
   "metadata": {},
   "source": [
    "# Check NVIDIA CLI\n",
    "\n",
    "First, do we even see the GPUs?"
   ]
  },
  {
   "cell_type": "code",
   "execution_count": 9,
   "id": "132ff309",
   "metadata": {},
   "outputs": [
    {
     "name": "stdout",
     "output_type": "stream",
     "text": [
      "00:04.0 3D controller: NVIDIA Corporation TU104GL [Tesla T4] (rev a1)\n"
     ]
    }
   ],
   "source": [
    "!lspci | grep 3D"
   ]
  },
  {
   "cell_type": "markdown",
   "id": "f4c9485e",
   "metadata": {},
   "source": [
    "Then, are they recognized by the nvidia-smi tool?"
   ]
  },
  {
   "cell_type": "code",
   "execution_count": 10,
   "id": "15dad5c0",
   "metadata": {},
   "outputs": [],
   "source": [
    "# !nvidia-smi"
   ]
  },
  {
   "cell_type": "markdown",
   "id": "f1a872d2",
   "metadata": {},
   "source": [
    "# Load model from hub\n",
    "\n",
    "The first time we try a model might take a while because we might need to download it from the URL.\n",
    "\n",
    "TF should cache it after that."
   ]
  },
  {
   "cell_type": "code",
   "execution_count": 11,
   "id": "7c6a3826",
   "metadata": {},
   "outputs": [
    {
     "name": "stdout",
     "output_type": "stream",
     "text": [
      "CPU times: user 8.98 s, sys: 1.4 s, total: 10.4 s\n",
      "Wall time: 10.2 s\n"
     ]
    }
   ],
   "source": [
    "%%time\n",
    "# The 16-language multilingual module is the default but feel free\n",
    "# to pick others from the list and compare the results.\n",
    "#@param ['https://tfhub.dev/google/universal-sentence-encoder-multilingual/3', 'https://tfhub.dev/google/universal-sentence-encoder-multilingual-large/3']\n",
    "module_url_large = 'https://tfhub.dev/google/universal-sentence-encoder-multilingual-large/3' \n",
    "\n",
    "\n",
    "model = hub.load(module_url_large)"
   ]
  },
  {
   "cell_type": "code",
   "execution_count": 51,
   "id": "43b11f35",
   "metadata": {},
   "outputs": [
    {
     "name": "stdout",
     "output_type": "stream",
     "text": [
      "CPU times: user 8.18 s, sys: 1.79 s, total: 9.98 s\n",
      "Wall time: 12 s\n"
     ]
    }
   ],
   "source": [
    "%%time\n",
    "# The 16-language multilingual module is the default but feel free\n",
    "# to pick others from the list and compare the results.\n",
    "#@param ['https://tfhub.dev/google/universal-sentence-encoder-multilingual/3', 'https://tfhub.dev/google/universal-sentence-encoder-multilingual-large/3']\n",
    "module_url = 'https://tfhub.dev/google/universal-sentence-encoder-multilingual/3' \n",
    "\n",
    "\n",
    "model_normal = hub.load(module_url)"
   ]
  },
  {
   "cell_type": "code",
   "execution_count": null,
   "id": "185d9d39",
   "metadata": {},
   "outputs": [],
   "source": []
  },
  {
   "cell_type": "markdown",
   "id": "d4483e8f",
   "metadata": {},
   "source": [
    "## Example from tutorial"
   ]
  },
  {
   "cell_type": "code",
   "execution_count": 12,
   "id": "491c1b48",
   "metadata": {},
   "outputs": [],
   "source": [
    "# Some texts of different lengths.\n",
    "english_sentences = [\"dog\", \"Puppies are nice.\", \"I enjoy taking long walks along the beach with my dog.\"]\n",
    "italian_sentences = [\"cane\", \"I cuccioli sono carini.\", \"Mi piace fare lunghe passeggiate lungo la spiaggia con il mio cane.\"]\n",
    "japanese_sentences = [\"犬\", \"子犬はいいです\", \"私は犬と一緒にビーチを散歩するのが好きです\"]\n"
   ]
  },
  {
   "cell_type": "code",
   "execution_count": 13,
   "id": "a399b5ac",
   "metadata": {},
   "outputs": [
    {
     "name": "stdout",
     "output_type": "stream",
     "text": [
      "CPU times: user 4.89 s, sys: 296 ms, total: 5.19 s\n",
      "Wall time: 4.94 s\n"
     ]
    }
   ],
   "source": [
    "%%time\n",
    "\n",
    "# Compute embeddings.\n",
    "en_result = model(english_sentences)\n",
    "it_result = model(italian_sentences)\n",
    "ja_result = model(japanese_sentences)\n"
   ]
  },
  {
   "cell_type": "code",
   "execution_count": 52,
   "id": "62ef9a72",
   "metadata": {},
   "outputs": [
    {
     "name": "stdout",
     "output_type": "stream",
     "text": [
      "CPU times: user 1.6 s, sys: 110 ms, total: 1.71 s\n",
      "Wall time: 2.02 s\n"
     ]
    }
   ],
   "source": [
    "%%time\n",
    "\n",
    "# Compute embeddings.\n",
    "en_result_ = model_normal(english_sentences)\n",
    "it_result_ = model_normal(italian_sentences)\n",
    "ja_result_ = model_normal(japanese_sentences)\n"
   ]
  },
  {
   "cell_type": "code",
   "execution_count": 14,
   "id": "df23794e",
   "metadata": {},
   "outputs": [
    {
     "data": {
      "text/html": [
       "<div>\n",
       "<style scoped>\n",
       "    .dataframe tbody tr th:only-of-type {\n",
       "        vertical-align: middle;\n",
       "    }\n",
       "\n",
       "    .dataframe tbody tr th {\n",
       "        vertical-align: top;\n",
       "    }\n",
       "\n",
       "    .dataframe thead th {\n",
       "        text-align: right;\n",
       "    }\n",
       "</style>\n",
       "<table border=\"1\" class=\"dataframe\">\n",
       "  <thead>\n",
       "    <tr style=\"text-align: right;\">\n",
       "      <th></th>\n",
       "      <th>0</th>\n",
       "      <th>1</th>\n",
       "      <th>2</th>\n",
       "      <th>3</th>\n",
       "      <th>4</th>\n",
       "      <th>5</th>\n",
       "      <th>6</th>\n",
       "      <th>7</th>\n",
       "      <th>8</th>\n",
       "      <th>9</th>\n",
       "      <th>10</th>\n",
       "      <th>11</th>\n",
       "      <th>12</th>\n",
       "      <th>13</th>\n",
       "      <th>14</th>\n",
       "      <th>15</th>\n",
       "      <th>16</th>\n",
       "      <th>17</th>\n",
       "      <th>18</th>\n",
       "      <th>19</th>\n",
       "      <th>20</th>\n",
       "      <th>21</th>\n",
       "      <th>22</th>\n",
       "      <th>23</th>\n",
       "      <th>24</th>\n",
       "      <th>25</th>\n",
       "      <th>26</th>\n",
       "      <th>27</th>\n",
       "      <th>28</th>\n",
       "      <th>29</th>\n",
       "      <th>...</th>\n",
       "      <th>482</th>\n",
       "      <th>483</th>\n",
       "      <th>484</th>\n",
       "      <th>485</th>\n",
       "      <th>486</th>\n",
       "      <th>487</th>\n",
       "      <th>488</th>\n",
       "      <th>489</th>\n",
       "      <th>490</th>\n",
       "      <th>491</th>\n",
       "      <th>492</th>\n",
       "      <th>493</th>\n",
       "      <th>494</th>\n",
       "      <th>495</th>\n",
       "      <th>496</th>\n",
       "      <th>497</th>\n",
       "      <th>498</th>\n",
       "      <th>499</th>\n",
       "      <th>500</th>\n",
       "      <th>501</th>\n",
       "      <th>502</th>\n",
       "      <th>503</th>\n",
       "      <th>504</th>\n",
       "      <th>505</th>\n",
       "      <th>506</th>\n",
       "      <th>507</th>\n",
       "      <th>508</th>\n",
       "      <th>509</th>\n",
       "      <th>510</th>\n",
       "      <th>511</th>\n",
       "    </tr>\n",
       "  </thead>\n",
       "  <tbody>\n",
       "    <tr>\n",
       "      <th>0</th>\n",
       "      <td>tf.Tensor(-0.0052521224, shape=(), dtype=float32)</td>\n",
       "      <td>tf.Tensor(-0.038312003, shape=(), dtype=float32)</td>\n",
       "      <td>tf.Tensor(-0.0092201475, shape=(), dtype=float32)</td>\n",
       "      <td>tf.Tensor(-0.046096273, shape=(), dtype=float32)</td>\n",
       "      <td>tf.Tensor(-0.057657715, shape=(), dtype=float32)</td>\n",
       "      <td>tf.Tensor(-0.047684364, shape=(), dtype=float32)</td>\n",
       "      <td>tf.Tensor(-0.016511638, shape=(), dtype=float32)</td>\n",
       "      <td>tf.Tensor(0.0047285785, shape=(), dtype=float32)</td>\n",
       "      <td>tf.Tensor(-0.013010719, shape=(), dtype=float32)</td>\n",
       "      <td>tf.Tensor(-0.071381606, shape=(), dtype=float32)</td>\n",
       "      <td>tf.Tensor(-0.030422544, shape=(), dtype=float32)</td>\n",
       "      <td>tf.Tensor(0.023165468, shape=(), dtype=float32)</td>\n",
       "      <td>tf.Tensor(0.017145863, shape=(), dtype=float32)</td>\n",
       "      <td>tf.Tensor(0.04533131, shape=(), dtype=float32)</td>\n",
       "      <td>tf.Tensor(0.015669946, shape=(), dtype=float32)</td>\n",
       "      <td>tf.Tensor(-0.013959981, shape=(), dtype=float32)</td>\n",
       "      <td>tf.Tensor(-0.053601336, shape=(), dtype=float32)</td>\n",
       "      <td>tf.Tensor(-0.011878509, shape=(), dtype=float32)</td>\n",
       "      <td>tf.Tensor(-0.11063096, shape=(), dtype=float32)</td>\n",
       "      <td>tf.Tensor(0.0048499727, shape=(), dtype=float32)</td>\n",
       "      <td>tf.Tensor(0.0067631947, shape=(), dtype=float32)</td>\n",
       "      <td>tf.Tensor(0.039811607, shape=(), dtype=float32)</td>\n",
       "      <td>tf.Tensor(0.06601548, shape=(), dtype=float32)</td>\n",
       "      <td>tf.Tensor(-0.012721934, shape=(), dtype=float32)</td>\n",
       "      <td>tf.Tensor(0.0374415, shape=(), dtype=float32)</td>\n",
       "      <td>tf.Tensor(0.030250402, shape=(), dtype=float32)</td>\n",
       "      <td>tf.Tensor(-0.015202931, shape=(), dtype=float32)</td>\n",
       "      <td>tf.Tensor(0.011007949, shape=(), dtype=float32)</td>\n",
       "      <td>tf.Tensor(0.0168568, shape=(), dtype=float32)</td>\n",
       "      <td>tf.Tensor(-0.019257642, shape=(), dtype=float32)</td>\n",
       "      <td>...</td>\n",
       "      <td>tf.Tensor(0.08616638, shape=(), dtype=float32)</td>\n",
       "      <td>tf.Tensor(-0.02443323, shape=(), dtype=float32)</td>\n",
       "      <td>tf.Tensor(-0.0009149233, shape=(), dtype=float32)</td>\n",
       "      <td>tf.Tensor(0.038853917, shape=(), dtype=float32)</td>\n",
       "      <td>tf.Tensor(-0.031945083, shape=(), dtype=float32)</td>\n",
       "      <td>tf.Tensor(0.043825854, shape=(), dtype=float32)</td>\n",
       "      <td>tf.Tensor(0.058404736, shape=(), dtype=float32)</td>\n",
       "      <td>tf.Tensor(0.03934806, shape=(), dtype=float32)</td>\n",
       "      <td>tf.Tensor(0.08239184, shape=(), dtype=float32)</td>\n",
       "      <td>tf.Tensor(-0.028973904, shape=(), dtype=float32)</td>\n",
       "      <td>tf.Tensor(0.01263683, shape=(), dtype=float32)</td>\n",
       "      <td>tf.Tensor(-0.008682322, shape=(), dtype=float32)</td>\n",
       "      <td>tf.Tensor(0.00058252894, shape=(), dtype=float32)</td>\n",
       "      <td>tf.Tensor(0.07517927, shape=(), dtype=float32)</td>\n",
       "      <td>tf.Tensor(0.017356122, shape=(), dtype=float32)</td>\n",
       "      <td>tf.Tensor(0.012234441, shape=(), dtype=float32)</td>\n",
       "      <td>tf.Tensor(-0.019842025, shape=(), dtype=float32)</td>\n",
       "      <td>tf.Tensor(-0.077491924, shape=(), dtype=float32)</td>\n",
       "      <td>tf.Tensor(-0.02440608, shape=(), dtype=float32)</td>\n",
       "      <td>tf.Tensor(-0.032542024, shape=(), dtype=float32)</td>\n",
       "      <td>tf.Tensor(0.012990026, shape=(), dtype=float32)</td>\n",
       "      <td>tf.Tensor(-0.05957967, shape=(), dtype=float32)</td>\n",
       "      <td>tf.Tensor(0.026064044, shape=(), dtype=float32)</td>\n",
       "      <td>tf.Tensor(-0.052391514, shape=(), dtype=float32)</td>\n",
       "      <td>tf.Tensor(-0.05916791, shape=(), dtype=float32)</td>\n",
       "      <td>tf.Tensor(-0.025977198, shape=(), dtype=float32)</td>\n",
       "      <td>tf.Tensor(-0.031976104, shape=(), dtype=float32)</td>\n",
       "      <td>tf.Tensor(0.021790497, shape=(), dtype=float32)</td>\n",
       "      <td>tf.Tensor(0.06280179, shape=(), dtype=float32)</td>\n",
       "      <td>tf.Tensor(-0.016225358, shape=(), dtype=float32)</td>\n",
       "    </tr>\n",
       "    <tr>\n",
       "      <th>1</th>\n",
       "      <td>tf.Tensor(-0.022675825, shape=(), dtype=float32)</td>\n",
       "      <td>tf.Tensor(-0.06907186, shape=(), dtype=float32)</td>\n",
       "      <td>tf.Tensor(0.015508688, shape=(), dtype=float32)</td>\n",
       "      <td>tf.Tensor(-0.029039722, shape=(), dtype=float32)</td>\n",
       "      <td>tf.Tensor(-0.08988538, shape=(), dtype=float32)</td>\n",
       "      <td>tf.Tensor(-0.0010676517, shape=(), dtype=float32)</td>\n",
       "      <td>tf.Tensor(-0.014085733, shape=(), dtype=float32)</td>\n",
       "      <td>tf.Tensor(0.007255118, shape=(), dtype=float32)</td>\n",
       "      <td>tf.Tensor(-0.01998962, shape=(), dtype=float32)</td>\n",
       "      <td>tf.Tensor(0.06695189, shape=(), dtype=float32)</td>\n",
       "      <td>tf.Tensor(0.017029501, shape=(), dtype=float32)</td>\n",
       "      <td>tf.Tensor(0.022945879, shape=(), dtype=float32)</td>\n",
       "      <td>tf.Tensor(-0.006108543, shape=(), dtype=float32)</td>\n",
       "      <td>tf.Tensor(0.051182974, shape=(), dtype=float32)</td>\n",
       "      <td>tf.Tensor(-0.04379787, shape=(), dtype=float32)</td>\n",
       "      <td>tf.Tensor(-0.041236278, shape=(), dtype=float32)</td>\n",
       "      <td>tf.Tensor(0.029429333, shape=(), dtype=float32)</td>\n",
       "      <td>tf.Tensor(0.048888765, shape=(), dtype=float32)</td>\n",
       "      <td>tf.Tensor(-0.11650518, shape=(), dtype=float32)</td>\n",
       "      <td>tf.Tensor(-0.0024727038, shape=(), dtype=float32)</td>\n",
       "      <td>tf.Tensor(0.02891673, shape=(), dtype=float32)</td>\n",
       "      <td>tf.Tensor(9.119805e-05, shape=(), dtype=float32)</td>\n",
       "      <td>tf.Tensor(0.024404421, shape=(), dtype=float32)</td>\n",
       "      <td>tf.Tensor(0.012593313, shape=(), dtype=float32)</td>\n",
       "      <td>tf.Tensor(0.020244466, shape=(), dtype=float32)</td>\n",
       "      <td>tf.Tensor(0.020711716, shape=(), dtype=float32)</td>\n",
       "      <td>tf.Tensor(-0.031881034, shape=(), dtype=float32)</td>\n",
       "      <td>tf.Tensor(0.05342521, shape=(), dtype=float32)</td>\n",
       "      <td>tf.Tensor(0.0026995616, shape=(), dtype=float32)</td>\n",
       "      <td>tf.Tensor(-0.080842726, shape=(), dtype=float32)</td>\n",
       "      <td>...</td>\n",
       "      <td>tf.Tensor(0.10710526, shape=(), dtype=float32)</td>\n",
       "      <td>tf.Tensor(0.00011630478, shape=(), dtype=float32)</td>\n",
       "      <td>tf.Tensor(0.008712973, shape=(), dtype=float32)</td>\n",
       "      <td>tf.Tensor(0.07481752, shape=(), dtype=float32)</td>\n",
       "      <td>tf.Tensor(-0.04523135, shape=(), dtype=float32)</td>\n",
       "      <td>tf.Tensor(0.052447543, shape=(), dtype=float32)</td>\n",
       "      <td>tf.Tensor(0.03915357, shape=(), dtype=float32)</td>\n",
       "      <td>tf.Tensor(-0.0018760521, shape=(), dtype=float32)</td>\n",
       "      <td>tf.Tensor(0.017901927, shape=(), dtype=float32)</td>\n",
       "      <td>tf.Tensor(-0.014710554, shape=(), dtype=float32)</td>\n",
       "      <td>tf.Tensor(0.04312735, shape=(), dtype=float32)</td>\n",
       "      <td>tf.Tensor(-0.030878657, shape=(), dtype=float32)</td>\n",
       "      <td>tf.Tensor(-0.056910444, shape=(), dtype=float32)</td>\n",
       "      <td>tf.Tensor(0.05889421, shape=(), dtype=float32)</td>\n",
       "      <td>tf.Tensor(-0.0065958914, shape=(), dtype=float32)</td>\n",
       "      <td>tf.Tensor(-0.019973183, shape=(), dtype=float32)</td>\n",
       "      <td>tf.Tensor(-0.037767112, shape=(), dtype=float32)</td>\n",
       "      <td>tf.Tensor(0.021722129, shape=(), dtype=float32)</td>\n",
       "      <td>tf.Tensor(-0.032639645, shape=(), dtype=float32)</td>\n",
       "      <td>tf.Tensor(-0.005521554, shape=(), dtype=float32)</td>\n",
       "      <td>tf.Tensor(-0.03981594, shape=(), dtype=float32)</td>\n",
       "      <td>tf.Tensor(-0.0046574073, shape=(), dtype=float32)</td>\n",
       "      <td>tf.Tensor(0.024200806, shape=(), dtype=float32)</td>\n",
       "      <td>tf.Tensor(-0.026657948, shape=(), dtype=float32)</td>\n",
       "      <td>tf.Tensor(-0.0063680764, shape=(), dtype=float32)</td>\n",
       "      <td>tf.Tensor(-0.069105715, shape=(), dtype=float32)</td>\n",
       "      <td>tf.Tensor(0.029129585, shape=(), dtype=float32)</td>\n",
       "      <td>tf.Tensor(0.08762303, shape=(), dtype=float32)</td>\n",
       "      <td>tf.Tensor(-0.00076926645, shape=(), dtype=float32)</td>\n",
       "      <td>tf.Tensor(-0.054108236, shape=(), dtype=float32)</td>\n",
       "    </tr>\n",
       "    <tr>\n",
       "      <th>2</th>\n",
       "      <td>tf.Tensor(0.0190883, shape=(), dtype=float32)</td>\n",
       "      <td>tf.Tensor(0.009552207, shape=(), dtype=float32)</td>\n",
       "      <td>tf.Tensor(-0.047412913, shape=(), dtype=float32)</td>\n",
       "      <td>tf.Tensor(0.010493744, shape=(), dtype=float32)</td>\n",
       "      <td>tf.Tensor(-0.042908445, shape=(), dtype=float32)</td>\n",
       "      <td>tf.Tensor(-0.06331452, shape=(), dtype=float32)</td>\n",
       "      <td>tf.Tensor(-0.0031612592, shape=(), dtype=float32)</td>\n",
       "      <td>tf.Tensor(0.051496133, shape=(), dtype=float32)</td>\n",
       "      <td>tf.Tensor(0.02714771, shape=(), dtype=float32)</td>\n",
       "      <td>tf.Tensor(-0.010961134, shape=(), dtype=float32)</td>\n",
       "      <td>tf.Tensor(0.03498859, shape=(), dtype=float32)</td>\n",
       "      <td>tf.Tensor(0.057352275, shape=(), dtype=float32)</td>\n",
       "      <td>tf.Tensor(0.046823528, shape=(), dtype=float32)</td>\n",
       "      <td>tf.Tensor(0.057418335, shape=(), dtype=float32)</td>\n",
       "      <td>tf.Tensor(-0.0036693867, shape=(), dtype=float32)</td>\n",
       "      <td>tf.Tensor(0.0066045835, shape=(), dtype=float32)</td>\n",
       "      <td>tf.Tensor(-0.0013654025, shape=(), dtype=float32)</td>\n",
       "      <td>tf.Tensor(0.0038320296, shape=(), dtype=float32)</td>\n",
       "      <td>tf.Tensor(-0.090584226, shape=(), dtype=float32)</td>\n",
       "      <td>tf.Tensor(0.04874487, shape=(), dtype=float32)</td>\n",
       "      <td>tf.Tensor(0.02869539, shape=(), dtype=float32)</td>\n",
       "      <td>tf.Tensor(-0.021483542, shape=(), dtype=float32)</td>\n",
       "      <td>tf.Tensor(0.052940544, shape=(), dtype=float32)</td>\n",
       "      <td>tf.Tensor(-0.01777254, shape=(), dtype=float32)</td>\n",
       "      <td>tf.Tensor(-0.04854997, shape=(), dtype=float32)</td>\n",
       "      <td>tf.Tensor(-0.075713105, shape=(), dtype=float32)</td>\n",
       "      <td>tf.Tensor(-0.061066058, shape=(), dtype=float32)</td>\n",
       "      <td>tf.Tensor(0.06376976, shape=(), dtype=float32)</td>\n",
       "      <td>tf.Tensor(-0.030032245, shape=(), dtype=float32)</td>\n",
       "      <td>tf.Tensor(0.026240464, shape=(), dtype=float32)</td>\n",
       "      <td>...</td>\n",
       "      <td>tf.Tensor(-0.021820955, shape=(), dtype=float32)</td>\n",
       "      <td>tf.Tensor(-0.054204855, shape=(), dtype=float32)</td>\n",
       "      <td>tf.Tensor(0.078226514, shape=(), dtype=float32)</td>\n",
       "      <td>tf.Tensor(-0.013889627, shape=(), dtype=float32)</td>\n",
       "      <td>tf.Tensor(-0.054223295, shape=(), dtype=float32)</td>\n",
       "      <td>tf.Tensor(-0.053254947, shape=(), dtype=float32)</td>\n",
       "      <td>tf.Tensor(0.0072277193, shape=(), dtype=float32)</td>\n",
       "      <td>tf.Tensor(-0.029698607, shape=(), dtype=float32)</td>\n",
       "      <td>tf.Tensor(0.02548139, shape=(), dtype=float32)</td>\n",
       "      <td>tf.Tensor(0.012124321, shape=(), dtype=float32)</td>\n",
       "      <td>tf.Tensor(0.00032449176, shape=(), dtype=float32)</td>\n",
       "      <td>tf.Tensor(0.008369918, shape=(), dtype=float32)</td>\n",
       "      <td>tf.Tensor(-0.04119698, shape=(), dtype=float32)</td>\n",
       "      <td>tf.Tensor(0.08043293, shape=(), dtype=float32)</td>\n",
       "      <td>tf.Tensor(0.007009019, shape=(), dtype=float32)</td>\n",
       "      <td>tf.Tensor(-0.050937872, shape=(), dtype=float32)</td>\n",
       "      <td>tf.Tensor(0.013866385, shape=(), dtype=float32)</td>\n",
       "      <td>tf.Tensor(0.034640666, shape=(), dtype=float32)</td>\n",
       "      <td>tf.Tensor(0.008104291, shape=(), dtype=float32)</td>\n",
       "      <td>tf.Tensor(0.0214928, shape=(), dtype=float32)</td>\n",
       "      <td>tf.Tensor(0.11410708, shape=(), dtype=float32)</td>\n",
       "      <td>tf.Tensor(-0.07061694, shape=(), dtype=float32)</td>\n",
       "      <td>tf.Tensor(0.06558143, shape=(), dtype=float32)</td>\n",
       "      <td>tf.Tensor(-0.039064355, shape=(), dtype=float32)</td>\n",
       "      <td>tf.Tensor(0.005809189, shape=(), dtype=float32)</td>\n",
       "      <td>tf.Tensor(-0.078954406, shape=(), dtype=float32)</td>\n",
       "      <td>tf.Tensor(0.05952792, shape=(), dtype=float32)</td>\n",
       "      <td>tf.Tensor(0.032064784, shape=(), dtype=float32)</td>\n",
       "      <td>tf.Tensor(0.03661669, shape=(), dtype=float32)</td>\n",
       "      <td>tf.Tensor(0.0033105896, shape=(), dtype=float32)</td>\n",
       "    </tr>\n",
       "  </tbody>\n",
       "</table>\n",
       "<p>3 rows × 512 columns</p>\n",
       "</div>"
      ],
      "text/plain": [
       "                                                 0                                                 1                                                  2                                                 3                                                 4    \\\n",
       "0  tf.Tensor(-0.0052521224, shape=(), dtype=float32)  tf.Tensor(-0.038312003, shape=(), dtype=float32)  tf.Tensor(-0.0092201475, shape=(), dtype=float32)  tf.Tensor(-0.046096273, shape=(), dtype=float32)  tf.Tensor(-0.057657715, shape=(), dtype=float32)   \n",
       "1   tf.Tensor(-0.022675825, shape=(), dtype=float32)   tf.Tensor(-0.06907186, shape=(), dtype=float32)    tf.Tensor(0.015508688, shape=(), dtype=float32)  tf.Tensor(-0.029039722, shape=(), dtype=float32)   tf.Tensor(-0.08988538, shape=(), dtype=float32)   \n",
       "2      tf.Tensor(0.0190883, shape=(), dtype=float32)   tf.Tensor(0.009552207, shape=(), dtype=float32)   tf.Tensor(-0.047412913, shape=(), dtype=float32)   tf.Tensor(0.010493744, shape=(), dtype=float32)  tf.Tensor(-0.042908445, shape=(), dtype=float32)   \n",
       "\n",
       "                                                 5                                                  6                                                 7                                                 8                                                 9    \\\n",
       "0   tf.Tensor(-0.047684364, shape=(), dtype=float32)   tf.Tensor(-0.016511638, shape=(), dtype=float32)  tf.Tensor(0.0047285785, shape=(), dtype=float32)  tf.Tensor(-0.013010719, shape=(), dtype=float32)  tf.Tensor(-0.071381606, shape=(), dtype=float32)   \n",
       "1  tf.Tensor(-0.0010676517, shape=(), dtype=float32)   tf.Tensor(-0.014085733, shape=(), dtype=float32)   tf.Tensor(0.007255118, shape=(), dtype=float32)   tf.Tensor(-0.01998962, shape=(), dtype=float32)    tf.Tensor(0.06695189, shape=(), dtype=float32)   \n",
       "2    tf.Tensor(-0.06331452, shape=(), dtype=float32)  tf.Tensor(-0.0031612592, shape=(), dtype=float32)   tf.Tensor(0.051496133, shape=(), dtype=float32)    tf.Tensor(0.02714771, shape=(), dtype=float32)  tf.Tensor(-0.010961134, shape=(), dtype=float32)   \n",
       "\n",
       "                                                10                                               11                                                12                                               13                                                 14   \\\n",
       "0  tf.Tensor(-0.030422544, shape=(), dtype=float32)  tf.Tensor(0.023165468, shape=(), dtype=float32)   tf.Tensor(0.017145863, shape=(), dtype=float32)   tf.Tensor(0.04533131, shape=(), dtype=float32)    tf.Tensor(0.015669946, shape=(), dtype=float32)   \n",
       "1   tf.Tensor(0.017029501, shape=(), dtype=float32)  tf.Tensor(0.022945879, shape=(), dtype=float32)  tf.Tensor(-0.006108543, shape=(), dtype=float32)  tf.Tensor(0.051182974, shape=(), dtype=float32)    tf.Tensor(-0.04379787, shape=(), dtype=float32)   \n",
       "2    tf.Tensor(0.03498859, shape=(), dtype=float32)  tf.Tensor(0.057352275, shape=(), dtype=float32)   tf.Tensor(0.046823528, shape=(), dtype=float32)  tf.Tensor(0.057418335, shape=(), dtype=float32)  tf.Tensor(-0.0036693867, shape=(), dtype=float32)   \n",
       "\n",
       "                                                15                                                 16                                                17                                                18                                                 19   \\\n",
       "0  tf.Tensor(-0.013959981, shape=(), dtype=float32)   tf.Tensor(-0.053601336, shape=(), dtype=float32)  tf.Tensor(-0.011878509, shape=(), dtype=float32)   tf.Tensor(-0.11063096, shape=(), dtype=float32)   tf.Tensor(0.0048499727, shape=(), dtype=float32)   \n",
       "1  tf.Tensor(-0.041236278, shape=(), dtype=float32)    tf.Tensor(0.029429333, shape=(), dtype=float32)   tf.Tensor(0.048888765, shape=(), dtype=float32)   tf.Tensor(-0.11650518, shape=(), dtype=float32)  tf.Tensor(-0.0024727038, shape=(), dtype=float32)   \n",
       "2  tf.Tensor(0.0066045835, shape=(), dtype=float32)  tf.Tensor(-0.0013654025, shape=(), dtype=float32)  tf.Tensor(0.0038320296, shape=(), dtype=float32)  tf.Tensor(-0.090584226, shape=(), dtype=float32)     tf.Tensor(0.04874487, shape=(), dtype=float32)   \n",
       "\n",
       "                                                20                                                21                                               22                                                23                                               24   \\\n",
       "0  tf.Tensor(0.0067631947, shape=(), dtype=float32)   tf.Tensor(0.039811607, shape=(), dtype=float32)   tf.Tensor(0.06601548, shape=(), dtype=float32)  tf.Tensor(-0.012721934, shape=(), dtype=float32)    tf.Tensor(0.0374415, shape=(), dtype=float32)   \n",
       "1    tf.Tensor(0.02891673, shape=(), dtype=float32)  tf.Tensor(9.119805e-05, shape=(), dtype=float32)  tf.Tensor(0.024404421, shape=(), dtype=float32)   tf.Tensor(0.012593313, shape=(), dtype=float32)  tf.Tensor(0.020244466, shape=(), dtype=float32)   \n",
       "2    tf.Tensor(0.02869539, shape=(), dtype=float32)  tf.Tensor(-0.021483542, shape=(), dtype=float32)  tf.Tensor(0.052940544, shape=(), dtype=float32)   tf.Tensor(-0.01777254, shape=(), dtype=float32)  tf.Tensor(-0.04854997, shape=(), dtype=float32)   \n",
       "\n",
       "                                                25                                                26                                               27                                                28                                                29   ...  \\\n",
       "0   tf.Tensor(0.030250402, shape=(), dtype=float32)  tf.Tensor(-0.015202931, shape=(), dtype=float32)  tf.Tensor(0.011007949, shape=(), dtype=float32)     tf.Tensor(0.0168568, shape=(), dtype=float32)  tf.Tensor(-0.019257642, shape=(), dtype=float32)  ...   \n",
       "1   tf.Tensor(0.020711716, shape=(), dtype=float32)  tf.Tensor(-0.031881034, shape=(), dtype=float32)   tf.Tensor(0.05342521, shape=(), dtype=float32)  tf.Tensor(0.0026995616, shape=(), dtype=float32)  tf.Tensor(-0.080842726, shape=(), dtype=float32)  ...   \n",
       "2  tf.Tensor(-0.075713105, shape=(), dtype=float32)  tf.Tensor(-0.061066058, shape=(), dtype=float32)   tf.Tensor(0.06376976, shape=(), dtype=float32)  tf.Tensor(-0.030032245, shape=(), dtype=float32)   tf.Tensor(0.026240464, shape=(), dtype=float32)  ...   \n",
       "\n",
       "                                                482                                                483                                                484                                               485                                               486  \\\n",
       "0    tf.Tensor(0.08616638, shape=(), dtype=float32)    tf.Tensor(-0.02443323, shape=(), dtype=float32)  tf.Tensor(-0.0009149233, shape=(), dtype=float32)   tf.Tensor(0.038853917, shape=(), dtype=float32)  tf.Tensor(-0.031945083, shape=(), dtype=float32)   \n",
       "1    tf.Tensor(0.10710526, shape=(), dtype=float32)  tf.Tensor(0.00011630478, shape=(), dtype=float32)    tf.Tensor(0.008712973, shape=(), dtype=float32)    tf.Tensor(0.07481752, shape=(), dtype=float32)   tf.Tensor(-0.04523135, shape=(), dtype=float32)   \n",
       "2  tf.Tensor(-0.021820955, shape=(), dtype=float32)   tf.Tensor(-0.054204855, shape=(), dtype=float32)    tf.Tensor(0.078226514, shape=(), dtype=float32)  tf.Tensor(-0.013889627, shape=(), dtype=float32)  tf.Tensor(-0.054223295, shape=(), dtype=float32)   \n",
       "\n",
       "                                                487                                               488                                                489                                              490                                               491  \\\n",
       "0   tf.Tensor(0.043825854, shape=(), dtype=float32)   tf.Tensor(0.058404736, shape=(), dtype=float32)     tf.Tensor(0.03934806, shape=(), dtype=float32)   tf.Tensor(0.08239184, shape=(), dtype=float32)  tf.Tensor(-0.028973904, shape=(), dtype=float32)   \n",
       "1   tf.Tensor(0.052447543, shape=(), dtype=float32)    tf.Tensor(0.03915357, shape=(), dtype=float32)  tf.Tensor(-0.0018760521, shape=(), dtype=float32)  tf.Tensor(0.017901927, shape=(), dtype=float32)  tf.Tensor(-0.014710554, shape=(), dtype=float32)   \n",
       "2  tf.Tensor(-0.053254947, shape=(), dtype=float32)  tf.Tensor(0.0072277193, shape=(), dtype=float32)   tf.Tensor(-0.029698607, shape=(), dtype=float32)   tf.Tensor(0.02548139, shape=(), dtype=float32)   tf.Tensor(0.012124321, shape=(), dtype=float32)   \n",
       "\n",
       "                                                 492                                               493                                                494                                             495                                                496  \\\n",
       "0     tf.Tensor(0.01263683, shape=(), dtype=float32)  tf.Tensor(-0.008682322, shape=(), dtype=float32)  tf.Tensor(0.00058252894, shape=(), dtype=float32)  tf.Tensor(0.07517927, shape=(), dtype=float32)    tf.Tensor(0.017356122, shape=(), dtype=float32)   \n",
       "1     tf.Tensor(0.04312735, shape=(), dtype=float32)  tf.Tensor(-0.030878657, shape=(), dtype=float32)   tf.Tensor(-0.056910444, shape=(), dtype=float32)  tf.Tensor(0.05889421, shape=(), dtype=float32)  tf.Tensor(-0.0065958914, shape=(), dtype=float32)   \n",
       "2  tf.Tensor(0.00032449176, shape=(), dtype=float32)   tf.Tensor(0.008369918, shape=(), dtype=float32)    tf.Tensor(-0.04119698, shape=(), dtype=float32)  tf.Tensor(0.08043293, shape=(), dtype=float32)    tf.Tensor(0.007009019, shape=(), dtype=float32)   \n",
       "\n",
       "                                                497                                               498                                               499                                               500                                               501  \\\n",
       "0   tf.Tensor(0.012234441, shape=(), dtype=float32)  tf.Tensor(-0.019842025, shape=(), dtype=float32)  tf.Tensor(-0.077491924, shape=(), dtype=float32)   tf.Tensor(-0.02440608, shape=(), dtype=float32)  tf.Tensor(-0.032542024, shape=(), dtype=float32)   \n",
       "1  tf.Tensor(-0.019973183, shape=(), dtype=float32)  tf.Tensor(-0.037767112, shape=(), dtype=float32)   tf.Tensor(0.021722129, shape=(), dtype=float32)  tf.Tensor(-0.032639645, shape=(), dtype=float32)  tf.Tensor(-0.005521554, shape=(), dtype=float32)   \n",
       "2  tf.Tensor(-0.050937872, shape=(), dtype=float32)   tf.Tensor(0.013866385, shape=(), dtype=float32)   tf.Tensor(0.034640666, shape=(), dtype=float32)   tf.Tensor(0.008104291, shape=(), dtype=float32)     tf.Tensor(0.0214928, shape=(), dtype=float32)   \n",
       "\n",
       "                                               502                                                503                                              504                                               505                                                506  \\\n",
       "0  tf.Tensor(0.012990026, shape=(), dtype=float32)    tf.Tensor(-0.05957967, shape=(), dtype=float32)  tf.Tensor(0.026064044, shape=(), dtype=float32)  tf.Tensor(-0.052391514, shape=(), dtype=float32)    tf.Tensor(-0.05916791, shape=(), dtype=float32)   \n",
       "1  tf.Tensor(-0.03981594, shape=(), dtype=float32)  tf.Tensor(-0.0046574073, shape=(), dtype=float32)  tf.Tensor(0.024200806, shape=(), dtype=float32)  tf.Tensor(-0.026657948, shape=(), dtype=float32)  tf.Tensor(-0.0063680764, shape=(), dtype=float32)   \n",
       "2   tf.Tensor(0.11410708, shape=(), dtype=float32)    tf.Tensor(-0.07061694, shape=(), dtype=float32)   tf.Tensor(0.06558143, shape=(), dtype=float32)  tf.Tensor(-0.039064355, shape=(), dtype=float32)    tf.Tensor(0.005809189, shape=(), dtype=float32)   \n",
       "\n",
       "                                                507                                               508                                              509                                                 510                                               511  \n",
       "0  tf.Tensor(-0.025977198, shape=(), dtype=float32)  tf.Tensor(-0.031976104, shape=(), dtype=float32)  tf.Tensor(0.021790497, shape=(), dtype=float32)      tf.Tensor(0.06280179, shape=(), dtype=float32)  tf.Tensor(-0.016225358, shape=(), dtype=float32)  \n",
       "1  tf.Tensor(-0.069105715, shape=(), dtype=float32)   tf.Tensor(0.029129585, shape=(), dtype=float32)   tf.Tensor(0.08762303, shape=(), dtype=float32)  tf.Tensor(-0.00076926645, shape=(), dtype=float32)  tf.Tensor(-0.054108236, shape=(), dtype=float32)  \n",
       "2  tf.Tensor(-0.078954406, shape=(), dtype=float32)    tf.Tensor(0.05952792, shape=(), dtype=float32)  tf.Tensor(0.032064784, shape=(), dtype=float32)      tf.Tensor(0.03661669, shape=(), dtype=float32)  tf.Tensor(0.0033105896, shape=(), dtype=float32)  \n",
       "\n",
       "[3 rows x 512 columns]"
      ]
     },
     "execution_count": 14,
     "metadata": {},
     "output_type": "execute_result"
    }
   ],
   "source": [
    "pd.DataFrame(en_result)"
   ]
  },
  {
   "cell_type": "code",
   "execution_count": 53,
   "id": "d0d3ceb6",
   "metadata": {},
   "outputs": [
    {
     "data": {
      "text/html": [
       "<div>\n",
       "<style scoped>\n",
       "    .dataframe tbody tr th:only-of-type {\n",
       "        vertical-align: middle;\n",
       "    }\n",
       "\n",
       "    .dataframe tbody tr th {\n",
       "        vertical-align: top;\n",
       "    }\n",
       "\n",
       "    .dataframe thead th {\n",
       "        text-align: right;\n",
       "    }\n",
       "</style>\n",
       "<table border=\"1\" class=\"dataframe\">\n",
       "  <thead>\n",
       "    <tr style=\"text-align: right;\">\n",
       "      <th></th>\n",
       "      <th>0</th>\n",
       "      <th>1</th>\n",
       "      <th>2</th>\n",
       "      <th>3</th>\n",
       "      <th>4</th>\n",
       "      <th>5</th>\n",
       "      <th>6</th>\n",
       "      <th>7</th>\n",
       "      <th>8</th>\n",
       "      <th>9</th>\n",
       "      <th>10</th>\n",
       "      <th>11</th>\n",
       "      <th>12</th>\n",
       "      <th>13</th>\n",
       "      <th>14</th>\n",
       "      <th>15</th>\n",
       "      <th>16</th>\n",
       "      <th>17</th>\n",
       "      <th>18</th>\n",
       "      <th>19</th>\n",
       "      <th>20</th>\n",
       "      <th>21</th>\n",
       "      <th>22</th>\n",
       "      <th>23</th>\n",
       "      <th>24</th>\n",
       "      <th>25</th>\n",
       "      <th>26</th>\n",
       "      <th>27</th>\n",
       "      <th>28</th>\n",
       "      <th>29</th>\n",
       "      <th>...</th>\n",
       "      <th>482</th>\n",
       "      <th>483</th>\n",
       "      <th>484</th>\n",
       "      <th>485</th>\n",
       "      <th>486</th>\n",
       "      <th>487</th>\n",
       "      <th>488</th>\n",
       "      <th>489</th>\n",
       "      <th>490</th>\n",
       "      <th>491</th>\n",
       "      <th>492</th>\n",
       "      <th>493</th>\n",
       "      <th>494</th>\n",
       "      <th>495</th>\n",
       "      <th>496</th>\n",
       "      <th>497</th>\n",
       "      <th>498</th>\n",
       "      <th>499</th>\n",
       "      <th>500</th>\n",
       "      <th>501</th>\n",
       "      <th>502</th>\n",
       "      <th>503</th>\n",
       "      <th>504</th>\n",
       "      <th>505</th>\n",
       "      <th>506</th>\n",
       "      <th>507</th>\n",
       "      <th>508</th>\n",
       "      <th>509</th>\n",
       "      <th>510</th>\n",
       "      <th>511</th>\n",
       "    </tr>\n",
       "  </thead>\n",
       "  <tbody>\n",
       "    <tr>\n",
       "      <th>0</th>\n",
       "      <td>tf.Tensor(0.100930505, shape=(), dtype=float32)</td>\n",
       "      <td>tf.Tensor(-0.03811244, shape=(), dtype=float32)</td>\n",
       "      <td>tf.Tensor(0.019926714, shape=(), dtype=float32)</td>\n",
       "      <td>tf.Tensor(0.029323468, shape=(), dtype=float32)</td>\n",
       "      <td>tf.Tensor(-0.05289481, shape=(), dtype=float32)</td>\n",
       "      <td>tf.Tensor(0.015669795, shape=(), dtype=float32)</td>\n",
       "      <td>tf.Tensor(-0.04717841, shape=(), dtype=float32)</td>\n",
       "      <td>tf.Tensor(0.018271927, shape=(), dtype=float32)</td>\n",
       "      <td>tf.Tensor(-0.019984175, shape=(), dtype=float32)</td>\n",
       "      <td>tf.Tensor(0.040978078, shape=(), dtype=float32)</td>\n",
       "      <td>tf.Tensor(-0.060936693, shape=(), dtype=float32)</td>\n",
       "      <td>tf.Tensor(-0.029094474, shape=(), dtype=float32)</td>\n",
       "      <td>tf.Tensor(-0.0658835, shape=(), dtype=float32)</td>\n",
       "      <td>tf.Tensor(0.027685061, shape=(), dtype=float32)</td>\n",
       "      <td>tf.Tensor(-0.040442456, shape=(), dtype=float32)</td>\n",
       "      <td>tf.Tensor(-0.027291972, shape=(), dtype=float32)</td>\n",
       "      <td>tf.Tensor(0.0027967477, shape=(), dtype=float32)</td>\n",
       "      <td>tf.Tensor(-0.0015741726, shape=(), dtype=float32)</td>\n",
       "      <td>tf.Tensor(0.03524468, shape=(), dtype=float32)</td>\n",
       "      <td>tf.Tensor(0.07837956, shape=(), dtype=float32)</td>\n",
       "      <td>tf.Tensor(0.03962936, shape=(), dtype=float32)</td>\n",
       "      <td>tf.Tensor(0.09919009, shape=(), dtype=float32)</td>\n",
       "      <td>tf.Tensor(-0.035139784, shape=(), dtype=float32)</td>\n",
       "      <td>tf.Tensor(-0.018427232, shape=(), dtype=float32)</td>\n",
       "      <td>tf.Tensor(0.01435525, shape=(), dtype=float32)</td>\n",
       "      <td>tf.Tensor(0.012056266, shape=(), dtype=float32)</td>\n",
       "      <td>tf.Tensor(0.04309485, shape=(), dtype=float32)</td>\n",
       "      <td>tf.Tensor(0.0015867979, shape=(), dtype=float32)</td>\n",
       "      <td>tf.Tensor(0.0049482374, shape=(), dtype=float32)</td>\n",
       "      <td>tf.Tensor(-0.010632151, shape=(), dtype=float32)</td>\n",
       "      <td>...</td>\n",
       "      <td>tf.Tensor(0.064533256, shape=(), dtype=float32)</td>\n",
       "      <td>tf.Tensor(-0.00040032185, shape=(), dtype=float32)</td>\n",
       "      <td>tf.Tensor(-0.095893316, shape=(), dtype=float32)</td>\n",
       "      <td>tf.Tensor(-0.005572257, shape=(), dtype=float32)</td>\n",
       "      <td>tf.Tensor(0.0051221484, shape=(), dtype=float32)</td>\n",
       "      <td>tf.Tensor(-0.079065084, shape=(), dtype=float32)</td>\n",
       "      <td>tf.Tensor(0.0039408454, shape=(), dtype=float32)</td>\n",
       "      <td>tf.Tensor(0.053690773, shape=(), dtype=float32)</td>\n",
       "      <td>tf.Tensor(-0.032789387, shape=(), dtype=float32)</td>\n",
       "      <td>tf.Tensor(-0.0153906755, shape=(), dtype=float32)</td>\n",
       "      <td>tf.Tensor(-0.0075982413, shape=(), dtype=float32)</td>\n",
       "      <td>tf.Tensor(-0.0017540774, shape=(), dtype=float32)</td>\n",
       "      <td>tf.Tensor(0.09800392, shape=(), dtype=float32)</td>\n",
       "      <td>tf.Tensor(-0.07761244, shape=(), dtype=float32)</td>\n",
       "      <td>tf.Tensor(-0.032374293, shape=(), dtype=float32)</td>\n",
       "      <td>tf.Tensor(0.075825386, shape=(), dtype=float32)</td>\n",
       "      <td>tf.Tensor(0.015849365, shape=(), dtype=float32)</td>\n",
       "      <td>tf.Tensor(0.036486384, shape=(), dtype=float32)</td>\n",
       "      <td>tf.Tensor(-0.100420214, shape=(), dtype=float32)</td>\n",
       "      <td>tf.Tensor(-0.046475027, shape=(), dtype=float32)</td>\n",
       "      <td>tf.Tensor(-0.09048653, shape=(), dtype=float32)</td>\n",
       "      <td>tf.Tensor(0.007016752, shape=(), dtype=float32)</td>\n",
       "      <td>tf.Tensor(0.040750194, shape=(), dtype=float32)</td>\n",
       "      <td>tf.Tensor(-0.022152474, shape=(), dtype=float32)</td>\n",
       "      <td>tf.Tensor(0.0044249543, shape=(), dtype=float32)</td>\n",
       "      <td>tf.Tensor(-0.0066205417, shape=(), dtype=float32)</td>\n",
       "      <td>tf.Tensor(-0.0363718, shape=(), dtype=float32)</td>\n",
       "      <td>tf.Tensor(0.067406654, shape=(), dtype=float32)</td>\n",
       "      <td>tf.Tensor(0.018386101, shape=(), dtype=float32)</td>\n",
       "      <td>tf.Tensor(0.05333169, shape=(), dtype=float32)</td>\n",
       "    </tr>\n",
       "    <tr>\n",
       "      <th>1</th>\n",
       "      <td>tf.Tensor(0.036416154, shape=(), dtype=float32)</td>\n",
       "      <td>tf.Tensor(-0.0317799, shape=(), dtype=float32)</td>\n",
       "      <td>tf.Tensor(0.06663751, shape=(), dtype=float32)</td>\n",
       "      <td>tf.Tensor(0.05314588, shape=(), dtype=float32)</td>\n",
       "      <td>tf.Tensor(0.036613952, shape=(), dtype=float32)</td>\n",
       "      <td>tf.Tensor(0.03486127, shape=(), dtype=float32)</td>\n",
       "      <td>tf.Tensor(-0.013811082, shape=(), dtype=float32)</td>\n",
       "      <td>tf.Tensor(0.0513831, shape=(), dtype=float32)</td>\n",
       "      <td>tf.Tensor(-0.07420832, shape=(), dtype=float32)</td>\n",
       "      <td>tf.Tensor(-0.004965903, shape=(), dtype=float32)</td>\n",
       "      <td>tf.Tensor(-0.049671374, shape=(), dtype=float32)</td>\n",
       "      <td>tf.Tensor(0.031605206, shape=(), dtype=float32)</td>\n",
       "      <td>tf.Tensor(0.06303085, shape=(), dtype=float32)</td>\n",
       "      <td>tf.Tensor(0.03258419, shape=(), dtype=float32)</td>\n",
       "      <td>tf.Tensor(0.03634981, shape=(), dtype=float32)</td>\n",
       "      <td>tf.Tensor(0.065749854, shape=(), dtype=float32)</td>\n",
       "      <td>tf.Tensor(-0.016376898, shape=(), dtype=float32)</td>\n",
       "      <td>tf.Tensor(-0.059065584, shape=(), dtype=float32)</td>\n",
       "      <td>tf.Tensor(0.07745469, shape=(), dtype=float32)</td>\n",
       "      <td>tf.Tensor(-0.01334773, shape=(), dtype=float32)</td>\n",
       "      <td>tf.Tensor(0.07530041, shape=(), dtype=float32)</td>\n",
       "      <td>tf.Tensor(-0.02033835, shape=(), dtype=float32)</td>\n",
       "      <td>tf.Tensor(0.014505364, shape=(), dtype=float32)</td>\n",
       "      <td>tf.Tensor(0.011138572, shape=(), dtype=float32)</td>\n",
       "      <td>tf.Tensor(-0.07931426, shape=(), dtype=float32)</td>\n",
       "      <td>tf.Tensor(0.0034463282, shape=(), dtype=float32)</td>\n",
       "      <td>tf.Tensor(0.023670776, shape=(), dtype=float32)</td>\n",
       "      <td>tf.Tensor(0.047036633, shape=(), dtype=float32)</td>\n",
       "      <td>tf.Tensor(0.05230046, shape=(), dtype=float32)</td>\n",
       "      <td>tf.Tensor(-0.021733245, shape=(), dtype=float32)</td>\n",
       "      <td>...</td>\n",
       "      <td>tf.Tensor(-0.018100288, shape=(), dtype=float32)</td>\n",
       "      <td>tf.Tensor(-0.03180184, shape=(), dtype=float32)</td>\n",
       "      <td>tf.Tensor(-0.07579671, shape=(), dtype=float32)</td>\n",
       "      <td>tf.Tensor(-0.027446592, shape=(), dtype=float32)</td>\n",
       "      <td>tf.Tensor(0.021469759, shape=(), dtype=float32)</td>\n",
       "      <td>tf.Tensor(0.053139936, shape=(), dtype=float32)</td>\n",
       "      <td>tf.Tensor(-0.016529312, shape=(), dtype=float32)</td>\n",
       "      <td>tf.Tensor(-0.01361836, shape=(), dtype=float32)</td>\n",
       "      <td>tf.Tensor(0.023027213, shape=(), dtype=float32)</td>\n",
       "      <td>tf.Tensor(0.004397537, shape=(), dtype=float32)</td>\n",
       "      <td>tf.Tensor(-0.005562302, shape=(), dtype=float32)</td>\n",
       "      <td>tf.Tensor(0.019612428, shape=(), dtype=float32)</td>\n",
       "      <td>tf.Tensor(0.080639824, shape=(), dtype=float32)</td>\n",
       "      <td>tf.Tensor(-0.053590663, shape=(), dtype=float32)</td>\n",
       "      <td>tf.Tensor(-0.03757472, shape=(), dtype=float32)</td>\n",
       "      <td>tf.Tensor(0.041144565, shape=(), dtype=float32)</td>\n",
       "      <td>tf.Tensor(0.03649115, shape=(), dtype=float32)</td>\n",
       "      <td>tf.Tensor(-0.009271731, shape=(), dtype=float32)</td>\n",
       "      <td>tf.Tensor(-0.08189945, shape=(), dtype=float32)</td>\n",
       "      <td>tf.Tensor(0.01157242, shape=(), dtype=float32)</td>\n",
       "      <td>tf.Tensor(-0.01023039, shape=(), dtype=float32)</td>\n",
       "      <td>tf.Tensor(-0.008717486, shape=(), dtype=float32)</td>\n",
       "      <td>tf.Tensor(-0.040577006, shape=(), dtype=float32)</td>\n",
       "      <td>tf.Tensor(0.02172733, shape=(), dtype=float32)</td>\n",
       "      <td>tf.Tensor(-0.051883098, shape=(), dtype=float32)</td>\n",
       "      <td>tf.Tensor(-0.0017678161, shape=(), dtype=float32)</td>\n",
       "      <td>tf.Tensor(-0.01492806, shape=(), dtype=float32)</td>\n",
       "      <td>tf.Tensor(0.035867456, shape=(), dtype=float32)</td>\n",
       "      <td>tf.Tensor(-0.0016289989, shape=(), dtype=float32)</td>\n",
       "      <td>tf.Tensor(0.04395661, shape=(), dtype=float32)</td>\n",
       "    </tr>\n",
       "    <tr>\n",
       "      <th>2</th>\n",
       "      <td>tf.Tensor(-0.0055238795, shape=(), dtype=float32)</td>\n",
       "      <td>tf.Tensor(0.005995298, shape=(), dtype=float32)</td>\n",
       "      <td>tf.Tensor(-0.014805408, shape=(), dtype=float32)</td>\n",
       "      <td>tf.Tensor(0.0109894695, shape=(), dtype=float32)</td>\n",
       "      <td>tf.Tensor(-0.09355523, shape=(), dtype=float32)</td>\n",
       "      <td>tf.Tensor(-0.08445048, shape=(), dtype=float32)</td>\n",
       "      <td>tf.Tensor(-0.028026799, shape=(), dtype=float32)</td>\n",
       "      <td>tf.Tensor(-0.05219319, shape=(), dtype=float32)</td>\n",
       "      <td>tf.Tensor(-0.067599826, shape=(), dtype=float32)</td>\n",
       "      <td>tf.Tensor(0.031273153, shape=(), dtype=float32)</td>\n",
       "      <td>tf.Tensor(-0.03223499, shape=(), dtype=float32)</td>\n",
       "      <td>tf.Tensor(-0.012820905, shape=(), dtype=float32)</td>\n",
       "      <td>tf.Tensor(0.061318424, shape=(), dtype=float32)</td>\n",
       "      <td>tf.Tensor(0.0262688, shape=(), dtype=float32)</td>\n",
       "      <td>tf.Tensor(-0.00983496, shape=(), dtype=float32)</td>\n",
       "      <td>tf.Tensor(0.0029805773, shape=(), dtype=float32)</td>\n",
       "      <td>tf.Tensor(0.0014120713, shape=(), dtype=float32)</td>\n",
       "      <td>tf.Tensor(0.0322937, shape=(), dtype=float32)</td>\n",
       "      <td>tf.Tensor(0.069571264, shape=(), dtype=float32)</td>\n",
       "      <td>tf.Tensor(0.015436998, shape=(), dtype=float32)</td>\n",
       "      <td>tf.Tensor(0.03480233, shape=(), dtype=float32)</td>\n",
       "      <td>tf.Tensor(0.02530099, shape=(), dtype=float32)</td>\n",
       "      <td>tf.Tensor(-0.021689255, shape=(), dtype=float32)</td>\n",
       "      <td>tf.Tensor(0.046269976, shape=(), dtype=float32)</td>\n",
       "      <td>tf.Tensor(-0.011405175, shape=(), dtype=float32)</td>\n",
       "      <td>tf.Tensor(-0.005284346, shape=(), dtype=float32)</td>\n",
       "      <td>tf.Tensor(0.040345825, shape=(), dtype=float32)</td>\n",
       "      <td>tf.Tensor(0.08150446, shape=(), dtype=float32)</td>\n",
       "      <td>tf.Tensor(0.04547663, shape=(), dtype=float32)</td>\n",
       "      <td>tf.Tensor(-0.012024143, shape=(), dtype=float32)</td>\n",
       "      <td>...</td>\n",
       "      <td>tf.Tensor(-0.028364917, shape=(), dtype=float32)</td>\n",
       "      <td>tf.Tensor(0.006296977, shape=(), dtype=float32)</td>\n",
       "      <td>tf.Tensor(-0.08699063, shape=(), dtype=float32)</td>\n",
       "      <td>tf.Tensor(-0.010001684, shape=(), dtype=float32)</td>\n",
       "      <td>tf.Tensor(0.008345092, shape=(), dtype=float32)</td>\n",
       "      <td>tf.Tensor(0.07991507, shape=(), dtype=float32)</td>\n",
       "      <td>tf.Tensor(-0.00027180748, shape=(), dtype=float32)</td>\n",
       "      <td>tf.Tensor(-0.011424885, shape=(), dtype=float32)</td>\n",
       "      <td>tf.Tensor(0.0057133497, shape=(), dtype=float32)</td>\n",
       "      <td>tf.Tensor(-0.04642623, shape=(), dtype=float32)</td>\n",
       "      <td>tf.Tensor(-0.03418243, shape=(), dtype=float32)</td>\n",
       "      <td>tf.Tensor(0.0028588725, shape=(), dtype=float32)</td>\n",
       "      <td>tf.Tensor(0.08679493, shape=(), dtype=float32)</td>\n",
       "      <td>tf.Tensor(0.018939061, shape=(), dtype=float32)</td>\n",
       "      <td>tf.Tensor(0.03855309, shape=(), dtype=float32)</td>\n",
       "      <td>tf.Tensor(0.055582944, shape=(), dtype=float32)</td>\n",
       "      <td>tf.Tensor(-0.030461645, shape=(), dtype=float32)</td>\n",
       "      <td>tf.Tensor(0.05789046, shape=(), dtype=float32)</td>\n",
       "      <td>tf.Tensor(-0.07739197, shape=(), dtype=float32)</td>\n",
       "      <td>tf.Tensor(0.06186163, shape=(), dtype=float32)</td>\n",
       "      <td>tf.Tensor(-0.030122971, shape=(), dtype=float32)</td>\n",
       "      <td>tf.Tensor(0.012908215, shape=(), dtype=float32)</td>\n",
       "      <td>tf.Tensor(0.05532173, shape=(), dtype=float32)</td>\n",
       "      <td>tf.Tensor(-0.032117724, shape=(), dtype=float32)</td>\n",
       "      <td>tf.Tensor(-0.01554179, shape=(), dtype=float32)</td>\n",
       "      <td>tf.Tensor(0.004636642, shape=(), dtype=float32)</td>\n",
       "      <td>tf.Tensor(0.0462467, shape=(), dtype=float32)</td>\n",
       "      <td>tf.Tensor(-0.0398063, shape=(), dtype=float32)</td>\n",
       "      <td>tf.Tensor(0.031135973, shape=(), dtype=float32)</td>\n",
       "      <td>tf.Tensor(-0.03667421, shape=(), dtype=float32)</td>\n",
       "    </tr>\n",
       "  </tbody>\n",
       "</table>\n",
       "<p>3 rows × 512 columns</p>\n",
       "</div>"
      ],
      "text/plain": [
       "                                                 0                                                1                                                 2                                                 3                                                4    \\\n",
       "0    tf.Tensor(0.100930505, shape=(), dtype=float32)  tf.Tensor(-0.03811244, shape=(), dtype=float32)   tf.Tensor(0.019926714, shape=(), dtype=float32)   tf.Tensor(0.029323468, shape=(), dtype=float32)  tf.Tensor(-0.05289481, shape=(), dtype=float32)   \n",
       "1    tf.Tensor(0.036416154, shape=(), dtype=float32)   tf.Tensor(-0.0317799, shape=(), dtype=float32)    tf.Tensor(0.06663751, shape=(), dtype=float32)    tf.Tensor(0.05314588, shape=(), dtype=float32)  tf.Tensor(0.036613952, shape=(), dtype=float32)   \n",
       "2  tf.Tensor(-0.0055238795, shape=(), dtype=float32)  tf.Tensor(0.005995298, shape=(), dtype=float32)  tf.Tensor(-0.014805408, shape=(), dtype=float32)  tf.Tensor(0.0109894695, shape=(), dtype=float32)  tf.Tensor(-0.09355523, shape=(), dtype=float32)   \n",
       "\n",
       "                                               5                                                 6                                                7                                                 8                                                 9    \\\n",
       "0  tf.Tensor(0.015669795, shape=(), dtype=float32)   tf.Tensor(-0.04717841, shape=(), dtype=float32)  tf.Tensor(0.018271927, shape=(), dtype=float32)  tf.Tensor(-0.019984175, shape=(), dtype=float32)   tf.Tensor(0.040978078, shape=(), dtype=float32)   \n",
       "1   tf.Tensor(0.03486127, shape=(), dtype=float32)  tf.Tensor(-0.013811082, shape=(), dtype=float32)    tf.Tensor(0.0513831, shape=(), dtype=float32)   tf.Tensor(-0.07420832, shape=(), dtype=float32)  tf.Tensor(-0.004965903, shape=(), dtype=float32)   \n",
       "2  tf.Tensor(-0.08445048, shape=(), dtype=float32)  tf.Tensor(-0.028026799, shape=(), dtype=float32)  tf.Tensor(-0.05219319, shape=(), dtype=float32)  tf.Tensor(-0.067599826, shape=(), dtype=float32)   tf.Tensor(0.031273153, shape=(), dtype=float32)   \n",
       "\n",
       "                                                10                                                11                                               12                                               13                                                14   \\\n",
       "0  tf.Tensor(-0.060936693, shape=(), dtype=float32)  tf.Tensor(-0.029094474, shape=(), dtype=float32)   tf.Tensor(-0.0658835, shape=(), dtype=float32)  tf.Tensor(0.027685061, shape=(), dtype=float32)  tf.Tensor(-0.040442456, shape=(), dtype=float32)   \n",
       "1  tf.Tensor(-0.049671374, shape=(), dtype=float32)   tf.Tensor(0.031605206, shape=(), dtype=float32)   tf.Tensor(0.06303085, shape=(), dtype=float32)   tf.Tensor(0.03258419, shape=(), dtype=float32)    tf.Tensor(0.03634981, shape=(), dtype=float32)   \n",
       "2   tf.Tensor(-0.03223499, shape=(), dtype=float32)  tf.Tensor(-0.012820905, shape=(), dtype=float32)  tf.Tensor(0.061318424, shape=(), dtype=float32)    tf.Tensor(0.0262688, shape=(), dtype=float32)   tf.Tensor(-0.00983496, shape=(), dtype=float32)   \n",
       "\n",
       "                                                15                                                16                                                 17                                               18                                               19   \\\n",
       "0  tf.Tensor(-0.027291972, shape=(), dtype=float32)  tf.Tensor(0.0027967477, shape=(), dtype=float32)  tf.Tensor(-0.0015741726, shape=(), dtype=float32)   tf.Tensor(0.03524468, shape=(), dtype=float32)   tf.Tensor(0.07837956, shape=(), dtype=float32)   \n",
       "1   tf.Tensor(0.065749854, shape=(), dtype=float32)  tf.Tensor(-0.016376898, shape=(), dtype=float32)   tf.Tensor(-0.059065584, shape=(), dtype=float32)   tf.Tensor(0.07745469, shape=(), dtype=float32)  tf.Tensor(-0.01334773, shape=(), dtype=float32)   \n",
       "2  tf.Tensor(0.0029805773, shape=(), dtype=float32)  tf.Tensor(0.0014120713, shape=(), dtype=float32)      tf.Tensor(0.0322937, shape=(), dtype=float32)  tf.Tensor(0.069571264, shape=(), dtype=float32)  tf.Tensor(0.015436998, shape=(), dtype=float32)   \n",
       "\n",
       "                                              20                                               21                                                22                                                23                                                24   \\\n",
       "0  tf.Tensor(0.03962936, shape=(), dtype=float32)   tf.Tensor(0.09919009, shape=(), dtype=float32)  tf.Tensor(-0.035139784, shape=(), dtype=float32)  tf.Tensor(-0.018427232, shape=(), dtype=float32)    tf.Tensor(0.01435525, shape=(), dtype=float32)   \n",
       "1  tf.Tensor(0.07530041, shape=(), dtype=float32)  tf.Tensor(-0.02033835, shape=(), dtype=float32)   tf.Tensor(0.014505364, shape=(), dtype=float32)   tf.Tensor(0.011138572, shape=(), dtype=float32)   tf.Tensor(-0.07931426, shape=(), dtype=float32)   \n",
       "2  tf.Tensor(0.03480233, shape=(), dtype=float32)   tf.Tensor(0.02530099, shape=(), dtype=float32)  tf.Tensor(-0.021689255, shape=(), dtype=float32)   tf.Tensor(0.046269976, shape=(), dtype=float32)  tf.Tensor(-0.011405175, shape=(), dtype=float32)   \n",
       "\n",
       "                                                25                                               26                                                27                                                28                                                29   ...  \\\n",
       "0   tf.Tensor(0.012056266, shape=(), dtype=float32)   tf.Tensor(0.04309485, shape=(), dtype=float32)  tf.Tensor(0.0015867979, shape=(), dtype=float32)  tf.Tensor(0.0049482374, shape=(), dtype=float32)  tf.Tensor(-0.010632151, shape=(), dtype=float32)  ...   \n",
       "1  tf.Tensor(0.0034463282, shape=(), dtype=float32)  tf.Tensor(0.023670776, shape=(), dtype=float32)   tf.Tensor(0.047036633, shape=(), dtype=float32)    tf.Tensor(0.05230046, shape=(), dtype=float32)  tf.Tensor(-0.021733245, shape=(), dtype=float32)  ...   \n",
       "2  tf.Tensor(-0.005284346, shape=(), dtype=float32)  tf.Tensor(0.040345825, shape=(), dtype=float32)    tf.Tensor(0.08150446, shape=(), dtype=float32)    tf.Tensor(0.04547663, shape=(), dtype=float32)  tf.Tensor(-0.012024143, shape=(), dtype=float32)  ...   \n",
       "\n",
       "                                                482                                                 483                                               484                                               485                                               486  \\\n",
       "0   tf.Tensor(0.064533256, shape=(), dtype=float32)  tf.Tensor(-0.00040032185, shape=(), dtype=float32)  tf.Tensor(-0.095893316, shape=(), dtype=float32)  tf.Tensor(-0.005572257, shape=(), dtype=float32)  tf.Tensor(0.0051221484, shape=(), dtype=float32)   \n",
       "1  tf.Tensor(-0.018100288, shape=(), dtype=float32)     tf.Tensor(-0.03180184, shape=(), dtype=float32)   tf.Tensor(-0.07579671, shape=(), dtype=float32)  tf.Tensor(-0.027446592, shape=(), dtype=float32)   tf.Tensor(0.021469759, shape=(), dtype=float32)   \n",
       "2  tf.Tensor(-0.028364917, shape=(), dtype=float32)     tf.Tensor(0.006296977, shape=(), dtype=float32)   tf.Tensor(-0.08699063, shape=(), dtype=float32)  tf.Tensor(-0.010001684, shape=(), dtype=float32)   tf.Tensor(0.008345092, shape=(), dtype=float32)   \n",
       "\n",
       "                                                487                                                 488                                               489                                               490                                                491  \\\n",
       "0  tf.Tensor(-0.079065084, shape=(), dtype=float32)    tf.Tensor(0.0039408454, shape=(), dtype=float32)   tf.Tensor(0.053690773, shape=(), dtype=float32)  tf.Tensor(-0.032789387, shape=(), dtype=float32)  tf.Tensor(-0.0153906755, shape=(), dtype=float32)   \n",
       "1   tf.Tensor(0.053139936, shape=(), dtype=float32)    tf.Tensor(-0.016529312, shape=(), dtype=float32)   tf.Tensor(-0.01361836, shape=(), dtype=float32)   tf.Tensor(0.023027213, shape=(), dtype=float32)    tf.Tensor(0.004397537, shape=(), dtype=float32)   \n",
       "2    tf.Tensor(0.07991507, shape=(), dtype=float32)  tf.Tensor(-0.00027180748, shape=(), dtype=float32)  tf.Tensor(-0.011424885, shape=(), dtype=float32)  tf.Tensor(0.0057133497, shape=(), dtype=float32)    tf.Tensor(-0.04642623, shape=(), dtype=float32)   \n",
       "\n",
       "                                                 492                                                493                                              494                                               495                                               496  \\\n",
       "0  tf.Tensor(-0.0075982413, shape=(), dtype=float32)  tf.Tensor(-0.0017540774, shape=(), dtype=float32)   tf.Tensor(0.09800392, shape=(), dtype=float32)   tf.Tensor(-0.07761244, shape=(), dtype=float32)  tf.Tensor(-0.032374293, shape=(), dtype=float32)   \n",
       "1   tf.Tensor(-0.005562302, shape=(), dtype=float32)    tf.Tensor(0.019612428, shape=(), dtype=float32)  tf.Tensor(0.080639824, shape=(), dtype=float32)  tf.Tensor(-0.053590663, shape=(), dtype=float32)   tf.Tensor(-0.03757472, shape=(), dtype=float32)   \n",
       "2    tf.Tensor(-0.03418243, shape=(), dtype=float32)   tf.Tensor(0.0028588725, shape=(), dtype=float32)   tf.Tensor(0.08679493, shape=(), dtype=float32)   tf.Tensor(0.018939061, shape=(), dtype=float32)    tf.Tensor(0.03855309, shape=(), dtype=float32)   \n",
       "\n",
       "                                               497                                               498                                               499                                               500                                               501  \\\n",
       "0  tf.Tensor(0.075825386, shape=(), dtype=float32)   tf.Tensor(0.015849365, shape=(), dtype=float32)   tf.Tensor(0.036486384, shape=(), dtype=float32)  tf.Tensor(-0.100420214, shape=(), dtype=float32)  tf.Tensor(-0.046475027, shape=(), dtype=float32)   \n",
       "1  tf.Tensor(0.041144565, shape=(), dtype=float32)    tf.Tensor(0.03649115, shape=(), dtype=float32)  tf.Tensor(-0.009271731, shape=(), dtype=float32)   tf.Tensor(-0.08189945, shape=(), dtype=float32)    tf.Tensor(0.01157242, shape=(), dtype=float32)   \n",
       "2  tf.Tensor(0.055582944, shape=(), dtype=float32)  tf.Tensor(-0.030461645, shape=(), dtype=float32)    tf.Tensor(0.05789046, shape=(), dtype=float32)   tf.Tensor(-0.07739197, shape=(), dtype=float32)    tf.Tensor(0.06186163, shape=(), dtype=float32)   \n",
       "\n",
       "                                                502                                               503                                               504                                               505                                               506  \\\n",
       "0   tf.Tensor(-0.09048653, shape=(), dtype=float32)   tf.Tensor(0.007016752, shape=(), dtype=float32)   tf.Tensor(0.040750194, shape=(), dtype=float32)  tf.Tensor(-0.022152474, shape=(), dtype=float32)  tf.Tensor(0.0044249543, shape=(), dtype=float32)   \n",
       "1   tf.Tensor(-0.01023039, shape=(), dtype=float32)  tf.Tensor(-0.008717486, shape=(), dtype=float32)  tf.Tensor(-0.040577006, shape=(), dtype=float32)    tf.Tensor(0.02172733, shape=(), dtype=float32)  tf.Tensor(-0.051883098, shape=(), dtype=float32)   \n",
       "2  tf.Tensor(-0.030122971, shape=(), dtype=float32)   tf.Tensor(0.012908215, shape=(), dtype=float32)    tf.Tensor(0.05532173, shape=(), dtype=float32)  tf.Tensor(-0.032117724, shape=(), dtype=float32)   tf.Tensor(-0.01554179, shape=(), dtype=float32)   \n",
       "\n",
       "                                                 507                                              508                                              509                                                510                                              511  \n",
       "0  tf.Tensor(-0.0066205417, shape=(), dtype=float32)   tf.Tensor(-0.0363718, shape=(), dtype=float32)  tf.Tensor(0.067406654, shape=(), dtype=float32)    tf.Tensor(0.018386101, shape=(), dtype=float32)   tf.Tensor(0.05333169, shape=(), dtype=float32)  \n",
       "1  tf.Tensor(-0.0017678161, shape=(), dtype=float32)  tf.Tensor(-0.01492806, shape=(), dtype=float32)  tf.Tensor(0.035867456, shape=(), dtype=float32)  tf.Tensor(-0.0016289989, shape=(), dtype=float32)   tf.Tensor(0.04395661, shape=(), dtype=float32)  \n",
       "2    tf.Tensor(0.004636642, shape=(), dtype=float32)    tf.Tensor(0.0462467, shape=(), dtype=float32)   tf.Tensor(-0.0398063, shape=(), dtype=float32)    tf.Tensor(0.031135973, shape=(), dtype=float32)  tf.Tensor(-0.03667421, shape=(), dtype=float32)  \n",
       "\n",
       "[3 rows x 512 columns]"
      ]
     },
     "execution_count": 53,
     "metadata": {},
     "output_type": "execute_result"
    }
   ],
   "source": [
    "pd.DataFrame(en_result_)"
   ]
  },
  {
   "cell_type": "code",
   "execution_count": 15,
   "id": "4bd2895a",
   "metadata": {},
   "outputs": [
    {
     "data": {
      "text/plain": [
       "<tf.Tensor: shape=(3, 512), dtype=float32, numpy=\n",
       "array([[ 0.0072023 , -0.02716359, -0.00670167, ...,  0.00478419,\n",
       "         0.03265055, -0.01112302],\n",
       "       [-0.00031301, -0.03090753, -0.00294115, ...,  0.04377454,\n",
       "        -0.01193869, -0.01058716],\n",
       "       [ 0.013335  ,  0.01904837, -0.02599624, ...,  0.0150301 ,\n",
       "         0.01788163, -0.00163475]], dtype=float32)>"
      ]
     },
     "execution_count": 15,
     "metadata": {},
     "output_type": "execute_result"
    }
   ],
   "source": [
    "tf.nn.l2_normalize(it_result)"
   ]
  },
  {
   "cell_type": "code",
   "execution_count": 16,
   "id": "14fbe1f7",
   "metadata": {},
   "outputs": [
    {
     "data": {
      "text/plain": [
       "array([[0.96964574, 0.27347845, 0.2553682 ],\n",
       "       [0.37726057, 0.8931676 , 0.2880668 ],\n",
       "       [0.24611366, 0.23792979, 0.9352151 ]], dtype=float32)"
      ]
     },
     "execution_count": 16,
     "metadata": {},
     "output_type": "execute_result"
    }
   ],
   "source": [
    "# Compute similarity matrix. Higher score indicates greater similarity.\n",
    "similarity_matrix_it = np.inner(en_result, it_result)\n",
    "similarity_matrix_it"
   ]
  },
  {
   "cell_type": "code",
   "execution_count": 17,
   "id": "b8d62d6a",
   "metadata": {},
   "outputs": [
    {
     "data": {
      "text/plain": [
       "array([[0.9799423 , 0.534173  , 0.33749652],\n",
       "       [0.41874045, 0.7786117 , 0.3792976 ],\n",
       "       [0.25998724, 0.29997385, 0.8583671 ]], dtype=float32)"
      ]
     },
     "execution_count": 17,
     "metadata": {},
     "output_type": "execute_result"
    }
   ],
   "source": [
    "similarity_matrix_ja = np.inner(en_result, ja_result)\n",
    "similarity_matrix_ja"
   ]
  },
  {
   "cell_type": "markdown",
   "id": "8a3541d1",
   "metadata": {},
   "source": [
    "# Cosine Similarities Example\n",
    "This is annoying because we get a different result when using this `get_similarities` function compared to `np.inner()`... maybe it's because the raw inputs to `np.inner` weren't normalized, right?\n",
    "Also, I'm not sure why we have to force clipping...\n",
    "\n",
    "---\n",
    "\n",
    "Using example form Colab\n",
    "\n",
    "https://colab.research.google.com/github/tensorflow/hub/blob/master/examples/colab/semantic_similarity_with_tf_hub_universal_encoder.ipynb#scrollTo=W-q2r7jyZGb7"
   ]
  },
  {
   "cell_type": "code",
   "execution_count": 18,
   "id": "739eaaba",
   "metadata": {},
   "outputs": [],
   "source": [
    "def get_similarities(sent_1, sent_2):\n",
    "    sts_encode1 = tf.nn.l2_normalize(model(sent_1), axis=1)\n",
    "    sts_encode2 = tf.nn.l2_normalize(model(sent_2), axis=1)\n",
    "    \n",
    "    cosine_similarities = tf.reduce_sum(tf.multiply(sts_encode1, sts_encode2), axis=1)\n",
    "    clip_cosine_similarities = tf.clip_by_value(cosine_similarities, -1.0, 1.0)\n",
    "    scores = 1.0 - tf.acos(clip_cosine_similarities) / math.pi\n",
    "    \"\"\"Returns the similarity scores\"\"\"\n",
    "    return scores"
   ]
  },
  {
   "cell_type": "code",
   "execution_count": 19,
   "id": "c19362e0",
   "metadata": {},
   "outputs": [
    {
     "data": {
      "text/plain": [
       "<tf.Tensor: shape=(1,), dtype=float32, numpy=array([0.921372], dtype=float32)>"
      ]
     },
     "execution_count": 19,
     "metadata": {},
     "output_type": "execute_result"
    }
   ],
   "source": [
    "get_similarities(english_sentences[0], italian_sentences[0])"
   ]
  },
  {
   "cell_type": "code",
   "execution_count": 20,
   "id": "207ad416",
   "metadata": {},
   "outputs": [
    {
     "data": {
      "text/plain": [
       "<tf.Tensor: shape=(1,), dtype=float32, numpy=array([0.93613946], dtype=float32)>"
      ]
     },
     "execution_count": 20,
     "metadata": {},
     "output_type": "execute_result"
    }
   ],
   "source": [
    "get_similarities(english_sentences[0], japanese_sentences[0])"
   ]
  },
  {
   "cell_type": "code",
   "execution_count": 21,
   "id": "98d9127d",
   "metadata": {},
   "outputs": [
    {
     "data": {
      "text/plain": [
       "(1, 512)"
      ]
     },
     "execution_count": 21,
     "metadata": {},
     "output_type": "execute_result"
    }
   ],
   "source": [
    "model(\"hello\").numpy().shape"
   ]
  },
  {
   "cell_type": "markdown",
   "id": "9892557f",
   "metadata": {},
   "source": [
    "# Test new function on subreddit descriptions"
   ]
  },
  {
   "cell_type": "code",
   "execution_count": 37,
   "id": "90511226",
   "metadata": {},
   "outputs": [
    {
     "name": "stderr",
     "output_type": "stream",
     "text": [
      "08:07:00 | INFO | \"Reading raw data...\"\n",
      "08:07:02 | INFO | \"  Applying transformations...\"\n"
     ]
    },
    {
     "data": {
      "text/plain": [
       "(629, 35)"
      ]
     },
     "execution_count": 37,
     "metadata": {},
     "output_type": "execute_result"
    }
   ],
   "source": [
    "col_manual_labels = 'manual_topic_and_rating'\n",
    "\n",
    "df_subs = LoadSubreddits(\n",
    "    bucket_name='i18n-subreddit-clustering',\n",
    "    folder_path='subreddits/de/2021-06-16',\n",
    "    columns=None,\n",
    "    col_new_manual_topic=col_manual_labels,\n",
    ").read_and_apply_transformations()\n",
    "df_subs.shape"
   ]
  },
  {
   "cell_type": "code",
   "execution_count": 54,
   "id": "2e3df561",
   "metadata": {},
   "outputs": [],
   "source": [
    "# df_subs.head()"
   ]
  },
  {
   "cell_type": "code",
   "execution_count": 49,
   "id": "75cc54d0",
   "metadata": {},
   "outputs": [
    {
     "name": "stdout",
     "output_type": "stream",
     "text": [
      "CPU times: user 28.3 s, sys: 3.06 s, total: 31.4 s\n",
      "Wall time: 3.11 s\n"
     ]
    },
    {
     "data": {
      "text/plain": [
       "(629, 512)"
      ]
     },
     "execution_count": 49,
     "metadata": {},
     "output_type": "execute_result"
    }
   ],
   "source": [
    "%%time\n",
    "\n",
    "df_vec_subs_large = get_embeddings_as_df(\n",
    "    model=model,\n",
    "    df=df_subs,\n",
    "    col_text='subreddit_name_title_and_clean_descriptions',\n",
    "    cols_index='subreddit_default_',\n",
    "    lowercase_text=False,\n",
    "    batch_size=None,\n",
    "    limit_first_n_chars=100,\n",
    ")\n",
    "df_vec_subs.shape"
   ]
  },
  {
   "cell_type": "code",
   "execution_count": 61,
   "id": "e4bb8a4e",
   "metadata": {},
   "outputs": [
    {
     "name": "stdout",
     "output_type": "stream",
     "text": [
      "CPU times: user 20.5 s, sys: 3.47 s, total: 24 s\n",
      "Wall time: 1.82 s\n"
     ]
    },
    {
     "data": {
      "text/plain": [
       "(629, 512)"
      ]
     },
     "execution_count": 61,
     "metadata": {},
     "output_type": "execute_result"
    }
   ],
   "source": [
    "%%time\n",
    "\n",
    "df_vec_subs = get_embeddings_as_df(\n",
    "    model=model_normal,\n",
    "    df=df_subs,\n",
    "    col_text='subreddit_name_title_and_clean_descriptions',\n",
    "    cols_index='subreddit_default_',\n",
    "    lowercase_text=False,\n",
    "    batch_size=None,\n",
    "    limit_first_n_chars=1000,\n",
    ")\n",
    "df_vec_subs.shape"
   ]
  },
  {
   "cell_type": "code",
   "execution_count": 60,
   "id": "cc69332d",
   "metadata": {},
   "outputs": [
    {
     "name": "stdout",
     "output_type": "stream",
     "text": [
      "CPU times: user 20.4 s, sys: 3.76 s, total: 24.1 s\n",
      "Wall time: 1.83 s\n"
     ]
    },
    {
     "data": {
      "text/plain": [
       "(629, 512)"
      ]
     },
     "execution_count": 60,
     "metadata": {},
     "output_type": "execute_result"
    }
   ],
   "source": [
    "%%time\n",
    "\n",
    "df_vec_subs = get_embeddings_as_df(\n",
    "    model=model_normal,\n",
    "    df=df_subs,\n",
    "    col_text='subreddit_name_title_and_clean_descriptions',\n",
    "    cols_index=None,\n",
    "    lowercase_text=False,\n",
    "    batch_size=None,\n",
    "    limit_first_n_chars=1000,\n",
    ")\n",
    "df_vec_subs.shape"
   ]
  },
  {
   "cell_type": "code",
   "execution_count": 59,
   "id": "540c7127",
   "metadata": {},
   "outputs": [
    {
     "data": {
      "text/html": [
       "<div>\n",
       "<style scoped>\n",
       "    .dataframe tbody tr th:only-of-type {\n",
       "        vertical-align: middle;\n",
       "    }\n",
       "\n",
       "    .dataframe tbody tr th {\n",
       "        vertical-align: top;\n",
       "    }\n",
       "\n",
       "    .dataframe thead th {\n",
       "        text-align: right;\n",
       "    }\n",
       "</style>\n",
       "<table border=\"1\" class=\"dataframe\">\n",
       "  <thead>\n",
       "    <tr style=\"text-align: right;\">\n",
       "      <th></th>\n",
       "      <th>embeddings_0</th>\n",
       "      <th>embeddings_1</th>\n",
       "      <th>embeddings_2</th>\n",
       "      <th>embeddings_3</th>\n",
       "      <th>embeddings_4</th>\n",
       "      <th>embeddings_5</th>\n",
       "      <th>embeddings_6</th>\n",
       "      <th>embeddings_7</th>\n",
       "      <th>embeddings_8</th>\n",
       "      <th>embeddings_9</th>\n",
       "      <th>embeddings_10</th>\n",
       "      <th>embeddings_11</th>\n",
       "      <th>embeddings_12</th>\n",
       "      <th>embeddings_13</th>\n",
       "      <th>embeddings_14</th>\n",
       "      <th>embeddings_15</th>\n",
       "      <th>embeddings_16</th>\n",
       "      <th>embeddings_17</th>\n",
       "      <th>embeddings_18</th>\n",
       "      <th>embeddings_19</th>\n",
       "      <th>embeddings_20</th>\n",
       "      <th>embeddings_21</th>\n",
       "      <th>embeddings_22</th>\n",
       "      <th>embeddings_23</th>\n",
       "      <th>embeddings_24</th>\n",
       "      <th>embeddings_25</th>\n",
       "      <th>embeddings_26</th>\n",
       "      <th>embeddings_27</th>\n",
       "      <th>embeddings_28</th>\n",
       "      <th>embeddings_29</th>\n",
       "      <th>...</th>\n",
       "      <th>embeddings_482</th>\n",
       "      <th>embeddings_483</th>\n",
       "      <th>embeddings_484</th>\n",
       "      <th>embeddings_485</th>\n",
       "      <th>embeddings_486</th>\n",
       "      <th>embeddings_487</th>\n",
       "      <th>embeddings_488</th>\n",
       "      <th>embeddings_489</th>\n",
       "      <th>embeddings_490</th>\n",
       "      <th>embeddings_491</th>\n",
       "      <th>embeddings_492</th>\n",
       "      <th>embeddings_493</th>\n",
       "      <th>embeddings_494</th>\n",
       "      <th>embeddings_495</th>\n",
       "      <th>embeddings_496</th>\n",
       "      <th>embeddings_497</th>\n",
       "      <th>embeddings_498</th>\n",
       "      <th>embeddings_499</th>\n",
       "      <th>embeddings_500</th>\n",
       "      <th>embeddings_501</th>\n",
       "      <th>embeddings_502</th>\n",
       "      <th>embeddings_503</th>\n",
       "      <th>embeddings_504</th>\n",
       "      <th>embeddings_505</th>\n",
       "      <th>embeddings_506</th>\n",
       "      <th>embeddings_507</th>\n",
       "      <th>embeddings_508</th>\n",
       "      <th>embeddings_509</th>\n",
       "      <th>embeddings_510</th>\n",
       "      <th>embeddings_511</th>\n",
       "    </tr>\n",
       "  </thead>\n",
       "  <tbody>\n",
       "    <tr>\n",
       "      <th>0</th>\n",
       "      <td>-0.035940</td>\n",
       "      <td>-0.049740</td>\n",
       "      <td>0.044158</td>\n",
       "      <td>-0.035479</td>\n",
       "      <td>0.058134</td>\n",
       "      <td>0.001269</td>\n",
       "      <td>-0.006202</td>\n",
       "      <td>0.010084</td>\n",
       "      <td>-0.021512</td>\n",
       "      <td>0.040323</td>\n",
       "      <td>-0.066812</td>\n",
       "      <td>-0.005399</td>\n",
       "      <td>0.013263</td>\n",
       "      <td>-0.014278</td>\n",
       "      <td>-0.041531</td>\n",
       "      <td>-0.051855</td>\n",
       "      <td>0.069364</td>\n",
       "      <td>0.046514</td>\n",
       "      <td>0.038761</td>\n",
       "      <td>0.059228</td>\n",
       "      <td>0.045139</td>\n",
       "      <td>-0.067523</td>\n",
       "      <td>-0.025223</td>\n",
       "      <td>0.064785</td>\n",
       "      <td>-0.051005</td>\n",
       "      <td>-0.045190</td>\n",
       "      <td>0.067076</td>\n",
       "      <td>-0.026226</td>\n",
       "      <td>0.007607</td>\n",
       "      <td>-0.075030</td>\n",
       "      <td>...</td>\n",
       "      <td>0.056874</td>\n",
       "      <td>-0.030395</td>\n",
       "      <td>0.029288</td>\n",
       "      <td>0.033269</td>\n",
       "      <td>-0.071627</td>\n",
       "      <td>-0.075925</td>\n",
       "      <td>0.047589</td>\n",
       "      <td>-0.000057</td>\n",
       "      <td>-0.021666</td>\n",
       "      <td>0.036821</td>\n",
       "      <td>-0.074455</td>\n",
       "      <td>0.072710</td>\n",
       "      <td>0.035912</td>\n",
       "      <td>-0.009509</td>\n",
       "      <td>0.004663</td>\n",
       "      <td>0.049590</td>\n",
       "      <td>-0.024967</td>\n",
       "      <td>0.032779</td>\n",
       "      <td>-0.052663</td>\n",
       "      <td>0.039562</td>\n",
       "      <td>0.050888</td>\n",
       "      <td>0.030287</td>\n",
       "      <td>0.022907</td>\n",
       "      <td>-0.055155</td>\n",
       "      <td>0.010070</td>\n",
       "      <td>0.054755</td>\n",
       "      <td>0.061195</td>\n",
       "      <td>0.033929</td>\n",
       "      <td>-0.010688</td>\n",
       "      <td>0.052872</td>\n",
       "    </tr>\n",
       "    <tr>\n",
       "      <th>1</th>\n",
       "      <td>-0.018564</td>\n",
       "      <td>-0.010173</td>\n",
       "      <td>-0.004554</td>\n",
       "      <td>0.011895</td>\n",
       "      <td>-0.075847</td>\n",
       "      <td>0.060725</td>\n",
       "      <td>0.064591</td>\n",
       "      <td>-0.040192</td>\n",
       "      <td>0.016309</td>\n",
       "      <td>0.019894</td>\n",
       "      <td>-0.032352</td>\n",
       "      <td>-0.009430</td>\n",
       "      <td>0.059276</td>\n",
       "      <td>0.015365</td>\n",
       "      <td>-0.050820</td>\n",
       "      <td>0.036997</td>\n",
       "      <td>0.051525</td>\n",
       "      <td>0.010101</td>\n",
       "      <td>0.062199</td>\n",
       "      <td>0.060911</td>\n",
       "      <td>0.007105</td>\n",
       "      <td>-0.069845</td>\n",
       "      <td>0.023572</td>\n",
       "      <td>0.026089</td>\n",
       "      <td>-0.070251</td>\n",
       "      <td>0.022349</td>\n",
       "      <td>0.057568</td>\n",
       "      <td>-0.030716</td>\n",
       "      <td>-0.058087</td>\n",
       "      <td>-0.011907</td>\n",
       "      <td>...</td>\n",
       "      <td>0.023078</td>\n",
       "      <td>0.049004</td>\n",
       "      <td>-0.020564</td>\n",
       "      <td>-0.042651</td>\n",
       "      <td>0.076113</td>\n",
       "      <td>-0.070337</td>\n",
       "      <td>-0.060058</td>\n",
       "      <td>-0.052460</td>\n",
       "      <td>0.037384</td>\n",
       "      <td>-0.014968</td>\n",
       "      <td>-0.060475</td>\n",
       "      <td>-0.006299</td>\n",
       "      <td>-0.016967</td>\n",
       "      <td>-0.003305</td>\n",
       "      <td>-0.012414</td>\n",
       "      <td>-0.026341</td>\n",
       "      <td>0.012791</td>\n",
       "      <td>-0.068359</td>\n",
       "      <td>-0.030550</td>\n",
       "      <td>-0.011318</td>\n",
       "      <td>0.035953</td>\n",
       "      <td>0.006023</td>\n",
       "      <td>0.027667</td>\n",
       "      <td>0.028919</td>\n",
       "      <td>0.020818</td>\n",
       "      <td>-0.038871</td>\n",
       "      <td>0.073379</td>\n",
       "      <td>-0.013671</td>\n",
       "      <td>0.022675</td>\n",
       "      <td>-0.010655</td>\n",
       "    </tr>\n",
       "    <tr>\n",
       "      <th>2</th>\n",
       "      <td>0.009219</td>\n",
       "      <td>0.066985</td>\n",
       "      <td>-0.040513</td>\n",
       "      <td>-0.059317</td>\n",
       "      <td>0.059063</td>\n",
       "      <td>0.010775</td>\n",
       "      <td>-0.003584</td>\n",
       "      <td>-0.029900</td>\n",
       "      <td>-0.044976</td>\n",
       "      <td>-0.060436</td>\n",
       "      <td>-0.073943</td>\n",
       "      <td>0.023561</td>\n",
       "      <td>-0.068536</td>\n",
       "      <td>0.048542</td>\n",
       "      <td>0.000707</td>\n",
       "      <td>0.088592</td>\n",
       "      <td>0.018116</td>\n",
       "      <td>0.003280</td>\n",
       "      <td>0.047703</td>\n",
       "      <td>-0.045319</td>\n",
       "      <td>0.083326</td>\n",
       "      <td>-0.092068</td>\n",
       "      <td>-0.006389</td>\n",
       "      <td>0.042088</td>\n",
       "      <td>-0.035716</td>\n",
       "      <td>-0.022402</td>\n",
       "      <td>0.076417</td>\n",
       "      <td>-0.005414</td>\n",
       "      <td>0.005692</td>\n",
       "      <td>-0.033963</td>\n",
       "      <td>...</td>\n",
       "      <td>-0.023063</td>\n",
       "      <td>0.002321</td>\n",
       "      <td>-0.003165</td>\n",
       "      <td>0.011189</td>\n",
       "      <td>0.080031</td>\n",
       "      <td>0.060111</td>\n",
       "      <td>0.000212</td>\n",
       "      <td>-0.030550</td>\n",
       "      <td>0.066879</td>\n",
       "      <td>0.010534</td>\n",
       "      <td>-0.078860</td>\n",
       "      <td>-0.065440</td>\n",
       "      <td>-0.011522</td>\n",
       "      <td>0.043540</td>\n",
       "      <td>0.050422</td>\n",
       "      <td>0.071214</td>\n",
       "      <td>0.026370</td>\n",
       "      <td>-0.038427</td>\n",
       "      <td>-0.041948</td>\n",
       "      <td>0.006311</td>\n",
       "      <td>0.054083</td>\n",
       "      <td>-0.081551</td>\n",
       "      <td>-0.008425</td>\n",
       "      <td>0.077305</td>\n",
       "      <td>0.064879</td>\n",
       "      <td>-0.079733</td>\n",
       "      <td>0.053596</td>\n",
       "      <td>0.023931</td>\n",
       "      <td>0.030964</td>\n",
       "      <td>0.047246</td>\n",
       "    </tr>\n",
       "    <tr>\n",
       "      <th>3</th>\n",
       "      <td>0.047613</td>\n",
       "      <td>-0.052860</td>\n",
       "      <td>0.006409</td>\n",
       "      <td>0.025294</td>\n",
       "      <td>0.044594</td>\n",
       "      <td>0.064002</td>\n",
       "      <td>-0.032275</td>\n",
       "      <td>-0.065538</td>\n",
       "      <td>-0.015825</td>\n",
       "      <td>0.026223</td>\n",
       "      <td>-0.021522</td>\n",
       "      <td>0.001910</td>\n",
       "      <td>0.003256</td>\n",
       "      <td>-0.004383</td>\n",
       "      <td>-0.065326</td>\n",
       "      <td>0.052988</td>\n",
       "      <td>-0.065503</td>\n",
       "      <td>0.048350</td>\n",
       "      <td>-0.031808</td>\n",
       "      <td>0.055036</td>\n",
       "      <td>0.004328</td>\n",
       "      <td>0.016844</td>\n",
       "      <td>-0.007632</td>\n",
       "      <td>0.057644</td>\n",
       "      <td>-0.019362</td>\n",
       "      <td>-0.056302</td>\n",
       "      <td>0.033178</td>\n",
       "      <td>0.050896</td>\n",
       "      <td>-0.027144</td>\n",
       "      <td>-0.058131</td>\n",
       "      <td>...</td>\n",
       "      <td>0.017152</td>\n",
       "      <td>-0.050590</td>\n",
       "      <td>0.047356</td>\n",
       "      <td>0.034087</td>\n",
       "      <td>-0.051840</td>\n",
       "      <td>-0.065110</td>\n",
       "      <td>-0.010659</td>\n",
       "      <td>0.059502</td>\n",
       "      <td>0.038742</td>\n",
       "      <td>-0.035585</td>\n",
       "      <td>-0.026517</td>\n",
       "      <td>0.062836</td>\n",
       "      <td>0.045565</td>\n",
       "      <td>-0.003209</td>\n",
       "      <td>0.039748</td>\n",
       "      <td>0.045021</td>\n",
       "      <td>0.053488</td>\n",
       "      <td>-0.064497</td>\n",
       "      <td>-0.042627</td>\n",
       "      <td>-0.065524</td>\n",
       "      <td>-0.047786</td>\n",
       "      <td>-0.012792</td>\n",
       "      <td>-0.033400</td>\n",
       "      <td>0.040031</td>\n",
       "      <td>0.065537</td>\n",
       "      <td>0.058820</td>\n",
       "      <td>0.050378</td>\n",
       "      <td>-0.054465</td>\n",
       "      <td>-0.010635</td>\n",
       "      <td>0.047824</td>\n",
       "    </tr>\n",
       "    <tr>\n",
       "      <th>4</th>\n",
       "      <td>0.019615</td>\n",
       "      <td>0.011827</td>\n",
       "      <td>-0.025116</td>\n",
       "      <td>0.060811</td>\n",
       "      <td>0.070180</td>\n",
       "      <td>0.026485</td>\n",
       "      <td>-0.024038</td>\n",
       "      <td>-0.069170</td>\n",
       "      <td>-0.023348</td>\n",
       "      <td>-0.057618</td>\n",
       "      <td>0.042613</td>\n",
       "      <td>0.051098</td>\n",
       "      <td>0.004272</td>\n",
       "      <td>-0.066929</td>\n",
       "      <td>-0.013090</td>\n",
       "      <td>0.012900</td>\n",
       "      <td>-0.075897</td>\n",
       "      <td>-0.023663</td>\n",
       "      <td>0.066980</td>\n",
       "      <td>0.015565</td>\n",
       "      <td>-0.031333</td>\n",
       "      <td>0.028407</td>\n",
       "      <td>0.057284</td>\n",
       "      <td>-0.017286</td>\n",
       "      <td>-0.036838</td>\n",
       "      <td>-0.061912</td>\n",
       "      <td>-0.017407</td>\n",
       "      <td>0.022253</td>\n",
       "      <td>-0.023432</td>\n",
       "      <td>-0.069452</td>\n",
       "      <td>...</td>\n",
       "      <td>0.011200</td>\n",
       "      <td>0.003566</td>\n",
       "      <td>-0.020978</td>\n",
       "      <td>-0.017805</td>\n",
       "      <td>-0.047155</td>\n",
       "      <td>-0.074816</td>\n",
       "      <td>0.054306</td>\n",
       "      <td>-0.045595</td>\n",
       "      <td>0.005397</td>\n",
       "      <td>-0.000524</td>\n",
       "      <td>0.013571</td>\n",
       "      <td>-0.033341</td>\n",
       "      <td>0.035830</td>\n",
       "      <td>0.041357</td>\n",
       "      <td>-0.061060</td>\n",
       "      <td>-0.050233</td>\n",
       "      <td>0.017275</td>\n",
       "      <td>0.005660</td>\n",
       "      <td>-0.016664</td>\n",
       "      <td>-0.070359</td>\n",
       "      <td>-0.002596</td>\n",
       "      <td>-0.061808</td>\n",
       "      <td>-0.006451</td>\n",
       "      <td>-0.006582</td>\n",
       "      <td>0.072354</td>\n",
       "      <td>0.024660</td>\n",
       "      <td>0.066329</td>\n",
       "      <td>0.062540</td>\n",
       "      <td>0.021544</td>\n",
       "      <td>0.003076</td>\n",
       "    </tr>\n",
       "  </tbody>\n",
       "</table>\n",
       "<p>5 rows × 512 columns</p>\n",
       "</div>"
      ],
      "text/plain": [
       "   embeddings_0  embeddings_1  embeddings_2  embeddings_3  embeddings_4  embeddings_5  embeddings_6  embeddings_7  embeddings_8  embeddings_9  embeddings_10  embeddings_11  embeddings_12  embeddings_13  embeddings_14  embeddings_15  embeddings_16  embeddings_17  embeddings_18  embeddings_19  \\\n",
       "0     -0.035940     -0.049740      0.044158     -0.035479      0.058134      0.001269     -0.006202      0.010084     -0.021512      0.040323      -0.066812      -0.005399       0.013263      -0.014278      -0.041531      -0.051855       0.069364       0.046514       0.038761       0.059228   \n",
       "1     -0.018564     -0.010173     -0.004554      0.011895     -0.075847      0.060725      0.064591     -0.040192      0.016309      0.019894      -0.032352      -0.009430       0.059276       0.015365      -0.050820       0.036997       0.051525       0.010101       0.062199       0.060911   \n",
       "2      0.009219      0.066985     -0.040513     -0.059317      0.059063      0.010775     -0.003584     -0.029900     -0.044976     -0.060436      -0.073943       0.023561      -0.068536       0.048542       0.000707       0.088592       0.018116       0.003280       0.047703      -0.045319   \n",
       "3      0.047613     -0.052860      0.006409      0.025294      0.044594      0.064002     -0.032275     -0.065538     -0.015825      0.026223      -0.021522       0.001910       0.003256      -0.004383      -0.065326       0.052988      -0.065503       0.048350      -0.031808       0.055036   \n",
       "4      0.019615      0.011827     -0.025116      0.060811      0.070180      0.026485     -0.024038     -0.069170     -0.023348     -0.057618       0.042613       0.051098       0.004272      -0.066929      -0.013090       0.012900      -0.075897      -0.023663       0.066980       0.015565   \n",
       "\n",
       "   embeddings_20  embeddings_21  embeddings_22  embeddings_23  embeddings_24  embeddings_25  embeddings_26  embeddings_27  embeddings_28  embeddings_29  ...  embeddings_482  embeddings_483  embeddings_484  embeddings_485  embeddings_486  embeddings_487  embeddings_488  embeddings_489  \\\n",
       "0       0.045139      -0.067523      -0.025223       0.064785      -0.051005      -0.045190       0.067076      -0.026226       0.007607      -0.075030  ...        0.056874       -0.030395        0.029288        0.033269       -0.071627       -0.075925        0.047589       -0.000057   \n",
       "1       0.007105      -0.069845       0.023572       0.026089      -0.070251       0.022349       0.057568      -0.030716      -0.058087      -0.011907  ...        0.023078        0.049004       -0.020564       -0.042651        0.076113       -0.070337       -0.060058       -0.052460   \n",
       "2       0.083326      -0.092068      -0.006389       0.042088      -0.035716      -0.022402       0.076417      -0.005414       0.005692      -0.033963  ...       -0.023063        0.002321       -0.003165        0.011189        0.080031        0.060111        0.000212       -0.030550   \n",
       "3       0.004328       0.016844      -0.007632       0.057644      -0.019362      -0.056302       0.033178       0.050896      -0.027144      -0.058131  ...        0.017152       -0.050590        0.047356        0.034087       -0.051840       -0.065110       -0.010659        0.059502   \n",
       "4      -0.031333       0.028407       0.057284      -0.017286      -0.036838      -0.061912      -0.017407       0.022253      -0.023432      -0.069452  ...        0.011200        0.003566       -0.020978       -0.017805       -0.047155       -0.074816        0.054306       -0.045595   \n",
       "\n",
       "   embeddings_490  embeddings_491  embeddings_492  embeddings_493  embeddings_494  embeddings_495  embeddings_496  embeddings_497  embeddings_498  embeddings_499  embeddings_500  embeddings_501  embeddings_502  embeddings_503  embeddings_504  embeddings_505  embeddings_506  embeddings_507  \\\n",
       "0       -0.021666        0.036821       -0.074455        0.072710        0.035912       -0.009509        0.004663        0.049590       -0.024967        0.032779       -0.052663        0.039562        0.050888        0.030287        0.022907       -0.055155        0.010070        0.054755   \n",
       "1        0.037384       -0.014968       -0.060475       -0.006299       -0.016967       -0.003305       -0.012414       -0.026341        0.012791       -0.068359       -0.030550       -0.011318        0.035953        0.006023        0.027667        0.028919        0.020818       -0.038871   \n",
       "2        0.066879        0.010534       -0.078860       -0.065440       -0.011522        0.043540        0.050422        0.071214        0.026370       -0.038427       -0.041948        0.006311        0.054083       -0.081551       -0.008425        0.077305        0.064879       -0.079733   \n",
       "3        0.038742       -0.035585       -0.026517        0.062836        0.045565       -0.003209        0.039748        0.045021        0.053488       -0.064497       -0.042627       -0.065524       -0.047786       -0.012792       -0.033400        0.040031        0.065537        0.058820   \n",
       "4        0.005397       -0.000524        0.013571       -0.033341        0.035830        0.041357       -0.061060       -0.050233        0.017275        0.005660       -0.016664       -0.070359       -0.002596       -0.061808       -0.006451       -0.006582        0.072354        0.024660   \n",
       "\n",
       "   embeddings_508  embeddings_509  embeddings_510  embeddings_511  \n",
       "0        0.061195        0.033929       -0.010688        0.052872  \n",
       "1        0.073379       -0.013671        0.022675       -0.010655  \n",
       "2        0.053596        0.023931        0.030964        0.047246  \n",
       "3        0.050378       -0.054465       -0.010635        0.047824  \n",
       "4        0.066329        0.062540        0.021544        0.003076  \n",
       "\n",
       "[5 rows x 512 columns]"
      ]
     },
     "execution_count": 59,
     "metadata": {},
     "output_type": "execute_result"
    }
   ],
   "source": [
    "df_vec_subs.head()"
   ]
  },
  {
   "cell_type": "markdown",
   "id": "f14989e6",
   "metadata": {},
   "source": [
    "# Create a dataframe for broader testing"
   ]
  },
  {
   "cell_type": "code",
   "execution_count": 22,
   "id": "1b28c2b1",
   "metadata": {},
   "outputs": [],
   "source": [
    "english_sentences = [\"dog\", \"Puppies are nice.\", \"I enjoy taking long walks along the beach with my dog.\"]\n",
    "italian_sentences = [\"cane\", \"I cuccioli sono carini.\", \"Mi piace fare lunghe passeggiate lungo la spiaggia con il mio cane.\"]\n",
    "japanese_sentences = [\"犬\", \"子犬はいいです\", \"私は犬と一緒にビーチを散歩するのが好きです\"]"
   ]
  },
  {
   "cell_type": "code",
   "execution_count": 28,
   "id": "7049c688",
   "metadata": {},
   "outputs": [
    {
     "data": {
      "text/plain": [
       "(5400, 1)"
      ]
     },
     "execution_count": 28,
     "metadata": {},
     "output_type": "execute_result"
    }
   ],
   "source": [
    "df_test = pd.DataFrame({'text': (english_sentences + italian_sentences + japanese_sentences) * 600})\n",
    "df_test.shape"
   ]
  },
  {
   "cell_type": "code",
   "execution_count": 29,
   "id": "bb3c1f7d",
   "metadata": {},
   "outputs": [
    {
     "data": {
      "text/html": [
       "<div>\n",
       "<style scoped>\n",
       "    .dataframe tbody tr th:only-of-type {\n",
       "        vertical-align: middle;\n",
       "    }\n",
       "\n",
       "    .dataframe tbody tr th {\n",
       "        vertical-align: top;\n",
       "    }\n",
       "\n",
       "    .dataframe thead th {\n",
       "        text-align: right;\n",
       "    }\n",
       "</style>\n",
       "<table border=\"1\" class=\"dataframe\">\n",
       "  <thead>\n",
       "    <tr style=\"text-align: right;\">\n",
       "      <th></th>\n",
       "      <th>text</th>\n",
       "    </tr>\n",
       "  </thead>\n",
       "  <tbody>\n",
       "    <tr>\n",
       "      <th>0</th>\n",
       "      <td>dog</td>\n",
       "    </tr>\n",
       "    <tr>\n",
       "      <th>1</th>\n",
       "      <td>Puppies are nice.</td>\n",
       "    </tr>\n",
       "    <tr>\n",
       "      <th>2</th>\n",
       "      <td>I enjoy taking long walks along the beach with my dog.</td>\n",
       "    </tr>\n",
       "    <tr>\n",
       "      <th>3</th>\n",
       "      <td>cane</td>\n",
       "    </tr>\n",
       "    <tr>\n",
       "      <th>4</th>\n",
       "      <td>I cuccioli sono carini.</td>\n",
       "    </tr>\n",
       "    <tr>\n",
       "      <th>5</th>\n",
       "      <td>Mi piace fare lunghe passeggiate lungo la spiaggia con il mio cane.</td>\n",
       "    </tr>\n",
       "    <tr>\n",
       "      <th>6</th>\n",
       "      <td>犬</td>\n",
       "    </tr>\n",
       "    <tr>\n",
       "      <th>7</th>\n",
       "      <td>子犬はいいです</td>\n",
       "    </tr>\n",
       "    <tr>\n",
       "      <th>8</th>\n",
       "      <td>私は犬と一緒にビーチを散歩するのが好きです</td>\n",
       "    </tr>\n",
       "    <tr>\n",
       "      <th>9</th>\n",
       "      <td>dog</td>\n",
       "    </tr>\n",
       "  </tbody>\n",
       "</table>\n",
       "</div>"
      ],
      "text/plain": [
       "                                                                  text\n",
       "0                                                                  dog\n",
       "1                                                    Puppies are nice.\n",
       "2               I enjoy taking long walks along the beach with my dog.\n",
       "3                                                                 cane\n",
       "4                                              I cuccioli sono carini.\n",
       "5  Mi piace fare lunghe passeggiate lungo la spiaggia con il mio cane.\n",
       "6                                                                    犬\n",
       "7                                                              子犬はいいです\n",
       "8                                                私は犬と一緒にビーチを散歩するのが好きです\n",
       "9                                                                  dog"
      ]
     },
     "execution_count": 29,
     "metadata": {},
     "output_type": "execute_result"
    }
   ],
   "source": [
    "df_test.head(10)"
   ]
  },
  {
   "cell_type": "markdown",
   "id": "f094db7b",
   "metadata": {},
   "source": [
    "# Get embeddings in different ways\n",
    "\n",
    "After trying as a list, there's no reason to try other methods... it seems like `TF` is already optimized to run in parallel when reading a list and the bottleneck was using dataframes/pandas.\n",
    "\n",
    "Might need to split up whole text DF into chunks to prevent memory errors, but applying to list should be good to go -- it takes less than 2 seconds on 5,400 sentences(!).\n",
    "\n",
    "---\n",
    "### CPU only\n",
    "```\n",
    "# get model results as list & convert to pd.DataFrame:\n",
    "CPU times: user 1.21 s, sys: 285 ms, total: 1.49 s\n",
    "Wall time: 1.95 s\n",
    "\n",
    "CPU times: user 59.7 s, sys: 5.37 s, total: 1min 5s\n",
    "Wall time: 5.06 s\n",
    "\n",
    "\n",
    "# use pd.apply():\n",
    "CPU times: user 1min 34s, sys: 12.4 s, total: 1min 47s\n",
    "Wall time: 58.2 s\n",
    "```"
   ]
  },
  {
   "cell_type": "markdown",
   "id": "817969b8",
   "metadata": {},
   "source": [
    "## As a list\n",
    "The example gets embeddings on a list, maybe the model can parallelize that somehow better than a df?"
   ]
  },
  {
   "cell_type": "code",
   "execution_count": 25,
   "id": "1a11a898",
   "metadata": {},
   "outputs": [
    {
     "name": "stdout",
     "output_type": "stream",
     "text": [
      "CPU times: user 1min, sys: 5.58 s, total: 1min 6s\n",
      "Wall time: 5.37 s\n"
     ]
    }
   ],
   "source": [
    "%%time\n",
    "\n",
    "# model will return a list of tensors, if input is a list of text\n",
    "emb_list = model(df_test['text'].to_list())\n",
    "\n",
    "# So we can convert to np array using a list comprehension\n",
    "# And convert back to a df with a known index\n",
    "df_embeddings1 = pd.DataFrame(np.array([emb.numpy() for emb in emb_list]), \n",
    "                              index=df_test.index)"
   ]
  },
  {
   "cell_type": "code",
   "execution_count": 30,
   "id": "66125b37",
   "metadata": {},
   "outputs": [
    {
     "data": {
      "text/plain": [
       "(5400, 512)"
      ]
     },
     "execution_count": 30,
     "metadata": {},
     "output_type": "execute_result"
    }
   ],
   "source": [
    "df_embeddings1.shape"
   ]
  },
  {
   "cell_type": "markdown",
   "id": "23f54d94",
   "metadata": {},
   "source": [
    "# As a batched list"
   ]
  },
  {
   "cell_type": "code",
   "execution_count": 31,
   "id": "268e5df4",
   "metadata": {},
   "outputs": [
    {
     "data": {
      "text/plain": [
       "5"
      ]
     },
     "execution_count": 31,
     "metadata": {},
     "output_type": "execute_result"
    }
   ],
   "source": [
    "tf_batch_inference_rows = 1000\n",
    "len(df_test)\n",
    "\n",
    "len(df_test) // tf_batch_inference_rows"
   ]
  },
  {
   "cell_type": "code",
   "execution_count": 32,
   "id": "f2c1efe5",
   "metadata": {},
   "outputs": [
    {
     "data": {
      "application/vnd.jupyter.widget-view+json": {
       "model_id": "4a42a4526263457e9f85fca2031d3c33",
       "version_major": 2,
       "version_minor": 0
      },
      "text/plain": [
       "  0%|          | 0/6 [00:00<?, ?it/s]"
      ]
     },
     "metadata": {},
     "output_type": "display_data"
    },
    {
     "name": "stdout",
     "output_type": "stream",
     "text": [
      "CPU times: user 1min 10s, sys: 5.27 s, total: 1min 16s\n",
      "Wall time: 6.37 s\n"
     ]
    }
   ],
   "source": [
    "%%time\n",
    "# prototype the process\n",
    "l_df_embeddings = list()\n",
    "\n",
    "for i in tqdm(range(1 + len(df_test) // tf_batch_inference_rows)):\n",
    "    slice_start = i * tf_batch_inference_rows\n",
    "    slice_end = (i + 1) * tf_batch_inference_rows\n",
    "    # print(slice_start, slice_end)\n",
    "    l_df_embeddings.append(\n",
    "        get_embeddings_as_df(\n",
    "            model=model,\n",
    "            df=df_test.iloc[slice_start:slice_end],\n",
    "            col_text='text',\n",
    "            lowercase_text=False,\n",
    "        )\n",
    "    )\n",
    "    \n",
    "df_embeddings2 = pd.concat(l_df_embeddings, axis=0, ignore_index=False)\n",
    "del l_df_embeddings"
   ]
  },
  {
   "cell_type": "markdown",
   "id": "82642a14",
   "metadata": {},
   "source": [
    "Added a new argument to function so batching is part of the function itself. Batching creates some overhead (by creating lists of dataframes).\n",
    "\n",
    "However, it should limit the active memory needed by only loading a part of the text at any moment. Using `tqdm` should also help to make it easier to see progress."
   ]
  },
  {
   "cell_type": "code",
   "execution_count": 33,
   "id": "d0a4404d",
   "metadata": {},
   "outputs": [
    {
     "name": "stdout",
     "output_type": "stream",
     "text": [
      "CPU times: user 1min 5s, sys: 6.43 s, total: 1min 12s\n",
      "Wall time: 5.75 s\n"
     ]
    }
   ],
   "source": [
    "%%time\n",
    "# add new argument to do the batching as part of the function itself\n",
    "\n",
    "df_embeddings3_ = get_embeddings_as_df(\n",
    "    model=model,\n",
    "    df=df_test,\n",
    "    col_text='text',\n",
    "    lowercase_text=False,\n",
    "    batch_size=None,\n",
    "    limit_first_n_chars=None,\n",
    ")"
   ]
  },
  {
   "cell_type": "code",
   "execution_count": 114,
   "id": "3c306d61",
   "metadata": {},
   "outputs": [
    {
     "name": "stdout",
     "output_type": "stream",
     "text": [
      "CPU times: user 33.4 s, sys: 2.68 s, total: 36 s\n",
      "Wall time: 3.03 s\n"
     ]
    }
   ],
   "source": [
    "%%time\n",
    "\n",
    "df_embeddings3_ = get_embeddings_as_df(\n",
    "    model=model,\n",
    "    df=df_test,\n",
    "    col_text='text',\n",
    "    lowercase_text=False,\n",
    "    batch_size=None,\n",
    "    limit_first_n_chars=5,\n",
    ")"
   ]
  },
  {
   "cell_type": "code",
   "execution_count": null,
   "id": "6bf89a13",
   "metadata": {},
   "outputs": [],
   "source": []
  },
  {
   "cell_type": "code",
   "execution_count": 65,
   "id": "c7b96862",
   "metadata": {},
   "outputs": [
    {
     "name": "stdout",
     "output_type": "stream",
     "text": [
      "CPU times: user 58.5 s, sys: 5.16 s, total: 1min 3s\n",
      "Wall time: 4.93 s\n"
     ]
    }
   ],
   "source": [
    "%%time\n",
    "# add new argument to do the batching as part of the function itself\n",
    "\n",
    "df_embeddings3_ = get_embeddings_as_df(\n",
    "    model=model,\n",
    "    df=df_test,\n",
    "    col_text='text',\n",
    "    lowercase_text=False,\n",
    "    batch_size=5500,\n",
    ")"
   ]
  },
  {
   "cell_type": "code",
   "execution_count": 67,
   "id": "499cd34d",
   "metadata": {},
   "outputs": [
    {
     "name": "stderr",
     "output_type": "stream",
     "text": [
      "16:20:59 | INFO | \"Getting embeddings in batches of size: 2000\"\n"
     ]
    },
    {
     "data": {
      "application/vnd.jupyter.widget-view+json": {
       "model_id": "18094f32fe9a4501b2311270cf6eb53b",
       "version_major": 2,
       "version_minor": 0
      },
      "text/plain": [
       "  0%|          | 0/3 [00:00<?, ?it/s]"
      ]
     },
     "metadata": {},
     "output_type": "display_data"
    },
    {
     "name": "stdout",
     "output_type": "stream",
     "text": [
      "CPU times: user 1min, sys: 5.38 s, total: 1min 5s\n",
      "Wall time: 6.07 s\n"
     ]
    }
   ],
   "source": [
    "%%time\n",
    "# add new argument to do the batching as part of the function itself\n",
    "\n",
    "df_embeddings3_ = get_embeddings_as_df(\n",
    "    model=model,\n",
    "    df=df_test,\n",
    "    col_text='text',\n",
    "    lowercase_text=False,\n",
    "    batch_size=2000,\n",
    ")"
   ]
  },
  {
   "cell_type": "code",
   "execution_count": 64,
   "id": "75519e8e",
   "metadata": {},
   "outputs": [
    {
     "name": "stderr",
     "output_type": "stream",
     "text": [
      "16:19:06 | INFO | \"Getting embeddings in batches of size: 2500\"\n"
     ]
    },
    {
     "data": {
      "application/vnd.jupyter.widget-view+json": {
       "model_id": "b874700b3f444f1887fa30d0c8a98517",
       "version_major": 2,
       "version_minor": 0
      },
      "text/plain": [
       "  0%|          | 0/3 [00:00<?, ?it/s]"
      ]
     },
     "metadata": {},
     "output_type": "display_data"
    },
    {
     "name": "stdout",
     "output_type": "stream",
     "text": [
      "CPU times: user 60 s, sys: 4.57 s, total: 1min 4s\n",
      "Wall time: 5.99 s\n"
     ]
    }
   ],
   "source": [
    "%%time\n",
    "# add new argument to do the batching as part of the function itself\n",
    "\n",
    "df_embeddings3_ = get_embeddings_as_df(\n",
    "    model=model,\n",
    "    df=df_test,\n",
    "    col_text='text',\n",
    "    lowercase_text=False,\n",
    "    batch_size=2500,\n",
    ")"
   ]
  },
  {
   "cell_type": "code",
   "execution_count": 60,
   "id": "1a3c71dd",
   "metadata": {},
   "outputs": [
    {
     "name": "stderr",
     "output_type": "stream",
     "text": [
      "16:06:57 | INFO | \"Getting embeddings in batches of size: 1000\"\n"
     ]
    },
    {
     "data": {
      "application/vnd.jupyter.widget-view+json": {
       "model_id": "e9fadff9420247f0b97c9b27e52c901d",
       "version_major": 2,
       "version_minor": 0
      },
      "text/plain": [
       "  0%|          | 0/6 [00:00<?, ?it/s]"
      ]
     },
     "metadata": {},
     "output_type": "display_data"
    },
    {
     "name": "stdout",
     "output_type": "stream",
     "text": [
      "CPU times: user 1min 2s, sys: 2.46 s, total: 1min 4s\n",
      "Wall time: 7.2 s\n"
     ]
    }
   ],
   "source": [
    "%%time\n",
    "# add new argument to do the batching as part of the function itself\n",
    "\n",
    "df_embeddings3 = get_embeddings_as_df(\n",
    "    model=model,\n",
    "    df=df_test,\n",
    "    col_text='text',\n",
    "    lowercase_text=False,\n",
    "    batch_size=tf_batch_inference_rows\n",
    ")"
   ]
  },
  {
   "cell_type": "markdown",
   "id": "110f1663",
   "metadata": {},
   "source": [
    "### Check that outputs are equal/similar (within tolerance limits)"
   ]
  },
  {
   "cell_type": "code",
   "execution_count": 49,
   "id": "639c62cc",
   "metadata": {},
   "outputs": [
    {
     "data": {
      "text/plain": [
       "True"
      ]
     },
     "execution_count": 49,
     "metadata": {},
     "output_type": "execute_result"
    }
   ],
   "source": [
    "# n_check = len(df_embeddings1)\n",
    "n_check = 5\n",
    "np.allclose(\n",
    "    df_embeddings1.head(n_check), \n",
    "    df_embeddings2.head(n_check), \n",
    "    rtol=1e-05,\n",
    ")"
   ]
  },
  {
   "cell_type": "code",
   "execution_count": 48,
   "id": "cbf81ee3",
   "metadata": {},
   "outputs": [
    {
     "data": {
      "text/plain": [
       "True"
      ]
     },
     "execution_count": 48,
     "metadata": {},
     "output_type": "execute_result"
    }
   ],
   "source": [
    "# n_check = len(df_embeddings1)\n",
    "np.allclose(\n",
    "    df_embeddings1,\n",
    "    df_embeddings2,\n",
    "    rtol=1e-03,\n",
    ")"
   ]
  },
  {
   "cell_type": "code",
   "execution_count": 70,
   "id": "9477aeed",
   "metadata": {},
   "outputs": [
    {
     "data": {
      "text/plain": [
       "True"
      ]
     },
     "execution_count": 70,
     "metadata": {},
     "output_type": "execute_result"
    }
   ],
   "source": [
    "# n_check = len(df_embeddings1)\n",
    "np.allclose(\n",
    "    df_embeddings2,\n",
    "    df_embeddings3,\n",
    "    rtol=1e-03,\n",
    ")"
   ]
  },
  {
   "cell_type": "code",
   "execution_count": 71,
   "id": "d94b3499",
   "metadata": {},
   "outputs": [
    {
     "data": {
      "text/plain": [
       "True"
      ]
     },
     "execution_count": 71,
     "metadata": {},
     "output_type": "execute_result"
    }
   ],
   "source": [
    "# n_check = len(df_embeddings1)\n",
    "np.allclose(\n",
    "    df_embeddings3,\n",
    "    df_embeddings3_,\n",
    "    rtol=1e-03,\n",
    ")"
   ]
  },
  {
   "cell_type": "markdown",
   "id": "ba516de0",
   "metadata": {},
   "source": [
    "# Pandas .apply()\n",
    "\n",
    "This appears to be serial and it's also a pain to get an array back out... not worth it."
   ]
  },
  {
   "cell_type": "code",
   "execution_count": 22,
   "id": "e741b40f",
   "metadata": {},
   "outputs": [
    {
     "name": "stdout",
     "output_type": "stream",
     "text": [
      "CPU times: user 8min 9s, sys: 56.7 s, total: 9min 6s\n",
      "Wall time: 1min 42s\n"
     ]
    }
   ],
   "source": [
    "%%time\n",
    "\n",
    "s_output = df_test['text'].apply(model)"
   ]
  },
  {
   "cell_type": "code",
   "execution_count": 23,
   "id": "3bf5b784",
   "metadata": {},
   "outputs": [
    {
     "data": {
      "text/plain": [
       "(5400,)"
      ]
     },
     "execution_count": 23,
     "metadata": {},
     "output_type": "execute_result"
    }
   ],
   "source": [
    "s_output.shape"
   ]
  },
  {
   "cell_type": "code",
   "execution_count": 117,
   "id": "a74e29b7",
   "metadata": {},
   "outputs": [],
   "source": [
    "# s_output.head()"
   ]
  },
  {
   "cell_type": "markdown",
   "id": "0a4f5720",
   "metadata": {},
   "source": [
    "## Compare/check output from pd.apply v. run model on list\n",
    "\n",
    "The default tolerance of `rtol=1e-05` fails, so we need to move to `1e-04` or even `1e-02` for things to be equal.\n",
    "\n",
    "---\n",
    "\n",
    "Unclear why we might need to move it up to `1e-02` for all to be equal... am I sure things are in the same order? Might be better to use absolute tolerance instead of relative?"
   ]
  },
  {
   "cell_type": "code",
   "execution_count": 66,
   "id": "19a983a8",
   "metadata": {},
   "outputs": [
    {
     "data": {
      "text/plain": [
       "True"
      ]
     },
     "execution_count": 66,
     "metadata": {},
     "output_type": "execute_result"
    }
   ],
   "source": [
    "# n_check = len(df_embeddings1)\n",
    "n_check = 5\n",
    "np.allclose(\n",
    "    df_embeddings1.head(n_check), \n",
    "    np.array(s_output.head(n_check).apply(lambda x: x.numpy()[0]).to_list()),\n",
    "    rtol=1e-02,\n",
    ")"
   ]
  },
  {
   "cell_type": "code",
   "execution_count": 96,
   "id": "047423c7",
   "metadata": {},
   "outputs": [],
   "source": [
    "# df_embeddings1.head(n_check)"
   ]
  },
  {
   "cell_type": "code",
   "execution_count": 97,
   "id": "5f53ac47",
   "metadata": {},
   "outputs": [],
   "source": [
    "# pd.DataFrame(s_output.head(n_check).apply(lambda x: x.numpy()[0]).to_list())"
   ]
  },
  {
   "cell_type": "code",
   "execution_count": 98,
   "id": "83644bdd",
   "metadata": {},
   "outputs": [],
   "source": [
    "# df_embeddings1.tail(n_check)"
   ]
  },
  {
   "cell_type": "code",
   "execution_count": 99,
   "id": "7ad72f09",
   "metadata": {},
   "outputs": [],
   "source": [
    "# pd.DataFrame(s_output.tail(n_check).apply(lambda x: x.numpy()[0]).to_list())"
   ]
  },
  {
   "cell_type": "code",
   "execution_count": 73,
   "id": "2b53b32a",
   "metadata": {},
   "outputs": [
    {
     "data": {
      "text/plain": [
       "False"
      ]
     },
     "execution_count": 73,
     "metadata": {},
     "output_type": "execute_result"
    }
   ],
   "source": [
    "n_check_small = 5\n",
    "np.allclose(\n",
    "    df_embeddings1.head(n_check_small),\n",
    "    pd.DataFrame(s_output.head(n_check_small).apply(lambda x: x.numpy()[0]).to_list()),\n",
    "    rtol=1e-04,\n",
    ")"
   ]
  },
  {
   "cell_type": "code",
   "execution_count": 61,
   "id": "deb80fe3",
   "metadata": {},
   "outputs": [
    {
     "data": {
      "text/html": [
       "<div>\n",
       "<style scoped>\n",
       "    .dataframe tbody tr th:only-of-type {\n",
       "        vertical-align: middle;\n",
       "    }\n",
       "\n",
       "    .dataframe tbody tr th {\n",
       "        vertical-align: top;\n",
       "    }\n",
       "\n",
       "    .dataframe thead th {\n",
       "        text-align: right;\n",
       "    }\n",
       "</style>\n",
       "<table border=\"1\" class=\"dataframe\">\n",
       "  <thead>\n",
       "    <tr style=\"text-align: right;\">\n",
       "      <th></th>\n",
       "      <th>0</th>\n",
       "      <th>1</th>\n",
       "      <th>2</th>\n",
       "      <th>3</th>\n",
       "      <th>4</th>\n",
       "      <th>5</th>\n",
       "      <th>6</th>\n",
       "      <th>7</th>\n",
       "      <th>8</th>\n",
       "      <th>9</th>\n",
       "      <th>10</th>\n",
       "      <th>11</th>\n",
       "      <th>12</th>\n",
       "      <th>13</th>\n",
       "      <th>14</th>\n",
       "      <th>15</th>\n",
       "      <th>16</th>\n",
       "      <th>17</th>\n",
       "      <th>18</th>\n",
       "      <th>19</th>\n",
       "      <th>20</th>\n",
       "      <th>21</th>\n",
       "      <th>22</th>\n",
       "      <th>23</th>\n",
       "      <th>24</th>\n",
       "      <th>25</th>\n",
       "      <th>26</th>\n",
       "      <th>27</th>\n",
       "      <th>28</th>\n",
       "      <th>29</th>\n",
       "      <th>...</th>\n",
       "      <th>482</th>\n",
       "      <th>483</th>\n",
       "      <th>484</th>\n",
       "      <th>485</th>\n",
       "      <th>486</th>\n",
       "      <th>487</th>\n",
       "      <th>488</th>\n",
       "      <th>489</th>\n",
       "      <th>490</th>\n",
       "      <th>491</th>\n",
       "      <th>492</th>\n",
       "      <th>493</th>\n",
       "      <th>494</th>\n",
       "      <th>495</th>\n",
       "      <th>496</th>\n",
       "      <th>497</th>\n",
       "      <th>498</th>\n",
       "      <th>499</th>\n",
       "      <th>500</th>\n",
       "      <th>501</th>\n",
       "      <th>502</th>\n",
       "      <th>503</th>\n",
       "      <th>504</th>\n",
       "      <th>505</th>\n",
       "      <th>506</th>\n",
       "      <th>507</th>\n",
       "      <th>508</th>\n",
       "      <th>509</th>\n",
       "      <th>510</th>\n",
       "      <th>511</th>\n",
       "    </tr>\n",
       "  </thead>\n",
       "  <tbody>\n",
       "    <tr>\n",
       "      <th>0</th>\n",
       "      <td>False</td>\n",
       "      <td>False</td>\n",
       "      <td>False</td>\n",
       "      <td>False</td>\n",
       "      <td>False</td>\n",
       "      <td>False</td>\n",
       "      <td>False</td>\n",
       "      <td>False</td>\n",
       "      <td>False</td>\n",
       "      <td>False</td>\n",
       "      <td>False</td>\n",
       "      <td>False</td>\n",
       "      <td>False</td>\n",
       "      <td>False</td>\n",
       "      <td>False</td>\n",
       "      <td>False</td>\n",
       "      <td>False</td>\n",
       "      <td>False</td>\n",
       "      <td>False</td>\n",
       "      <td>False</td>\n",
       "      <td>False</td>\n",
       "      <td>False</td>\n",
       "      <td>False</td>\n",
       "      <td>False</td>\n",
       "      <td>False</td>\n",
       "      <td>False</td>\n",
       "      <td>False</td>\n",
       "      <td>False</td>\n",
       "      <td>False</td>\n",
       "      <td>False</td>\n",
       "      <td>...</td>\n",
       "      <td>False</td>\n",
       "      <td>False</td>\n",
       "      <td>False</td>\n",
       "      <td>False</td>\n",
       "      <td>False</td>\n",
       "      <td>False</td>\n",
       "      <td>False</td>\n",
       "      <td>False</td>\n",
       "      <td>False</td>\n",
       "      <td>False</td>\n",
       "      <td>False</td>\n",
       "      <td>False</td>\n",
       "      <td>False</td>\n",
       "      <td>False</td>\n",
       "      <td>False</td>\n",
       "      <td>False</td>\n",
       "      <td>False</td>\n",
       "      <td>False</td>\n",
       "      <td>False</td>\n",
       "      <td>False</td>\n",
       "      <td>False</td>\n",
       "      <td>False</td>\n",
       "      <td>False</td>\n",
       "      <td>False</td>\n",
       "      <td>False</td>\n",
       "      <td>False</td>\n",
       "      <td>False</td>\n",
       "      <td>False</td>\n",
       "      <td>False</td>\n",
       "      <td>False</td>\n",
       "    </tr>\n",
       "  </tbody>\n",
       "</table>\n",
       "<p>1 rows × 512 columns</p>\n",
       "</div>"
      ],
      "text/plain": [
       "     0      1      2      3      4      5      6      7      8      9      10     11     12     13     14     15     16     17     18     19     20     21     22     23     24     25     26     27     28     29   ...    482    483    484    485    486    487    488    489    490    491    492  \\\n",
       "0  False  False  False  False  False  False  False  False  False  False  False  False  False  False  False  False  False  False  False  False  False  False  False  False  False  False  False  False  False  False  ...  False  False  False  False  False  False  False  False  False  False  False   \n",
       "\n",
       "     493    494    495    496    497    498    499    500    501    502    503    504    505    506    507    508    509    510    511  \n",
       "0  False  False  False  False  False  False  False  False  False  False  False  False  False  False  False  False  False  False  False  \n",
       "\n",
       "[1 rows x 512 columns]"
      ]
     },
     "execution_count": 61,
     "metadata": {},
     "output_type": "execute_result"
    }
   ],
   "source": [
    "np.equal(\n",
    "    df_embeddings1.head(1),\n",
    "    pd.DataFrame(s_output.head(1).apply(lambda x: x.numpy()[0]).to_list())\n",
    ")"
   ]
  },
  {
   "cell_type": "code",
   "execution_count": 80,
   "id": "834f91c5",
   "metadata": {},
   "outputs": [
    {
     "data": {
      "text/html": [
       "<div>\n",
       "<style scoped>\n",
       "    .dataframe tbody tr th:only-of-type {\n",
       "        vertical-align: middle;\n",
       "    }\n",
       "\n",
       "    .dataframe tbody tr th {\n",
       "        vertical-align: top;\n",
       "    }\n",
       "\n",
       "    .dataframe thead th {\n",
       "        text-align: right;\n",
       "    }\n",
       "</style>\n",
       "<table border=\"1\" class=\"dataframe\">\n",
       "  <thead>\n",
       "    <tr style=\"text-align: right;\">\n",
       "      <th></th>\n",
       "      <th>0</th>\n",
       "      <th>1</th>\n",
       "      <th>2</th>\n",
       "      <th>3</th>\n",
       "      <th>4</th>\n",
       "      <th>5</th>\n",
       "      <th>6</th>\n",
       "      <th>7</th>\n",
       "      <th>8</th>\n",
       "      <th>9</th>\n",
       "      <th>10</th>\n",
       "      <th>11</th>\n",
       "      <th>12</th>\n",
       "      <th>13</th>\n",
       "      <th>14</th>\n",
       "      <th>15</th>\n",
       "      <th>16</th>\n",
       "      <th>17</th>\n",
       "      <th>18</th>\n",
       "      <th>19</th>\n",
       "      <th>20</th>\n",
       "      <th>21</th>\n",
       "      <th>22</th>\n",
       "      <th>23</th>\n",
       "      <th>24</th>\n",
       "      <th>25</th>\n",
       "      <th>26</th>\n",
       "      <th>27</th>\n",
       "      <th>28</th>\n",
       "      <th>29</th>\n",
       "      <th>...</th>\n",
       "      <th>482</th>\n",
       "      <th>483</th>\n",
       "      <th>484</th>\n",
       "      <th>485</th>\n",
       "      <th>486</th>\n",
       "      <th>487</th>\n",
       "      <th>488</th>\n",
       "      <th>489</th>\n",
       "      <th>490</th>\n",
       "      <th>491</th>\n",
       "      <th>492</th>\n",
       "      <th>493</th>\n",
       "      <th>494</th>\n",
       "      <th>495</th>\n",
       "      <th>496</th>\n",
       "      <th>497</th>\n",
       "      <th>498</th>\n",
       "      <th>499</th>\n",
       "      <th>500</th>\n",
       "      <th>501</th>\n",
       "      <th>502</th>\n",
       "      <th>503</th>\n",
       "      <th>504</th>\n",
       "      <th>505</th>\n",
       "      <th>506</th>\n",
       "      <th>507</th>\n",
       "      <th>508</th>\n",
       "      <th>509</th>\n",
       "      <th>510</th>\n",
       "      <th>511</th>\n",
       "    </tr>\n",
       "  </thead>\n",
       "  <tbody>\n",
       "    <tr>\n",
       "      <th>0</th>\n",
       "      <td>False</td>\n",
       "      <td>False</td>\n",
       "      <td>False</td>\n",
       "      <td>False</td>\n",
       "      <td>False</td>\n",
       "      <td>False</td>\n",
       "      <td>False</td>\n",
       "      <td>False</td>\n",
       "      <td>False</td>\n",
       "      <td>False</td>\n",
       "      <td>False</td>\n",
       "      <td>False</td>\n",
       "      <td>False</td>\n",
       "      <td>False</td>\n",
       "      <td>False</td>\n",
       "      <td>False</td>\n",
       "      <td>False</td>\n",
       "      <td>False</td>\n",
       "      <td>False</td>\n",
       "      <td>False</td>\n",
       "      <td>False</td>\n",
       "      <td>False</td>\n",
       "      <td>False</td>\n",
       "      <td>False</td>\n",
       "      <td>False</td>\n",
       "      <td>False</td>\n",
       "      <td>False</td>\n",
       "      <td>False</td>\n",
       "      <td>False</td>\n",
       "      <td>False</td>\n",
       "      <td>...</td>\n",
       "      <td>False</td>\n",
       "      <td>False</td>\n",
       "      <td>False</td>\n",
       "      <td>False</td>\n",
       "      <td>False</td>\n",
       "      <td>False</td>\n",
       "      <td>False</td>\n",
       "      <td>False</td>\n",
       "      <td>False</td>\n",
       "      <td>False</td>\n",
       "      <td>False</td>\n",
       "      <td>False</td>\n",
       "      <td>False</td>\n",
       "      <td>False</td>\n",
       "      <td>False</td>\n",
       "      <td>False</td>\n",
       "      <td>False</td>\n",
       "      <td>False</td>\n",
       "      <td>False</td>\n",
       "      <td>False</td>\n",
       "      <td>False</td>\n",
       "      <td>False</td>\n",
       "      <td>False</td>\n",
       "      <td>False</td>\n",
       "      <td>False</td>\n",
       "      <td>False</td>\n",
       "      <td>False</td>\n",
       "      <td>False</td>\n",
       "      <td>False</td>\n",
       "      <td>False</td>\n",
       "    </tr>\n",
       "  </tbody>\n",
       "</table>\n",
       "<p>1 rows × 512 columns</p>\n",
       "</div>"
      ],
      "text/plain": [
       "     0      1      2      3      4      5      6      7      8      9      10     11     12     13     14     15     16     17     18     19     20     21     22     23     24     25     26     27     28     29   ...    482    483    484    485    486    487    488    489    490    491    492  \\\n",
       "0  False  False  False  False  False  False  False  False  False  False  False  False  False  False  False  False  False  False  False  False  False  False  False  False  False  False  False  False  False  False  ...  False  False  False  False  False  False  False  False  False  False  False   \n",
       "\n",
       "     493    494    495    496    497    498    499    500    501    502    503    504    505    506    507    508    509    510    511  \n",
       "0  False  False  False  False  False  False  False  False  False  False  False  False  False  False  False  False  False  False  False  \n",
       "\n",
       "[1 rows x 512 columns]"
      ]
     },
     "execution_count": 80,
     "metadata": {},
     "output_type": "execute_result"
    }
   ],
   "source": [
    "np.equal(\n",
    "    df_embeddings1.head(1),\n",
    "    model(df_test.head(1)).numpy()\n",
    ")"
   ]
  },
  {
   "cell_type": "markdown",
   "id": "efbccf53",
   "metadata": {},
   "source": [
    "### Equality fails even on the same input\n",
    "Looks like the output is not deterministic"
   ]
  },
  {
   "cell_type": "code",
   "execution_count": 87,
   "id": "f80e5db9",
   "metadata": {},
   "outputs": [
    {
     "data": {
      "text/plain": [
       "array([[False, False, False, False,  True,  True,  True,  True, False,\n",
       "         True]])"
      ]
     },
     "execution_count": 87,
     "metadata": {},
     "output_type": "execute_result"
    }
   ],
   "source": [
    "np.equal(\n",
    "    model(df_test.head(1)).numpy()[:, :10],\n",
    "    model(df_test.head(1)).numpy()[:, :10],\n",
    ")"
   ]
  },
  {
   "cell_type": "code",
   "execution_count": 90,
   "id": "babe7423",
   "metadata": {},
   "outputs": [
    {
     "data": {
      "text/plain": [
       "False"
      ]
     },
     "execution_count": 90,
     "metadata": {},
     "output_type": "execute_result"
    }
   ],
   "source": [
    "np.allclose(\n",
    "    model(df_test.head(10)).numpy(),\n",
    "    model(df_test.head(10)).numpy(),\n",
    ")"
   ]
  },
  {
   "cell_type": "code",
   "execution_count": 91,
   "id": "584e61d8",
   "metadata": {},
   "outputs": [
    {
     "data": {
      "text/plain": [
       "True"
      ]
     },
     "execution_count": 91,
     "metadata": {},
     "output_type": "execute_result"
    }
   ],
   "source": [
    "np.allclose(\n",
    "    model(df_test.head(10)).numpy(),\n",
    "    model(df_test.head(10)).numpy(),\n",
    "    rtol=1e-04,\n",
    ")"
   ]
  },
  {
   "cell_type": "code",
   "execution_count": 93,
   "id": "ee1f40b4",
   "metadata": {},
   "outputs": [
    {
     "name": "stdout",
     "output_type": "stream",
     "text": [
      "CPU times: user 488 ms, sys: 77.4 ms, total: 566 ms\n",
      "Wall time: 2.12 s\n"
     ]
    },
    {
     "data": {
      "text/plain": [
       "False"
      ]
     },
     "execution_count": 93,
     "metadata": {},
     "output_type": "execute_result"
    }
   ],
   "source": [
    "%%time\n",
    "\n",
    "np.allclose(\n",
    "    model(df_test).numpy(),\n",
    "    model(df_test).numpy(),\n",
    "    rtol=1e-04,\n",
    ")"
   ]
  },
  {
   "cell_type": "code",
   "execution_count": 94,
   "id": "df7c6c4a",
   "metadata": {},
   "outputs": [
    {
     "name": "stdout",
     "output_type": "stream",
     "text": [
      "CPU times: user 470 ms, sys: 117 ms, total: 587 ms\n",
      "Wall time: 2.15 s\n"
     ]
    },
    {
     "data": {
      "text/plain": [
       "True"
      ]
     },
     "execution_count": 94,
     "metadata": {},
     "output_type": "execute_result"
    }
   ],
   "source": [
    "%%time\n",
    "\n",
    "np.allclose(\n",
    "    model(df_test).numpy(),\n",
    "    model(df_test).numpy(),\n",
    "    rtol=1e-03,\n",
    ")"
   ]
  },
  {
   "cell_type": "code",
   "execution_count": 95,
   "id": "1754053d",
   "metadata": {},
   "outputs": [
    {
     "name": "stdout",
     "output_type": "stream",
     "text": [
      "CPU times: user 502 ms, sys: 69.2 ms, total: 571 ms\n",
      "Wall time: 2.14 s\n"
     ]
    },
    {
     "data": {
      "text/plain": [
       "True"
      ]
     },
     "execution_count": 95,
     "metadata": {},
     "output_type": "execute_result"
    }
   ],
   "source": [
    "%%time\n",
    "\n",
    "np.allclose(\n",
    "    model(df_test).numpy(),\n",
    "    model(df_test).numpy(),\n",
    "    rtol=1e-03,\n",
    ")"
   ]
  },
  {
   "cell_type": "markdown",
   "id": "d1c17b09",
   "metadata": {},
   "source": [
    "# Test checks on slicing strings"
   ]
  },
  {
   "cell_type": "code",
   "execution_count": 109,
   "id": "ece48c68",
   "metadata": {},
   "outputs": [
    {
     "data": {
      "text/plain": [
       "0                                                                       dog\n",
       "1                                                         Puppies are nice.\n",
       "2                    I enjoy taking long walks along the beach with my dog.\n",
       "3                                                                      cane\n",
       "4                                                   I cuccioli sono carini.\n",
       "                                       ...                                 \n",
       "5395                                                I cuccioli sono carini.\n",
       "5396    Mi piace fare lunghe passeggiate lungo la spiaggia con il mio cane.\n",
       "5397                                                                      犬\n",
       "5398                                                                子犬はいいです\n",
       "5399                                                  私は犬と一緒にビーチを散歩するのが好きです\n",
       "Name: text, Length: 5400, dtype: object"
      ]
     },
     "execution_count": 109,
     "metadata": {},
     "output_type": "execute_result"
    }
   ],
   "source": [
    "df_test['text'].str[:None]"
   ]
  },
  {
   "cell_type": "code",
   "execution_count": 110,
   "id": "10cac296",
   "metadata": {},
   "outputs": [
    {
     "data": {
      "text/plain": [
       "0        dog\n",
       "1       Pupp\n",
       "2       I en\n",
       "3       cane\n",
       "4       I cu\n",
       "        ... \n",
       "5395    I cu\n",
       "5396    Mi p\n",
       "5397       犬\n",
       "5398    子犬はい\n",
       "5399    私は犬と\n",
       "Name: text, Length: 5400, dtype: object"
      ]
     },
     "execution_count": 110,
     "metadata": {},
     "output_type": "execute_result"
    }
   ],
   "source": [
    "df_test['text'].str[:4]"
   ]
  },
  {
   "cell_type": "code",
   "execution_count": 111,
   "id": "25bbd0c9",
   "metadata": {},
   "outputs": [
    {
     "data": {
      "text/plain": [
       "0                  dog\n",
       "1       Puppies are ni\n",
       "2       I enjoy taking\n",
       "3                 cane\n",
       "4       I cuccioli son\n",
       "             ...      \n",
       "5395    I cuccioli son\n",
       "5396    Mi piace fare \n",
       "5397                 犬\n",
       "5398           子犬はいいです\n",
       "5399    私は犬と一緒にビーチを散歩す\n",
       "Name: text, Length: 5400, dtype: object"
      ]
     },
     "execution_count": 111,
     "metadata": {},
     "output_type": "execute_result"
    }
   ],
   "source": [
    "df_test['text'].str[:14]"
   ]
  },
  {
   "cell_type": "markdown",
   "id": "1523e0aa",
   "metadata": {},
   "source": [
    "# Test limiting string length\n",
    "USE will run out of memory with really long text.\n",
    "\n",
    "\n",
    "So maybe let's cap things at around `7,000` characters because we'll start seeing diminishing returns and we don't want a batch held up by one long post/comment. 7k limit should keep inference for each post at less than 1 second.\n",
    "\n",
    "Rough time checks:\n",
    "Reps, Chars -> Large | \"normal\"\n",
    "```\n",
    "-    10,   770 characters -> ` 0.0224 seconds` | 0.0105 seconds\n",
    "-    13,  1000 characters -> ` 0.0685 seconds` | 0.0121 s\n",
    "-   100,  7.7k characters -> ` 0.860  seconds` | 0.0351 s\n",
    "-   650,  ~15k characters -> ` 1.55   seconds` | 0.379  s\n",
    "- 1,000,  ~76k characters -> `22.0    seconds` | \n",
    "- 2,000, ~153k characters -> `1 min 44 seconds` | \n",
    "- 2,400, ~200k characters -> `OOM` errors (out of memory)\n",
    "```\n"
   ]
  },
  {
   "cell_type": "code",
   "execution_count": 80,
   "id": "0166c1b1",
   "metadata": {},
   "outputs": [
    {
     "name": "stdout",
     "output_type": "stream",
     "text": [
      "    10 ->     769\n",
      "    13 ->   1,000\n",
      "    16 ->   1,231\n",
      "    20 ->   1,539\n",
      "   100 ->   7,699\n",
      "   200 ->  15,399\n",
      "   650 ->  50,049\n",
      " 1,000 ->  76,999\n",
      " 1,500 -> 115,499\n",
      " 2,000 -> 153,999\n",
      " 3,000 -> 230,999\n",
      " 5,000 -> 384,999\n"
     ]
    }
   ],
   "source": [
    "len_check = [10, 13, 16, 20, 100, 200, 650, 1000, 1500, 2000, 3000, 5000]\n",
    "for i in len_check:\n",
    "    print(f\"{i:6,.0f} -> {len(' '.join(english_sentences * i)):7,.0f}\")"
   ]
  },
  {
   "cell_type": "code",
   "execution_count": 82,
   "id": "fa60bc16",
   "metadata": {},
   "outputs": [],
   "source": [
    "# %%time\n",
    "# _ = model(' '.join(english_sentences))"
   ]
  },
  {
   "cell_type": "code",
   "execution_count": 81,
   "id": "88d9bf33",
   "metadata": {},
   "outputs": [],
   "source": [
    "# %%time\n",
    "# _ = model_normal(' '.join(english_sentences))"
   ]
  },
  {
   "cell_type": "code",
   "execution_count": 78,
   "id": "c5a9801a",
   "metadata": {},
   "outputs": [
    {
     "name": "stdout",
     "output_type": "stream",
     "text": [
      "CPU times: user 357 ms, sys: 34.3 ms, total: 392 ms\n",
      "Wall time: 55.1 ms\n"
     ]
    }
   ],
   "source": [
    "%%time\n",
    "_ = model(' '.join(english_sentences * 10))"
   ]
  },
  {
   "cell_type": "code",
   "execution_count": 63,
   "id": "13ceaba1",
   "metadata": {},
   "outputs": [
    {
     "name": "stdout",
     "output_type": "stream",
     "text": [
      "CPU times: user 66 ms, sys: 4.06 ms, total: 70.1 ms\n",
      "Wall time: 10.5 ms\n"
     ]
    }
   ],
   "source": [
    "%%time\n",
    "_ = model_normal(' '.join(english_sentences * 10))"
   ]
  },
  {
   "cell_type": "code",
   "execution_count": 83,
   "id": "37ca3d0f",
   "metadata": {},
   "outputs": [
    {
     "name": "stdout",
     "output_type": "stream",
     "text": [
      "CPU times: user 512 ms, sys: 19 ms, total: 531 ms\n",
      "Wall time: 68.5 ms\n"
     ]
    }
   ],
   "source": [
    "%%time\n",
    "_ = model(' '.join(english_sentences * 13))"
   ]
  },
  {
   "cell_type": "code",
   "execution_count": 84,
   "id": "23efa3ab",
   "metadata": {},
   "outputs": [
    {
     "name": "stdout",
     "output_type": "stream",
     "text": [
      "CPU times: user 80 ms, sys: 2.83 ms, total: 82.9 ms\n",
      "Wall time: 12.1 ms\n"
     ]
    }
   ],
   "source": [
    "%%time\n",
    "_ = model_normal(' '.join(english_sentences * 13))"
   ]
  },
  {
   "cell_type": "code",
   "execution_count": 66,
   "id": "1d5d1ede",
   "metadata": {},
   "outputs": [
    {
     "name": "stdout",
     "output_type": "stream",
     "text": [
      "CPU times: user 9.48 s, sys: 1.75 s, total: 11.2 s\n",
      "Wall time: 995 ms\n"
     ]
    }
   ],
   "source": [
    "%%time\n",
    "_ = model(' '.join(english_sentences * 100))"
   ]
  },
  {
   "cell_type": "code",
   "execution_count": 67,
   "id": "462d6003",
   "metadata": {},
   "outputs": [
    {
     "name": "stdout",
     "output_type": "stream",
     "text": [
      "CPU times: user 354 ms, sys: 0 ns, total: 354 ms\n",
      "Wall time: 35.1 ms\n"
     ]
    }
   ],
   "source": [
    "%%time\n",
    "_ = model_normal(' '.join(english_sentences * 100))"
   ]
  },
  {
   "cell_type": "code",
   "execution_count": 69,
   "id": "d035f22c",
   "metadata": {},
   "outputs": [
    {
     "name": "stdout",
     "output_type": "stream",
     "text": [
      "CPU times: user 21.5 s, sys: 2.54 s, total: 24 s\n",
      "Wall time: 1.73 s\n"
     ]
    }
   ],
   "source": [
    "%%time\n",
    "_ = model(' '.join(english_sentences * 200))"
   ]
  },
  {
   "cell_type": "code",
   "execution_count": 68,
   "id": "f08586a8",
   "metadata": {},
   "outputs": [
    {
     "name": "stdout",
     "output_type": "stream",
     "text": [
      "CPU times: user 700 ms, sys: 0 ns, total: 700 ms\n",
      "Wall time: 66.8 ms\n"
     ]
    }
   ],
   "source": [
    "%%time\n",
    "_ = model_normal(' '.join(english_sentences * 200))"
   ]
  },
  {
   "cell_type": "code",
   "execution_count": 70,
   "id": "26aff9fb",
   "metadata": {},
   "outputs": [
    {
     "name": "stdout",
     "output_type": "stream",
     "text": [
      "CPU times: user 3min 1s, sys: 21.8 s, total: 3min 22s\n",
      "Wall time: 16.5 s\n"
     ]
    }
   ],
   "source": [
    "%%time\n",
    "_ = model(' '.join(english_sentences * 650))"
   ]
  },
  {
   "cell_type": "code",
   "execution_count": 86,
   "id": "b674f465",
   "metadata": {},
   "outputs": [
    {
     "name": "stdout",
     "output_type": "stream",
     "text": [
      "379 ms ± 137 ms per loop (mean ± std. dev. of 7 runs, 1 loop each)\n"
     ]
    }
   ],
   "source": [
    "%%timeit\n",
    "_ = model_normal(' '.join(english_sentences * 650))"
   ]
  },
  {
   "cell_type": "code",
   "execution_count": 73,
   "id": "3962a8a0",
   "metadata": {},
   "outputs": [
    {
     "name": "stdout",
     "output_type": "stream",
     "text": [
      "CPU times: user 7min 3s, sys: 46.6 s, total: 7min 49s\n",
      "Wall time: 34.7 s\n"
     ]
    }
   ],
   "source": [
    "%%time\n",
    "_ = model(' '.join(english_sentences * 1000))"
   ]
  },
  {
   "cell_type": "code",
   "execution_count": 72,
   "id": "03f89a7e",
   "metadata": {},
   "outputs": [
    {
     "name": "stdout",
     "output_type": "stream",
     "text": [
      "CPU times: user 3.46 s, sys: 237 ms, total: 3.69 s\n",
      "Wall time: 353 ms\n"
     ]
    }
   ],
   "source": [
    "%%time\n",
    "_ = model_normal(' '.join(english_sentences * 1000))"
   ]
  },
  {
   "cell_type": "code",
   "execution_count": 75,
   "id": "703ddf32",
   "metadata": {},
   "outputs": [
    {
     "name": "stdout",
     "output_type": "stream",
     "text": [
      "CPU times: user 26min 15s, sys: 2min 20s, total: 28min 35s\n",
      "Wall time: 2min 4s\n"
     ]
    }
   ],
   "source": [
    "%%time\n",
    "_ = model(' '.join(english_sentences * 2000))"
   ]
  },
  {
   "cell_type": "code",
   "execution_count": 74,
   "id": "4c1f6f02",
   "metadata": {},
   "outputs": [
    {
     "name": "stdout",
     "output_type": "stream",
     "text": [
      "CPU times: user 13.6 s, sys: 2.24 s, total: 15.8 s\n",
      "Wall time: 1.54 s\n"
     ]
    }
   ],
   "source": [
    "%%time\n",
    "_ = model_normal(' '.join(english_sentences * 2000))"
   ]
  },
  {
   "cell_type": "code",
   "execution_count": 116,
   "id": "7aa7d8cf",
   "metadata": {},
   "outputs": [],
   "source": [
    "# %%time\n",
    "# # This is expected to fail\n",
    "# _ = model(' '.join(english_sentences * 5000))"
   ]
  },
  {
   "cell_type": "code",
   "execution_count": 76,
   "id": "ec24a06e",
   "metadata": {},
   "outputs": [
    {
     "name": "stdout",
     "output_type": "stream",
     "text": [
      "CPU times: user 30.3 s, sys: 4.32 s, total: 34.6 s\n",
      "Wall time: 3.78 s\n"
     ]
    }
   ],
   "source": [
    "%%time\n",
    "# This is expected to fail for LARGE, but manages to complete for normal/default\n",
    "_ = model_normal(' '.join(english_sentences * 5000))"
   ]
  },
  {
   "cell_type": "markdown",
   "id": "1edd4974",
   "metadata": {},
   "source": [
    "Example error output:\n",
    "```\n",
    "---------------------------------------------------------------------------\n",
    "ResourceExhaustedError                    Traceback (most recent call last)\n",
    "<timed exec> in <module>\n",
    "\n",
    "ResourceExhaustedError:  OOM when allocating tensor with shape[1,8,190002,190002] and type float on /job:localhost/replica:0/task:0/device:CPU:0 by allocator cpu\n",
    "\t [[{{node StatefulPartitionedCall/StatefulPartitionedCall/EncoderTransformer/Transformer/SparseTransformerEncode/Layer_0/SelfAttention/SparseMultiheadAttention/DotProductAttention/MatMul}}]]\n",
    "Hint: If you want to see a list of allocated tensors when OOM happens, add report_tensor_allocations_upon_oom to RunOptions for current allocation info.\n",
    " [Op:__inference_restored_function_body_51014]\n",
    "\n",
    "Function call stack:\n",
    "restored_function_body\n",
    "\n",
    "```"
   ]
  },
  {
   "cell_type": "code",
   "execution_count": null,
   "id": "17dca233",
   "metadata": {},
   "outputs": [],
   "source": []
  },
  {
   "cell_type": "code",
   "execution_count": null,
   "id": "23ee0225",
   "metadata": {},
   "outputs": [],
   "source": []
  },
  {
   "cell_type": "code",
   "execution_count": null,
   "id": "c56b8fbc",
   "metadata": {},
   "outputs": [],
   "source": [
    "LEGACY"
   ]
  },
  {
   "cell_type": "markdown",
   "id": "d9137116",
   "metadata": {},
   "source": [
    "### Try in parallel"
   ]
  },
  {
   "cell_type": "code",
   "execution_count": 17,
   "id": "afbdb3b6",
   "metadata": {},
   "outputs": [],
   "source": [
    "import dask.dataframe as dd"
   ]
  },
  {
   "cell_type": "code",
   "execution_count": 18,
   "id": "cf1362df",
   "metadata": {},
   "outputs": [],
   "source": [
    "ddf_text = dd.from_pandas(df_test, npartitions=6)"
   ]
  },
  {
   "cell_type": "code",
   "execution_count": 19,
   "id": "3dca22b1",
   "metadata": {},
   "outputs": [
    {
     "data": {
      "text/html": [
       "<div>\n",
       "<style scoped>\n",
       "    .dataframe tbody tr th:only-of-type {\n",
       "        vertical-align: middle;\n",
       "    }\n",
       "\n",
       "    .dataframe tbody tr th {\n",
       "        vertical-align: top;\n",
       "    }\n",
       "\n",
       "    .dataframe thead th {\n",
       "        text-align: right;\n",
       "    }\n",
       "</style>\n",
       "<table border=\"1\" class=\"dataframe\">\n",
       "  <thead>\n",
       "    <tr style=\"text-align: right;\">\n",
       "      <th></th>\n",
       "      <th>text</th>\n",
       "    </tr>\n",
       "  </thead>\n",
       "  <tbody>\n",
       "    <tr>\n",
       "      <th>0</th>\n",
       "      <td>dog</td>\n",
       "    </tr>\n",
       "    <tr>\n",
       "      <th>1</th>\n",
       "      <td>Puppies are nice.</td>\n",
       "    </tr>\n",
       "    <tr>\n",
       "      <th>2</th>\n",
       "      <td>I enjoy taking long walks along the beach with my dog.</td>\n",
       "    </tr>\n",
       "    <tr>\n",
       "      <th>3</th>\n",
       "      <td>dog</td>\n",
       "    </tr>\n",
       "    <tr>\n",
       "      <th>4</th>\n",
       "      <td>Puppies are nice.</td>\n",
       "    </tr>\n",
       "  </tbody>\n",
       "</table>\n",
       "</div>"
      ],
      "text/plain": [
       "                                                     text\n",
       "0                                                     dog\n",
       "1                                       Puppies are nice.\n",
       "2  I enjoy taking long walks along the beach with my dog.\n",
       "3                                                     dog\n",
       "4                                       Puppies are nice."
      ]
     },
     "execution_count": 19,
     "metadata": {},
     "output_type": "execute_result"
    }
   ],
   "source": [
    "ddf_text.head()"
   ]
  },
  {
   "cell_type": "code",
   "execution_count": 20,
   "id": "47dbc2bb",
   "metadata": {},
   "outputs": [
    {
     "data": {
      "text/html": [
       "<div>\n",
       "<style scoped>\n",
       "    .dataframe tbody tr th:only-of-type {\n",
       "        vertical-align: middle;\n",
       "    }\n",
       "\n",
       "    .dataframe tbody tr th {\n",
       "        vertical-align: top;\n",
       "    }\n",
       "\n",
       "    .dataframe thead th {\n",
       "        text-align: right;\n",
       "    }\n",
       "</style>\n",
       "<table border=\"1\" class=\"dataframe\">\n",
       "  <thead>\n",
       "    <tr style=\"text-align: right;\">\n",
       "      <th></th>\n",
       "      <th>text</th>\n",
       "    </tr>\n",
       "  </thead>\n",
       "  <tbody>\n",
       "    <tr>\n",
       "      <th>5990</th>\n",
       "      <td>I enjoy taking long walks along the beach with my dog.</td>\n",
       "    </tr>\n",
       "    <tr>\n",
       "      <th>5991</th>\n",
       "      <td>dog</td>\n",
       "    </tr>\n",
       "    <tr>\n",
       "      <th>5992</th>\n",
       "      <td>Puppies are nice.</td>\n",
       "    </tr>\n",
       "    <tr>\n",
       "      <th>5993</th>\n",
       "      <td>I enjoy taking long walks along the beach with my dog.</td>\n",
       "    </tr>\n",
       "    <tr>\n",
       "      <th>5994</th>\n",
       "      <td>dog</td>\n",
       "    </tr>\n",
       "    <tr>\n",
       "      <th>5995</th>\n",
       "      <td>Puppies are nice.</td>\n",
       "    </tr>\n",
       "    <tr>\n",
       "      <th>5996</th>\n",
       "      <td>I enjoy taking long walks along the beach with my dog.</td>\n",
       "    </tr>\n",
       "    <tr>\n",
       "      <th>5997</th>\n",
       "      <td>dog</td>\n",
       "    </tr>\n",
       "    <tr>\n",
       "      <th>5998</th>\n",
       "      <td>Puppies are nice.</td>\n",
       "    </tr>\n",
       "    <tr>\n",
       "      <th>5999</th>\n",
       "      <td>I enjoy taking long walks along the beach with my dog.</td>\n",
       "    </tr>\n",
       "  </tbody>\n",
       "</table>\n",
       "</div>"
      ],
      "text/plain": [
       "                                                        text\n",
       "5990  I enjoy taking long walks along the beach with my dog.\n",
       "5991                                                     dog\n",
       "5992                                       Puppies are nice.\n",
       "5993  I enjoy taking long walks along the beach with my dog.\n",
       "5994                                                     dog\n",
       "5995                                       Puppies are nice.\n",
       "5996  I enjoy taking long walks along the beach with my dog.\n",
       "5997                                                     dog\n",
       "5998                                       Puppies are nice.\n",
       "5999  I enjoy taking long walks along the beach with my dog."
      ]
     },
     "execution_count": 20,
     "metadata": {},
     "output_type": "execute_result"
    }
   ],
   "source": [
    "ddf_text[['text']].tail(10)"
   ]
  },
  {
   "cell_type": "markdown",
   "id": "d7c4c77b",
   "metadata": {},
   "source": [
    "## Define functions to get numpy array"
   ]
  },
  {
   "cell_type": "code",
   "execution_count": 21,
   "id": "3c393f50",
   "metadata": {},
   "outputs": [],
   "source": [
    "def get_embeddings_as_numpy_df(\n",
    "    df: pd.DataFrame,\n",
    "    text_col: str = 'text',\n",
    "    model_fxn: callable = model,\n",
    "    apply_fxn: str = 'apply',\n",
    ") -> pd.Series:\n",
    "    \"\"\"Apply fxn to get embeddings to a df\n",
    "    Use it so that we can pair it with dask and apply it in parallel\n",
    "    \"\"\"\n",
    "    if apply_fxn == 'apply':\n",
    "        return df[text_col].apply(lambda x: model(x).numpy())\n",
    "    else:\n",
    "        # original example used map\n",
    "        return df[text_col].map(model_fxn).apply(lambda x: x.numpy())\n",
    "    "
   ]
  },
  {
   "cell_type": "code",
   "execution_count": 22,
   "id": "6270b49e",
   "metadata": {},
   "outputs": [],
   "source": [
    "def get_embeddings_as_numpy(\n",
    "    text_string: str,\n",
    "#     tf_model: callable = model,\n",
    ") -> np.ndarray:\n",
    "    \"\"\"Wrapper to convert Tensor type to numpy to make downstream transformations faster\"\"\"\n",
    "    return model(text_string).numpy()"
   ]
  },
  {
   "cell_type": "markdown",
   "id": "c3fecc09",
   "metadata": {},
   "source": [
    "## Get embeddings with `dask.map_partition`"
   ]
  },
  {
   "cell_type": "code",
   "execution_count": 23,
   "id": "f662e1e5",
   "metadata": {},
   "outputs": [
    {
     "name": "stdout",
     "output_type": "stream",
     "text": [
      "CPU times: user 2.69 s, sys: 953 ms, total: 3.64 s\n",
      "Wall time: 3.5 s\n"
     ]
    }
   ],
   "source": [
    "%%time\n",
    "\n",
    "ddf_text['embeddings'] = (\n",
    "    ddf_text[['text']]\n",
    "    .map_partitions(model,\n",
    "                    meta=pd.Series(name='embeddings', dtype=str)\n",
    "                    )\n",
    "    .compute()\n",
    ")"
   ]
  },
  {
   "cell_type": "code",
   "execution_count": 25,
   "id": "57e6b976",
   "metadata": {},
   "outputs": [
    {
     "data": {
      "text/html": [
       "<div>\n",
       "<style scoped>\n",
       "    .dataframe tbody tr th:only-of-type {\n",
       "        vertical-align: middle;\n",
       "    }\n",
       "\n",
       "    .dataframe tbody tr th {\n",
       "        vertical-align: top;\n",
       "    }\n",
       "\n",
       "    .dataframe thead th {\n",
       "        text-align: right;\n",
       "    }\n",
       "</style>\n",
       "<table border=\"1\" class=\"dataframe\">\n",
       "  <thead>\n",
       "    <tr style=\"text-align: right;\">\n",
       "      <th></th>\n",
       "      <th>embeddings</th>\n",
       "    </tr>\n",
       "  </thead>\n",
       "  <tbody>\n",
       "    <tr>\n",
       "      <th>5995</th>\n",
       "      <td>NaN</td>\n",
       "    </tr>\n",
       "    <tr>\n",
       "      <th>5996</th>\n",
       "      <td>NaN</td>\n",
       "    </tr>\n",
       "    <tr>\n",
       "      <th>5997</th>\n",
       "      <td>NaN</td>\n",
       "    </tr>\n",
       "    <tr>\n",
       "      <th>5998</th>\n",
       "      <td>NaN</td>\n",
       "    </tr>\n",
       "    <tr>\n",
       "      <th>5999</th>\n",
       "      <td>NaN</td>\n",
       "    </tr>\n",
       "  </tbody>\n",
       "</table>\n",
       "</div>"
      ],
      "text/plain": [
       "     embeddings\n",
       "5995        NaN\n",
       "5996        NaN\n",
       "5997        NaN\n",
       "5998        NaN\n",
       "5999        NaN"
      ]
     },
     "execution_count": 25,
     "metadata": {},
     "output_type": "execute_result"
    }
   ],
   "source": [
    "ddf_text[['embeddings']].compute().tail()"
   ]
  },
  {
   "cell_type": "code",
   "execution_count": 96,
   "id": "74f5bc4e",
   "metadata": {},
   "outputs": [],
   "source": [
    "embeddings_size = 512\n",
    "# tf_embeddings = np.empty([len(ddf_text), embeddings_size])\n",
    "# tf_embeddings.shape"
   ]
  },
  {
   "cell_type": "code",
   "execution_count": 98,
   "id": "bc18674c",
   "metadata": {},
   "outputs": [
    {
     "data": {
      "text/plain": [
       "dask.dataframe.core.DataFrame"
      ]
     },
     "execution_count": 98,
     "metadata": {},
     "output_type": "execute_result"
    }
   ],
   "source": [
    "type(ddf_text)"
   ]
  },
  {
   "cell_type": "code",
   "execution_count": 102,
   "id": "0c3d293b",
   "metadata": {},
   "outputs": [
    {
     "name": "stdout",
     "output_type": "stream",
     "text": [
      "CPU times: user 39 ms, sys: 6.32 ms, total: 45.4 ms\n",
      "Wall time: 34.9 ms\n"
     ]
    },
    {
     "data": {
      "text/html": [
       "<div>\n",
       "<style scoped>\n",
       "    .dataframe tbody tr th:only-of-type {\n",
       "        vertical-align: middle;\n",
       "    }\n",
       "\n",
       "    .dataframe tbody tr th {\n",
       "        vertical-align: top;\n",
       "    }\n",
       "\n",
       "    .dataframe thead th {\n",
       "        text-align: right;\n",
       "    }\n",
       "</style>\n",
       "<table border=\"1\" class=\"dataframe\">\n",
       "  <thead>\n",
       "    <tr style=\"text-align: right;\">\n",
       "      <th></th>\n",
       "      <th>embeddings</th>\n",
       "    </tr>\n",
       "  </thead>\n",
       "  <tbody>\n",
       "    <tr>\n",
       "      <th>0</th>\n",
       "      <td>((tf.Tensor(-0.005252141, shape=(), dtype=float32), tf.Tensor(-0.038312018, shape=(), dtype=float32), tf.Tensor(-0.009220189, shape=(), dtype=float32), tf.Tensor(-0.04609629, shape=(), dtype=float32), tf.Tensor(-0.05765771, shape=(), dt...</td>\n",
       "    </tr>\n",
       "    <tr>\n",
       "      <th>1</th>\n",
       "      <td>((tf.Tensor(0.019088347, shape=(), dtype=float32), tf.Tensor(0.009552213, shape=(), dtype=float32), tf.Tensor(-0.047412947, shape=(), dtype=float32), tf.Tensor(0.0104937935, shape=(), dtype=float32), tf.Tensor(-0.04290844, shape=(), dty...</td>\n",
       "    </tr>\n",
       "    <tr>\n",
       "      <th>2</th>\n",
       "      <td>((tf.Tensor(-0.022675823, shape=(), dtype=float32), tf.Tensor(-0.069071874, shape=(), dtype=float32), tf.Tensor(0.0155086545, shape=(), dtype=float32), tf.Tensor(-0.029039716, shape=(), dtype=float32), tf.Tensor(-0.08988534, shape=(), d...</td>\n",
       "    </tr>\n",
       "    <tr>\n",
       "      <th>3</th>\n",
       "      <td>((tf.Tensor(0.01908833, shape=(), dtype=float32), tf.Tensor(0.009552218, shape=(), dtype=float32), tf.Tensor(-0.047412947, shape=(), dtype=float32), tf.Tensor(0.010493787, shape=(), dtype=float32), tf.Tensor(-0.04290844, shape=(), dtype...</td>\n",
       "    </tr>\n",
       "    <tr>\n",
       "      <th>4</th>\n",
       "      <td>((tf.Tensor(-0.0052521243, shape=(), dtype=float32), tf.Tensor(-0.03831199, shape=(), dtype=float32), tf.Tensor(-0.009220154, shape=(), dtype=float32), tf.Tensor(-0.0460963, shape=(), dtype=float32), tf.Tensor(-0.05765769, shape=(), dty...</td>\n",
       "    </tr>\n",
       "  </tbody>\n",
       "</table>\n",
       "</div>"
      ],
      "text/plain": [
       "                                                                                                                                                                                                                                        embeddings\n",
       "0  ((tf.Tensor(-0.005252141, shape=(), dtype=float32), tf.Tensor(-0.038312018, shape=(), dtype=float32), tf.Tensor(-0.009220189, shape=(), dtype=float32), tf.Tensor(-0.04609629, shape=(), dtype=float32), tf.Tensor(-0.05765771, shape=(), dt...\n",
       "1  ((tf.Tensor(0.019088347, shape=(), dtype=float32), tf.Tensor(0.009552213, shape=(), dtype=float32), tf.Tensor(-0.047412947, shape=(), dtype=float32), tf.Tensor(0.0104937935, shape=(), dtype=float32), tf.Tensor(-0.04290844, shape=(), dty...\n",
       "2  ((tf.Tensor(-0.022675823, shape=(), dtype=float32), tf.Tensor(-0.069071874, shape=(), dtype=float32), tf.Tensor(0.0155086545, shape=(), dtype=float32), tf.Tensor(-0.029039716, shape=(), dtype=float32), tf.Tensor(-0.08988534, shape=(), d...\n",
       "3  ((tf.Tensor(0.01908833, shape=(), dtype=float32), tf.Tensor(0.009552218, shape=(), dtype=float32), tf.Tensor(-0.047412947, shape=(), dtype=float32), tf.Tensor(0.010493787, shape=(), dtype=float32), tf.Tensor(-0.04290844, shape=(), dtype...\n",
       "4  ((tf.Tensor(-0.0052521243, shape=(), dtype=float32), tf.Tensor(-0.03831199, shape=(), dtype=float32), tf.Tensor(-0.009220154, shape=(), dtype=float32), tf.Tensor(-0.0460963, shape=(), dtype=float32), tf.Tensor(-0.05765769, shape=(), dty..."
      ]
     },
     "execution_count": 102,
     "metadata": {},
     "output_type": "execute_result"
    }
   ],
   "source": [
    "%%time\n",
    "\n",
    "ddf_text[['embeddings']].compute().head()"
   ]
  },
  {
   "cell_type": "code",
   "execution_count": 103,
   "id": "588f83a3",
   "metadata": {},
   "outputs": [],
   "source": [
    "# %%time\n",
    "\n",
    "# # This doesn't seem to work because dask expects the output to collapse to a single dimension (instead of 512)\n",
    "# # tf_embeddings = \n",
    "# (\n",
    "#     ddf_text[['text']]\n",
    "#     .map_partitions(get_embeddings_as_numpy,\n",
    "#                     meta=pd.Series(name='embeddings', dtype=str)\n",
    "#                     )\n",
    "#     .compute()\n",
    "# )"
   ]
  },
  {
   "cell_type": "code",
   "execution_count": 107,
   "id": "b06501a9",
   "metadata": {},
   "outputs": [
    {
     "name": "stdout",
     "output_type": "stream",
     "text": [
      "CPU times: user 2min 40s, sys: 52.2 s, total: 3min 32s\n",
      "Wall time: 46.8 s\n"
     ]
    }
   ],
   "source": [
    "%%time\n",
    "\n",
    "ddf_text['embeddings_np1'] = (\n",
    "    ddf_text\n",
    "    .map_partitions(get_embeddings_as_numpy_df,\n",
    "                    text_col='text',\n",
    "                    apply_fxn='map',\n",
    "                    meta=pd.Series(name='text', dtype=str)\n",
    "                    )\n",
    "    .compute()\n",
    ")"
   ]
  },
  {
   "cell_type": "code",
   "execution_count": 106,
   "id": "8b49eeaa",
   "metadata": {},
   "outputs": [
    {
     "name": "stdout",
     "output_type": "stream",
     "text": [
      "CPU times: user 2min 43s, sys: 52.5 s, total: 3min 35s\n",
      "Wall time: 49.1 s\n"
     ]
    }
   ],
   "source": [
    "%%time\n",
    "\n",
    "ddf_text['embeddings_np2'] = (\n",
    "    ddf_text\n",
    "    .map_partitions(get_embeddings_as_numpy_df,\n",
    "                    text_col='text',\n",
    "                    apply_fxn='apply',\n",
    "                    meta=pd.Series(name='text', dtype=str)\n",
    "                    )\n",
    "    .compute()\n",
    ")"
   ]
  },
  {
   "cell_type": "markdown",
   "id": "0d27f8ba",
   "metadata": {},
   "source": [
    "## What is the dtype? / how do we get embeddings out of this output?\n",
    "\n",
    "By default it looks like the dtype is a `tensorflow.Tensor` object, which could be a pain to manipulate."
   ]
  },
  {
   "cell_type": "code",
   "execution_count": 108,
   "id": "c543f84c",
   "metadata": {},
   "outputs": [
    {
     "data": {
      "text/plain": [
       "0    ((tf.Tensor(-0.005252141, shape=(), dtype=float32), tf.Tensor(-0.038312018, shape=(), dtype=float32), tf.Tensor(-0.009220189, shape=(), dtype=float32), tf.Tensor(-0.04609629, shape=(), dtype=float32), tf.Tensor(-0.05765771, shape=(), dt...\n",
       "1    ((tf.Tensor(0.019088347, shape=(), dtype=float32), tf.Tensor(0.009552213, shape=(), dtype=float32), tf.Tensor(-0.047412947, shape=(), dtype=float32), tf.Tensor(0.0104937935, shape=(), dtype=float32), tf.Tensor(-0.04290844, shape=(), dty...\n",
       "2    ((tf.Tensor(-0.022675823, shape=(), dtype=float32), tf.Tensor(-0.069071874, shape=(), dtype=float32), tf.Tensor(0.0155086545, shape=(), dtype=float32), tf.Tensor(-0.029039716, shape=(), dtype=float32), tf.Tensor(-0.08988534, shape=(), d...\n",
       "3    ((tf.Tensor(0.01908833, shape=(), dtype=float32), tf.Tensor(0.009552218, shape=(), dtype=float32), tf.Tensor(-0.047412947, shape=(), dtype=float32), tf.Tensor(0.010493787, shape=(), dtype=float32), tf.Tensor(-0.04290844, shape=(), dtype...\n",
       "4    ((tf.Tensor(-0.0052521243, shape=(), dtype=float32), tf.Tensor(-0.03831199, shape=(), dtype=float32), tf.Tensor(-0.009220154, shape=(), dtype=float32), tf.Tensor(-0.0460963, shape=(), dtype=float32), tf.Tensor(-0.05765769, shape=(), dty...\n",
       "Name: embeddings, dtype: object"
      ]
     },
     "execution_count": 108,
     "metadata": {},
     "output_type": "execute_result"
    }
   ],
   "source": [
    "ddf_text['embeddings'].head()"
   ]
  },
  {
   "cell_type": "code",
   "execution_count": 109,
   "id": "c17547de",
   "metadata": {},
   "outputs": [
    {
     "data": {
      "text/plain": [
       "5995    NaN\n",
       "5996    NaN\n",
       "5997    NaN\n",
       "5998    NaN\n",
       "5999    NaN\n",
       "Name: embeddings, dtype: object"
      ]
     },
     "execution_count": 109,
     "metadata": {},
     "output_type": "execute_result"
    }
   ],
   "source": [
    "ddf_text['embeddings'].tail()"
   ]
  },
  {
   "cell_type": "code",
   "execution_count": 49,
   "id": "80fc149c",
   "metadata": {},
   "outputs": [
    {
     "data": {
      "text/plain": [
       "0    [[-0.005252127, -0.03831199, -0.00922016, -0.046096295, -0.057657722, -0.04768436, -0.016511641, 0.0047285636, -0.013010718, -0.0713816, -0.030422542, 0.023165481, 0.017145848, 0.045331325, 0.015669955, -0.01395997, -0.05360133, -0.0118...\n",
       "1    [[-0.02267581, -0.069071844, 0.015508692, -0.029039733, -0.08988534, -0.0010676696, -0.014085712, 0.0072551174, -0.019989632, 0.0669519, 0.017029503, 0.022945907, -0.006108564, 0.05118298, -0.043797858, -0.041236266, 0.029429343, 0.0488...\n",
       "2    [[0.019088332, 0.009552218, -0.04741294, 0.0104937535, -0.042908445, -0.06331453, -0.0031612532, 0.051496144, 0.027147723, -0.010961102, 0.034988593, 0.057352275, 0.046823528, 0.057418354, -0.00366939, 0.0066046086, -0.0013654096, 0.003...\n",
       "3    [[-0.0052521275, -0.03831199, -0.009220155, -0.046096295, -0.05765772, -0.04768436, -0.016511641, 0.0047285655, -0.013010721, -0.0713816, -0.030422544, 0.023165483, 0.017145844, 0.04533133, 0.015669957, -0.013959968, -0.05360133, -0.011...\n",
       "4    [[-0.02267581, -0.069071844, 0.015508692, -0.029039731, -0.08988534, -0.0010676745, -0.014085707, 0.0072551128, -0.019989632, 0.0669519, 0.017029509, 0.02294591, -0.006108567, 0.05118298, -0.043797866, -0.041236263, 0.029429344, 0.04888...\n",
       "Name: embeddings_np, dtype: object"
      ]
     },
     "execution_count": 49,
     "metadata": {},
     "output_type": "execute_result"
    }
   ],
   "source": [
    "ddf_text['embeddings_np'].head()"
   ]
  },
  {
   "cell_type": "code",
   "execution_count": null,
   "id": "e49784e0",
   "metadata": {},
   "outputs": [],
   "source": [
    "ddf_text['embeddings_np'].tail()"
   ]
  },
  {
   "cell_type": "code",
   "execution_count": 55,
   "id": "a6526be2",
   "metadata": {},
   "outputs": [
    {
     "name": "stdout",
     "output_type": "stream",
     "text": [
      "CPU times: user 12.6 ms, sys: 0 ns, total: 12.6 ms\n",
      "Wall time: 10.2 ms\n"
     ]
    },
    {
     "data": {
      "text/plain": [
       "0    [[-0.0052521224, -0.03831199, -0.009220155, -0.0460963, -0.057657693, -0.047684345, -0.016511647, 0.004728538, -0.01301072, -0.07138159, -0.03042251, 0.023165515, 0.017145874, 0.045331337, 0.015669929, -0.013959975, -0.05360135, -0.0118...\n",
       "1    [[-0.022675814, -0.069071874, 0.015508659, -0.02903972, -0.08988533, -0.0010676887, -0.014085756, 0.007255134, -0.019989597, 0.06695186, 0.01702949, 0.02294587, -0.006108526, 0.05118297, -0.043797873, -0.04123629, 0.029429296, 0.0488887...\n",
       "2    [[0.019088339, 0.009552221, -0.04741294, 0.010493785, -0.04290844, -0.06331449, -0.0031612637, 0.051496122, 0.027147735, -0.010961098, 0.034988593, 0.057352237, 0.046823513, 0.057418343, -0.0036693846, 0.006604615, -0.0013653795, 0.0038...\n",
       "3    [[-0.0052521233, -0.03831199, -0.009220155, -0.0460963, -0.057657693, -0.047684345, -0.016511645, 0.0047285357, -0.013010718, -0.07138159, -0.030422507, 0.023165515, 0.017145874, 0.045331337, 0.015669929, -0.013959976, -0.05360135, -0.0...\n",
       "4    [[-0.022675822, -0.069071874, 0.015508652, -0.029039716, -0.08988534, -0.0010676958, -0.014085753, 0.007255138, -0.0199896, 0.06695186, 0.017029488, 0.022945873, -0.0061085303, 0.05118296, -0.04379786, -0.04123628, 0.029429302, 0.048888...\n",
       "Name: embeddings, dtype: object"
      ]
     },
     "execution_count": 55,
     "metadata": {},
     "output_type": "execute_result"
    }
   ],
   "source": [
    "%%time\n",
    "ddf_text['embeddings'].head().apply(lambda x: x.numpy())"
   ]
  },
  {
   "cell_type": "code",
   "execution_count": 108,
   "id": "f97bb146",
   "metadata": {},
   "outputs": [],
   "source": [
    "# ddf_text['embeddings'].compute()"
   ]
  },
  {
   "cell_type": "code",
   "execution_count": 110,
   "id": "d6e74c65",
   "metadata": {},
   "outputs": [],
   "source": [
    "# %%time\n",
    "# ddf_text['embeddings'].apply(lambda x: x.numpy())"
   ]
  },
  {
   "cell_type": "code",
   "execution_count": 112,
   "id": "437c5685",
   "metadata": {},
   "outputs": [
    {
     "data": {
      "text/plain": [
       "0    [[-0.005252141, -0.038312018, -0.009220189, -0.04609629, -0.05765771, -0.047684345, -0.01651165, 0.0047285794, -0.013010711, -0.071381606, -0.030422565, 0.02316548, 0.017145867, 0.045331288, 0.015669933, -0.013959985, -0.053601343, -0.0...\n",
       "1    [[0.019088347, 0.009552213, -0.047412947, 0.0104937935, -0.04290844, -0.06331449, -0.0031612592, 0.051496133, 0.027147729, -0.010961093, 0.034988593, 0.05735223, 0.046823505, 0.057418343, -0.0036693835, 0.0066046203, -0.0013653715, 0.00...\n",
       "2    [[-0.022675823, -0.069071874, 0.0155086545, -0.029039716, -0.08988534, -0.0010676958, -0.014085754, 0.0072551346, -0.019989599, 0.06695186, 0.01702949, 0.022945872, -0.0061085364, 0.051182974, -0.04379786, -0.04123629, 0.029429302, 0.04...\n",
       "3    [[0.01908833, 0.009552218, -0.047412947, 0.010493787, -0.04290844, -0.063314475, -0.0031612662, 0.051496133, 0.027147733, -0.010961089, 0.0349886, 0.05735224, 0.046823505, 0.057418346, -0.003669383, 0.0066046147, -0.0013653776, 0.003832...\n",
       "4    [[-0.0052521243, -0.03831199, -0.009220154, -0.0460963, -0.05765769, -0.047684345, -0.01651165, 0.0047285333, -0.013010722, -0.07138159, -0.030422512, 0.023165513, 0.017145878, 0.045331337, 0.01566993, -0.013959976, -0.05360135, -0.0118...\n",
       "Name: embeddings, dtype: object"
      ]
     },
     "execution_count": 112,
     "metadata": {},
     "output_type": "execute_result"
    }
   ],
   "source": [
    "ddf_text['embeddings'].head().apply(lambda x: x.numpy())"
   ]
  },
  {
   "cell_type": "code",
   "execution_count": 113,
   "id": "797df678",
   "metadata": {},
   "outputs": [],
   "source": [
    "# ddf_text['embeddings'].apply(lambda x: x.numpy())"
   ]
  },
  {
   "cell_type": "code",
   "execution_count": null,
   "id": "8d93b9ab",
   "metadata": {},
   "outputs": [],
   "source": []
  }
 ],
 "metadata": {
  "environment": {
   "name": "tf2-gpu.2-3.m71",
   "type": "gcloud",
   "uri": "gcr.io/deeplearning-platform-release/tf2-gpu.2-3:m71"
  },
  "kernelspec": {
   "display_name": "Python [conda env:root] *",
   "language": "python",
   "name": "conda-root-py"
  },
  "language_info": {
   "codemirror_mode": {
    "name": "ipython",
    "version": 3
   },
   "file_extension": ".py",
   "mimetype": "text/x-python",
   "name": "python",
   "nbconvert_exporter": "python",
   "pygments_lexer": "ipython3",
   "version": "3.7.10"
  }
 },
 "nbformat": 4,
 "nbformat_minor": 5
}
