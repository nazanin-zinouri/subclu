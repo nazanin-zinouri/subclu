{
 "cells": [
  {
   "cell_type": "markdown",
   "id": "abd71be8",
   "metadata": {},
   "source": [
    "# Purpose\n",
    "\n",
    "2021-06-28.\n",
    "Test different parallel frameworks to speed up getting embeddings from USE-multilingual.\n",
    "\n",
    "test:\n",
    "- dask\n",
    "- modin\n",
    "- pandarallel"
   ]
  },
  {
   "cell_type": "markdown",
   "id": "5c87d642",
   "metadata": {},
   "source": [
    "# Notebook setup"
   ]
  },
  {
   "cell_type": "code",
   "execution_count": 1,
   "id": "77454179",
   "metadata": {},
   "outputs": [],
   "source": [
    "%load_ext autoreload\n",
    "%autoreload 2"
   ]
  },
  {
   "cell_type": "code",
   "execution_count": 2,
   "id": "da34b3e9",
   "metadata": {},
   "outputs": [
    {
     "name": "stdout",
     "output_type": "stream",
     "text": [
      "python\t\tv 3.7.10\n",
      "===\n",
      "fse\t\tv: 0.1.15\n",
      "gensim\t\tv: 3.8.3\n",
      "joblib\t\tv: 1.0.1\n",
      "modin\t\tv: 0.10.0\n",
      "numpy\t\tv: 1.18.5\n",
      "pandas\t\tv: 1.2.4\n",
      "plotly\t\tv: 4.14.3\n"
     ]
    }
   ],
   "source": [
    "from datetime import datetime\n",
    "import gc\n",
    "import os\n",
    "\n",
    "import fse\n",
    "from fse.models import uSIF\n",
    "import gensim\n",
    "from gensim.models.fasttext import FastText, load_facebook_vectors\n",
    "import joblib\n",
    "\n",
    "import math\n",
    "import numpy as np\n",
    "import pandas as pd\n",
    "import plotly\n",
    "import plotly.express as px\n",
    "\n",
    "# modin df\n",
    "import modin\n",
    "import modin.pandas as mpd\n",
    "\n",
    "from subclu.data.fasttext_utils import (\n",
    "    download_ft_pretrained_model,\n",
    "    get_df_for_most_similar,\n",
    "    get_project_subfolder,\n",
    ")\n",
    "from subclu.utils import set_working_directory\n",
    "from subclu.utils.eda import (\n",
    "    setup_logging, counts_describe, value_counts_and_pcts,\n",
    "    notebook_display_config, print_lib_versions,\n",
    "    style_df_numeric\n",
    ")\n",
    "from subclu.eda.aggregates import (\n",
    "    compare_raw_v_weighted_language\n",
    ")\n",
    "from subclu.utils.data_irl_style import (\n",
    "    get_colormap, theme_dirl\n",
    ")\n",
    "\n",
    "\n",
    "print_lib_versions([fse, gensim, joblib, modin, np, pd, plotly])"
   ]
  },
  {
   "cell_type": "code",
   "execution_count": 3,
   "id": "7f0c6247",
   "metadata": {},
   "outputs": [
    {
     "name": "stdout",
     "output_type": "stream",
     "text": [
      "python\t\tv 3.7.10\n",
      "===\n",
      "tensorflow\tv: 2.3.2\n"
     ]
    }
   ],
   "source": [
    "# USE & TF-focused imports\n",
    "import tensorflow\n",
    "import tensorflow as tf\n",
    "# import tensorflow.compat.v2 as tf\n",
    "import tensorflow_hub as hub\n",
    "import tensorflow_text\n",
    "\n",
    "print_lib_versions([tensorflow])"
   ]
  },
  {
   "cell_type": "code",
   "execution_count": 4,
   "id": "79bb0cd5",
   "metadata": {},
   "outputs": [],
   "source": [
    "# plotting\n",
    "import matplotlib.pyplot as plt\n",
    "import matplotlib.ticker as mtick\n",
    "import matplotlib.dates as mdates\n",
    "plt.style.use('default')\n",
    "\n",
    "setup_logging()\n",
    "notebook_display_config()"
   ]
  },
  {
   "cell_type": "markdown",
   "id": "969295f2",
   "metadata": {},
   "source": [
    "# Check whether we have access to a GPU"
   ]
  },
  {
   "cell_type": "code",
   "execution_count": 21,
   "id": "c6fde476",
   "metadata": {},
   "outputs": [
    {
     "name": "stdout",
     "output_type": "stream",
     "text": [
      "Num GPUs Available:  0\n"
     ]
    }
   ],
   "source": [
    "print(\"Num GPUs Available: \", len(tf.config.list_physical_devices('GPU')))"
   ]
  },
  {
   "cell_type": "markdown",
   "id": "6fbf0568",
   "metadata": {},
   "source": [
    "# Load model from hub"
   ]
  },
  {
   "cell_type": "code",
   "execution_count": 5,
   "id": "a4b76f96",
   "metadata": {},
   "outputs": [
    {
     "name": "stdout",
     "output_type": "stream",
     "text": [
      "CPU times: user 5.73 s, sys: 963 ms, total: 6.69 s\n",
      "Wall time: 6.73 s\n"
     ]
    }
   ],
   "source": [
    "%%time\n",
    "# The 16-language multilingual module is the default but feel free\n",
    "# to pick others from the list and compare the results.\n",
    "#@param ['https://tfhub.dev/google/universal-sentence-encoder-multilingual/3', 'https://tfhub.dev/google/universal-sentence-encoder-multilingual-large/3']\n",
    "module_url = 'https://tfhub.dev/google/universal-sentence-encoder-multilingual-large/3' \n",
    "\n",
    "\n",
    "model = hub.load(module_url)"
   ]
  },
  {
   "cell_type": "markdown",
   "id": "2d2c8e87",
   "metadata": {},
   "source": [
    "## Example from tutorial"
   ]
  },
  {
   "cell_type": "code",
   "execution_count": 6,
   "id": "0e931885",
   "metadata": {},
   "outputs": [],
   "source": [
    "# Some texts of different lengths.\n",
    "english_sentences = [\"dog\", \"Puppies are nice.\", \"I enjoy taking long walks along the beach with my dog.\"]\n",
    "italian_sentences = [\"cane\", \"I cuccioli sono carini.\", \"Mi piace fare lunghe passeggiate lungo la spiaggia con il mio cane.\"]\n",
    "japanese_sentences = [\"犬\", \"子犬はいいです\", \"私は犬と一緒にビーチを散歩するのが好きです\"]\n"
   ]
  },
  {
   "cell_type": "code",
   "execution_count": 7,
   "id": "6a10805d",
   "metadata": {},
   "outputs": [
    {
     "name": "stdout",
     "output_type": "stream",
     "text": [
      "CPU times: user 2.63 s, sys: 224 ms, total: 2.85 s\n",
      "Wall time: 2.46 s\n"
     ]
    }
   ],
   "source": [
    "%%time\n",
    "\n",
    "# Compute embeddings.\n",
    "en_result = model(english_sentences)\n",
    "it_result = model(italian_sentences)\n",
    "ja_result = model(japanese_sentences)\n"
   ]
  },
  {
   "cell_type": "code",
   "execution_count": 8,
   "id": "0fcc2ff8",
   "metadata": {},
   "outputs": [
    {
     "data": {
      "text/html": [
       "<div>\n",
       "<style scoped>\n",
       "    .dataframe tbody tr th:only-of-type {\n",
       "        vertical-align: middle;\n",
       "    }\n",
       "\n",
       "    .dataframe tbody tr th {\n",
       "        vertical-align: top;\n",
       "    }\n",
       "\n",
       "    .dataframe thead th {\n",
       "        text-align: right;\n",
       "    }\n",
       "</style>\n",
       "<table border=\"1\" class=\"dataframe\">\n",
       "  <thead>\n",
       "    <tr style=\"text-align: right;\">\n",
       "      <th></th>\n",
       "      <th>0</th>\n",
       "      <th>1</th>\n",
       "      <th>2</th>\n",
       "      <th>3</th>\n",
       "      <th>4</th>\n",
       "      <th>5</th>\n",
       "      <th>6</th>\n",
       "      <th>7</th>\n",
       "      <th>8</th>\n",
       "      <th>9</th>\n",
       "      <th>10</th>\n",
       "      <th>11</th>\n",
       "      <th>12</th>\n",
       "      <th>13</th>\n",
       "      <th>14</th>\n",
       "      <th>15</th>\n",
       "      <th>16</th>\n",
       "      <th>17</th>\n",
       "      <th>18</th>\n",
       "      <th>19</th>\n",
       "      <th>20</th>\n",
       "      <th>21</th>\n",
       "      <th>22</th>\n",
       "      <th>23</th>\n",
       "      <th>24</th>\n",
       "      <th>25</th>\n",
       "      <th>26</th>\n",
       "      <th>27</th>\n",
       "      <th>28</th>\n",
       "      <th>29</th>\n",
       "      <th>...</th>\n",
       "      <th>482</th>\n",
       "      <th>483</th>\n",
       "      <th>484</th>\n",
       "      <th>485</th>\n",
       "      <th>486</th>\n",
       "      <th>487</th>\n",
       "      <th>488</th>\n",
       "      <th>489</th>\n",
       "      <th>490</th>\n",
       "      <th>491</th>\n",
       "      <th>492</th>\n",
       "      <th>493</th>\n",
       "      <th>494</th>\n",
       "      <th>495</th>\n",
       "      <th>496</th>\n",
       "      <th>497</th>\n",
       "      <th>498</th>\n",
       "      <th>499</th>\n",
       "      <th>500</th>\n",
       "      <th>501</th>\n",
       "      <th>502</th>\n",
       "      <th>503</th>\n",
       "      <th>504</th>\n",
       "      <th>505</th>\n",
       "      <th>506</th>\n",
       "      <th>507</th>\n",
       "      <th>508</th>\n",
       "      <th>509</th>\n",
       "      <th>510</th>\n",
       "      <th>511</th>\n",
       "    </tr>\n",
       "  </thead>\n",
       "  <tbody>\n",
       "    <tr>\n",
       "      <th>0</th>\n",
       "      <td>tf.Tensor(-0.0052521275, shape=(), dtype=float32)</td>\n",
       "      <td>tf.Tensor(-0.038312003, shape=(), dtype=float32)</td>\n",
       "      <td>tf.Tensor(-0.009220148, shape=(), dtype=float32)</td>\n",
       "      <td>tf.Tensor(-0.046096273, shape=(), dtype=float32)</td>\n",
       "      <td>tf.Tensor(-0.0576577, shape=(), dtype=float32)</td>\n",
       "      <td>tf.Tensor(-0.047684357, shape=(), dtype=float32)</td>\n",
       "      <td>tf.Tensor(-0.016511641, shape=(), dtype=float32)</td>\n",
       "      <td>tf.Tensor(0.004728587, shape=(), dtype=float32)</td>\n",
       "      <td>tf.Tensor(-0.013010709, shape=(), dtype=float32)</td>\n",
       "      <td>tf.Tensor(-0.071381606, shape=(), dtype=float32)</td>\n",
       "      <td>tf.Tensor(-0.030422544, shape=(), dtype=float32)</td>\n",
       "      <td>tf.Tensor(0.023165472, shape=(), dtype=float32)</td>\n",
       "      <td>tf.Tensor(0.017145852, shape=(), dtype=float32)</td>\n",
       "      <td>tf.Tensor(0.045331307, shape=(), dtype=float32)</td>\n",
       "      <td>tf.Tensor(0.015669959, shape=(), dtype=float32)</td>\n",
       "      <td>tf.Tensor(-0.013959983, shape=(), dtype=float32)</td>\n",
       "      <td>tf.Tensor(-0.053601325, shape=(), dtype=float32)</td>\n",
       "      <td>tf.Tensor(-0.011878517, shape=(), dtype=float32)</td>\n",
       "      <td>tf.Tensor(-0.11063095, shape=(), dtype=float32)</td>\n",
       "      <td>tf.Tensor(0.0048499736, shape=(), dtype=float32)</td>\n",
       "      <td>tf.Tensor(0.0067632, shape=(), dtype=float32)</td>\n",
       "      <td>tf.Tensor(0.03981162, shape=(), dtype=float32)</td>\n",
       "      <td>tf.Tensor(0.0660155, shape=(), dtype=float32)</td>\n",
       "      <td>tf.Tensor(-0.012721933, shape=(), dtype=float32)</td>\n",
       "      <td>tf.Tensor(0.037441507, shape=(), dtype=float32)</td>\n",
       "      <td>tf.Tensor(0.030250402, shape=(), dtype=float32)</td>\n",
       "      <td>tf.Tensor(-0.0152029265, shape=(), dtype=float32)</td>\n",
       "      <td>tf.Tensor(0.011007952, shape=(), dtype=float32)</td>\n",
       "      <td>tf.Tensor(0.016856804, shape=(), dtype=float32)</td>\n",
       "      <td>tf.Tensor(-0.019257635, shape=(), dtype=float32)</td>\n",
       "      <td>...</td>\n",
       "      <td>tf.Tensor(0.08616641, shape=(), dtype=float32)</td>\n",
       "      <td>tf.Tensor(-0.024433237, shape=(), dtype=float32)</td>\n",
       "      <td>tf.Tensor(-0.00091490534, shape=(), dtype=float32)</td>\n",
       "      <td>tf.Tensor(0.038853906, shape=(), dtype=float32)</td>\n",
       "      <td>tf.Tensor(-0.031945076, shape=(), dtype=float32)</td>\n",
       "      <td>tf.Tensor(0.043825857, shape=(), dtype=float32)</td>\n",
       "      <td>tf.Tensor(0.058404725, shape=(), dtype=float32)</td>\n",
       "      <td>tf.Tensor(0.039348044, shape=(), dtype=float32)</td>\n",
       "      <td>tf.Tensor(0.08239184, shape=(), dtype=float32)</td>\n",
       "      <td>tf.Tensor(-0.028973904, shape=(), dtype=float32)</td>\n",
       "      <td>tf.Tensor(0.012636847, shape=(), dtype=float32)</td>\n",
       "      <td>tf.Tensor(-0.00868233, shape=(), dtype=float32)</td>\n",
       "      <td>tf.Tensor(0.00058252766, shape=(), dtype=float32)</td>\n",
       "      <td>tf.Tensor(0.07517928, shape=(), dtype=float32)</td>\n",
       "      <td>tf.Tensor(0.01735613, shape=(), dtype=float32)</td>\n",
       "      <td>tf.Tensor(0.012234436, shape=(), dtype=float32)</td>\n",
       "      <td>tf.Tensor(-0.019842023, shape=(), dtype=float32)</td>\n",
       "      <td>tf.Tensor(-0.07749191, shape=(), dtype=float32)</td>\n",
       "      <td>tf.Tensor(-0.02440608, shape=(), dtype=float32)</td>\n",
       "      <td>tf.Tensor(-0.032542024, shape=(), dtype=float32)</td>\n",
       "      <td>tf.Tensor(0.012990012, shape=(), dtype=float32)</td>\n",
       "      <td>tf.Tensor(-0.059579674, shape=(), dtype=float32)</td>\n",
       "      <td>tf.Tensor(0.026064057, shape=(), dtype=float32)</td>\n",
       "      <td>tf.Tensor(-0.05239151, shape=(), dtype=float32)</td>\n",
       "      <td>tf.Tensor(-0.059167933, shape=(), dtype=float32)</td>\n",
       "      <td>tf.Tensor(-0.025977189, shape=(), dtype=float32)</td>\n",
       "      <td>tf.Tensor(-0.031976104, shape=(), dtype=float32)</td>\n",
       "      <td>tf.Tensor(0.021790493, shape=(), dtype=float32)</td>\n",
       "      <td>tf.Tensor(0.06280179, shape=(), dtype=float32)</td>\n",
       "      <td>tf.Tensor(-0.016225362, shape=(), dtype=float32)</td>\n",
       "    </tr>\n",
       "    <tr>\n",
       "      <th>1</th>\n",
       "      <td>tf.Tensor(-0.022675825, shape=(), dtype=float32)</td>\n",
       "      <td>tf.Tensor(-0.06907185, shape=(), dtype=float32)</td>\n",
       "      <td>tf.Tensor(0.015508708, shape=(), dtype=float32)</td>\n",
       "      <td>tf.Tensor(-0.029039735, shape=(), dtype=float32)</td>\n",
       "      <td>tf.Tensor(-0.089885354, shape=(), dtype=float32)</td>\n",
       "      <td>tf.Tensor(-0.0010676576, shape=(), dtype=float32)</td>\n",
       "      <td>tf.Tensor(-0.014085728, shape=(), dtype=float32)</td>\n",
       "      <td>tf.Tensor(0.007255115, shape=(), dtype=float32)</td>\n",
       "      <td>tf.Tensor(-0.01998962, shape=(), dtype=float32)</td>\n",
       "      <td>tf.Tensor(0.06695188, shape=(), dtype=float32)</td>\n",
       "      <td>tf.Tensor(0.0170295, shape=(), dtype=float32)</td>\n",
       "      <td>tf.Tensor(0.022945879, shape=(), dtype=float32)</td>\n",
       "      <td>tf.Tensor(-0.006108559, shape=(), dtype=float32)</td>\n",
       "      <td>tf.Tensor(0.051182978, shape=(), dtype=float32)</td>\n",
       "      <td>tf.Tensor(-0.043797843, shape=(), dtype=float32)</td>\n",
       "      <td>tf.Tensor(-0.041236266, shape=(), dtype=float32)</td>\n",
       "      <td>tf.Tensor(0.029429324, shape=(), dtype=float32)</td>\n",
       "      <td>tf.Tensor(0.04888875, shape=(), dtype=float32)</td>\n",
       "      <td>tf.Tensor(-0.11650519, shape=(), dtype=float32)</td>\n",
       "      <td>tf.Tensor(-0.0024727122, shape=(), dtype=float32)</td>\n",
       "      <td>tf.Tensor(0.02891673, shape=(), dtype=float32)</td>\n",
       "      <td>tf.Tensor(9.120283e-05, shape=(), dtype=float32)</td>\n",
       "      <td>tf.Tensor(0.024404427, shape=(), dtype=float32)</td>\n",
       "      <td>tf.Tensor(0.012593308, shape=(), dtype=float32)</td>\n",
       "      <td>tf.Tensor(0.020244474, shape=(), dtype=float32)</td>\n",
       "      <td>tf.Tensor(0.020711716, shape=(), dtype=float32)</td>\n",
       "      <td>tf.Tensor(-0.031881053, shape=(), dtype=float32)</td>\n",
       "      <td>tf.Tensor(0.0534252, shape=(), dtype=float32)</td>\n",
       "      <td>tf.Tensor(0.002699542, shape=(), dtype=float32)</td>\n",
       "      <td>tf.Tensor(-0.080842726, shape=(), dtype=float32)</td>\n",
       "      <td>...</td>\n",
       "      <td>tf.Tensor(0.10710527, shape=(), dtype=float32)</td>\n",
       "      <td>tf.Tensor(0.00011630716, shape=(), dtype=float32)</td>\n",
       "      <td>tf.Tensor(0.008712958, shape=(), dtype=float32)</td>\n",
       "      <td>tf.Tensor(0.07481754, shape=(), dtype=float32)</td>\n",
       "      <td>tf.Tensor(-0.04523135, shape=(), dtype=float32)</td>\n",
       "      <td>tf.Tensor(0.052447543, shape=(), dtype=float32)</td>\n",
       "      <td>tf.Tensor(0.03915357, shape=(), dtype=float32)</td>\n",
       "      <td>tf.Tensor(-0.0018760569, shape=(), dtype=float32)</td>\n",
       "      <td>tf.Tensor(0.017901925, shape=(), dtype=float32)</td>\n",
       "      <td>tf.Tensor(-0.014710553, shape=(), dtype=float32)</td>\n",
       "      <td>tf.Tensor(0.04312735, shape=(), dtype=float32)</td>\n",
       "      <td>tf.Tensor(-0.030878643, shape=(), dtype=float32)</td>\n",
       "      <td>tf.Tensor(-0.056910418, shape=(), dtype=float32)</td>\n",
       "      <td>tf.Tensor(0.058894217, shape=(), dtype=float32)</td>\n",
       "      <td>tf.Tensor(-0.0065958924, shape=(), dtype=float32)</td>\n",
       "      <td>tf.Tensor(-0.019973183, shape=(), dtype=float32)</td>\n",
       "      <td>tf.Tensor(-0.037767127, shape=(), dtype=float32)</td>\n",
       "      <td>tf.Tensor(0.021722129, shape=(), dtype=float32)</td>\n",
       "      <td>tf.Tensor(-0.032639638, shape=(), dtype=float32)</td>\n",
       "      <td>tf.Tensor(-0.005521565, shape=(), dtype=float32)</td>\n",
       "      <td>tf.Tensor(-0.039815918, shape=(), dtype=float32)</td>\n",
       "      <td>tf.Tensor(-0.0046574036, shape=(), dtype=float32)</td>\n",
       "      <td>tf.Tensor(0.024200814, shape=(), dtype=float32)</td>\n",
       "      <td>tf.Tensor(-0.026657939, shape=(), dtype=float32)</td>\n",
       "      <td>tf.Tensor(-0.006368075, shape=(), dtype=float32)</td>\n",
       "      <td>tf.Tensor(-0.069105715, shape=(), dtype=float32)</td>\n",
       "      <td>tf.Tensor(0.029129585, shape=(), dtype=float32)</td>\n",
       "      <td>tf.Tensor(0.08762303, shape=(), dtype=float32)</td>\n",
       "      <td>tf.Tensor(-0.0007692515, shape=(), dtype=float32)</td>\n",
       "      <td>tf.Tensor(-0.054108225, shape=(), dtype=float32)</td>\n",
       "    </tr>\n",
       "    <tr>\n",
       "      <th>2</th>\n",
       "      <td>tf.Tensor(0.019088324, shape=(), dtype=float32)</td>\n",
       "      <td>tf.Tensor(0.009552208, shape=(), dtype=float32)</td>\n",
       "      <td>tf.Tensor(-0.047412906, shape=(), dtype=float32)</td>\n",
       "      <td>tf.Tensor(0.010493745, shape=(), dtype=float32)</td>\n",
       "      <td>tf.Tensor(-0.042908456, shape=(), dtype=float32)</td>\n",
       "      <td>tf.Tensor(-0.06331452, shape=(), dtype=float32)</td>\n",
       "      <td>tf.Tensor(-0.003161247, shape=(), dtype=float32)</td>\n",
       "      <td>tf.Tensor(0.05149613, shape=(), dtype=float32)</td>\n",
       "      <td>tf.Tensor(0.027147705, shape=(), dtype=float32)</td>\n",
       "      <td>tf.Tensor(-0.010961123, shape=(), dtype=float32)</td>\n",
       "      <td>tf.Tensor(0.034988582, shape=(), dtype=float32)</td>\n",
       "      <td>tf.Tensor(0.057352267, shape=(), dtype=float32)</td>\n",
       "      <td>tf.Tensor(0.046823528, shape=(), dtype=float32)</td>\n",
       "      <td>tf.Tensor(0.05741834, shape=(), dtype=float32)</td>\n",
       "      <td>tf.Tensor(-0.0036693863, shape=(), dtype=float32)</td>\n",
       "      <td>tf.Tensor(0.006604586, shape=(), dtype=float32)</td>\n",
       "      <td>tf.Tensor(-0.0013654105, shape=(), dtype=float32)</td>\n",
       "      <td>tf.Tensor(0.0038320248, shape=(), dtype=float32)</td>\n",
       "      <td>tf.Tensor(-0.090584226, shape=(), dtype=float32)</td>\n",
       "      <td>tf.Tensor(0.048744842, shape=(), dtype=float32)</td>\n",
       "      <td>tf.Tensor(0.028695406, shape=(), dtype=float32)</td>\n",
       "      <td>tf.Tensor(-0.02148353, shape=(), dtype=float32)</td>\n",
       "      <td>tf.Tensor(0.052940547, shape=(), dtype=float32)</td>\n",
       "      <td>tf.Tensor(-0.017772527, shape=(), dtype=float32)</td>\n",
       "      <td>tf.Tensor(-0.04854997, shape=(), dtype=float32)</td>\n",
       "      <td>tf.Tensor(-0.07571308, shape=(), dtype=float32)</td>\n",
       "      <td>tf.Tensor(-0.06106605, shape=(), dtype=float32)</td>\n",
       "      <td>tf.Tensor(0.06376975, shape=(), dtype=float32)</td>\n",
       "      <td>tf.Tensor(-0.030032251, shape=(), dtype=float32)</td>\n",
       "      <td>tf.Tensor(0.02624046, shape=(), dtype=float32)</td>\n",
       "      <td>...</td>\n",
       "      <td>tf.Tensor(-0.021820953, shape=(), dtype=float32)</td>\n",
       "      <td>tf.Tensor(-0.05420484, shape=(), dtype=float32)</td>\n",
       "      <td>tf.Tensor(0.07822652, shape=(), dtype=float32)</td>\n",
       "      <td>tf.Tensor(-0.01388963, shape=(), dtype=float32)</td>\n",
       "      <td>tf.Tensor(-0.054223277, shape=(), dtype=float32)</td>\n",
       "      <td>tf.Tensor(-0.05325497, shape=(), dtype=float32)</td>\n",
       "      <td>tf.Tensor(0.0072277193, shape=(), dtype=float32)</td>\n",
       "      <td>tf.Tensor(-0.02969859, shape=(), dtype=float32)</td>\n",
       "      <td>tf.Tensor(0.02548138, shape=(), dtype=float32)</td>\n",
       "      <td>tf.Tensor(0.012124341, shape=(), dtype=float32)</td>\n",
       "      <td>tf.Tensor(0.00032450375, shape=(), dtype=float32)</td>\n",
       "      <td>tf.Tensor(0.0083699105, shape=(), dtype=float32)</td>\n",
       "      <td>tf.Tensor(-0.041196983, shape=(), dtype=float32)</td>\n",
       "      <td>tf.Tensor(0.080432944, shape=(), dtype=float32)</td>\n",
       "      <td>tf.Tensor(0.0070090313, shape=(), dtype=float32)</td>\n",
       "      <td>tf.Tensor(-0.050937887, shape=(), dtype=float32)</td>\n",
       "      <td>tf.Tensor(0.013866394, shape=(), dtype=float32)</td>\n",
       "      <td>tf.Tensor(0.034640677, shape=(), dtype=float32)</td>\n",
       "      <td>tf.Tensor(0.008104301, shape=(), dtype=float32)</td>\n",
       "      <td>tf.Tensor(0.0214928, shape=(), dtype=float32)</td>\n",
       "      <td>tf.Tensor(0.11410709, shape=(), dtype=float32)</td>\n",
       "      <td>tf.Tensor(-0.07061693, shape=(), dtype=float32)</td>\n",
       "      <td>tf.Tensor(0.06558143, shape=(), dtype=float32)</td>\n",
       "      <td>tf.Tensor(-0.03906433, shape=(), dtype=float32)</td>\n",
       "      <td>tf.Tensor(0.005809185, shape=(), dtype=float32)</td>\n",
       "      <td>tf.Tensor(-0.078954406, shape=(), dtype=float32)</td>\n",
       "      <td>tf.Tensor(0.05952792, shape=(), dtype=float32)</td>\n",
       "      <td>tf.Tensor(0.032064784, shape=(), dtype=float32)</td>\n",
       "      <td>tf.Tensor(0.03661668, shape=(), dtype=float32)</td>\n",
       "      <td>tf.Tensor(0.0033105945, shape=(), dtype=float32)</td>\n",
       "    </tr>\n",
       "  </tbody>\n",
       "</table>\n",
       "<p>3 rows × 512 columns</p>\n",
       "</div>"
      ],
      "text/plain": [
       "                                                 0                                                 1                                                 2                                                 3                                                 4    \\\n",
       "0  tf.Tensor(-0.0052521275, shape=(), dtype=float32)  tf.Tensor(-0.038312003, shape=(), dtype=float32)  tf.Tensor(-0.009220148, shape=(), dtype=float32)  tf.Tensor(-0.046096273, shape=(), dtype=float32)    tf.Tensor(-0.0576577, shape=(), dtype=float32)   \n",
       "1   tf.Tensor(-0.022675825, shape=(), dtype=float32)   tf.Tensor(-0.06907185, shape=(), dtype=float32)   tf.Tensor(0.015508708, shape=(), dtype=float32)  tf.Tensor(-0.029039735, shape=(), dtype=float32)  tf.Tensor(-0.089885354, shape=(), dtype=float32)   \n",
       "2    tf.Tensor(0.019088324, shape=(), dtype=float32)   tf.Tensor(0.009552208, shape=(), dtype=float32)  tf.Tensor(-0.047412906, shape=(), dtype=float32)   tf.Tensor(0.010493745, shape=(), dtype=float32)  tf.Tensor(-0.042908456, shape=(), dtype=float32)   \n",
       "\n",
       "                                                 5                                                 6                                                7                                                 8                                                 9    \\\n",
       "0   tf.Tensor(-0.047684357, shape=(), dtype=float32)  tf.Tensor(-0.016511641, shape=(), dtype=float32)  tf.Tensor(0.004728587, shape=(), dtype=float32)  tf.Tensor(-0.013010709, shape=(), dtype=float32)  tf.Tensor(-0.071381606, shape=(), dtype=float32)   \n",
       "1  tf.Tensor(-0.0010676576, shape=(), dtype=float32)  tf.Tensor(-0.014085728, shape=(), dtype=float32)  tf.Tensor(0.007255115, shape=(), dtype=float32)   tf.Tensor(-0.01998962, shape=(), dtype=float32)    tf.Tensor(0.06695188, shape=(), dtype=float32)   \n",
       "2    tf.Tensor(-0.06331452, shape=(), dtype=float32)  tf.Tensor(-0.003161247, shape=(), dtype=float32)   tf.Tensor(0.05149613, shape=(), dtype=float32)   tf.Tensor(0.027147705, shape=(), dtype=float32)  tf.Tensor(-0.010961123, shape=(), dtype=float32)   \n",
       "\n",
       "                                                10                                               11                                                12                                               13                                                 14   \\\n",
       "0  tf.Tensor(-0.030422544, shape=(), dtype=float32)  tf.Tensor(0.023165472, shape=(), dtype=float32)   tf.Tensor(0.017145852, shape=(), dtype=float32)  tf.Tensor(0.045331307, shape=(), dtype=float32)    tf.Tensor(0.015669959, shape=(), dtype=float32)   \n",
       "1     tf.Tensor(0.0170295, shape=(), dtype=float32)  tf.Tensor(0.022945879, shape=(), dtype=float32)  tf.Tensor(-0.006108559, shape=(), dtype=float32)  tf.Tensor(0.051182978, shape=(), dtype=float32)   tf.Tensor(-0.043797843, shape=(), dtype=float32)   \n",
       "2   tf.Tensor(0.034988582, shape=(), dtype=float32)  tf.Tensor(0.057352267, shape=(), dtype=float32)   tf.Tensor(0.046823528, shape=(), dtype=float32)   tf.Tensor(0.05741834, shape=(), dtype=float32)  tf.Tensor(-0.0036693863, shape=(), dtype=float32)   \n",
       "\n",
       "                                                15                                                 16                                                17                                                18                                                 19   \\\n",
       "0  tf.Tensor(-0.013959983, shape=(), dtype=float32)   tf.Tensor(-0.053601325, shape=(), dtype=float32)  tf.Tensor(-0.011878517, shape=(), dtype=float32)   tf.Tensor(-0.11063095, shape=(), dtype=float32)   tf.Tensor(0.0048499736, shape=(), dtype=float32)   \n",
       "1  tf.Tensor(-0.041236266, shape=(), dtype=float32)    tf.Tensor(0.029429324, shape=(), dtype=float32)    tf.Tensor(0.04888875, shape=(), dtype=float32)   tf.Tensor(-0.11650519, shape=(), dtype=float32)  tf.Tensor(-0.0024727122, shape=(), dtype=float32)   \n",
       "2   tf.Tensor(0.006604586, shape=(), dtype=float32)  tf.Tensor(-0.0013654105, shape=(), dtype=float32)  tf.Tensor(0.0038320248, shape=(), dtype=float32)  tf.Tensor(-0.090584226, shape=(), dtype=float32)    tf.Tensor(0.048744842, shape=(), dtype=float32)   \n",
       "\n",
       "                                               20                                                21                                               22                                                23                                               24                                               25   \\\n",
       "0    tf.Tensor(0.0067632, shape=(), dtype=float32)    tf.Tensor(0.03981162, shape=(), dtype=float32)    tf.Tensor(0.0660155, shape=(), dtype=float32)  tf.Tensor(-0.012721933, shape=(), dtype=float32)  tf.Tensor(0.037441507, shape=(), dtype=float32)  tf.Tensor(0.030250402, shape=(), dtype=float32)   \n",
       "1   tf.Tensor(0.02891673, shape=(), dtype=float32)  tf.Tensor(9.120283e-05, shape=(), dtype=float32)  tf.Tensor(0.024404427, shape=(), dtype=float32)   tf.Tensor(0.012593308, shape=(), dtype=float32)  tf.Tensor(0.020244474, shape=(), dtype=float32)  tf.Tensor(0.020711716, shape=(), dtype=float32)   \n",
       "2  tf.Tensor(0.028695406, shape=(), dtype=float32)   tf.Tensor(-0.02148353, shape=(), dtype=float32)  tf.Tensor(0.052940547, shape=(), dtype=float32)  tf.Tensor(-0.017772527, shape=(), dtype=float32)  tf.Tensor(-0.04854997, shape=(), dtype=float32)  tf.Tensor(-0.07571308, shape=(), dtype=float32)   \n",
       "\n",
       "                                                 26                                               27                                                28                                                29   ...                                               482  \\\n",
       "0  tf.Tensor(-0.0152029265, shape=(), dtype=float32)  tf.Tensor(0.011007952, shape=(), dtype=float32)   tf.Tensor(0.016856804, shape=(), dtype=float32)  tf.Tensor(-0.019257635, shape=(), dtype=float32)  ...    tf.Tensor(0.08616641, shape=(), dtype=float32)   \n",
       "1   tf.Tensor(-0.031881053, shape=(), dtype=float32)    tf.Tensor(0.0534252, shape=(), dtype=float32)   tf.Tensor(0.002699542, shape=(), dtype=float32)  tf.Tensor(-0.080842726, shape=(), dtype=float32)  ...    tf.Tensor(0.10710527, shape=(), dtype=float32)   \n",
       "2    tf.Tensor(-0.06106605, shape=(), dtype=float32)   tf.Tensor(0.06376975, shape=(), dtype=float32)  tf.Tensor(-0.030032251, shape=(), dtype=float32)    tf.Tensor(0.02624046, shape=(), dtype=float32)  ...  tf.Tensor(-0.021820953, shape=(), dtype=float32)   \n",
       "\n",
       "                                                 483                                                 484                                              485                                               486                                              487  \\\n",
       "0   tf.Tensor(-0.024433237, shape=(), dtype=float32)  tf.Tensor(-0.00091490534, shape=(), dtype=float32)  tf.Tensor(0.038853906, shape=(), dtype=float32)  tf.Tensor(-0.031945076, shape=(), dtype=float32)  tf.Tensor(0.043825857, shape=(), dtype=float32)   \n",
       "1  tf.Tensor(0.00011630716, shape=(), dtype=float32)     tf.Tensor(0.008712958, shape=(), dtype=float32)   tf.Tensor(0.07481754, shape=(), dtype=float32)   tf.Tensor(-0.04523135, shape=(), dtype=float32)  tf.Tensor(0.052447543, shape=(), dtype=float32)   \n",
       "2    tf.Tensor(-0.05420484, shape=(), dtype=float32)      tf.Tensor(0.07822652, shape=(), dtype=float32)  tf.Tensor(-0.01388963, shape=(), dtype=float32)  tf.Tensor(-0.054223277, shape=(), dtype=float32)  tf.Tensor(-0.05325497, shape=(), dtype=float32)   \n",
       "\n",
       "                                                488                                                489                                              490                                               491                                                492  \\\n",
       "0   tf.Tensor(0.058404725, shape=(), dtype=float32)    tf.Tensor(0.039348044, shape=(), dtype=float32)   tf.Tensor(0.08239184, shape=(), dtype=float32)  tf.Tensor(-0.028973904, shape=(), dtype=float32)    tf.Tensor(0.012636847, shape=(), dtype=float32)   \n",
       "1    tf.Tensor(0.03915357, shape=(), dtype=float32)  tf.Tensor(-0.0018760569, shape=(), dtype=float32)  tf.Tensor(0.017901925, shape=(), dtype=float32)  tf.Tensor(-0.014710553, shape=(), dtype=float32)     tf.Tensor(0.04312735, shape=(), dtype=float32)   \n",
       "2  tf.Tensor(0.0072277193, shape=(), dtype=float32)    tf.Tensor(-0.02969859, shape=(), dtype=float32)   tf.Tensor(0.02548138, shape=(), dtype=float32)   tf.Tensor(0.012124341, shape=(), dtype=float32)  tf.Tensor(0.00032450375, shape=(), dtype=float32)   \n",
       "\n",
       "                                                493                                                494                                              495                                                496                                               497  \\\n",
       "0   tf.Tensor(-0.00868233, shape=(), dtype=float32)  tf.Tensor(0.00058252766, shape=(), dtype=float32)   tf.Tensor(0.07517928, shape=(), dtype=float32)     tf.Tensor(0.01735613, shape=(), dtype=float32)   tf.Tensor(0.012234436, shape=(), dtype=float32)   \n",
       "1  tf.Tensor(-0.030878643, shape=(), dtype=float32)   tf.Tensor(-0.056910418, shape=(), dtype=float32)  tf.Tensor(0.058894217, shape=(), dtype=float32)  tf.Tensor(-0.0065958924, shape=(), dtype=float32)  tf.Tensor(-0.019973183, shape=(), dtype=float32)   \n",
       "2  tf.Tensor(0.0083699105, shape=(), dtype=float32)   tf.Tensor(-0.041196983, shape=(), dtype=float32)  tf.Tensor(0.080432944, shape=(), dtype=float32)   tf.Tensor(0.0070090313, shape=(), dtype=float32)  tf.Tensor(-0.050937887, shape=(), dtype=float32)   \n",
       "\n",
       "                                                498                                              499                                               500                                               501                                               502  \\\n",
       "0  tf.Tensor(-0.019842023, shape=(), dtype=float32)  tf.Tensor(-0.07749191, shape=(), dtype=float32)   tf.Tensor(-0.02440608, shape=(), dtype=float32)  tf.Tensor(-0.032542024, shape=(), dtype=float32)   tf.Tensor(0.012990012, shape=(), dtype=float32)   \n",
       "1  tf.Tensor(-0.037767127, shape=(), dtype=float32)  tf.Tensor(0.021722129, shape=(), dtype=float32)  tf.Tensor(-0.032639638, shape=(), dtype=float32)  tf.Tensor(-0.005521565, shape=(), dtype=float32)  tf.Tensor(-0.039815918, shape=(), dtype=float32)   \n",
       "2   tf.Tensor(0.013866394, shape=(), dtype=float32)  tf.Tensor(0.034640677, shape=(), dtype=float32)   tf.Tensor(0.008104301, shape=(), dtype=float32)     tf.Tensor(0.0214928, shape=(), dtype=float32)    tf.Tensor(0.11410709, shape=(), dtype=float32)   \n",
       "\n",
       "                                                 503                                              504                                               505                                               506                                               507  \\\n",
       "0   tf.Tensor(-0.059579674, shape=(), dtype=float32)  tf.Tensor(0.026064057, shape=(), dtype=float32)   tf.Tensor(-0.05239151, shape=(), dtype=float32)  tf.Tensor(-0.059167933, shape=(), dtype=float32)  tf.Tensor(-0.025977189, shape=(), dtype=float32)   \n",
       "1  tf.Tensor(-0.0046574036, shape=(), dtype=float32)  tf.Tensor(0.024200814, shape=(), dtype=float32)  tf.Tensor(-0.026657939, shape=(), dtype=float32)  tf.Tensor(-0.006368075, shape=(), dtype=float32)  tf.Tensor(-0.069105715, shape=(), dtype=float32)   \n",
       "2    tf.Tensor(-0.07061693, shape=(), dtype=float32)   tf.Tensor(0.06558143, shape=(), dtype=float32)   tf.Tensor(-0.03906433, shape=(), dtype=float32)   tf.Tensor(0.005809185, shape=(), dtype=float32)  tf.Tensor(-0.078954406, shape=(), dtype=float32)   \n",
       "\n",
       "                                                508                                              509                                                510                                               511  \n",
       "0  tf.Tensor(-0.031976104, shape=(), dtype=float32)  tf.Tensor(0.021790493, shape=(), dtype=float32)     tf.Tensor(0.06280179, shape=(), dtype=float32)  tf.Tensor(-0.016225362, shape=(), dtype=float32)  \n",
       "1   tf.Tensor(0.029129585, shape=(), dtype=float32)   tf.Tensor(0.08762303, shape=(), dtype=float32)  tf.Tensor(-0.0007692515, shape=(), dtype=float32)  tf.Tensor(-0.054108225, shape=(), dtype=float32)  \n",
       "2    tf.Tensor(0.05952792, shape=(), dtype=float32)  tf.Tensor(0.032064784, shape=(), dtype=float32)     tf.Tensor(0.03661668, shape=(), dtype=float32)  tf.Tensor(0.0033105945, shape=(), dtype=float32)  \n",
       "\n",
       "[3 rows x 512 columns]"
      ]
     },
     "execution_count": 8,
     "metadata": {},
     "output_type": "execute_result"
    }
   ],
   "source": [
    "pd.DataFrame(en_result)"
   ]
  },
  {
   "cell_type": "code",
   "execution_count": 9,
   "id": "0c1aed57",
   "metadata": {},
   "outputs": [
    {
     "data": {
      "text/plain": [
       "<tf.Tensor: shape=(3, 512), dtype=float32, numpy=\n",
       "array([[ 0.00720229, -0.02716359, -0.00670168, ...,  0.00478419,\n",
       "         0.03265055, -0.01112302],\n",
       "       [-0.00031301, -0.03090753, -0.00294115, ...,  0.04377454,\n",
       "        -0.01193869, -0.01058716],\n",
       "       [ 0.013335  ,  0.01904837, -0.02599624, ...,  0.0150301 ,\n",
       "         0.01788162, -0.00163474]], dtype=float32)>"
      ]
     },
     "execution_count": 9,
     "metadata": {},
     "output_type": "execute_result"
    }
   ],
   "source": [
    "tf.nn.l2_normalize(it_result)"
   ]
  },
  {
   "cell_type": "code",
   "execution_count": 10,
   "id": "2d436a92",
   "metadata": {},
   "outputs": [
    {
     "data": {
      "text/plain": [
       "array([[0.96964586, 0.2734785 , 0.25536823],\n",
       "       [0.37726057, 0.8931675 , 0.28806683],\n",
       "       [0.24611366, 0.2379298 , 0.9352151 ]], dtype=float32)"
      ]
     },
     "execution_count": 10,
     "metadata": {},
     "output_type": "execute_result"
    }
   ],
   "source": [
    "# Compute similarity matrix. Higher score indicates greater similarity.\n",
    "similarity_matrix_it = np.inner(en_result, it_result)\n",
    "similarity_matrix_it"
   ]
  },
  {
   "cell_type": "code",
   "execution_count": 11,
   "id": "f479dc21",
   "metadata": {},
   "outputs": [
    {
     "data": {
      "text/plain": [
       "array([[0.97994244, 0.5341731 , 0.3374965 ],\n",
       "       [0.4187405 , 0.7786118 , 0.37929755],\n",
       "       [0.25998724, 0.29997385, 0.8583672 ]], dtype=float32)"
      ]
     },
     "execution_count": 11,
     "metadata": {},
     "output_type": "execute_result"
    }
   ],
   "source": [
    "similarity_matrix_ja = np.inner(en_result, ja_result)\n",
    "similarity_matrix_ja"
   ]
  },
  {
   "cell_type": "markdown",
   "id": "074e13c7",
   "metadata": {},
   "source": [
    "# Cosine Similarities Example\n",
    "This is annoying because we get a different result when using this `get_similarities` function compared to `np.inner()`... maybe it's because the raw inputs to `np.inner` weren't normalized, right?\n",
    "Also, I'm not sure why we have to force clipping...\n",
    "\n",
    "---\n",
    "\n",
    "Using example form Colab\n",
    "\n",
    "https://colab.research.google.com/github/tensorflow/hub/blob/master/examples/colab/semantic_similarity_with_tf_hub_universal_encoder.ipynb#scrollTo=W-q2r7jyZGb7"
   ]
  },
  {
   "cell_type": "code",
   "execution_count": 12,
   "id": "c6366e95",
   "metadata": {},
   "outputs": [],
   "source": [
    "def get_similarities(sent_1, sent_2):\n",
    "    sts_encode1 = tf.nn.l2_normalize(model(sent_1), axis=1)\n",
    "    sts_encode2 = tf.nn.l2_normalize(model(sent_2), axis=1)\n",
    "    \n",
    "    cosine_similarities = tf.reduce_sum(tf.multiply(sts_encode1, sts_encode2), axis=1)\n",
    "    clip_cosine_similarities = tf.clip_by_value(cosine_similarities, -1.0, 1.0)\n",
    "    scores = 1.0 - tf.acos(clip_cosine_similarities) / math.pi\n",
    "    \"\"\"Returns the similarity scores\"\"\"\n",
    "    return scores"
   ]
  },
  {
   "cell_type": "code",
   "execution_count": 13,
   "id": "0e2ab290",
   "metadata": {},
   "outputs": [
    {
     "data": {
      "text/plain": [
       "<tf.Tensor: shape=(1,), dtype=float32, numpy=array([0.9213722], dtype=float32)>"
      ]
     },
     "execution_count": 13,
     "metadata": {},
     "output_type": "execute_result"
    }
   ],
   "source": [
    "get_similarities(english_sentences[0], italian_sentences[0])"
   ]
  },
  {
   "cell_type": "code",
   "execution_count": 14,
   "id": "7adb30b1",
   "metadata": {},
   "outputs": [
    {
     "data": {
      "text/plain": [
       "<tf.Tensor: shape=(1,), dtype=float32, numpy=array([0.9361395], dtype=float32)>"
      ]
     },
     "execution_count": 14,
     "metadata": {},
     "output_type": "execute_result"
    }
   ],
   "source": [
    "get_similarities(english_sentences[0], japanese_sentences[0])"
   ]
  },
  {
   "cell_type": "code",
   "execution_count": 15,
   "id": "eae5c20d",
   "metadata": {},
   "outputs": [
    {
     "data": {
      "text/plain": [
       "(1, 512)"
      ]
     },
     "execution_count": 15,
     "metadata": {},
     "output_type": "execute_result"
    }
   ],
   "source": [
    "model(\"hello\").numpy().shape"
   ]
  },
  {
   "cell_type": "markdown",
   "id": "3b149922",
   "metadata": {},
   "source": [
    "# Create a dataframe for large scale testing"
   ]
  },
  {
   "cell_type": "code",
   "execution_count": 16,
   "id": "3f0ee5fa",
   "metadata": {},
   "outputs": [],
   "source": [
    "english_sentences = [\"dog\", \"Puppies are nice.\", \"I enjoy taking long walks along the beach with my dog.\"]\n",
    "italian_sentences = [\"cane\", \"I cuccioli sono carini.\", \"Mi piace fare lunghe passeggiate lungo la spiaggia con il mio cane.\"]\n",
    "japanese_sentences = [\"犬\", \"子犬はいいです\", \"私は犬と一緒にビーチを散歩するのが好きです\"]"
   ]
  },
  {
   "cell_type": "code",
   "execution_count": 17,
   "id": "7520b2bc",
   "metadata": {},
   "outputs": [
    {
     "data": {
      "text/plain": [
       "(5400, 1)"
      ]
     },
     "execution_count": 17,
     "metadata": {},
     "output_type": "execute_result"
    }
   ],
   "source": [
    "df_test = pd.DataFrame({'text': (english_sentences + italian_sentences + japanese_sentences) * 600})\n",
    "df_test.shape"
   ]
  },
  {
   "cell_type": "code",
   "execution_count": 18,
   "id": "926346a3",
   "metadata": {},
   "outputs": [
    {
     "data": {
      "text/html": [
       "<div>\n",
       "<style scoped>\n",
       "    .dataframe tbody tr th:only-of-type {\n",
       "        vertical-align: middle;\n",
       "    }\n",
       "\n",
       "    .dataframe tbody tr th {\n",
       "        vertical-align: top;\n",
       "    }\n",
       "\n",
       "    .dataframe thead th {\n",
       "        text-align: right;\n",
       "    }\n",
       "</style>\n",
       "<table border=\"1\" class=\"dataframe\">\n",
       "  <thead>\n",
       "    <tr style=\"text-align: right;\">\n",
       "      <th></th>\n",
       "      <th>text</th>\n",
       "    </tr>\n",
       "  </thead>\n",
       "  <tbody>\n",
       "    <tr>\n",
       "      <th>0</th>\n",
       "      <td>dog</td>\n",
       "    </tr>\n",
       "    <tr>\n",
       "      <th>1</th>\n",
       "      <td>Puppies are nice.</td>\n",
       "    </tr>\n",
       "    <tr>\n",
       "      <th>2</th>\n",
       "      <td>I enjoy taking long walks along the beach with my dog.</td>\n",
       "    </tr>\n",
       "    <tr>\n",
       "      <th>3</th>\n",
       "      <td>cane</td>\n",
       "    </tr>\n",
       "    <tr>\n",
       "      <th>4</th>\n",
       "      <td>I cuccioli sono carini.</td>\n",
       "    </tr>\n",
       "    <tr>\n",
       "      <th>5</th>\n",
       "      <td>Mi piace fare lunghe passeggiate lungo la spiaggia con il mio cane.</td>\n",
       "    </tr>\n",
       "    <tr>\n",
       "      <th>6</th>\n",
       "      <td>犬</td>\n",
       "    </tr>\n",
       "    <tr>\n",
       "      <th>7</th>\n",
       "      <td>子犬はいいです</td>\n",
       "    </tr>\n",
       "    <tr>\n",
       "      <th>8</th>\n",
       "      <td>私は犬と一緒にビーチを散歩するのが好きです</td>\n",
       "    </tr>\n",
       "    <tr>\n",
       "      <th>9</th>\n",
       "      <td>dog</td>\n",
       "    </tr>\n",
       "  </tbody>\n",
       "</table>\n",
       "</div>"
      ],
      "text/plain": [
       "                                                                  text\n",
       "0                                                                  dog\n",
       "1                                                    Puppies are nice.\n",
       "2               I enjoy taking long walks along the beach with my dog.\n",
       "3                                                                 cane\n",
       "4                                              I cuccioli sono carini.\n",
       "5  Mi piace fare lunghe passeggiate lungo la spiaggia con il mio cane.\n",
       "6                                                                    犬\n",
       "7                                                              子犬はいいです\n",
       "8                                                私は犬と一緒にビーチを散歩するのが好きです\n",
       "9                                                                  dog"
      ]
     },
     "execution_count": 18,
     "metadata": {},
     "output_type": "execute_result"
    }
   ],
   "source": [
    "df_test.head(10)"
   ]
  },
  {
   "cell_type": "markdown",
   "id": "c867b42e",
   "metadata": {},
   "source": [
    "# Get embeddings in different ways\n",
    "\n",
    "After trying as a list, there's no reason to try other methods... it seems like `TF` is already optimized to run in parallel when reading a list and the bottleneck was using dataframes/pandas.\n",
    "\n",
    "Might need to split up whole text DF into chunks to prevent memory errors, but applying to list should be good to go -- it takes less than 2 seconds on 5,400 sentences(!).\n",
    "\n",
    "---\n",
    "```\n",
    "# get model results as list & convert to pd.DataFrame:\n",
    "CPU times: user 1.21 s, sys: 285 ms, total: 1.49 s\n",
    "Wall time: 1.95 s\n",
    "\n",
    "# use pd.apply():\n",
    "CPU times: user 1min 34s, sys: 12.4 s, total: 1min 47s\n",
    "Wall time: 58.2 s\n",
    "```"
   ]
  },
  {
   "cell_type": "markdown",
   "id": "767b5292",
   "metadata": {},
   "source": [
    "## As a list\n",
    "The example gets embeddings on a list, maybe the model can parallelize that somehow better than a df?"
   ]
  },
  {
   "cell_type": "code",
   "execution_count": 19,
   "id": "f6dede24",
   "metadata": {},
   "outputs": [
    {
     "name": "stdout",
     "output_type": "stream",
     "text": [
      "CPU times: user 55.4 s, sys: 5.22 s, total: 1min\n",
      "Wall time: 4.46 s\n"
     ]
    }
   ],
   "source": [
    "%%time\n",
    "\n",
    "# model will return a list of tensors, if input is a list of text\n",
    "emb_list = model(df_test['text'].to_list())\n",
    "\n",
    "# So we can convert to np array using a list comprehension\n",
    "# And convert back to a df with a known index\n",
    "df_embeddings1 = pd.DataFrame(np.array([emb.numpy() for emb in emb_list]), \n",
    "                              index=df_test.index)"
   ]
  },
  {
   "cell_type": "code",
   "execution_count": 20,
   "id": "f18542da",
   "metadata": {},
   "outputs": [
    {
     "data": {
      "text/plain": [
       "(5400, 512)"
      ]
     },
     "execution_count": 20,
     "metadata": {},
     "output_type": "execute_result"
    }
   ],
   "source": [
    "df_embeddings1.shape"
   ]
  },
  {
   "cell_type": "markdown",
   "id": "1cb61096",
   "metadata": {},
   "source": [
    "# Pandas .apply()\n",
    "\n",
    "This appears to be serial and it's also a pain to get an array back out... not worth it."
   ]
  },
  {
   "cell_type": "code",
   "execution_count": 37,
   "id": "2388282c",
   "metadata": {},
   "outputs": [
    {
     "name": "stdout",
     "output_type": "stream",
     "text": [
      "CPU times: user 1min 34s, sys: 12.4 s, total: 1min 47s\n",
      "Wall time: 58.2 s\n"
     ]
    }
   ],
   "source": [
    "%%time\n",
    "\n",
    "s_output = df_test['text'].apply(model)"
   ]
  },
  {
   "cell_type": "code",
   "execution_count": 38,
   "id": "be33cfd7",
   "metadata": {},
   "outputs": [
    {
     "data": {
      "text/plain": [
       "(5400,)"
      ]
     },
     "execution_count": 38,
     "metadata": {},
     "output_type": "execute_result"
    }
   ],
   "source": [
    "s_output.shape"
   ]
  },
  {
   "cell_type": "code",
   "execution_count": 39,
   "id": "fc950556",
   "metadata": {},
   "outputs": [
    {
     "data": {
      "text/plain": [
       "0    ((tf.Tensor(-0.005252126, shape=(), dtype=float32), tf.Tensor(-0.038311988, shape=(), dtype=float32), tf.Tensor(-0.009220155, shape=(), dtype=float32), tf.Tensor(-0.046096295, shape=(), dtype=float32), tf.Tensor(-0.05765772, shape=(), d...\n",
       "1    ((tf.Tensor(-0.022675809, shape=(), dtype=float32), tf.Tensor(-0.06907185, shape=(), dtype=float32), tf.Tensor(0.015508697, shape=(), dtype=float32), tf.Tensor(-0.029039733, shape=(), dtype=float32), tf.Tensor(-0.08988534, shape=(), dty...\n",
       "2    ((tf.Tensor(0.019088345, shape=(), dtype=float32), tf.Tensor(0.009552222, shape=(), dtype=float32), tf.Tensor(-0.047412947, shape=(), dtype=float32), tf.Tensor(0.010493755, shape=(), dtype=float32), tf.Tensor(-0.04290844, shape=(), dtyp...\n",
       "3    ((tf.Tensor(0.012474758, shape=(), dtype=float32), tf.Tensor(-0.047048714, shape=(), dtype=float32), tf.Tensor(-0.011607644, shape=(), dtype=float32), tf.Tensor(-0.06017637, shape=(), dtype=float32), tf.Tensor(-0.051905125, shape=(), dt...\n",
       "4    ((tf.Tensor(-0.00054213946, shape=(), dtype=float32), tf.Tensor(-0.05353342, shape=(), dtype=float32), tf.Tensor(-0.005094245, shape=(), dtype=float32), tf.Tensor(-0.010895417, shape=(), dtype=float32), tf.Tensor(-0.085235626, shape=(),...\n",
       "Name: text, dtype: object"
      ]
     },
     "execution_count": 39,
     "metadata": {},
     "output_type": "execute_result"
    }
   ],
   "source": [
    "s_output.head()"
   ]
  },
  {
   "cell_type": "markdown",
   "id": "e5108d67",
   "metadata": {},
   "source": [
    "## Compare/check output from pd.apply v. run model on list\n",
    "\n",
    "The default tolerance of `rtol=1e-05` fails, so we need to move to `1e-04` or even `1e-02` for things to be equal.\n",
    "\n",
    "---\n",
    "\n",
    "Unclear why we might need to move it up to `1e-02` for all to be equal... am I sure things are in the same order? Might be better to use absolute tolerance instead of relative?"
   ]
  },
  {
   "cell_type": "code",
   "execution_count": 66,
   "id": "f01269a5",
   "metadata": {},
   "outputs": [
    {
     "data": {
      "text/plain": [
       "True"
      ]
     },
     "execution_count": 66,
     "metadata": {},
     "output_type": "execute_result"
    }
   ],
   "source": [
    "# n_check = len(df_embeddings1)\n",
    "n_check = 5\n",
    "np.allclose(\n",
    "    df_embeddings1.head(n_check), \n",
    "    np.array(s_output.head(n_check).apply(lambda x: x.numpy()[0]).to_list()),\n",
    "    rtol=1e-02,\n",
    ")"
   ]
  },
  {
   "cell_type": "code",
   "execution_count": 96,
   "id": "ad02e173",
   "metadata": {},
   "outputs": [],
   "source": [
    "# df_embeddings1.head(n_check)"
   ]
  },
  {
   "cell_type": "code",
   "execution_count": 97,
   "id": "ce5daac6",
   "metadata": {},
   "outputs": [],
   "source": [
    "# pd.DataFrame(s_output.head(n_check).apply(lambda x: x.numpy()[0]).to_list())"
   ]
  },
  {
   "cell_type": "code",
   "execution_count": 98,
   "id": "77a8f31c",
   "metadata": {},
   "outputs": [],
   "source": [
    "# df_embeddings1.tail(n_check)"
   ]
  },
  {
   "cell_type": "code",
   "execution_count": 99,
   "id": "816acc9a",
   "metadata": {},
   "outputs": [],
   "source": [
    "# pd.DataFrame(s_output.tail(n_check).apply(lambda x: x.numpy()[0]).to_list())"
   ]
  },
  {
   "cell_type": "code",
   "execution_count": 73,
   "id": "821e979c",
   "metadata": {},
   "outputs": [
    {
     "data": {
      "text/plain": [
       "False"
      ]
     },
     "execution_count": 73,
     "metadata": {},
     "output_type": "execute_result"
    }
   ],
   "source": [
    "n_check_small = 5\n",
    "np.allclose(\n",
    "    df_embeddings1.head(n_check_small),\n",
    "    pd.DataFrame(s_output.head(n_check_small).apply(lambda x: x.numpy()[0]).to_list()),\n",
    "    rtol=1e-04,\n",
    ")"
   ]
  },
  {
   "cell_type": "code",
   "execution_count": 61,
   "id": "8695e9ac",
   "metadata": {},
   "outputs": [
    {
     "data": {
      "text/html": [
       "<div>\n",
       "<style scoped>\n",
       "    .dataframe tbody tr th:only-of-type {\n",
       "        vertical-align: middle;\n",
       "    }\n",
       "\n",
       "    .dataframe tbody tr th {\n",
       "        vertical-align: top;\n",
       "    }\n",
       "\n",
       "    .dataframe thead th {\n",
       "        text-align: right;\n",
       "    }\n",
       "</style>\n",
       "<table border=\"1\" class=\"dataframe\">\n",
       "  <thead>\n",
       "    <tr style=\"text-align: right;\">\n",
       "      <th></th>\n",
       "      <th>0</th>\n",
       "      <th>1</th>\n",
       "      <th>2</th>\n",
       "      <th>3</th>\n",
       "      <th>4</th>\n",
       "      <th>5</th>\n",
       "      <th>6</th>\n",
       "      <th>7</th>\n",
       "      <th>8</th>\n",
       "      <th>9</th>\n",
       "      <th>10</th>\n",
       "      <th>11</th>\n",
       "      <th>12</th>\n",
       "      <th>13</th>\n",
       "      <th>14</th>\n",
       "      <th>15</th>\n",
       "      <th>16</th>\n",
       "      <th>17</th>\n",
       "      <th>18</th>\n",
       "      <th>19</th>\n",
       "      <th>20</th>\n",
       "      <th>21</th>\n",
       "      <th>22</th>\n",
       "      <th>23</th>\n",
       "      <th>24</th>\n",
       "      <th>25</th>\n",
       "      <th>26</th>\n",
       "      <th>27</th>\n",
       "      <th>28</th>\n",
       "      <th>29</th>\n",
       "      <th>...</th>\n",
       "      <th>482</th>\n",
       "      <th>483</th>\n",
       "      <th>484</th>\n",
       "      <th>485</th>\n",
       "      <th>486</th>\n",
       "      <th>487</th>\n",
       "      <th>488</th>\n",
       "      <th>489</th>\n",
       "      <th>490</th>\n",
       "      <th>491</th>\n",
       "      <th>492</th>\n",
       "      <th>493</th>\n",
       "      <th>494</th>\n",
       "      <th>495</th>\n",
       "      <th>496</th>\n",
       "      <th>497</th>\n",
       "      <th>498</th>\n",
       "      <th>499</th>\n",
       "      <th>500</th>\n",
       "      <th>501</th>\n",
       "      <th>502</th>\n",
       "      <th>503</th>\n",
       "      <th>504</th>\n",
       "      <th>505</th>\n",
       "      <th>506</th>\n",
       "      <th>507</th>\n",
       "      <th>508</th>\n",
       "      <th>509</th>\n",
       "      <th>510</th>\n",
       "      <th>511</th>\n",
       "    </tr>\n",
       "  </thead>\n",
       "  <tbody>\n",
       "    <tr>\n",
       "      <th>0</th>\n",
       "      <td>False</td>\n",
       "      <td>False</td>\n",
       "      <td>False</td>\n",
       "      <td>False</td>\n",
       "      <td>False</td>\n",
       "      <td>False</td>\n",
       "      <td>False</td>\n",
       "      <td>False</td>\n",
       "      <td>False</td>\n",
       "      <td>False</td>\n",
       "      <td>False</td>\n",
       "      <td>False</td>\n",
       "      <td>False</td>\n",
       "      <td>False</td>\n",
       "      <td>False</td>\n",
       "      <td>False</td>\n",
       "      <td>False</td>\n",
       "      <td>False</td>\n",
       "      <td>False</td>\n",
       "      <td>False</td>\n",
       "      <td>False</td>\n",
       "      <td>False</td>\n",
       "      <td>False</td>\n",
       "      <td>False</td>\n",
       "      <td>False</td>\n",
       "      <td>False</td>\n",
       "      <td>False</td>\n",
       "      <td>False</td>\n",
       "      <td>False</td>\n",
       "      <td>False</td>\n",
       "      <td>...</td>\n",
       "      <td>False</td>\n",
       "      <td>False</td>\n",
       "      <td>False</td>\n",
       "      <td>False</td>\n",
       "      <td>False</td>\n",
       "      <td>False</td>\n",
       "      <td>False</td>\n",
       "      <td>False</td>\n",
       "      <td>False</td>\n",
       "      <td>False</td>\n",
       "      <td>False</td>\n",
       "      <td>False</td>\n",
       "      <td>False</td>\n",
       "      <td>False</td>\n",
       "      <td>False</td>\n",
       "      <td>False</td>\n",
       "      <td>False</td>\n",
       "      <td>False</td>\n",
       "      <td>False</td>\n",
       "      <td>False</td>\n",
       "      <td>False</td>\n",
       "      <td>False</td>\n",
       "      <td>False</td>\n",
       "      <td>False</td>\n",
       "      <td>False</td>\n",
       "      <td>False</td>\n",
       "      <td>False</td>\n",
       "      <td>False</td>\n",
       "      <td>False</td>\n",
       "      <td>False</td>\n",
       "    </tr>\n",
       "  </tbody>\n",
       "</table>\n",
       "<p>1 rows × 512 columns</p>\n",
       "</div>"
      ],
      "text/plain": [
       "     0      1      2      3      4      5      6      7      8      9      10     11     12     13     14     15     16     17     18     19     20     21     22     23     24     25     26     27     28     29   ...    482    483    484    485    486    487    488    489    490    491    492  \\\n",
       "0  False  False  False  False  False  False  False  False  False  False  False  False  False  False  False  False  False  False  False  False  False  False  False  False  False  False  False  False  False  False  ...  False  False  False  False  False  False  False  False  False  False  False   \n",
       "\n",
       "     493    494    495    496    497    498    499    500    501    502    503    504    505    506    507    508    509    510    511  \n",
       "0  False  False  False  False  False  False  False  False  False  False  False  False  False  False  False  False  False  False  False  \n",
       "\n",
       "[1 rows x 512 columns]"
      ]
     },
     "execution_count": 61,
     "metadata": {},
     "output_type": "execute_result"
    }
   ],
   "source": [
    "np.equal(\n",
    "    df_embeddings1.head(1),\n",
    "    pd.DataFrame(s_output.head(1).apply(lambda x: x.numpy()[0]).to_list())\n",
    ")"
   ]
  },
  {
   "cell_type": "code",
   "execution_count": null,
   "id": "f55541f2",
   "metadata": {},
   "outputs": [],
   "source": []
  },
  {
   "cell_type": "code",
   "execution_count": 80,
   "id": "fcf5905c",
   "metadata": {},
   "outputs": [
    {
     "data": {
      "text/html": [
       "<div>\n",
       "<style scoped>\n",
       "    .dataframe tbody tr th:only-of-type {\n",
       "        vertical-align: middle;\n",
       "    }\n",
       "\n",
       "    .dataframe tbody tr th {\n",
       "        vertical-align: top;\n",
       "    }\n",
       "\n",
       "    .dataframe thead th {\n",
       "        text-align: right;\n",
       "    }\n",
       "</style>\n",
       "<table border=\"1\" class=\"dataframe\">\n",
       "  <thead>\n",
       "    <tr style=\"text-align: right;\">\n",
       "      <th></th>\n",
       "      <th>0</th>\n",
       "      <th>1</th>\n",
       "      <th>2</th>\n",
       "      <th>3</th>\n",
       "      <th>4</th>\n",
       "      <th>5</th>\n",
       "      <th>6</th>\n",
       "      <th>7</th>\n",
       "      <th>8</th>\n",
       "      <th>9</th>\n",
       "      <th>10</th>\n",
       "      <th>11</th>\n",
       "      <th>12</th>\n",
       "      <th>13</th>\n",
       "      <th>14</th>\n",
       "      <th>15</th>\n",
       "      <th>16</th>\n",
       "      <th>17</th>\n",
       "      <th>18</th>\n",
       "      <th>19</th>\n",
       "      <th>20</th>\n",
       "      <th>21</th>\n",
       "      <th>22</th>\n",
       "      <th>23</th>\n",
       "      <th>24</th>\n",
       "      <th>25</th>\n",
       "      <th>26</th>\n",
       "      <th>27</th>\n",
       "      <th>28</th>\n",
       "      <th>29</th>\n",
       "      <th>...</th>\n",
       "      <th>482</th>\n",
       "      <th>483</th>\n",
       "      <th>484</th>\n",
       "      <th>485</th>\n",
       "      <th>486</th>\n",
       "      <th>487</th>\n",
       "      <th>488</th>\n",
       "      <th>489</th>\n",
       "      <th>490</th>\n",
       "      <th>491</th>\n",
       "      <th>492</th>\n",
       "      <th>493</th>\n",
       "      <th>494</th>\n",
       "      <th>495</th>\n",
       "      <th>496</th>\n",
       "      <th>497</th>\n",
       "      <th>498</th>\n",
       "      <th>499</th>\n",
       "      <th>500</th>\n",
       "      <th>501</th>\n",
       "      <th>502</th>\n",
       "      <th>503</th>\n",
       "      <th>504</th>\n",
       "      <th>505</th>\n",
       "      <th>506</th>\n",
       "      <th>507</th>\n",
       "      <th>508</th>\n",
       "      <th>509</th>\n",
       "      <th>510</th>\n",
       "      <th>511</th>\n",
       "    </tr>\n",
       "  </thead>\n",
       "  <tbody>\n",
       "    <tr>\n",
       "      <th>0</th>\n",
       "      <td>False</td>\n",
       "      <td>False</td>\n",
       "      <td>False</td>\n",
       "      <td>False</td>\n",
       "      <td>False</td>\n",
       "      <td>False</td>\n",
       "      <td>False</td>\n",
       "      <td>False</td>\n",
       "      <td>False</td>\n",
       "      <td>False</td>\n",
       "      <td>False</td>\n",
       "      <td>False</td>\n",
       "      <td>False</td>\n",
       "      <td>False</td>\n",
       "      <td>False</td>\n",
       "      <td>False</td>\n",
       "      <td>False</td>\n",
       "      <td>False</td>\n",
       "      <td>False</td>\n",
       "      <td>False</td>\n",
       "      <td>False</td>\n",
       "      <td>False</td>\n",
       "      <td>False</td>\n",
       "      <td>False</td>\n",
       "      <td>False</td>\n",
       "      <td>False</td>\n",
       "      <td>False</td>\n",
       "      <td>False</td>\n",
       "      <td>False</td>\n",
       "      <td>False</td>\n",
       "      <td>...</td>\n",
       "      <td>False</td>\n",
       "      <td>False</td>\n",
       "      <td>False</td>\n",
       "      <td>False</td>\n",
       "      <td>False</td>\n",
       "      <td>False</td>\n",
       "      <td>False</td>\n",
       "      <td>False</td>\n",
       "      <td>False</td>\n",
       "      <td>False</td>\n",
       "      <td>False</td>\n",
       "      <td>False</td>\n",
       "      <td>False</td>\n",
       "      <td>False</td>\n",
       "      <td>False</td>\n",
       "      <td>False</td>\n",
       "      <td>False</td>\n",
       "      <td>False</td>\n",
       "      <td>False</td>\n",
       "      <td>False</td>\n",
       "      <td>False</td>\n",
       "      <td>False</td>\n",
       "      <td>False</td>\n",
       "      <td>False</td>\n",
       "      <td>False</td>\n",
       "      <td>False</td>\n",
       "      <td>False</td>\n",
       "      <td>False</td>\n",
       "      <td>False</td>\n",
       "      <td>False</td>\n",
       "    </tr>\n",
       "  </tbody>\n",
       "</table>\n",
       "<p>1 rows × 512 columns</p>\n",
       "</div>"
      ],
      "text/plain": [
       "     0      1      2      3      4      5      6      7      8      9      10     11     12     13     14     15     16     17     18     19     20     21     22     23     24     25     26     27     28     29   ...    482    483    484    485    486    487    488    489    490    491    492  \\\n",
       "0  False  False  False  False  False  False  False  False  False  False  False  False  False  False  False  False  False  False  False  False  False  False  False  False  False  False  False  False  False  False  ...  False  False  False  False  False  False  False  False  False  False  False   \n",
       "\n",
       "     493    494    495    496    497    498    499    500    501    502    503    504    505    506    507    508    509    510    511  \n",
       "0  False  False  False  False  False  False  False  False  False  False  False  False  False  False  False  False  False  False  False  \n",
       "\n",
       "[1 rows x 512 columns]"
      ]
     },
     "execution_count": 80,
     "metadata": {},
     "output_type": "execute_result"
    }
   ],
   "source": [
    "np.equal(\n",
    "    df_embeddings1.head(1),\n",
    "    model(df_test.head(1)).numpy()\n",
    ")"
   ]
  },
  {
   "cell_type": "markdown",
   "id": "dcc0bad3",
   "metadata": {},
   "source": [
    "### Equality fails even on the same input\n",
    "Looks like the output is not deterministic"
   ]
  },
  {
   "cell_type": "code",
   "execution_count": 87,
   "id": "ec602c9d",
   "metadata": {},
   "outputs": [
    {
     "data": {
      "text/plain": [
       "array([[False, False, False, False,  True,  True,  True,  True, False,\n",
       "         True]])"
      ]
     },
     "execution_count": 87,
     "metadata": {},
     "output_type": "execute_result"
    }
   ],
   "source": [
    "np.equal(\n",
    "    model(df_test.head(1)).numpy()[:, :10],\n",
    "    model(df_test.head(1)).numpy()[:, :10],\n",
    ")"
   ]
  },
  {
   "cell_type": "code",
   "execution_count": 90,
   "id": "4ff910e6",
   "metadata": {},
   "outputs": [
    {
     "data": {
      "text/plain": [
       "False"
      ]
     },
     "execution_count": 90,
     "metadata": {},
     "output_type": "execute_result"
    }
   ],
   "source": [
    "np.allclose(\n",
    "    model(df_test.head(10)).numpy(),\n",
    "    model(df_test.head(10)).numpy(),\n",
    ")"
   ]
  },
  {
   "cell_type": "code",
   "execution_count": 91,
   "id": "c8c218c1",
   "metadata": {},
   "outputs": [
    {
     "data": {
      "text/plain": [
       "True"
      ]
     },
     "execution_count": 91,
     "metadata": {},
     "output_type": "execute_result"
    }
   ],
   "source": [
    "np.allclose(\n",
    "    model(df_test.head(10)).numpy(),\n",
    "    model(df_test.head(10)).numpy(),\n",
    "    rtol=1e-04,\n",
    ")"
   ]
  },
  {
   "cell_type": "code",
   "execution_count": 93,
   "id": "5f5ab186",
   "metadata": {},
   "outputs": [
    {
     "name": "stdout",
     "output_type": "stream",
     "text": [
      "CPU times: user 488 ms, sys: 77.4 ms, total: 566 ms\n",
      "Wall time: 2.12 s\n"
     ]
    },
    {
     "data": {
      "text/plain": [
       "False"
      ]
     },
     "execution_count": 93,
     "metadata": {},
     "output_type": "execute_result"
    }
   ],
   "source": [
    "%%time\n",
    "\n",
    "np.allclose(\n",
    "    model(df_test).numpy(),\n",
    "    model(df_test).numpy(),\n",
    "    rtol=1e-04,\n",
    ")"
   ]
  },
  {
   "cell_type": "code",
   "execution_count": 94,
   "id": "bf80b96c",
   "metadata": {},
   "outputs": [
    {
     "name": "stdout",
     "output_type": "stream",
     "text": [
      "CPU times: user 470 ms, sys: 117 ms, total: 587 ms\n",
      "Wall time: 2.15 s\n"
     ]
    },
    {
     "data": {
      "text/plain": [
       "True"
      ]
     },
     "execution_count": 94,
     "metadata": {},
     "output_type": "execute_result"
    }
   ],
   "source": [
    "%%time\n",
    "\n",
    "np.allclose(\n",
    "    model(df_test).numpy(),\n",
    "    model(df_test).numpy(),\n",
    "    rtol=1e-03,\n",
    ")"
   ]
  },
  {
   "cell_type": "code",
   "execution_count": 95,
   "id": "67064e0c",
   "metadata": {},
   "outputs": [
    {
     "name": "stdout",
     "output_type": "stream",
     "text": [
      "CPU times: user 502 ms, sys: 69.2 ms, total: 571 ms\n",
      "Wall time: 2.14 s\n"
     ]
    },
    {
     "data": {
      "text/plain": [
       "True"
      ]
     },
     "execution_count": 95,
     "metadata": {},
     "output_type": "execute_result"
    }
   ],
   "source": [
    "%%time\n",
    "\n",
    "np.allclose(\n",
    "    model(df_test).numpy(),\n",
    "    model(df_test).numpy(),\n",
    "    rtol=1e-03,\n",
    ")"
   ]
  },
  {
   "cell_type": "code",
   "execution_count": null,
   "id": "cdac9a24",
   "metadata": {},
   "outputs": [],
   "source": []
  },
  {
   "cell_type": "code",
   "execution_count": null,
   "id": "6d4bd826",
   "metadata": {},
   "outputs": [],
   "source": [
    "LEGACY"
   ]
  },
  {
   "cell_type": "markdown",
   "id": "2689127e",
   "metadata": {},
   "source": [
    "### Try in parallel"
   ]
  },
  {
   "cell_type": "code",
   "execution_count": 17,
   "id": "7cfd8acf",
   "metadata": {},
   "outputs": [],
   "source": [
    "import dask.dataframe as dd"
   ]
  },
  {
   "cell_type": "code",
   "execution_count": 18,
   "id": "d424fc74",
   "metadata": {},
   "outputs": [],
   "source": [
    "ddf_text = dd.from_pandas(df_test, npartitions=6)"
   ]
  },
  {
   "cell_type": "code",
   "execution_count": 19,
   "id": "947b3d48",
   "metadata": {},
   "outputs": [
    {
     "data": {
      "text/html": [
       "<div>\n",
       "<style scoped>\n",
       "    .dataframe tbody tr th:only-of-type {\n",
       "        vertical-align: middle;\n",
       "    }\n",
       "\n",
       "    .dataframe tbody tr th {\n",
       "        vertical-align: top;\n",
       "    }\n",
       "\n",
       "    .dataframe thead th {\n",
       "        text-align: right;\n",
       "    }\n",
       "</style>\n",
       "<table border=\"1\" class=\"dataframe\">\n",
       "  <thead>\n",
       "    <tr style=\"text-align: right;\">\n",
       "      <th></th>\n",
       "      <th>text</th>\n",
       "    </tr>\n",
       "  </thead>\n",
       "  <tbody>\n",
       "    <tr>\n",
       "      <th>0</th>\n",
       "      <td>dog</td>\n",
       "    </tr>\n",
       "    <tr>\n",
       "      <th>1</th>\n",
       "      <td>Puppies are nice.</td>\n",
       "    </tr>\n",
       "    <tr>\n",
       "      <th>2</th>\n",
       "      <td>I enjoy taking long walks along the beach with my dog.</td>\n",
       "    </tr>\n",
       "    <tr>\n",
       "      <th>3</th>\n",
       "      <td>dog</td>\n",
       "    </tr>\n",
       "    <tr>\n",
       "      <th>4</th>\n",
       "      <td>Puppies are nice.</td>\n",
       "    </tr>\n",
       "  </tbody>\n",
       "</table>\n",
       "</div>"
      ],
      "text/plain": [
       "                                                     text\n",
       "0                                                     dog\n",
       "1                                       Puppies are nice.\n",
       "2  I enjoy taking long walks along the beach with my dog.\n",
       "3                                                     dog\n",
       "4                                       Puppies are nice."
      ]
     },
     "execution_count": 19,
     "metadata": {},
     "output_type": "execute_result"
    }
   ],
   "source": [
    "ddf_text.head()"
   ]
  },
  {
   "cell_type": "code",
   "execution_count": 20,
   "id": "52b1fbd9",
   "metadata": {},
   "outputs": [
    {
     "data": {
      "text/html": [
       "<div>\n",
       "<style scoped>\n",
       "    .dataframe tbody tr th:only-of-type {\n",
       "        vertical-align: middle;\n",
       "    }\n",
       "\n",
       "    .dataframe tbody tr th {\n",
       "        vertical-align: top;\n",
       "    }\n",
       "\n",
       "    .dataframe thead th {\n",
       "        text-align: right;\n",
       "    }\n",
       "</style>\n",
       "<table border=\"1\" class=\"dataframe\">\n",
       "  <thead>\n",
       "    <tr style=\"text-align: right;\">\n",
       "      <th></th>\n",
       "      <th>text</th>\n",
       "    </tr>\n",
       "  </thead>\n",
       "  <tbody>\n",
       "    <tr>\n",
       "      <th>5990</th>\n",
       "      <td>I enjoy taking long walks along the beach with my dog.</td>\n",
       "    </tr>\n",
       "    <tr>\n",
       "      <th>5991</th>\n",
       "      <td>dog</td>\n",
       "    </tr>\n",
       "    <tr>\n",
       "      <th>5992</th>\n",
       "      <td>Puppies are nice.</td>\n",
       "    </tr>\n",
       "    <tr>\n",
       "      <th>5993</th>\n",
       "      <td>I enjoy taking long walks along the beach with my dog.</td>\n",
       "    </tr>\n",
       "    <tr>\n",
       "      <th>5994</th>\n",
       "      <td>dog</td>\n",
       "    </tr>\n",
       "    <tr>\n",
       "      <th>5995</th>\n",
       "      <td>Puppies are nice.</td>\n",
       "    </tr>\n",
       "    <tr>\n",
       "      <th>5996</th>\n",
       "      <td>I enjoy taking long walks along the beach with my dog.</td>\n",
       "    </tr>\n",
       "    <tr>\n",
       "      <th>5997</th>\n",
       "      <td>dog</td>\n",
       "    </tr>\n",
       "    <tr>\n",
       "      <th>5998</th>\n",
       "      <td>Puppies are nice.</td>\n",
       "    </tr>\n",
       "    <tr>\n",
       "      <th>5999</th>\n",
       "      <td>I enjoy taking long walks along the beach with my dog.</td>\n",
       "    </tr>\n",
       "  </tbody>\n",
       "</table>\n",
       "</div>"
      ],
      "text/plain": [
       "                                                        text\n",
       "5990  I enjoy taking long walks along the beach with my dog.\n",
       "5991                                                     dog\n",
       "5992                                       Puppies are nice.\n",
       "5993  I enjoy taking long walks along the beach with my dog.\n",
       "5994                                                     dog\n",
       "5995                                       Puppies are nice.\n",
       "5996  I enjoy taking long walks along the beach with my dog.\n",
       "5997                                                     dog\n",
       "5998                                       Puppies are nice.\n",
       "5999  I enjoy taking long walks along the beach with my dog."
      ]
     },
     "execution_count": 20,
     "metadata": {},
     "output_type": "execute_result"
    }
   ],
   "source": [
    "ddf_text[['text']].tail(10)"
   ]
  },
  {
   "cell_type": "markdown",
   "id": "5a0a5973",
   "metadata": {},
   "source": [
    "## Define functions to get numpy array"
   ]
  },
  {
   "cell_type": "code",
   "execution_count": 21,
   "id": "ff6f239f",
   "metadata": {},
   "outputs": [],
   "source": [
    "def get_embeddings_as_numpy_df(\n",
    "    df: pd.DataFrame,\n",
    "    text_col: str = 'text',\n",
    "    model_fxn: callable = model,\n",
    "    apply_fxn: str = 'apply',\n",
    ") -> pd.Series:\n",
    "    \"\"\"Apply fxn to get embeddings to a df\n",
    "    Use it so that we can pair it with dask and apply it in parallel\n",
    "    \"\"\"\n",
    "    if apply_fxn == 'apply':\n",
    "        return df[text_col].apply(lambda x: model(x).numpy())\n",
    "    else:\n",
    "        # original example used map\n",
    "        return df[text_col].map(model_fxn).apply(lambda x: x.numpy())\n",
    "    "
   ]
  },
  {
   "cell_type": "code",
   "execution_count": 22,
   "id": "125dfea2",
   "metadata": {},
   "outputs": [],
   "source": [
    "def get_embeddings_as_numpy(\n",
    "    text_string: str,\n",
    "#     tf_model: callable = model,\n",
    ") -> np.ndarray:\n",
    "    \"\"\"Wrapper to convert Tensor type to numpy to make downstream transformations faster\"\"\"\n",
    "    return model(text_string).numpy()"
   ]
  },
  {
   "cell_type": "markdown",
   "id": "19ef6e01",
   "metadata": {},
   "source": [
    "## Get embeddings with `dask.map_partition`"
   ]
  },
  {
   "cell_type": "code",
   "execution_count": 23,
   "id": "c85fc0ed",
   "metadata": {},
   "outputs": [
    {
     "name": "stdout",
     "output_type": "stream",
     "text": [
      "CPU times: user 2.69 s, sys: 953 ms, total: 3.64 s\n",
      "Wall time: 3.5 s\n"
     ]
    }
   ],
   "source": [
    "%%time\n",
    "\n",
    "ddf_text['embeddings'] = (\n",
    "    ddf_text[['text']]\n",
    "    .map_partitions(model,\n",
    "                    meta=pd.Series(name='embeddings', dtype=str)\n",
    "                    )\n",
    "    .compute()\n",
    ")"
   ]
  },
  {
   "cell_type": "code",
   "execution_count": 25,
   "id": "05e2b30b",
   "metadata": {},
   "outputs": [
    {
     "data": {
      "text/html": [
       "<div>\n",
       "<style scoped>\n",
       "    .dataframe tbody tr th:only-of-type {\n",
       "        vertical-align: middle;\n",
       "    }\n",
       "\n",
       "    .dataframe tbody tr th {\n",
       "        vertical-align: top;\n",
       "    }\n",
       "\n",
       "    .dataframe thead th {\n",
       "        text-align: right;\n",
       "    }\n",
       "</style>\n",
       "<table border=\"1\" class=\"dataframe\">\n",
       "  <thead>\n",
       "    <tr style=\"text-align: right;\">\n",
       "      <th></th>\n",
       "      <th>embeddings</th>\n",
       "    </tr>\n",
       "  </thead>\n",
       "  <tbody>\n",
       "    <tr>\n",
       "      <th>5995</th>\n",
       "      <td>NaN</td>\n",
       "    </tr>\n",
       "    <tr>\n",
       "      <th>5996</th>\n",
       "      <td>NaN</td>\n",
       "    </tr>\n",
       "    <tr>\n",
       "      <th>5997</th>\n",
       "      <td>NaN</td>\n",
       "    </tr>\n",
       "    <tr>\n",
       "      <th>5998</th>\n",
       "      <td>NaN</td>\n",
       "    </tr>\n",
       "    <tr>\n",
       "      <th>5999</th>\n",
       "      <td>NaN</td>\n",
       "    </tr>\n",
       "  </tbody>\n",
       "</table>\n",
       "</div>"
      ],
      "text/plain": [
       "     embeddings\n",
       "5995        NaN\n",
       "5996        NaN\n",
       "5997        NaN\n",
       "5998        NaN\n",
       "5999        NaN"
      ]
     },
     "execution_count": 25,
     "metadata": {},
     "output_type": "execute_result"
    }
   ],
   "source": [
    "ddf_text[['embeddings']].compute().tail()"
   ]
  },
  {
   "cell_type": "code",
   "execution_count": 96,
   "id": "2b94e0a2",
   "metadata": {},
   "outputs": [],
   "source": [
    "embeddings_size = 512\n",
    "# tf_embeddings = np.empty([len(ddf_text), embeddings_size])\n",
    "# tf_embeddings.shape"
   ]
  },
  {
   "cell_type": "code",
   "execution_count": 98,
   "id": "f2eeb15e",
   "metadata": {},
   "outputs": [
    {
     "data": {
      "text/plain": [
       "dask.dataframe.core.DataFrame"
      ]
     },
     "execution_count": 98,
     "metadata": {},
     "output_type": "execute_result"
    }
   ],
   "source": [
    "type(ddf_text)"
   ]
  },
  {
   "cell_type": "code",
   "execution_count": 102,
   "id": "a0925d15",
   "metadata": {},
   "outputs": [
    {
     "name": "stdout",
     "output_type": "stream",
     "text": [
      "CPU times: user 39 ms, sys: 6.32 ms, total: 45.4 ms\n",
      "Wall time: 34.9 ms\n"
     ]
    },
    {
     "data": {
      "text/html": [
       "<div>\n",
       "<style scoped>\n",
       "    .dataframe tbody tr th:only-of-type {\n",
       "        vertical-align: middle;\n",
       "    }\n",
       "\n",
       "    .dataframe tbody tr th {\n",
       "        vertical-align: top;\n",
       "    }\n",
       "\n",
       "    .dataframe thead th {\n",
       "        text-align: right;\n",
       "    }\n",
       "</style>\n",
       "<table border=\"1\" class=\"dataframe\">\n",
       "  <thead>\n",
       "    <tr style=\"text-align: right;\">\n",
       "      <th></th>\n",
       "      <th>embeddings</th>\n",
       "    </tr>\n",
       "  </thead>\n",
       "  <tbody>\n",
       "    <tr>\n",
       "      <th>0</th>\n",
       "      <td>((tf.Tensor(-0.005252141, shape=(), dtype=float32), tf.Tensor(-0.038312018, shape=(), dtype=float32), tf.Tensor(-0.009220189, shape=(), dtype=float32), tf.Tensor(-0.04609629, shape=(), dtype=float32), tf.Tensor(-0.05765771, shape=(), dt...</td>\n",
       "    </tr>\n",
       "    <tr>\n",
       "      <th>1</th>\n",
       "      <td>((tf.Tensor(0.019088347, shape=(), dtype=float32), tf.Tensor(0.009552213, shape=(), dtype=float32), tf.Tensor(-0.047412947, shape=(), dtype=float32), tf.Tensor(0.0104937935, shape=(), dtype=float32), tf.Tensor(-0.04290844, shape=(), dty...</td>\n",
       "    </tr>\n",
       "    <tr>\n",
       "      <th>2</th>\n",
       "      <td>((tf.Tensor(-0.022675823, shape=(), dtype=float32), tf.Tensor(-0.069071874, shape=(), dtype=float32), tf.Tensor(0.0155086545, shape=(), dtype=float32), tf.Tensor(-0.029039716, shape=(), dtype=float32), tf.Tensor(-0.08988534, shape=(), d...</td>\n",
       "    </tr>\n",
       "    <tr>\n",
       "      <th>3</th>\n",
       "      <td>((tf.Tensor(0.01908833, shape=(), dtype=float32), tf.Tensor(0.009552218, shape=(), dtype=float32), tf.Tensor(-0.047412947, shape=(), dtype=float32), tf.Tensor(0.010493787, shape=(), dtype=float32), tf.Tensor(-0.04290844, shape=(), dtype...</td>\n",
       "    </tr>\n",
       "    <tr>\n",
       "      <th>4</th>\n",
       "      <td>((tf.Tensor(-0.0052521243, shape=(), dtype=float32), tf.Tensor(-0.03831199, shape=(), dtype=float32), tf.Tensor(-0.009220154, shape=(), dtype=float32), tf.Tensor(-0.0460963, shape=(), dtype=float32), tf.Tensor(-0.05765769, shape=(), dty...</td>\n",
       "    </tr>\n",
       "  </tbody>\n",
       "</table>\n",
       "</div>"
      ],
      "text/plain": [
       "                                                                                                                                                                                                                                        embeddings\n",
       "0  ((tf.Tensor(-0.005252141, shape=(), dtype=float32), tf.Tensor(-0.038312018, shape=(), dtype=float32), tf.Tensor(-0.009220189, shape=(), dtype=float32), tf.Tensor(-0.04609629, shape=(), dtype=float32), tf.Tensor(-0.05765771, shape=(), dt...\n",
       "1  ((tf.Tensor(0.019088347, shape=(), dtype=float32), tf.Tensor(0.009552213, shape=(), dtype=float32), tf.Tensor(-0.047412947, shape=(), dtype=float32), tf.Tensor(0.0104937935, shape=(), dtype=float32), tf.Tensor(-0.04290844, shape=(), dty...\n",
       "2  ((tf.Tensor(-0.022675823, shape=(), dtype=float32), tf.Tensor(-0.069071874, shape=(), dtype=float32), tf.Tensor(0.0155086545, shape=(), dtype=float32), tf.Tensor(-0.029039716, shape=(), dtype=float32), tf.Tensor(-0.08988534, shape=(), d...\n",
       "3  ((tf.Tensor(0.01908833, shape=(), dtype=float32), tf.Tensor(0.009552218, shape=(), dtype=float32), tf.Tensor(-0.047412947, shape=(), dtype=float32), tf.Tensor(0.010493787, shape=(), dtype=float32), tf.Tensor(-0.04290844, shape=(), dtype...\n",
       "4  ((tf.Tensor(-0.0052521243, shape=(), dtype=float32), tf.Tensor(-0.03831199, shape=(), dtype=float32), tf.Tensor(-0.009220154, shape=(), dtype=float32), tf.Tensor(-0.0460963, shape=(), dtype=float32), tf.Tensor(-0.05765769, shape=(), dty..."
      ]
     },
     "execution_count": 102,
     "metadata": {},
     "output_type": "execute_result"
    }
   ],
   "source": [
    "%%time\n",
    "\n",
    "ddf_text[['embeddings']].compute().head()"
   ]
  },
  {
   "cell_type": "code",
   "execution_count": 103,
   "id": "bd85da9a",
   "metadata": {},
   "outputs": [],
   "source": [
    "# %%time\n",
    "\n",
    "# # This doesn't seem to work because dask expects the output to collapse to a single dimension (instead of 512)\n",
    "# # tf_embeddings = \n",
    "# (\n",
    "#     ddf_text[['text']]\n",
    "#     .map_partitions(get_embeddings_as_numpy,\n",
    "#                     meta=pd.Series(name='embeddings', dtype=str)\n",
    "#                     )\n",
    "#     .compute()\n",
    "# )"
   ]
  },
  {
   "cell_type": "code",
   "execution_count": 107,
   "id": "04a40222",
   "metadata": {},
   "outputs": [
    {
     "name": "stdout",
     "output_type": "stream",
     "text": [
      "CPU times: user 2min 40s, sys: 52.2 s, total: 3min 32s\n",
      "Wall time: 46.8 s\n"
     ]
    }
   ],
   "source": [
    "%%time\n",
    "\n",
    "ddf_text['embeddings_np1'] = (\n",
    "    ddf_text\n",
    "    .map_partitions(get_embeddings_as_numpy_df,\n",
    "                    text_col='text',\n",
    "                    apply_fxn='map',\n",
    "                    meta=pd.Series(name='text', dtype=str)\n",
    "                    )\n",
    "    .compute()\n",
    ")"
   ]
  },
  {
   "cell_type": "code",
   "execution_count": 106,
   "id": "7fe4fd41",
   "metadata": {},
   "outputs": [
    {
     "name": "stdout",
     "output_type": "stream",
     "text": [
      "CPU times: user 2min 43s, sys: 52.5 s, total: 3min 35s\n",
      "Wall time: 49.1 s\n"
     ]
    }
   ],
   "source": [
    "%%time\n",
    "\n",
    "ddf_text['embeddings_np2'] = (\n",
    "    ddf_text\n",
    "    .map_partitions(get_embeddings_as_numpy_df,\n",
    "                    text_col='text',\n",
    "                    apply_fxn='apply',\n",
    "                    meta=pd.Series(name='text', dtype=str)\n",
    "                    )\n",
    "    .compute()\n",
    ")"
   ]
  },
  {
   "cell_type": "markdown",
   "id": "9002bb1d",
   "metadata": {},
   "source": [
    "## What is the dtype? / how do we get embeddings out of this output?\n",
    "\n",
    "By default it looks like the dtype is a `tensorflow.Tensor` object, which could be a pain to manipulate."
   ]
  },
  {
   "cell_type": "code",
   "execution_count": 108,
   "id": "2e56ee31",
   "metadata": {},
   "outputs": [
    {
     "data": {
      "text/plain": [
       "0    ((tf.Tensor(-0.005252141, shape=(), dtype=float32), tf.Tensor(-0.038312018, shape=(), dtype=float32), tf.Tensor(-0.009220189, shape=(), dtype=float32), tf.Tensor(-0.04609629, shape=(), dtype=float32), tf.Tensor(-0.05765771, shape=(), dt...\n",
       "1    ((tf.Tensor(0.019088347, shape=(), dtype=float32), tf.Tensor(0.009552213, shape=(), dtype=float32), tf.Tensor(-0.047412947, shape=(), dtype=float32), tf.Tensor(0.0104937935, shape=(), dtype=float32), tf.Tensor(-0.04290844, shape=(), dty...\n",
       "2    ((tf.Tensor(-0.022675823, shape=(), dtype=float32), tf.Tensor(-0.069071874, shape=(), dtype=float32), tf.Tensor(0.0155086545, shape=(), dtype=float32), tf.Tensor(-0.029039716, shape=(), dtype=float32), tf.Tensor(-0.08988534, shape=(), d...\n",
       "3    ((tf.Tensor(0.01908833, shape=(), dtype=float32), tf.Tensor(0.009552218, shape=(), dtype=float32), tf.Tensor(-0.047412947, shape=(), dtype=float32), tf.Tensor(0.010493787, shape=(), dtype=float32), tf.Tensor(-0.04290844, shape=(), dtype...\n",
       "4    ((tf.Tensor(-0.0052521243, shape=(), dtype=float32), tf.Tensor(-0.03831199, shape=(), dtype=float32), tf.Tensor(-0.009220154, shape=(), dtype=float32), tf.Tensor(-0.0460963, shape=(), dtype=float32), tf.Tensor(-0.05765769, shape=(), dty...\n",
       "Name: embeddings, dtype: object"
      ]
     },
     "execution_count": 108,
     "metadata": {},
     "output_type": "execute_result"
    }
   ],
   "source": [
    "ddf_text['embeddings'].head()"
   ]
  },
  {
   "cell_type": "code",
   "execution_count": 109,
   "id": "519ec3ff",
   "metadata": {},
   "outputs": [
    {
     "data": {
      "text/plain": [
       "5995    NaN\n",
       "5996    NaN\n",
       "5997    NaN\n",
       "5998    NaN\n",
       "5999    NaN\n",
       "Name: embeddings, dtype: object"
      ]
     },
     "execution_count": 109,
     "metadata": {},
     "output_type": "execute_result"
    }
   ],
   "source": [
    "ddf_text['embeddings'].tail()"
   ]
  },
  {
   "cell_type": "code",
   "execution_count": 49,
   "id": "98ae7e9d",
   "metadata": {},
   "outputs": [
    {
     "data": {
      "text/plain": [
       "0    [[-0.005252127, -0.03831199, -0.00922016, -0.046096295, -0.057657722, -0.04768436, -0.016511641, 0.0047285636, -0.013010718, -0.0713816, -0.030422542, 0.023165481, 0.017145848, 0.045331325, 0.015669955, -0.01395997, -0.05360133, -0.0118...\n",
       "1    [[-0.02267581, -0.069071844, 0.015508692, -0.029039733, -0.08988534, -0.0010676696, -0.014085712, 0.0072551174, -0.019989632, 0.0669519, 0.017029503, 0.022945907, -0.006108564, 0.05118298, -0.043797858, -0.041236266, 0.029429343, 0.0488...\n",
       "2    [[0.019088332, 0.009552218, -0.04741294, 0.0104937535, -0.042908445, -0.06331453, -0.0031612532, 0.051496144, 0.027147723, -0.010961102, 0.034988593, 0.057352275, 0.046823528, 0.057418354, -0.00366939, 0.0066046086, -0.0013654096, 0.003...\n",
       "3    [[-0.0052521275, -0.03831199, -0.009220155, -0.046096295, -0.05765772, -0.04768436, -0.016511641, 0.0047285655, -0.013010721, -0.0713816, -0.030422544, 0.023165483, 0.017145844, 0.04533133, 0.015669957, -0.013959968, -0.05360133, -0.011...\n",
       "4    [[-0.02267581, -0.069071844, 0.015508692, -0.029039731, -0.08988534, -0.0010676745, -0.014085707, 0.0072551128, -0.019989632, 0.0669519, 0.017029509, 0.02294591, -0.006108567, 0.05118298, -0.043797866, -0.041236263, 0.029429344, 0.04888...\n",
       "Name: embeddings_np, dtype: object"
      ]
     },
     "execution_count": 49,
     "metadata": {},
     "output_type": "execute_result"
    }
   ],
   "source": [
    "ddf_text['embeddings_np'].head()"
   ]
  },
  {
   "cell_type": "code",
   "execution_count": null,
   "id": "40b9e301",
   "metadata": {},
   "outputs": [],
   "source": [
    "ddf_text['embeddings_np'].tail()"
   ]
  },
  {
   "cell_type": "code",
   "execution_count": 55,
   "id": "57975d1e",
   "metadata": {},
   "outputs": [
    {
     "name": "stdout",
     "output_type": "stream",
     "text": [
      "CPU times: user 12.6 ms, sys: 0 ns, total: 12.6 ms\n",
      "Wall time: 10.2 ms\n"
     ]
    },
    {
     "data": {
      "text/plain": [
       "0    [[-0.0052521224, -0.03831199, -0.009220155, -0.0460963, -0.057657693, -0.047684345, -0.016511647, 0.004728538, -0.01301072, -0.07138159, -0.03042251, 0.023165515, 0.017145874, 0.045331337, 0.015669929, -0.013959975, -0.05360135, -0.0118...\n",
       "1    [[-0.022675814, -0.069071874, 0.015508659, -0.02903972, -0.08988533, -0.0010676887, -0.014085756, 0.007255134, -0.019989597, 0.06695186, 0.01702949, 0.02294587, -0.006108526, 0.05118297, -0.043797873, -0.04123629, 0.029429296, 0.0488887...\n",
       "2    [[0.019088339, 0.009552221, -0.04741294, 0.010493785, -0.04290844, -0.06331449, -0.0031612637, 0.051496122, 0.027147735, -0.010961098, 0.034988593, 0.057352237, 0.046823513, 0.057418343, -0.0036693846, 0.006604615, -0.0013653795, 0.0038...\n",
       "3    [[-0.0052521233, -0.03831199, -0.009220155, -0.0460963, -0.057657693, -0.047684345, -0.016511645, 0.0047285357, -0.013010718, -0.07138159, -0.030422507, 0.023165515, 0.017145874, 0.045331337, 0.015669929, -0.013959976, -0.05360135, -0.0...\n",
       "4    [[-0.022675822, -0.069071874, 0.015508652, -0.029039716, -0.08988534, -0.0010676958, -0.014085753, 0.007255138, -0.0199896, 0.06695186, 0.017029488, 0.022945873, -0.0061085303, 0.05118296, -0.04379786, -0.04123628, 0.029429302, 0.048888...\n",
       "Name: embeddings, dtype: object"
      ]
     },
     "execution_count": 55,
     "metadata": {},
     "output_type": "execute_result"
    }
   ],
   "source": [
    "%%time\n",
    "ddf_text['embeddings'].head().apply(lambda x: x.numpy())"
   ]
  },
  {
   "cell_type": "code",
   "execution_count": 111,
   "id": "7d72dd9d",
   "metadata": {},
   "outputs": [
    {
     "data": {
      "text/plain": [
       "0       ((tf.Tensor(-0.005252141, shape=(), dtype=float32), tf.Tensor(-0.038312018, shape=(), dtype=float32), tf.Tensor(-0.009220189, shape=(), dtype=float32), tf.Tensor(-0.04609629, shape=(), dtype=float32), tf.Tensor(-0.05765771, shape=(), dt...\n",
       "1       ((tf.Tensor(0.019088347, shape=(), dtype=float32), tf.Tensor(0.009552213, shape=(), dtype=float32), tf.Tensor(-0.047412947, shape=(), dtype=float32), tf.Tensor(0.0104937935, shape=(), dtype=float32), tf.Tensor(-0.04290844, shape=(), dty...\n",
       "2       ((tf.Tensor(-0.022675823, shape=(), dtype=float32), tf.Tensor(-0.069071874, shape=(), dtype=float32), tf.Tensor(0.0155086545, shape=(), dtype=float32), tf.Tensor(-0.029039716, shape=(), dtype=float32), tf.Tensor(-0.08988534, shape=(), d...\n",
       "3       ((tf.Tensor(0.01908833, shape=(), dtype=float32), tf.Tensor(0.009552218, shape=(), dtype=float32), tf.Tensor(-0.047412947, shape=(), dtype=float32), tf.Tensor(0.010493787, shape=(), dtype=float32), tf.Tensor(-0.04290844, shape=(), dtype...\n",
       "4       ((tf.Tensor(-0.0052521243, shape=(), dtype=float32), tf.Tensor(-0.03831199, shape=(), dtype=float32), tf.Tensor(-0.009220154, shape=(), dtype=float32), tf.Tensor(-0.0460963, shape=(), dtype=float32), tf.Tensor(-0.05765769, shape=(), dty...\n",
       "                                                                                                                             ...                                                                                                                       \n",
       "5995                                                                                                                                                                                                                                                NaN\n",
       "5996                                                                                                                                                                                                                                                NaN\n",
       "5997                                                                                                                                                                                                                                                NaN\n",
       "5998                                                                                                                                                                                                                                                NaN\n",
       "5999                                                                                                                                                                                                                                                NaN\n",
       "Name: embeddings, Length: 6000, dtype: object"
      ]
     },
     "execution_count": 111,
     "metadata": {},
     "output_type": "execute_result"
    }
   ],
   "source": [
    "ddf_text['embeddings'].compute()"
   ]
  },
  {
   "cell_type": "code",
   "execution_count": 110,
   "id": "14824094",
   "metadata": {},
   "outputs": [],
   "source": [
    "# %%time\n",
    "# ddf_text['embeddings'].apply(lambda x: x.numpy())"
   ]
  },
  {
   "cell_type": "code",
   "execution_count": 112,
   "id": "a57c5e78",
   "metadata": {},
   "outputs": [
    {
     "data": {
      "text/plain": [
       "0    [[-0.005252141, -0.038312018, -0.009220189, -0.04609629, -0.05765771, -0.047684345, -0.01651165, 0.0047285794, -0.013010711, -0.071381606, -0.030422565, 0.02316548, 0.017145867, 0.045331288, 0.015669933, -0.013959985, -0.053601343, -0.0...\n",
       "1    [[0.019088347, 0.009552213, -0.047412947, 0.0104937935, -0.04290844, -0.06331449, -0.0031612592, 0.051496133, 0.027147729, -0.010961093, 0.034988593, 0.05735223, 0.046823505, 0.057418343, -0.0036693835, 0.0066046203, -0.0013653715, 0.00...\n",
       "2    [[-0.022675823, -0.069071874, 0.0155086545, -0.029039716, -0.08988534, -0.0010676958, -0.014085754, 0.0072551346, -0.019989599, 0.06695186, 0.01702949, 0.022945872, -0.0061085364, 0.051182974, -0.04379786, -0.04123629, 0.029429302, 0.04...\n",
       "3    [[0.01908833, 0.009552218, -0.047412947, 0.010493787, -0.04290844, -0.063314475, -0.0031612662, 0.051496133, 0.027147733, -0.010961089, 0.0349886, 0.05735224, 0.046823505, 0.057418346, -0.003669383, 0.0066046147, -0.0013653776, 0.003832...\n",
       "4    [[-0.0052521243, -0.03831199, -0.009220154, -0.0460963, -0.05765769, -0.047684345, -0.01651165, 0.0047285333, -0.013010722, -0.07138159, -0.030422512, 0.023165513, 0.017145878, 0.045331337, 0.01566993, -0.013959976, -0.05360135, -0.0118...\n",
       "Name: embeddings, dtype: object"
      ]
     },
     "execution_count": 112,
     "metadata": {},
     "output_type": "execute_result"
    }
   ],
   "source": [
    "ddf_text['embeddings'].head().apply(lambda x: x.numpy())"
   ]
  },
  {
   "cell_type": "code",
   "execution_count": 113,
   "id": "831eef4d",
   "metadata": {},
   "outputs": [],
   "source": [
    "# ddf_text['embeddings'].apply(lambda x: x.numpy())"
   ]
  },
  {
   "cell_type": "code",
   "execution_count": null,
   "id": "1b399416",
   "metadata": {},
   "outputs": [],
   "source": []
  }
 ],
 "metadata": {
  "environment": {
   "name": "tf2-gpu.2-3.m71",
   "type": "gcloud",
   "uri": "gcr.io/deeplearning-platform-release/tf2-gpu.2-3:m71"
  },
  "kernelspec": {
   "display_name": "Python [conda env:root] *",
   "language": "python",
   "name": "conda-root-py"
  },
  "language_info": {
   "codemirror_mode": {
    "name": "ipython",
    "version": 3
   },
   "file_extension": ".py",
   "mimetype": "text/x-python",
   "name": "python",
   "nbconvert_exporter": "python",
   "pygments_lexer": "ipython3",
   "version": "3.7.10"
  }
 },
 "nbformat": 4,
 "nbformat_minor": 5
}
