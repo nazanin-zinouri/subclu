{
 "cells": [
  {
   "cell_type": "markdown",
   "id": "a8ee6248",
   "metadata": {},
   "source": [
    "# Purpose\n",
    "\n",
    "2021-06-28.\n",
    "Test different parallel frameworks to speed up getting embeddings from USE-multilingual.\n",
    "\n",
    "test:\n",
    "- dask\n",
    "- modin\n",
    "- pandarallel"
   ]
  },
  {
   "cell_type": "markdown",
   "id": "8d00f029",
   "metadata": {},
   "source": [
    "# Notebook setup"
   ]
  },
  {
   "cell_type": "code",
   "execution_count": 1,
   "id": "b96d0a6d",
   "metadata": {},
   "outputs": [],
   "source": [
    "%load_ext autoreload\n",
    "%autoreload 2"
   ]
  },
  {
   "cell_type": "code",
   "execution_count": 39,
   "id": "95b15a87",
   "metadata": {},
   "outputs": [
    {
     "name": "stdout",
     "output_type": "stream",
     "text": [
      "python\t\tv 3.7.10\n",
      "===\n",
      "fse\t\tv: 0.1.15\n",
      "gensim\t\tv: 3.8.3\n",
      "joblib\t\tv: 1.0.1\n",
      "modin\t\tv: 0.10.0\n",
      "numpy\t\tv: 1.18.5\n",
      "pandas\t\tv: 1.2.4\n",
      "plotly\t\tv: 4.14.3\n",
      "subclu\t\tv: 0.1.1\n"
     ]
    }
   ],
   "source": [
    "from datetime import datetime\n",
    "import gc\n",
    "import os\n",
    "import logging\n",
    "from pprint import pprint\n",
    "\n",
    "from tqdm.auto import tqdm\n",
    "import fse\n",
    "from fse.models import uSIF\n",
    "import gensim\n",
    "from gensim.models.fasttext import FastText, load_facebook_vectors\n",
    "import joblib\n",
    "\n",
    "import math\n",
    "import numpy as np\n",
    "import pandas as pd\n",
    "import plotly\n",
    "import plotly.express as px\n",
    "\n",
    "# modin df\n",
    "import modin\n",
    "import modin.pandas as mpd\n",
    "\n",
    "import subclu\n",
    "from subclu.data.fasttext_utils import (\n",
    "    download_ft_pretrained_model,\n",
    "    get_df_for_most_similar,\n",
    "    get_project_subfolder,\n",
    ")\n",
    "from subclu.utils import set_working_directory\n",
    "from subclu.utils.eda import (\n",
    "    setup_logging, counts_describe, value_counts_and_pcts,\n",
    "    notebook_display_config, print_lib_versions,\n",
    "    style_df_numeric\n",
    ")\n",
    "from subclu.eda.aggregates import (\n",
    "    compare_raw_v_weighted_language\n",
    ")\n",
    "from subclu.utils.data_irl_style import (\n",
    "    get_colormap, theme_dirl\n",
    ")\n",
    "from subclu.models.vectorize_text import get_embeddings_as_df\n",
    "\n",
    "\n",
    "print_lib_versions([fse, gensim, joblib, modin, np, pd, plotly, subclu])"
   ]
  },
  {
   "cell_type": "code",
   "execution_count": 3,
   "id": "75609926",
   "metadata": {},
   "outputs": [
    {
     "name": "stdout",
     "output_type": "stream",
     "text": [
      "python\t\tv 3.7.10\n",
      "===\n",
      "tensorflow\tv: 2.3.3\n",
      "tensorflow_text\tv: 2.3.0\n"
     ]
    }
   ],
   "source": [
    "# USE & TF-focused imports\n",
    "import tensorflow\n",
    "import tensorflow as tf\n",
    "# import tensorflow.compat.v2 as tf\n",
    "import tensorflow_hub as hub\n",
    "import tensorflow_text\n",
    "from tensorflow.python.client import device_lib\n",
    "\n",
    "print_lib_versions([tensorflow, tensorflow_text])"
   ]
  },
  {
   "cell_type": "code",
   "execution_count": 4,
   "id": "12eb46bd",
   "metadata": {},
   "outputs": [],
   "source": [
    "# plotting\n",
    "import matplotlib.pyplot as plt\n",
    "import matplotlib.ticker as mtick\n",
    "import matplotlib.dates as mdates\n",
    "plt.style.use('default')\n",
    "\n",
    "setup_logging()\n",
    "notebook_display_config()"
   ]
  },
  {
   "cell_type": "markdown",
   "id": "488f2094",
   "metadata": {},
   "source": [
    "# Check whether we have access to a GPU"
   ]
  },
  {
   "cell_type": "code",
   "execution_count": 5,
   "id": "d84d4936",
   "metadata": {},
   "outputs": [
    {
     "name": "stdout",
     "output_type": "stream",
     "text": [
      "Num GPUs Available:  0\n"
     ]
    }
   ],
   "source": [
    "print(\"Num GPUs Available: \", len(tf.config.list_physical_devices('GPU')))"
   ]
  },
  {
   "cell_type": "code",
   "execution_count": 6,
   "id": "624b45e0",
   "metadata": {},
   "outputs": [],
   "source": [
    "# %%time\n",
    "\n",
    "# # don't set debug logging to True in this notebook because we'll be overloaded with TF debug statements\n",
    "# tf.debugging.set_log_device_placement(True)\n",
    "\n",
    "# # Create some tensors\n",
    "# a = tf.constant([[1.0, 2.0, 3.0], [4.0, 5.0, 6.0]])\n",
    "# b = tf.constant([[1.0, 2.0], [3.0, 4.0], [5.0, 6.0]])\n",
    "# c = tf.matmul(a, b)\n",
    "\n",
    "# print(c)"
   ]
  },
  {
   "cell_type": "markdown",
   "id": "a8a55c63",
   "metadata": {},
   "source": [
    "## List devices"
   ]
  },
  {
   "cell_type": "code",
   "execution_count": 7,
   "id": "90cab0a4",
   "metadata": {},
   "outputs": [
    {
     "name": "stdout",
     "output_type": "stream",
     "text": [
      "\n",
      "Built with CUDA? True\n",
      "\n",
      "GPUs\n",
      "===\n",
      "Num GPUs Available: 0\n",
      "GPU details:\n",
      "[]\n"
     ]
    }
   ],
   "source": [
    "l_phys_gpus = (\n",
    "    tf.config.list_physical_devices('GPU') +\n",
    "    tf.config.list_physical_devices('XLA_GPU')\n",
    ")\n",
    "\n",
    "print(\n",
    "    f\"\\nBuilt with CUDA? {tf.test.is_built_with_cuda()}\"\n",
    "    f\"\\n\\nGPUs\\n===\"\n",
    "    f\"\\nNum GPUs Available: {len(l_phys_gpus)}\"\n",
    "    f\"\\nGPU details:\\n{l_phys_gpus}\"\n",
    ")"
   ]
  },
  {
   "cell_type": "code",
   "execution_count": 8,
   "id": "5e15476d",
   "metadata": {},
   "outputs": [
    {
     "name": "stdout",
     "output_type": "stream",
     "text": [
      "\n",
      "Built with CUDA? True\n",
      "\n",
      "All devices:\n",
      "===\n",
      "Num devices: 2\n",
      "Details:\n",
      "[   name: \"/device:CPU:0\"\n",
      "device_type: \"CPU\"\n",
      "memory_limit: 268435456\n",
      "locality {\n",
      "}\n",
      "incarnation: 8010583850897085167\n",
      ",\n",
      "    name: \"/device:XLA_CPU:0\"\n",
      "device_type: \"XLA_CPU\"\n",
      "memory_limit: 17179869184\n",
      "locality {\n",
      "}\n",
      "incarnation: 15929129668142901143\n",
      "physical_device_desc: \"device: XLA_CPU device\"\n",
      "]\n"
     ]
    }
   ],
   "source": [
    "l_all_local_devices = device_lib.list_local_devices()\n",
    "print(\n",
    "    f\"\\nBuilt with CUDA? {tf.test.is_built_with_cuda()}\"\n",
    "    f\"\\n\\nAll devices:\\n===\"\n",
    "    f\"\\nNum devices: {len(l_all_local_devices)}\"\n",
    "    f\"\\nDetails:\"\n",
    ")\n",
    "pprint(l_all_local_devices, indent=4,)"
   ]
  },
  {
   "cell_type": "markdown",
   "id": "ca23c3b4",
   "metadata": {},
   "source": [
    "# Check NVIDIA CLI\n",
    "\n",
    "First, do we even see the GPUs?"
   ]
  },
  {
   "cell_type": "code",
   "execution_count": 9,
   "id": "db53d618",
   "metadata": {},
   "outputs": [
    {
     "name": "stdout",
     "output_type": "stream",
     "text": [
      "00:04.0 3D controller: NVIDIA Corporation TU104GL [Tesla T4] (rev a1)\n"
     ]
    }
   ],
   "source": [
    "!lspci | grep 3D"
   ]
  },
  {
   "cell_type": "markdown",
   "id": "64a60e3c",
   "metadata": {},
   "source": [
    "Then, are they recognized by the nvidia-smi tool?"
   ]
  },
  {
   "cell_type": "code",
   "execution_count": 118,
   "id": "c66f0831",
   "metadata": {},
   "outputs": [],
   "source": [
    "# !nvidia-smi"
   ]
  },
  {
   "cell_type": "markdown",
   "id": "cca1773a",
   "metadata": {},
   "source": [
    "# Load model from hub"
   ]
  },
  {
   "cell_type": "code",
   "execution_count": 12,
   "id": "5c480ca6",
   "metadata": {},
   "outputs": [
    {
     "name": "stdout",
     "output_type": "stream",
     "text": [
      "CPU times: user 7.02 s, sys: 1.05 s, total: 8.07 s\n",
      "Wall time: 7.87 s\n"
     ]
    }
   ],
   "source": [
    "%%time\n",
    "# The 16-language multilingual module is the default but feel free\n",
    "# to pick others from the list and compare the results.\n",
    "#@param ['https://tfhub.dev/google/universal-sentence-encoder-multilingual/3', 'https://tfhub.dev/google/universal-sentence-encoder-multilingual-large/3']\n",
    "module_url = 'https://tfhub.dev/google/universal-sentence-encoder-multilingual-large/3' \n",
    "\n",
    "\n",
    "model = hub.load(module_url)"
   ]
  },
  {
   "cell_type": "markdown",
   "id": "a6562aad",
   "metadata": {},
   "source": [
    "## Example from tutorial"
   ]
  },
  {
   "cell_type": "code",
   "execution_count": 13,
   "id": "0839f907",
   "metadata": {},
   "outputs": [],
   "source": [
    "# Some texts of different lengths.\n",
    "english_sentences = [\"dog\", \"Puppies are nice.\", \"I enjoy taking long walks along the beach with my dog.\"]\n",
    "italian_sentences = [\"cane\", \"I cuccioli sono carini.\", \"Mi piace fare lunghe passeggiate lungo la spiaggia con il mio cane.\"]\n",
    "japanese_sentences = [\"犬\", \"子犬はいいです\", \"私は犬と一緒にビーチを散歩するのが好きです\"]\n"
   ]
  },
  {
   "cell_type": "code",
   "execution_count": 14,
   "id": "99a7cfa3",
   "metadata": {},
   "outputs": [
    {
     "name": "stdout",
     "output_type": "stream",
     "text": [
      "CPU times: user 3.49 s, sys: 224 ms, total: 3.72 s\n",
      "Wall time: 3.25 s\n"
     ]
    }
   ],
   "source": [
    "%%time\n",
    "\n",
    "# Compute embeddings.\n",
    "en_result = model(english_sentences)\n",
    "it_result = model(italian_sentences)\n",
    "ja_result = model(japanese_sentences)\n"
   ]
  },
  {
   "cell_type": "code",
   "execution_count": 15,
   "id": "f31f2e28",
   "metadata": {},
   "outputs": [
    {
     "data": {
      "text/html": [
       "<div>\n",
       "<style scoped>\n",
       "    .dataframe tbody tr th:only-of-type {\n",
       "        vertical-align: middle;\n",
       "    }\n",
       "\n",
       "    .dataframe tbody tr th {\n",
       "        vertical-align: top;\n",
       "    }\n",
       "\n",
       "    .dataframe thead th {\n",
       "        text-align: right;\n",
       "    }\n",
       "</style>\n",
       "<table border=\"1\" class=\"dataframe\">\n",
       "  <thead>\n",
       "    <tr style=\"text-align: right;\">\n",
       "      <th></th>\n",
       "      <th>0</th>\n",
       "      <th>1</th>\n",
       "      <th>2</th>\n",
       "      <th>3</th>\n",
       "      <th>4</th>\n",
       "      <th>5</th>\n",
       "      <th>6</th>\n",
       "      <th>7</th>\n",
       "      <th>8</th>\n",
       "      <th>9</th>\n",
       "      <th>10</th>\n",
       "      <th>11</th>\n",
       "      <th>12</th>\n",
       "      <th>13</th>\n",
       "      <th>14</th>\n",
       "      <th>15</th>\n",
       "      <th>16</th>\n",
       "      <th>17</th>\n",
       "      <th>18</th>\n",
       "      <th>19</th>\n",
       "      <th>20</th>\n",
       "      <th>21</th>\n",
       "      <th>22</th>\n",
       "      <th>23</th>\n",
       "      <th>24</th>\n",
       "      <th>25</th>\n",
       "      <th>26</th>\n",
       "      <th>27</th>\n",
       "      <th>28</th>\n",
       "      <th>29</th>\n",
       "      <th>...</th>\n",
       "      <th>482</th>\n",
       "      <th>483</th>\n",
       "      <th>484</th>\n",
       "      <th>485</th>\n",
       "      <th>486</th>\n",
       "      <th>487</th>\n",
       "      <th>488</th>\n",
       "      <th>489</th>\n",
       "      <th>490</th>\n",
       "      <th>491</th>\n",
       "      <th>492</th>\n",
       "      <th>493</th>\n",
       "      <th>494</th>\n",
       "      <th>495</th>\n",
       "      <th>496</th>\n",
       "      <th>497</th>\n",
       "      <th>498</th>\n",
       "      <th>499</th>\n",
       "      <th>500</th>\n",
       "      <th>501</th>\n",
       "      <th>502</th>\n",
       "      <th>503</th>\n",
       "      <th>504</th>\n",
       "      <th>505</th>\n",
       "      <th>506</th>\n",
       "      <th>507</th>\n",
       "      <th>508</th>\n",
       "      <th>509</th>\n",
       "      <th>510</th>\n",
       "      <th>511</th>\n",
       "    </tr>\n",
       "  </thead>\n",
       "  <tbody>\n",
       "    <tr>\n",
       "      <th>0</th>\n",
       "      <td>tf.Tensor(-0.0052521224, shape=(), dtype=float32)</td>\n",
       "      <td>tf.Tensor(-0.038312003, shape=(), dtype=float32)</td>\n",
       "      <td>tf.Tensor(-0.0092201475, shape=(), dtype=float32)</td>\n",
       "      <td>tf.Tensor(-0.046096273, shape=(), dtype=float32)</td>\n",
       "      <td>tf.Tensor(-0.057657715, shape=(), dtype=float32)</td>\n",
       "      <td>tf.Tensor(-0.047684364, shape=(), dtype=float32)</td>\n",
       "      <td>tf.Tensor(-0.016511638, shape=(), dtype=float32)</td>\n",
       "      <td>tf.Tensor(0.0047285785, shape=(), dtype=float32)</td>\n",
       "      <td>tf.Tensor(-0.013010719, shape=(), dtype=float32)</td>\n",
       "      <td>tf.Tensor(-0.071381606, shape=(), dtype=float32)</td>\n",
       "      <td>tf.Tensor(-0.030422544, shape=(), dtype=float32)</td>\n",
       "      <td>tf.Tensor(0.023165468, shape=(), dtype=float32)</td>\n",
       "      <td>tf.Tensor(0.017145863, shape=(), dtype=float32)</td>\n",
       "      <td>tf.Tensor(0.04533131, shape=(), dtype=float32)</td>\n",
       "      <td>tf.Tensor(0.015669946, shape=(), dtype=float32)</td>\n",
       "      <td>tf.Tensor(-0.013959981, shape=(), dtype=float32)</td>\n",
       "      <td>tf.Tensor(-0.053601336, shape=(), dtype=float32)</td>\n",
       "      <td>tf.Tensor(-0.011878509, shape=(), dtype=float32)</td>\n",
       "      <td>tf.Tensor(-0.11063096, shape=(), dtype=float32)</td>\n",
       "      <td>tf.Tensor(0.0048499727, shape=(), dtype=float32)</td>\n",
       "      <td>tf.Tensor(0.0067631947, shape=(), dtype=float32)</td>\n",
       "      <td>tf.Tensor(0.039811607, shape=(), dtype=float32)</td>\n",
       "      <td>tf.Tensor(0.06601548, shape=(), dtype=float32)</td>\n",
       "      <td>tf.Tensor(-0.012721934, shape=(), dtype=float32)</td>\n",
       "      <td>tf.Tensor(0.0374415, shape=(), dtype=float32)</td>\n",
       "      <td>tf.Tensor(0.030250402, shape=(), dtype=float32)</td>\n",
       "      <td>tf.Tensor(-0.015202931, shape=(), dtype=float32)</td>\n",
       "      <td>tf.Tensor(0.011007949, shape=(), dtype=float32)</td>\n",
       "      <td>tf.Tensor(0.0168568, shape=(), dtype=float32)</td>\n",
       "      <td>tf.Tensor(-0.019257642, shape=(), dtype=float32)</td>\n",
       "      <td>...</td>\n",
       "      <td>tf.Tensor(0.08616638, shape=(), dtype=float32)</td>\n",
       "      <td>tf.Tensor(-0.02443323, shape=(), dtype=float32)</td>\n",
       "      <td>tf.Tensor(-0.0009149233, shape=(), dtype=float32)</td>\n",
       "      <td>tf.Tensor(0.038853917, shape=(), dtype=float32)</td>\n",
       "      <td>tf.Tensor(-0.031945083, shape=(), dtype=float32)</td>\n",
       "      <td>tf.Tensor(0.043825854, shape=(), dtype=float32)</td>\n",
       "      <td>tf.Tensor(0.058404736, shape=(), dtype=float32)</td>\n",
       "      <td>tf.Tensor(0.03934806, shape=(), dtype=float32)</td>\n",
       "      <td>tf.Tensor(0.08239184, shape=(), dtype=float32)</td>\n",
       "      <td>tf.Tensor(-0.028973904, shape=(), dtype=float32)</td>\n",
       "      <td>tf.Tensor(0.01263683, shape=(), dtype=float32)</td>\n",
       "      <td>tf.Tensor(-0.008682322, shape=(), dtype=float32)</td>\n",
       "      <td>tf.Tensor(0.00058252894, shape=(), dtype=float32)</td>\n",
       "      <td>tf.Tensor(0.07517927, shape=(), dtype=float32)</td>\n",
       "      <td>tf.Tensor(0.017356122, shape=(), dtype=float32)</td>\n",
       "      <td>tf.Tensor(0.012234441, shape=(), dtype=float32)</td>\n",
       "      <td>tf.Tensor(-0.019842025, shape=(), dtype=float32)</td>\n",
       "      <td>tf.Tensor(-0.077491924, shape=(), dtype=float32)</td>\n",
       "      <td>tf.Tensor(-0.02440608, shape=(), dtype=float32)</td>\n",
       "      <td>tf.Tensor(-0.032542024, shape=(), dtype=float32)</td>\n",
       "      <td>tf.Tensor(0.012990026, shape=(), dtype=float32)</td>\n",
       "      <td>tf.Tensor(-0.05957967, shape=(), dtype=float32)</td>\n",
       "      <td>tf.Tensor(0.026064044, shape=(), dtype=float32)</td>\n",
       "      <td>tf.Tensor(-0.052391514, shape=(), dtype=float32)</td>\n",
       "      <td>tf.Tensor(-0.05916791, shape=(), dtype=float32)</td>\n",
       "      <td>tf.Tensor(-0.025977198, shape=(), dtype=float32)</td>\n",
       "      <td>tf.Tensor(-0.031976104, shape=(), dtype=float32)</td>\n",
       "      <td>tf.Tensor(0.021790497, shape=(), dtype=float32)</td>\n",
       "      <td>tf.Tensor(0.06280179, shape=(), dtype=float32)</td>\n",
       "      <td>tf.Tensor(-0.016225358, shape=(), dtype=float32)</td>\n",
       "    </tr>\n",
       "    <tr>\n",
       "      <th>1</th>\n",
       "      <td>tf.Tensor(-0.022675825, shape=(), dtype=float32)</td>\n",
       "      <td>tf.Tensor(-0.06907186, shape=(), dtype=float32)</td>\n",
       "      <td>tf.Tensor(0.015508688, shape=(), dtype=float32)</td>\n",
       "      <td>tf.Tensor(-0.029039722, shape=(), dtype=float32)</td>\n",
       "      <td>tf.Tensor(-0.08988538, shape=(), dtype=float32)</td>\n",
       "      <td>tf.Tensor(-0.0010676517, shape=(), dtype=float32)</td>\n",
       "      <td>tf.Tensor(-0.014085733, shape=(), dtype=float32)</td>\n",
       "      <td>tf.Tensor(0.007255118, shape=(), dtype=float32)</td>\n",
       "      <td>tf.Tensor(-0.01998962, shape=(), dtype=float32)</td>\n",
       "      <td>tf.Tensor(0.06695189, shape=(), dtype=float32)</td>\n",
       "      <td>tf.Tensor(0.017029501, shape=(), dtype=float32)</td>\n",
       "      <td>tf.Tensor(0.022945879, shape=(), dtype=float32)</td>\n",
       "      <td>tf.Tensor(-0.006108543, shape=(), dtype=float32)</td>\n",
       "      <td>tf.Tensor(0.051182974, shape=(), dtype=float32)</td>\n",
       "      <td>tf.Tensor(-0.04379787, shape=(), dtype=float32)</td>\n",
       "      <td>tf.Tensor(-0.041236278, shape=(), dtype=float32)</td>\n",
       "      <td>tf.Tensor(0.029429333, shape=(), dtype=float32)</td>\n",
       "      <td>tf.Tensor(0.048888765, shape=(), dtype=float32)</td>\n",
       "      <td>tf.Tensor(-0.11650518, shape=(), dtype=float32)</td>\n",
       "      <td>tf.Tensor(-0.0024727038, shape=(), dtype=float32)</td>\n",
       "      <td>tf.Tensor(0.02891673, shape=(), dtype=float32)</td>\n",
       "      <td>tf.Tensor(9.119805e-05, shape=(), dtype=float32)</td>\n",
       "      <td>tf.Tensor(0.024404421, shape=(), dtype=float32)</td>\n",
       "      <td>tf.Tensor(0.012593313, shape=(), dtype=float32)</td>\n",
       "      <td>tf.Tensor(0.020244466, shape=(), dtype=float32)</td>\n",
       "      <td>tf.Tensor(0.020711716, shape=(), dtype=float32)</td>\n",
       "      <td>tf.Tensor(-0.031881034, shape=(), dtype=float32)</td>\n",
       "      <td>tf.Tensor(0.05342521, shape=(), dtype=float32)</td>\n",
       "      <td>tf.Tensor(0.0026995616, shape=(), dtype=float32)</td>\n",
       "      <td>tf.Tensor(-0.080842726, shape=(), dtype=float32)</td>\n",
       "      <td>...</td>\n",
       "      <td>tf.Tensor(0.10710526, shape=(), dtype=float32)</td>\n",
       "      <td>tf.Tensor(0.00011630478, shape=(), dtype=float32)</td>\n",
       "      <td>tf.Tensor(0.008712973, shape=(), dtype=float32)</td>\n",
       "      <td>tf.Tensor(0.07481752, shape=(), dtype=float32)</td>\n",
       "      <td>tf.Tensor(-0.04523135, shape=(), dtype=float32)</td>\n",
       "      <td>tf.Tensor(0.052447543, shape=(), dtype=float32)</td>\n",
       "      <td>tf.Tensor(0.03915357, shape=(), dtype=float32)</td>\n",
       "      <td>tf.Tensor(-0.0018760521, shape=(), dtype=float32)</td>\n",
       "      <td>tf.Tensor(0.017901927, shape=(), dtype=float32)</td>\n",
       "      <td>tf.Tensor(-0.014710554, shape=(), dtype=float32)</td>\n",
       "      <td>tf.Tensor(0.04312735, shape=(), dtype=float32)</td>\n",
       "      <td>tf.Tensor(-0.030878657, shape=(), dtype=float32)</td>\n",
       "      <td>tf.Tensor(-0.056910444, shape=(), dtype=float32)</td>\n",
       "      <td>tf.Tensor(0.05889421, shape=(), dtype=float32)</td>\n",
       "      <td>tf.Tensor(-0.0065958914, shape=(), dtype=float32)</td>\n",
       "      <td>tf.Tensor(-0.019973183, shape=(), dtype=float32)</td>\n",
       "      <td>tf.Tensor(-0.037767112, shape=(), dtype=float32)</td>\n",
       "      <td>tf.Tensor(0.021722129, shape=(), dtype=float32)</td>\n",
       "      <td>tf.Tensor(-0.032639645, shape=(), dtype=float32)</td>\n",
       "      <td>tf.Tensor(-0.005521554, shape=(), dtype=float32)</td>\n",
       "      <td>tf.Tensor(-0.03981594, shape=(), dtype=float32)</td>\n",
       "      <td>tf.Tensor(-0.0046574073, shape=(), dtype=float32)</td>\n",
       "      <td>tf.Tensor(0.024200806, shape=(), dtype=float32)</td>\n",
       "      <td>tf.Tensor(-0.026657948, shape=(), dtype=float32)</td>\n",
       "      <td>tf.Tensor(-0.0063680764, shape=(), dtype=float32)</td>\n",
       "      <td>tf.Tensor(-0.069105715, shape=(), dtype=float32)</td>\n",
       "      <td>tf.Tensor(0.029129585, shape=(), dtype=float32)</td>\n",
       "      <td>tf.Tensor(0.08762303, shape=(), dtype=float32)</td>\n",
       "      <td>tf.Tensor(-0.00076926645, shape=(), dtype=float32)</td>\n",
       "      <td>tf.Tensor(-0.054108236, shape=(), dtype=float32)</td>\n",
       "    </tr>\n",
       "    <tr>\n",
       "      <th>2</th>\n",
       "      <td>tf.Tensor(0.0190883, shape=(), dtype=float32)</td>\n",
       "      <td>tf.Tensor(0.009552207, shape=(), dtype=float32)</td>\n",
       "      <td>tf.Tensor(-0.047412913, shape=(), dtype=float32)</td>\n",
       "      <td>tf.Tensor(0.010493744, shape=(), dtype=float32)</td>\n",
       "      <td>tf.Tensor(-0.042908445, shape=(), dtype=float32)</td>\n",
       "      <td>tf.Tensor(-0.06331452, shape=(), dtype=float32)</td>\n",
       "      <td>tf.Tensor(-0.0031612592, shape=(), dtype=float32)</td>\n",
       "      <td>tf.Tensor(0.051496133, shape=(), dtype=float32)</td>\n",
       "      <td>tf.Tensor(0.02714771, shape=(), dtype=float32)</td>\n",
       "      <td>tf.Tensor(-0.010961134, shape=(), dtype=float32)</td>\n",
       "      <td>tf.Tensor(0.03498859, shape=(), dtype=float32)</td>\n",
       "      <td>tf.Tensor(0.057352275, shape=(), dtype=float32)</td>\n",
       "      <td>tf.Tensor(0.046823528, shape=(), dtype=float32)</td>\n",
       "      <td>tf.Tensor(0.057418335, shape=(), dtype=float32)</td>\n",
       "      <td>tf.Tensor(-0.0036693867, shape=(), dtype=float32)</td>\n",
       "      <td>tf.Tensor(0.0066045835, shape=(), dtype=float32)</td>\n",
       "      <td>tf.Tensor(-0.0013654025, shape=(), dtype=float32)</td>\n",
       "      <td>tf.Tensor(0.0038320296, shape=(), dtype=float32)</td>\n",
       "      <td>tf.Tensor(-0.090584226, shape=(), dtype=float32)</td>\n",
       "      <td>tf.Tensor(0.04874487, shape=(), dtype=float32)</td>\n",
       "      <td>tf.Tensor(0.02869539, shape=(), dtype=float32)</td>\n",
       "      <td>tf.Tensor(-0.021483542, shape=(), dtype=float32)</td>\n",
       "      <td>tf.Tensor(0.052940544, shape=(), dtype=float32)</td>\n",
       "      <td>tf.Tensor(-0.01777254, shape=(), dtype=float32)</td>\n",
       "      <td>tf.Tensor(-0.04854997, shape=(), dtype=float32)</td>\n",
       "      <td>tf.Tensor(-0.075713105, shape=(), dtype=float32)</td>\n",
       "      <td>tf.Tensor(-0.061066058, shape=(), dtype=float32)</td>\n",
       "      <td>tf.Tensor(0.06376976, shape=(), dtype=float32)</td>\n",
       "      <td>tf.Tensor(-0.030032245, shape=(), dtype=float32)</td>\n",
       "      <td>tf.Tensor(0.026240464, shape=(), dtype=float32)</td>\n",
       "      <td>...</td>\n",
       "      <td>tf.Tensor(-0.021820955, shape=(), dtype=float32)</td>\n",
       "      <td>tf.Tensor(-0.054204855, shape=(), dtype=float32)</td>\n",
       "      <td>tf.Tensor(0.078226514, shape=(), dtype=float32)</td>\n",
       "      <td>tf.Tensor(-0.013889627, shape=(), dtype=float32)</td>\n",
       "      <td>tf.Tensor(-0.054223295, shape=(), dtype=float32)</td>\n",
       "      <td>tf.Tensor(-0.053254947, shape=(), dtype=float32)</td>\n",
       "      <td>tf.Tensor(0.0072277193, shape=(), dtype=float32)</td>\n",
       "      <td>tf.Tensor(-0.029698607, shape=(), dtype=float32)</td>\n",
       "      <td>tf.Tensor(0.02548139, shape=(), dtype=float32)</td>\n",
       "      <td>tf.Tensor(0.012124321, shape=(), dtype=float32)</td>\n",
       "      <td>tf.Tensor(0.00032449176, shape=(), dtype=float32)</td>\n",
       "      <td>tf.Tensor(0.008369918, shape=(), dtype=float32)</td>\n",
       "      <td>tf.Tensor(-0.04119698, shape=(), dtype=float32)</td>\n",
       "      <td>tf.Tensor(0.08043293, shape=(), dtype=float32)</td>\n",
       "      <td>tf.Tensor(0.007009019, shape=(), dtype=float32)</td>\n",
       "      <td>tf.Tensor(-0.050937872, shape=(), dtype=float32)</td>\n",
       "      <td>tf.Tensor(0.013866385, shape=(), dtype=float32)</td>\n",
       "      <td>tf.Tensor(0.034640666, shape=(), dtype=float32)</td>\n",
       "      <td>tf.Tensor(0.008104291, shape=(), dtype=float32)</td>\n",
       "      <td>tf.Tensor(0.0214928, shape=(), dtype=float32)</td>\n",
       "      <td>tf.Tensor(0.11410708, shape=(), dtype=float32)</td>\n",
       "      <td>tf.Tensor(-0.07061694, shape=(), dtype=float32)</td>\n",
       "      <td>tf.Tensor(0.06558143, shape=(), dtype=float32)</td>\n",
       "      <td>tf.Tensor(-0.039064355, shape=(), dtype=float32)</td>\n",
       "      <td>tf.Tensor(0.005809189, shape=(), dtype=float32)</td>\n",
       "      <td>tf.Tensor(-0.078954406, shape=(), dtype=float32)</td>\n",
       "      <td>tf.Tensor(0.05952792, shape=(), dtype=float32)</td>\n",
       "      <td>tf.Tensor(0.032064784, shape=(), dtype=float32)</td>\n",
       "      <td>tf.Tensor(0.03661669, shape=(), dtype=float32)</td>\n",
       "      <td>tf.Tensor(0.0033105896, shape=(), dtype=float32)</td>\n",
       "    </tr>\n",
       "  </tbody>\n",
       "</table>\n",
       "<p>3 rows × 512 columns</p>\n",
       "</div>"
      ],
      "text/plain": [
       "                                                 0                                                 1                                                  2                                                 3                                                 4    \\\n",
       "0  tf.Tensor(-0.0052521224, shape=(), dtype=float32)  tf.Tensor(-0.038312003, shape=(), dtype=float32)  tf.Tensor(-0.0092201475, shape=(), dtype=float32)  tf.Tensor(-0.046096273, shape=(), dtype=float32)  tf.Tensor(-0.057657715, shape=(), dtype=float32)   \n",
       "1   tf.Tensor(-0.022675825, shape=(), dtype=float32)   tf.Tensor(-0.06907186, shape=(), dtype=float32)    tf.Tensor(0.015508688, shape=(), dtype=float32)  tf.Tensor(-0.029039722, shape=(), dtype=float32)   tf.Tensor(-0.08988538, shape=(), dtype=float32)   \n",
       "2      tf.Tensor(0.0190883, shape=(), dtype=float32)   tf.Tensor(0.009552207, shape=(), dtype=float32)   tf.Tensor(-0.047412913, shape=(), dtype=float32)   tf.Tensor(0.010493744, shape=(), dtype=float32)  tf.Tensor(-0.042908445, shape=(), dtype=float32)   \n",
       "\n",
       "                                                 5                                                  6                                                 7                                                 8                                                 9    \\\n",
       "0   tf.Tensor(-0.047684364, shape=(), dtype=float32)   tf.Tensor(-0.016511638, shape=(), dtype=float32)  tf.Tensor(0.0047285785, shape=(), dtype=float32)  tf.Tensor(-0.013010719, shape=(), dtype=float32)  tf.Tensor(-0.071381606, shape=(), dtype=float32)   \n",
       "1  tf.Tensor(-0.0010676517, shape=(), dtype=float32)   tf.Tensor(-0.014085733, shape=(), dtype=float32)   tf.Tensor(0.007255118, shape=(), dtype=float32)   tf.Tensor(-0.01998962, shape=(), dtype=float32)    tf.Tensor(0.06695189, shape=(), dtype=float32)   \n",
       "2    tf.Tensor(-0.06331452, shape=(), dtype=float32)  tf.Tensor(-0.0031612592, shape=(), dtype=float32)   tf.Tensor(0.051496133, shape=(), dtype=float32)    tf.Tensor(0.02714771, shape=(), dtype=float32)  tf.Tensor(-0.010961134, shape=(), dtype=float32)   \n",
       "\n",
       "                                                10                                               11                                                12                                               13                                                 14   \\\n",
       "0  tf.Tensor(-0.030422544, shape=(), dtype=float32)  tf.Tensor(0.023165468, shape=(), dtype=float32)   tf.Tensor(0.017145863, shape=(), dtype=float32)   tf.Tensor(0.04533131, shape=(), dtype=float32)    tf.Tensor(0.015669946, shape=(), dtype=float32)   \n",
       "1   tf.Tensor(0.017029501, shape=(), dtype=float32)  tf.Tensor(0.022945879, shape=(), dtype=float32)  tf.Tensor(-0.006108543, shape=(), dtype=float32)  tf.Tensor(0.051182974, shape=(), dtype=float32)    tf.Tensor(-0.04379787, shape=(), dtype=float32)   \n",
       "2    tf.Tensor(0.03498859, shape=(), dtype=float32)  tf.Tensor(0.057352275, shape=(), dtype=float32)   tf.Tensor(0.046823528, shape=(), dtype=float32)  tf.Tensor(0.057418335, shape=(), dtype=float32)  tf.Tensor(-0.0036693867, shape=(), dtype=float32)   \n",
       "\n",
       "                                                15                                                 16                                                17                                                18                                                 19   \\\n",
       "0  tf.Tensor(-0.013959981, shape=(), dtype=float32)   tf.Tensor(-0.053601336, shape=(), dtype=float32)  tf.Tensor(-0.011878509, shape=(), dtype=float32)   tf.Tensor(-0.11063096, shape=(), dtype=float32)   tf.Tensor(0.0048499727, shape=(), dtype=float32)   \n",
       "1  tf.Tensor(-0.041236278, shape=(), dtype=float32)    tf.Tensor(0.029429333, shape=(), dtype=float32)   tf.Tensor(0.048888765, shape=(), dtype=float32)   tf.Tensor(-0.11650518, shape=(), dtype=float32)  tf.Tensor(-0.0024727038, shape=(), dtype=float32)   \n",
       "2  tf.Tensor(0.0066045835, shape=(), dtype=float32)  tf.Tensor(-0.0013654025, shape=(), dtype=float32)  tf.Tensor(0.0038320296, shape=(), dtype=float32)  tf.Tensor(-0.090584226, shape=(), dtype=float32)     tf.Tensor(0.04874487, shape=(), dtype=float32)   \n",
       "\n",
       "                                                20                                                21                                               22                                                23                                               24   \\\n",
       "0  tf.Tensor(0.0067631947, shape=(), dtype=float32)   tf.Tensor(0.039811607, shape=(), dtype=float32)   tf.Tensor(0.06601548, shape=(), dtype=float32)  tf.Tensor(-0.012721934, shape=(), dtype=float32)    tf.Tensor(0.0374415, shape=(), dtype=float32)   \n",
       "1    tf.Tensor(0.02891673, shape=(), dtype=float32)  tf.Tensor(9.119805e-05, shape=(), dtype=float32)  tf.Tensor(0.024404421, shape=(), dtype=float32)   tf.Tensor(0.012593313, shape=(), dtype=float32)  tf.Tensor(0.020244466, shape=(), dtype=float32)   \n",
       "2    tf.Tensor(0.02869539, shape=(), dtype=float32)  tf.Tensor(-0.021483542, shape=(), dtype=float32)  tf.Tensor(0.052940544, shape=(), dtype=float32)   tf.Tensor(-0.01777254, shape=(), dtype=float32)  tf.Tensor(-0.04854997, shape=(), dtype=float32)   \n",
       "\n",
       "                                                25                                                26                                               27                                                28                                                29   ...  \\\n",
       "0   tf.Tensor(0.030250402, shape=(), dtype=float32)  tf.Tensor(-0.015202931, shape=(), dtype=float32)  tf.Tensor(0.011007949, shape=(), dtype=float32)     tf.Tensor(0.0168568, shape=(), dtype=float32)  tf.Tensor(-0.019257642, shape=(), dtype=float32)  ...   \n",
       "1   tf.Tensor(0.020711716, shape=(), dtype=float32)  tf.Tensor(-0.031881034, shape=(), dtype=float32)   tf.Tensor(0.05342521, shape=(), dtype=float32)  tf.Tensor(0.0026995616, shape=(), dtype=float32)  tf.Tensor(-0.080842726, shape=(), dtype=float32)  ...   \n",
       "2  tf.Tensor(-0.075713105, shape=(), dtype=float32)  tf.Tensor(-0.061066058, shape=(), dtype=float32)   tf.Tensor(0.06376976, shape=(), dtype=float32)  tf.Tensor(-0.030032245, shape=(), dtype=float32)   tf.Tensor(0.026240464, shape=(), dtype=float32)  ...   \n",
       "\n",
       "                                                482                                                483                                                484                                               485                                               486  \\\n",
       "0    tf.Tensor(0.08616638, shape=(), dtype=float32)    tf.Tensor(-0.02443323, shape=(), dtype=float32)  tf.Tensor(-0.0009149233, shape=(), dtype=float32)   tf.Tensor(0.038853917, shape=(), dtype=float32)  tf.Tensor(-0.031945083, shape=(), dtype=float32)   \n",
       "1    tf.Tensor(0.10710526, shape=(), dtype=float32)  tf.Tensor(0.00011630478, shape=(), dtype=float32)    tf.Tensor(0.008712973, shape=(), dtype=float32)    tf.Tensor(0.07481752, shape=(), dtype=float32)   tf.Tensor(-0.04523135, shape=(), dtype=float32)   \n",
       "2  tf.Tensor(-0.021820955, shape=(), dtype=float32)   tf.Tensor(-0.054204855, shape=(), dtype=float32)    tf.Tensor(0.078226514, shape=(), dtype=float32)  tf.Tensor(-0.013889627, shape=(), dtype=float32)  tf.Tensor(-0.054223295, shape=(), dtype=float32)   \n",
       "\n",
       "                                                487                                               488                                                489                                              490                                               491  \\\n",
       "0   tf.Tensor(0.043825854, shape=(), dtype=float32)   tf.Tensor(0.058404736, shape=(), dtype=float32)     tf.Tensor(0.03934806, shape=(), dtype=float32)   tf.Tensor(0.08239184, shape=(), dtype=float32)  tf.Tensor(-0.028973904, shape=(), dtype=float32)   \n",
       "1   tf.Tensor(0.052447543, shape=(), dtype=float32)    tf.Tensor(0.03915357, shape=(), dtype=float32)  tf.Tensor(-0.0018760521, shape=(), dtype=float32)  tf.Tensor(0.017901927, shape=(), dtype=float32)  tf.Tensor(-0.014710554, shape=(), dtype=float32)   \n",
       "2  tf.Tensor(-0.053254947, shape=(), dtype=float32)  tf.Tensor(0.0072277193, shape=(), dtype=float32)   tf.Tensor(-0.029698607, shape=(), dtype=float32)   tf.Tensor(0.02548139, shape=(), dtype=float32)   tf.Tensor(0.012124321, shape=(), dtype=float32)   \n",
       "\n",
       "                                                 492                                               493                                                494                                             495                                                496  \\\n",
       "0     tf.Tensor(0.01263683, shape=(), dtype=float32)  tf.Tensor(-0.008682322, shape=(), dtype=float32)  tf.Tensor(0.00058252894, shape=(), dtype=float32)  tf.Tensor(0.07517927, shape=(), dtype=float32)    tf.Tensor(0.017356122, shape=(), dtype=float32)   \n",
       "1     tf.Tensor(0.04312735, shape=(), dtype=float32)  tf.Tensor(-0.030878657, shape=(), dtype=float32)   tf.Tensor(-0.056910444, shape=(), dtype=float32)  tf.Tensor(0.05889421, shape=(), dtype=float32)  tf.Tensor(-0.0065958914, shape=(), dtype=float32)   \n",
       "2  tf.Tensor(0.00032449176, shape=(), dtype=float32)   tf.Tensor(0.008369918, shape=(), dtype=float32)    tf.Tensor(-0.04119698, shape=(), dtype=float32)  tf.Tensor(0.08043293, shape=(), dtype=float32)    tf.Tensor(0.007009019, shape=(), dtype=float32)   \n",
       "\n",
       "                                                497                                               498                                               499                                               500                                               501  \\\n",
       "0   tf.Tensor(0.012234441, shape=(), dtype=float32)  tf.Tensor(-0.019842025, shape=(), dtype=float32)  tf.Tensor(-0.077491924, shape=(), dtype=float32)   tf.Tensor(-0.02440608, shape=(), dtype=float32)  tf.Tensor(-0.032542024, shape=(), dtype=float32)   \n",
       "1  tf.Tensor(-0.019973183, shape=(), dtype=float32)  tf.Tensor(-0.037767112, shape=(), dtype=float32)   tf.Tensor(0.021722129, shape=(), dtype=float32)  tf.Tensor(-0.032639645, shape=(), dtype=float32)  tf.Tensor(-0.005521554, shape=(), dtype=float32)   \n",
       "2  tf.Tensor(-0.050937872, shape=(), dtype=float32)   tf.Tensor(0.013866385, shape=(), dtype=float32)   tf.Tensor(0.034640666, shape=(), dtype=float32)   tf.Tensor(0.008104291, shape=(), dtype=float32)     tf.Tensor(0.0214928, shape=(), dtype=float32)   \n",
       "\n",
       "                                               502                                                503                                              504                                               505                                                506  \\\n",
       "0  tf.Tensor(0.012990026, shape=(), dtype=float32)    tf.Tensor(-0.05957967, shape=(), dtype=float32)  tf.Tensor(0.026064044, shape=(), dtype=float32)  tf.Tensor(-0.052391514, shape=(), dtype=float32)    tf.Tensor(-0.05916791, shape=(), dtype=float32)   \n",
       "1  tf.Tensor(-0.03981594, shape=(), dtype=float32)  tf.Tensor(-0.0046574073, shape=(), dtype=float32)  tf.Tensor(0.024200806, shape=(), dtype=float32)  tf.Tensor(-0.026657948, shape=(), dtype=float32)  tf.Tensor(-0.0063680764, shape=(), dtype=float32)   \n",
       "2   tf.Tensor(0.11410708, shape=(), dtype=float32)    tf.Tensor(-0.07061694, shape=(), dtype=float32)   tf.Tensor(0.06558143, shape=(), dtype=float32)  tf.Tensor(-0.039064355, shape=(), dtype=float32)    tf.Tensor(0.005809189, shape=(), dtype=float32)   \n",
       "\n",
       "                                                507                                               508                                              509                                                 510                                               511  \n",
       "0  tf.Tensor(-0.025977198, shape=(), dtype=float32)  tf.Tensor(-0.031976104, shape=(), dtype=float32)  tf.Tensor(0.021790497, shape=(), dtype=float32)      tf.Tensor(0.06280179, shape=(), dtype=float32)  tf.Tensor(-0.016225358, shape=(), dtype=float32)  \n",
       "1  tf.Tensor(-0.069105715, shape=(), dtype=float32)   tf.Tensor(0.029129585, shape=(), dtype=float32)   tf.Tensor(0.08762303, shape=(), dtype=float32)  tf.Tensor(-0.00076926645, shape=(), dtype=float32)  tf.Tensor(-0.054108236, shape=(), dtype=float32)  \n",
       "2  tf.Tensor(-0.078954406, shape=(), dtype=float32)    tf.Tensor(0.05952792, shape=(), dtype=float32)  tf.Tensor(0.032064784, shape=(), dtype=float32)      tf.Tensor(0.03661669, shape=(), dtype=float32)  tf.Tensor(0.0033105896, shape=(), dtype=float32)  \n",
       "\n",
       "[3 rows x 512 columns]"
      ]
     },
     "execution_count": 15,
     "metadata": {},
     "output_type": "execute_result"
    }
   ],
   "source": [
    "pd.DataFrame(en_result)"
   ]
  },
  {
   "cell_type": "code",
   "execution_count": 16,
   "id": "c811be54",
   "metadata": {},
   "outputs": [
    {
     "data": {
      "text/plain": [
       "<tf.Tensor: shape=(3, 512), dtype=float32, numpy=\n",
       "array([[ 0.0072023 , -0.02716359, -0.00670167, ...,  0.00478419,\n",
       "         0.03265055, -0.01112302],\n",
       "       [-0.00031301, -0.03090753, -0.00294115, ...,  0.04377454,\n",
       "        -0.01193869, -0.01058716],\n",
       "       [ 0.013335  ,  0.01904837, -0.02599624, ...,  0.0150301 ,\n",
       "         0.01788163, -0.00163475]], dtype=float32)>"
      ]
     },
     "execution_count": 16,
     "metadata": {},
     "output_type": "execute_result"
    }
   ],
   "source": [
    "tf.nn.l2_normalize(it_result)"
   ]
  },
  {
   "cell_type": "code",
   "execution_count": 17,
   "id": "28bad4f7",
   "metadata": {},
   "outputs": [
    {
     "data": {
      "text/plain": [
       "array([[0.96964574, 0.27347845, 0.2553682 ],\n",
       "       [0.37726057, 0.8931676 , 0.2880668 ],\n",
       "       [0.24611366, 0.23792979, 0.9352151 ]], dtype=float32)"
      ]
     },
     "execution_count": 17,
     "metadata": {},
     "output_type": "execute_result"
    }
   ],
   "source": [
    "# Compute similarity matrix. Higher score indicates greater similarity.\n",
    "similarity_matrix_it = np.inner(en_result, it_result)\n",
    "similarity_matrix_it"
   ]
  },
  {
   "cell_type": "code",
   "execution_count": 18,
   "id": "ba5558b4",
   "metadata": {},
   "outputs": [
    {
     "data": {
      "text/plain": [
       "array([[0.9799423 , 0.534173  , 0.33749652],\n",
       "       [0.41874045, 0.7786117 , 0.3792976 ],\n",
       "       [0.25998724, 0.29997385, 0.8583671 ]], dtype=float32)"
      ]
     },
     "execution_count": 18,
     "metadata": {},
     "output_type": "execute_result"
    }
   ],
   "source": [
    "similarity_matrix_ja = np.inner(en_result, ja_result)\n",
    "similarity_matrix_ja"
   ]
  },
  {
   "cell_type": "markdown",
   "id": "14a15b82",
   "metadata": {},
   "source": [
    "# Cosine Similarities Example\n",
    "This is annoying because we get a different result when using this `get_similarities` function compared to `np.inner()`... maybe it's because the raw inputs to `np.inner` weren't normalized, right?\n",
    "Also, I'm not sure why we have to force clipping...\n",
    "\n",
    "---\n",
    "\n",
    "Using example form Colab\n",
    "\n",
    "https://colab.research.google.com/github/tensorflow/hub/blob/master/examples/colab/semantic_similarity_with_tf_hub_universal_encoder.ipynb#scrollTo=W-q2r7jyZGb7"
   ]
  },
  {
   "cell_type": "code",
   "execution_count": 19,
   "id": "d0ba0bb6",
   "metadata": {},
   "outputs": [],
   "source": [
    "def get_similarities(sent_1, sent_2):\n",
    "    sts_encode1 = tf.nn.l2_normalize(model(sent_1), axis=1)\n",
    "    sts_encode2 = tf.nn.l2_normalize(model(sent_2), axis=1)\n",
    "    \n",
    "    cosine_similarities = tf.reduce_sum(tf.multiply(sts_encode1, sts_encode2), axis=1)\n",
    "    clip_cosine_similarities = tf.clip_by_value(cosine_similarities, -1.0, 1.0)\n",
    "    scores = 1.0 - tf.acos(clip_cosine_similarities) / math.pi\n",
    "    \"\"\"Returns the similarity scores\"\"\"\n",
    "    return scores"
   ]
  },
  {
   "cell_type": "code",
   "execution_count": 20,
   "id": "545c4185",
   "metadata": {},
   "outputs": [
    {
     "data": {
      "text/plain": [
       "<tf.Tensor: shape=(1,), dtype=float32, numpy=array([0.921372], dtype=float32)>"
      ]
     },
     "execution_count": 20,
     "metadata": {},
     "output_type": "execute_result"
    }
   ],
   "source": [
    "get_similarities(english_sentences[0], italian_sentences[0])"
   ]
  },
  {
   "cell_type": "code",
   "execution_count": 21,
   "id": "cad979cd",
   "metadata": {},
   "outputs": [
    {
     "data": {
      "text/plain": [
       "<tf.Tensor: shape=(1,), dtype=float32, numpy=array([0.93613946], dtype=float32)>"
      ]
     },
     "execution_count": 21,
     "metadata": {},
     "output_type": "execute_result"
    }
   ],
   "source": [
    "get_similarities(english_sentences[0], japanese_sentences[0])"
   ]
  },
  {
   "cell_type": "code",
   "execution_count": 22,
   "id": "531d5d38",
   "metadata": {},
   "outputs": [
    {
     "data": {
      "text/plain": [
       "(1, 512)"
      ]
     },
     "execution_count": 22,
     "metadata": {},
     "output_type": "execute_result"
    }
   ],
   "source": [
    "model(\"hello\").numpy().shape"
   ]
  },
  {
   "cell_type": "markdown",
   "id": "f0908da5",
   "metadata": {},
   "source": [
    "# Create a dataframe for large scale testing"
   ]
  },
  {
   "cell_type": "code",
   "execution_count": 23,
   "id": "88b4e999",
   "metadata": {},
   "outputs": [],
   "source": [
    "english_sentences = [\"dog\", \"Puppies are nice.\", \"I enjoy taking long walks along the beach with my dog.\"]\n",
    "italian_sentences = [\"cane\", \"I cuccioli sono carini.\", \"Mi piace fare lunghe passeggiate lungo la spiaggia con il mio cane.\"]\n",
    "japanese_sentences = [\"犬\", \"子犬はいいです\", \"私は犬と一緒にビーチを散歩するのが好きです\"]"
   ]
  },
  {
   "cell_type": "code",
   "execution_count": 24,
   "id": "cdeca4fc",
   "metadata": {},
   "outputs": [
    {
     "data": {
      "text/plain": [
       "(5400, 1)"
      ]
     },
     "execution_count": 24,
     "metadata": {},
     "output_type": "execute_result"
    }
   ],
   "source": [
    "df_test = pd.DataFrame({'text': (english_sentences + italian_sentences + japanese_sentences) * 600})\n",
    "df_test.shape"
   ]
  },
  {
   "cell_type": "code",
   "execution_count": 25,
   "id": "7eff890c",
   "metadata": {},
   "outputs": [
    {
     "data": {
      "text/html": [
       "<div>\n",
       "<style scoped>\n",
       "    .dataframe tbody tr th:only-of-type {\n",
       "        vertical-align: middle;\n",
       "    }\n",
       "\n",
       "    .dataframe tbody tr th {\n",
       "        vertical-align: top;\n",
       "    }\n",
       "\n",
       "    .dataframe thead th {\n",
       "        text-align: right;\n",
       "    }\n",
       "</style>\n",
       "<table border=\"1\" class=\"dataframe\">\n",
       "  <thead>\n",
       "    <tr style=\"text-align: right;\">\n",
       "      <th></th>\n",
       "      <th>text</th>\n",
       "    </tr>\n",
       "  </thead>\n",
       "  <tbody>\n",
       "    <tr>\n",
       "      <th>0</th>\n",
       "      <td>dog</td>\n",
       "    </tr>\n",
       "    <tr>\n",
       "      <th>1</th>\n",
       "      <td>Puppies are nice.</td>\n",
       "    </tr>\n",
       "    <tr>\n",
       "      <th>2</th>\n",
       "      <td>I enjoy taking long walks along the beach with my dog.</td>\n",
       "    </tr>\n",
       "    <tr>\n",
       "      <th>3</th>\n",
       "      <td>cane</td>\n",
       "    </tr>\n",
       "    <tr>\n",
       "      <th>4</th>\n",
       "      <td>I cuccioli sono carini.</td>\n",
       "    </tr>\n",
       "    <tr>\n",
       "      <th>5</th>\n",
       "      <td>Mi piace fare lunghe passeggiate lungo la spiaggia con il mio cane.</td>\n",
       "    </tr>\n",
       "    <tr>\n",
       "      <th>6</th>\n",
       "      <td>犬</td>\n",
       "    </tr>\n",
       "    <tr>\n",
       "      <th>7</th>\n",
       "      <td>子犬はいいです</td>\n",
       "    </tr>\n",
       "    <tr>\n",
       "      <th>8</th>\n",
       "      <td>私は犬と一緒にビーチを散歩するのが好きです</td>\n",
       "    </tr>\n",
       "    <tr>\n",
       "      <th>9</th>\n",
       "      <td>dog</td>\n",
       "    </tr>\n",
       "  </tbody>\n",
       "</table>\n",
       "</div>"
      ],
      "text/plain": [
       "                                                                  text\n",
       "0                                                                  dog\n",
       "1                                                    Puppies are nice.\n",
       "2               I enjoy taking long walks along the beach with my dog.\n",
       "3                                                                 cane\n",
       "4                                              I cuccioli sono carini.\n",
       "5  Mi piace fare lunghe passeggiate lungo la spiaggia con il mio cane.\n",
       "6                                                                    犬\n",
       "7                                                              子犬はいいです\n",
       "8                                                私は犬と一緒にビーチを散歩するのが好きです\n",
       "9                                                                  dog"
      ]
     },
     "execution_count": 25,
     "metadata": {},
     "output_type": "execute_result"
    }
   ],
   "source": [
    "df_test.head(10)"
   ]
  },
  {
   "cell_type": "markdown",
   "id": "e5d3b769",
   "metadata": {},
   "source": [
    "# Get embeddings in different ways\n",
    "\n",
    "After trying as a list, there's no reason to try other methods... it seems like `TF` is already optimized to run in parallel when reading a list and the bottleneck was using dataframes/pandas.\n",
    "\n",
    "Might need to split up whole text DF into chunks to prevent memory errors, but applying to list should be good to go -- it takes less than 2 seconds on 5,400 sentences(!).\n",
    "\n",
    "---\n",
    "### CPU only\n",
    "```\n",
    "# get model results as list & convert to pd.DataFrame:\n",
    "CPU times: user 1.21 s, sys: 285 ms, total: 1.49 s\n",
    "Wall time: 1.95 s\n",
    "\n",
    "CPU times: user 59.7 s, sys: 5.37 s, total: 1min 5s\n",
    "Wall time: 5.06 s\n",
    "\n",
    "\n",
    "# use pd.apply():\n",
    "CPU times: user 1min 34s, sys: 12.4 s, total: 1min 47s\n",
    "Wall time: 58.2 s\n",
    "```"
   ]
  },
  {
   "cell_type": "markdown",
   "id": "14004a10",
   "metadata": {},
   "source": [
    "## As a list\n",
    "The example gets embeddings on a list, maybe the model can parallelize that somehow better than a df?"
   ]
  },
  {
   "cell_type": "code",
   "execution_count": 26,
   "id": "ac9c7013",
   "metadata": {},
   "outputs": [
    {
     "name": "stdout",
     "output_type": "stream",
     "text": [
      "CPU times: user 1min 7s, sys: 6.18 s, total: 1min 13s\n",
      "Wall time: 5.94 s\n"
     ]
    }
   ],
   "source": [
    "%%time\n",
    "\n",
    "# model will return a list of tensors, if input is a list of text\n",
    "emb_list = model(df_test['text'].to_list())\n",
    "\n",
    "# So we can convert to np array using a list comprehension\n",
    "# And convert back to a df with a known index\n",
    "df_embeddings1 = pd.DataFrame(np.array([emb.numpy() for emb in emb_list]), \n",
    "                              index=df_test.index)"
   ]
  },
  {
   "cell_type": "code",
   "execution_count": 27,
   "id": "13696b30",
   "metadata": {},
   "outputs": [
    {
     "data": {
      "text/plain": [
       "(5400, 512)"
      ]
     },
     "execution_count": 27,
     "metadata": {},
     "output_type": "execute_result"
    }
   ],
   "source": [
    "df_embeddings1.shape"
   ]
  },
  {
   "cell_type": "markdown",
   "id": "005c5101",
   "metadata": {},
   "source": [
    "# As a batched list"
   ]
  },
  {
   "cell_type": "code",
   "execution_count": 30,
   "id": "2620cc71",
   "metadata": {},
   "outputs": [
    {
     "data": {
      "text/plain": [
       "5"
      ]
     },
     "execution_count": 30,
     "metadata": {},
     "output_type": "execute_result"
    }
   ],
   "source": [
    "tf_batch_inference_rows = 1000\n",
    "len(df_test)\n",
    "\n",
    "len(df_test) // tf_batch_inference_rows"
   ]
  },
  {
   "cell_type": "code",
   "execution_count": 45,
   "id": "7c43e031",
   "metadata": {},
   "outputs": [
    {
     "data": {
      "application/vnd.jupyter.widget-view+json": {
       "model_id": "8c45139e89e14747ad7af897da4c48c8",
       "version_major": 2,
       "version_minor": 0
      },
      "text/plain": [
       "  0%|          | 0/6 [00:00<?, ?it/s]"
      ]
     },
     "metadata": {},
     "output_type": "display_data"
    },
    {
     "name": "stdout",
     "output_type": "stream",
     "text": [
      "CPU times: user 59 s, sys: 2.65 s, total: 1min 1s\n",
      "Wall time: 4.81 s\n"
     ]
    }
   ],
   "source": [
    "%%time\n",
    "# prototype the process\n",
    "l_df_embeddings = list()\n",
    "\n",
    "for i in tqdm(range(1 + len(df_test) // tf_batch_inference_rows)):\n",
    "    slice_start = i * tf_batch_inference_rows\n",
    "    slice_end = (i + 1) * tf_batch_inference_rows\n",
    "    # print(slice_start, slice_end)\n",
    "    l_df_embeddings.append(\n",
    "        get_embeddings_as_df(\n",
    "            model=model,\n",
    "            df=df_test.iloc[slice_start:slice_end],\n",
    "            col_text='text',\n",
    "            lowercase_text=False,\n",
    "        )\n",
    "    )\n",
    "    \n",
    "df_embeddings2 = pd.concat(l_df_embeddings, axis=0, ignore_index=False)\n",
    "del l_df_embeddings"
   ]
  },
  {
   "cell_type": "markdown",
   "id": "617a3969",
   "metadata": {},
   "source": [
    "Added a new argument to function so batching is part of the function itself. Batching creates some overhead (by creating lists of dataframes).\n",
    "\n",
    "However, it should limit the active memory needed by only loading a part of the text at any moment. Using `tqdm` should also help to make it easier to see progress."
   ]
  },
  {
   "cell_type": "code",
   "execution_count": 113,
   "id": "f7c2a803",
   "metadata": {},
   "outputs": [
    {
     "name": "stdout",
     "output_type": "stream",
     "text": [
      "CPU times: user 59.3 s, sys: 6.03 s, total: 1min 5s\n",
      "Wall time: 5.05 s\n"
     ]
    }
   ],
   "source": [
    "%%time\n",
    "# add new argument to do the batching as part of the function itself\n",
    "\n",
    "df_embeddings3_ = get_embeddings_as_df(\n",
    "    model=model,\n",
    "    df=df_test,\n",
    "    col_text='text',\n",
    "    lowercase_text=False,\n",
    "    batch_size=None,\n",
    "    limit_first_n_chars=None,\n",
    ")"
   ]
  },
  {
   "cell_type": "code",
   "execution_count": 114,
   "id": "2884639a",
   "metadata": {},
   "outputs": [
    {
     "name": "stdout",
     "output_type": "stream",
     "text": [
      "CPU times: user 33.4 s, sys: 2.68 s, total: 36 s\n",
      "Wall time: 3.03 s\n"
     ]
    }
   ],
   "source": [
    "%%time\n",
    "\n",
    "df_embeddings3_ = get_embeddings_as_df(\n",
    "    model=model,\n",
    "    df=df_test,\n",
    "    col_text='text',\n",
    "    lowercase_text=False,\n",
    "    batch_size=None,\n",
    "    limit_first_n_chars=5,\n",
    ")"
   ]
  },
  {
   "cell_type": "code",
   "execution_count": null,
   "id": "38cf2074",
   "metadata": {},
   "outputs": [],
   "source": []
  },
  {
   "cell_type": "code",
   "execution_count": 65,
   "id": "66fbb73e",
   "metadata": {},
   "outputs": [
    {
     "name": "stdout",
     "output_type": "stream",
     "text": [
      "CPU times: user 58.5 s, sys: 5.16 s, total: 1min 3s\n",
      "Wall time: 4.93 s\n"
     ]
    }
   ],
   "source": [
    "%%time\n",
    "# add new argument to do the batching as part of the function itself\n",
    "\n",
    "df_embeddings3_ = get_embeddings_as_df(\n",
    "    model=model,\n",
    "    df=df_test,\n",
    "    col_text='text',\n",
    "    lowercase_text=False,\n",
    "    batch_size=5500,\n",
    ")"
   ]
  },
  {
   "cell_type": "code",
   "execution_count": 67,
   "id": "51de80ce",
   "metadata": {},
   "outputs": [
    {
     "name": "stderr",
     "output_type": "stream",
     "text": [
      "16:20:59 | INFO | \"Getting embeddings in batches of size: 2000\"\n"
     ]
    },
    {
     "data": {
      "application/vnd.jupyter.widget-view+json": {
       "model_id": "18094f32fe9a4501b2311270cf6eb53b",
       "version_major": 2,
       "version_minor": 0
      },
      "text/plain": [
       "  0%|          | 0/3 [00:00<?, ?it/s]"
      ]
     },
     "metadata": {},
     "output_type": "display_data"
    },
    {
     "name": "stdout",
     "output_type": "stream",
     "text": [
      "CPU times: user 1min, sys: 5.38 s, total: 1min 5s\n",
      "Wall time: 6.07 s\n"
     ]
    }
   ],
   "source": [
    "%%time\n",
    "# add new argument to do the batching as part of the function itself\n",
    "\n",
    "df_embeddings3_ = get_embeddings_as_df(\n",
    "    model=model,\n",
    "    df=df_test,\n",
    "    col_text='text',\n",
    "    lowercase_text=False,\n",
    "    batch_size=2000,\n",
    ")"
   ]
  },
  {
   "cell_type": "code",
   "execution_count": 64,
   "id": "e7b1ac8e",
   "metadata": {},
   "outputs": [
    {
     "name": "stderr",
     "output_type": "stream",
     "text": [
      "16:19:06 | INFO | \"Getting embeddings in batches of size: 2500\"\n"
     ]
    },
    {
     "data": {
      "application/vnd.jupyter.widget-view+json": {
       "model_id": "b874700b3f444f1887fa30d0c8a98517",
       "version_major": 2,
       "version_minor": 0
      },
      "text/plain": [
       "  0%|          | 0/3 [00:00<?, ?it/s]"
      ]
     },
     "metadata": {},
     "output_type": "display_data"
    },
    {
     "name": "stdout",
     "output_type": "stream",
     "text": [
      "CPU times: user 60 s, sys: 4.57 s, total: 1min 4s\n",
      "Wall time: 5.99 s\n"
     ]
    }
   ],
   "source": [
    "%%time\n",
    "# add new argument to do the batching as part of the function itself\n",
    "\n",
    "df_embeddings3_ = get_embeddings_as_df(\n",
    "    model=model,\n",
    "    df=df_test,\n",
    "    col_text='text',\n",
    "    lowercase_text=False,\n",
    "    batch_size=2500,\n",
    ")"
   ]
  },
  {
   "cell_type": "code",
   "execution_count": 60,
   "id": "06c0846c",
   "metadata": {},
   "outputs": [
    {
     "name": "stderr",
     "output_type": "stream",
     "text": [
      "16:06:57 | INFO | \"Getting embeddings in batches of size: 1000\"\n"
     ]
    },
    {
     "data": {
      "application/vnd.jupyter.widget-view+json": {
       "model_id": "e9fadff9420247f0b97c9b27e52c901d",
       "version_major": 2,
       "version_minor": 0
      },
      "text/plain": [
       "  0%|          | 0/6 [00:00<?, ?it/s]"
      ]
     },
     "metadata": {},
     "output_type": "display_data"
    },
    {
     "name": "stdout",
     "output_type": "stream",
     "text": [
      "CPU times: user 1min 2s, sys: 2.46 s, total: 1min 4s\n",
      "Wall time: 7.2 s\n"
     ]
    }
   ],
   "source": [
    "%%time\n",
    "# add new argument to do the batching as part of the function itself\n",
    "\n",
    "df_embeddings3 = get_embeddings_as_df(\n",
    "    model=model,\n",
    "    df=df_test,\n",
    "    col_text='text',\n",
    "    lowercase_text=False,\n",
    "    batch_size=tf_batch_inference_rows\n",
    ")"
   ]
  },
  {
   "cell_type": "markdown",
   "id": "48a51841",
   "metadata": {},
   "source": [
    "### Check that outputs are equal/similar (within tolerance limits)"
   ]
  },
  {
   "cell_type": "code",
   "execution_count": 49,
   "id": "cab8961d",
   "metadata": {},
   "outputs": [
    {
     "data": {
      "text/plain": [
       "True"
      ]
     },
     "execution_count": 49,
     "metadata": {},
     "output_type": "execute_result"
    }
   ],
   "source": [
    "# n_check = len(df_embeddings1)\n",
    "n_check = 5\n",
    "np.allclose(\n",
    "    df_embeddings1.head(n_check), \n",
    "    df_embeddings2.head(n_check), \n",
    "    rtol=1e-05,\n",
    ")"
   ]
  },
  {
   "cell_type": "code",
   "execution_count": 48,
   "id": "9bec2f05",
   "metadata": {},
   "outputs": [
    {
     "data": {
      "text/plain": [
       "True"
      ]
     },
     "execution_count": 48,
     "metadata": {},
     "output_type": "execute_result"
    }
   ],
   "source": [
    "# n_check = len(df_embeddings1)\n",
    "np.allclose(\n",
    "    df_embeddings1,\n",
    "    df_embeddings2,\n",
    "    rtol=1e-03,\n",
    ")"
   ]
  },
  {
   "cell_type": "code",
   "execution_count": 70,
   "id": "d8449454",
   "metadata": {},
   "outputs": [
    {
     "data": {
      "text/plain": [
       "True"
      ]
     },
     "execution_count": 70,
     "metadata": {},
     "output_type": "execute_result"
    }
   ],
   "source": [
    "# n_check = len(df_embeddings1)\n",
    "np.allclose(\n",
    "    df_embeddings2,\n",
    "    df_embeddings3,\n",
    "    rtol=1e-03,\n",
    ")"
   ]
  },
  {
   "cell_type": "code",
   "execution_count": 71,
   "id": "fa84d593",
   "metadata": {},
   "outputs": [
    {
     "data": {
      "text/plain": [
       "True"
      ]
     },
     "execution_count": 71,
     "metadata": {},
     "output_type": "execute_result"
    }
   ],
   "source": [
    "# n_check = len(df_embeddings1)\n",
    "np.allclose(\n",
    "    df_embeddings3,\n",
    "    df_embeddings3_,\n",
    "    rtol=1e-03,\n",
    ")"
   ]
  },
  {
   "cell_type": "markdown",
   "id": "fef675bc",
   "metadata": {},
   "source": [
    "# Pandas .apply()\n",
    "\n",
    "This appears to be serial and it's also a pain to get an array back out... not worth it."
   ]
  },
  {
   "cell_type": "code",
   "execution_count": 22,
   "id": "c0ce8ce8",
   "metadata": {},
   "outputs": [
    {
     "name": "stdout",
     "output_type": "stream",
     "text": [
      "CPU times: user 8min 9s, sys: 56.7 s, total: 9min 6s\n",
      "Wall time: 1min 42s\n"
     ]
    }
   ],
   "source": [
    "%%time\n",
    "\n",
    "s_output = df_test['text'].apply(model)"
   ]
  },
  {
   "cell_type": "code",
   "execution_count": 23,
   "id": "b984e8d3",
   "metadata": {},
   "outputs": [
    {
     "data": {
      "text/plain": [
       "(5400,)"
      ]
     },
     "execution_count": 23,
     "metadata": {},
     "output_type": "execute_result"
    }
   ],
   "source": [
    "s_output.shape"
   ]
  },
  {
   "cell_type": "code",
   "execution_count": 117,
   "id": "c95fc2a9",
   "metadata": {},
   "outputs": [],
   "source": [
    "# s_output.head()"
   ]
  },
  {
   "cell_type": "markdown",
   "id": "8c9c5b63",
   "metadata": {},
   "source": [
    "## Compare/check output from pd.apply v. run model on list\n",
    "\n",
    "The default tolerance of `rtol=1e-05` fails, so we need to move to `1e-04` or even `1e-02` for things to be equal.\n",
    "\n",
    "---\n",
    "\n",
    "Unclear why we might need to move it up to `1e-02` for all to be equal... am I sure things are in the same order? Might be better to use absolute tolerance instead of relative?"
   ]
  },
  {
   "cell_type": "code",
   "execution_count": 66,
   "id": "aed48ef3",
   "metadata": {},
   "outputs": [
    {
     "data": {
      "text/plain": [
       "True"
      ]
     },
     "execution_count": 66,
     "metadata": {},
     "output_type": "execute_result"
    }
   ],
   "source": [
    "# n_check = len(df_embeddings1)\n",
    "n_check = 5\n",
    "np.allclose(\n",
    "    df_embeddings1.head(n_check), \n",
    "    np.array(s_output.head(n_check).apply(lambda x: x.numpy()[0]).to_list()),\n",
    "    rtol=1e-02,\n",
    ")"
   ]
  },
  {
   "cell_type": "code",
   "execution_count": 96,
   "id": "de1a5aaf",
   "metadata": {},
   "outputs": [],
   "source": [
    "# df_embeddings1.head(n_check)"
   ]
  },
  {
   "cell_type": "code",
   "execution_count": 97,
   "id": "e4512ca9",
   "metadata": {},
   "outputs": [],
   "source": [
    "# pd.DataFrame(s_output.head(n_check).apply(lambda x: x.numpy()[0]).to_list())"
   ]
  },
  {
   "cell_type": "code",
   "execution_count": 98,
   "id": "7f295433",
   "metadata": {},
   "outputs": [],
   "source": [
    "# df_embeddings1.tail(n_check)"
   ]
  },
  {
   "cell_type": "code",
   "execution_count": 99,
   "id": "38990e9c",
   "metadata": {},
   "outputs": [],
   "source": [
    "# pd.DataFrame(s_output.tail(n_check).apply(lambda x: x.numpy()[0]).to_list())"
   ]
  },
  {
   "cell_type": "code",
   "execution_count": 73,
   "id": "1f9ff932",
   "metadata": {},
   "outputs": [
    {
     "data": {
      "text/plain": [
       "False"
      ]
     },
     "execution_count": 73,
     "metadata": {},
     "output_type": "execute_result"
    }
   ],
   "source": [
    "n_check_small = 5\n",
    "np.allclose(\n",
    "    df_embeddings1.head(n_check_small),\n",
    "    pd.DataFrame(s_output.head(n_check_small).apply(lambda x: x.numpy()[0]).to_list()),\n",
    "    rtol=1e-04,\n",
    ")"
   ]
  },
  {
   "cell_type": "code",
   "execution_count": 61,
   "id": "4acc8474",
   "metadata": {},
   "outputs": [
    {
     "data": {
      "text/html": [
       "<div>\n",
       "<style scoped>\n",
       "    .dataframe tbody tr th:only-of-type {\n",
       "        vertical-align: middle;\n",
       "    }\n",
       "\n",
       "    .dataframe tbody tr th {\n",
       "        vertical-align: top;\n",
       "    }\n",
       "\n",
       "    .dataframe thead th {\n",
       "        text-align: right;\n",
       "    }\n",
       "</style>\n",
       "<table border=\"1\" class=\"dataframe\">\n",
       "  <thead>\n",
       "    <tr style=\"text-align: right;\">\n",
       "      <th></th>\n",
       "      <th>0</th>\n",
       "      <th>1</th>\n",
       "      <th>2</th>\n",
       "      <th>3</th>\n",
       "      <th>4</th>\n",
       "      <th>5</th>\n",
       "      <th>6</th>\n",
       "      <th>7</th>\n",
       "      <th>8</th>\n",
       "      <th>9</th>\n",
       "      <th>10</th>\n",
       "      <th>11</th>\n",
       "      <th>12</th>\n",
       "      <th>13</th>\n",
       "      <th>14</th>\n",
       "      <th>15</th>\n",
       "      <th>16</th>\n",
       "      <th>17</th>\n",
       "      <th>18</th>\n",
       "      <th>19</th>\n",
       "      <th>20</th>\n",
       "      <th>21</th>\n",
       "      <th>22</th>\n",
       "      <th>23</th>\n",
       "      <th>24</th>\n",
       "      <th>25</th>\n",
       "      <th>26</th>\n",
       "      <th>27</th>\n",
       "      <th>28</th>\n",
       "      <th>29</th>\n",
       "      <th>...</th>\n",
       "      <th>482</th>\n",
       "      <th>483</th>\n",
       "      <th>484</th>\n",
       "      <th>485</th>\n",
       "      <th>486</th>\n",
       "      <th>487</th>\n",
       "      <th>488</th>\n",
       "      <th>489</th>\n",
       "      <th>490</th>\n",
       "      <th>491</th>\n",
       "      <th>492</th>\n",
       "      <th>493</th>\n",
       "      <th>494</th>\n",
       "      <th>495</th>\n",
       "      <th>496</th>\n",
       "      <th>497</th>\n",
       "      <th>498</th>\n",
       "      <th>499</th>\n",
       "      <th>500</th>\n",
       "      <th>501</th>\n",
       "      <th>502</th>\n",
       "      <th>503</th>\n",
       "      <th>504</th>\n",
       "      <th>505</th>\n",
       "      <th>506</th>\n",
       "      <th>507</th>\n",
       "      <th>508</th>\n",
       "      <th>509</th>\n",
       "      <th>510</th>\n",
       "      <th>511</th>\n",
       "    </tr>\n",
       "  </thead>\n",
       "  <tbody>\n",
       "    <tr>\n",
       "      <th>0</th>\n",
       "      <td>False</td>\n",
       "      <td>False</td>\n",
       "      <td>False</td>\n",
       "      <td>False</td>\n",
       "      <td>False</td>\n",
       "      <td>False</td>\n",
       "      <td>False</td>\n",
       "      <td>False</td>\n",
       "      <td>False</td>\n",
       "      <td>False</td>\n",
       "      <td>False</td>\n",
       "      <td>False</td>\n",
       "      <td>False</td>\n",
       "      <td>False</td>\n",
       "      <td>False</td>\n",
       "      <td>False</td>\n",
       "      <td>False</td>\n",
       "      <td>False</td>\n",
       "      <td>False</td>\n",
       "      <td>False</td>\n",
       "      <td>False</td>\n",
       "      <td>False</td>\n",
       "      <td>False</td>\n",
       "      <td>False</td>\n",
       "      <td>False</td>\n",
       "      <td>False</td>\n",
       "      <td>False</td>\n",
       "      <td>False</td>\n",
       "      <td>False</td>\n",
       "      <td>False</td>\n",
       "      <td>...</td>\n",
       "      <td>False</td>\n",
       "      <td>False</td>\n",
       "      <td>False</td>\n",
       "      <td>False</td>\n",
       "      <td>False</td>\n",
       "      <td>False</td>\n",
       "      <td>False</td>\n",
       "      <td>False</td>\n",
       "      <td>False</td>\n",
       "      <td>False</td>\n",
       "      <td>False</td>\n",
       "      <td>False</td>\n",
       "      <td>False</td>\n",
       "      <td>False</td>\n",
       "      <td>False</td>\n",
       "      <td>False</td>\n",
       "      <td>False</td>\n",
       "      <td>False</td>\n",
       "      <td>False</td>\n",
       "      <td>False</td>\n",
       "      <td>False</td>\n",
       "      <td>False</td>\n",
       "      <td>False</td>\n",
       "      <td>False</td>\n",
       "      <td>False</td>\n",
       "      <td>False</td>\n",
       "      <td>False</td>\n",
       "      <td>False</td>\n",
       "      <td>False</td>\n",
       "      <td>False</td>\n",
       "    </tr>\n",
       "  </tbody>\n",
       "</table>\n",
       "<p>1 rows × 512 columns</p>\n",
       "</div>"
      ],
      "text/plain": [
       "     0      1      2      3      4      5      6      7      8      9      10     11     12     13     14     15     16     17     18     19     20     21     22     23     24     25     26     27     28     29   ...    482    483    484    485    486    487    488    489    490    491    492  \\\n",
       "0  False  False  False  False  False  False  False  False  False  False  False  False  False  False  False  False  False  False  False  False  False  False  False  False  False  False  False  False  False  False  ...  False  False  False  False  False  False  False  False  False  False  False   \n",
       "\n",
       "     493    494    495    496    497    498    499    500    501    502    503    504    505    506    507    508    509    510    511  \n",
       "0  False  False  False  False  False  False  False  False  False  False  False  False  False  False  False  False  False  False  False  \n",
       "\n",
       "[1 rows x 512 columns]"
      ]
     },
     "execution_count": 61,
     "metadata": {},
     "output_type": "execute_result"
    }
   ],
   "source": [
    "np.equal(\n",
    "    df_embeddings1.head(1),\n",
    "    pd.DataFrame(s_output.head(1).apply(lambda x: x.numpy()[0]).to_list())\n",
    ")"
   ]
  },
  {
   "cell_type": "code",
   "execution_count": 80,
   "id": "e566d3c7",
   "metadata": {},
   "outputs": [
    {
     "data": {
      "text/html": [
       "<div>\n",
       "<style scoped>\n",
       "    .dataframe tbody tr th:only-of-type {\n",
       "        vertical-align: middle;\n",
       "    }\n",
       "\n",
       "    .dataframe tbody tr th {\n",
       "        vertical-align: top;\n",
       "    }\n",
       "\n",
       "    .dataframe thead th {\n",
       "        text-align: right;\n",
       "    }\n",
       "</style>\n",
       "<table border=\"1\" class=\"dataframe\">\n",
       "  <thead>\n",
       "    <tr style=\"text-align: right;\">\n",
       "      <th></th>\n",
       "      <th>0</th>\n",
       "      <th>1</th>\n",
       "      <th>2</th>\n",
       "      <th>3</th>\n",
       "      <th>4</th>\n",
       "      <th>5</th>\n",
       "      <th>6</th>\n",
       "      <th>7</th>\n",
       "      <th>8</th>\n",
       "      <th>9</th>\n",
       "      <th>10</th>\n",
       "      <th>11</th>\n",
       "      <th>12</th>\n",
       "      <th>13</th>\n",
       "      <th>14</th>\n",
       "      <th>15</th>\n",
       "      <th>16</th>\n",
       "      <th>17</th>\n",
       "      <th>18</th>\n",
       "      <th>19</th>\n",
       "      <th>20</th>\n",
       "      <th>21</th>\n",
       "      <th>22</th>\n",
       "      <th>23</th>\n",
       "      <th>24</th>\n",
       "      <th>25</th>\n",
       "      <th>26</th>\n",
       "      <th>27</th>\n",
       "      <th>28</th>\n",
       "      <th>29</th>\n",
       "      <th>...</th>\n",
       "      <th>482</th>\n",
       "      <th>483</th>\n",
       "      <th>484</th>\n",
       "      <th>485</th>\n",
       "      <th>486</th>\n",
       "      <th>487</th>\n",
       "      <th>488</th>\n",
       "      <th>489</th>\n",
       "      <th>490</th>\n",
       "      <th>491</th>\n",
       "      <th>492</th>\n",
       "      <th>493</th>\n",
       "      <th>494</th>\n",
       "      <th>495</th>\n",
       "      <th>496</th>\n",
       "      <th>497</th>\n",
       "      <th>498</th>\n",
       "      <th>499</th>\n",
       "      <th>500</th>\n",
       "      <th>501</th>\n",
       "      <th>502</th>\n",
       "      <th>503</th>\n",
       "      <th>504</th>\n",
       "      <th>505</th>\n",
       "      <th>506</th>\n",
       "      <th>507</th>\n",
       "      <th>508</th>\n",
       "      <th>509</th>\n",
       "      <th>510</th>\n",
       "      <th>511</th>\n",
       "    </tr>\n",
       "  </thead>\n",
       "  <tbody>\n",
       "    <tr>\n",
       "      <th>0</th>\n",
       "      <td>False</td>\n",
       "      <td>False</td>\n",
       "      <td>False</td>\n",
       "      <td>False</td>\n",
       "      <td>False</td>\n",
       "      <td>False</td>\n",
       "      <td>False</td>\n",
       "      <td>False</td>\n",
       "      <td>False</td>\n",
       "      <td>False</td>\n",
       "      <td>False</td>\n",
       "      <td>False</td>\n",
       "      <td>False</td>\n",
       "      <td>False</td>\n",
       "      <td>False</td>\n",
       "      <td>False</td>\n",
       "      <td>False</td>\n",
       "      <td>False</td>\n",
       "      <td>False</td>\n",
       "      <td>False</td>\n",
       "      <td>False</td>\n",
       "      <td>False</td>\n",
       "      <td>False</td>\n",
       "      <td>False</td>\n",
       "      <td>False</td>\n",
       "      <td>False</td>\n",
       "      <td>False</td>\n",
       "      <td>False</td>\n",
       "      <td>False</td>\n",
       "      <td>False</td>\n",
       "      <td>...</td>\n",
       "      <td>False</td>\n",
       "      <td>False</td>\n",
       "      <td>False</td>\n",
       "      <td>False</td>\n",
       "      <td>False</td>\n",
       "      <td>False</td>\n",
       "      <td>False</td>\n",
       "      <td>False</td>\n",
       "      <td>False</td>\n",
       "      <td>False</td>\n",
       "      <td>False</td>\n",
       "      <td>False</td>\n",
       "      <td>False</td>\n",
       "      <td>False</td>\n",
       "      <td>False</td>\n",
       "      <td>False</td>\n",
       "      <td>False</td>\n",
       "      <td>False</td>\n",
       "      <td>False</td>\n",
       "      <td>False</td>\n",
       "      <td>False</td>\n",
       "      <td>False</td>\n",
       "      <td>False</td>\n",
       "      <td>False</td>\n",
       "      <td>False</td>\n",
       "      <td>False</td>\n",
       "      <td>False</td>\n",
       "      <td>False</td>\n",
       "      <td>False</td>\n",
       "      <td>False</td>\n",
       "    </tr>\n",
       "  </tbody>\n",
       "</table>\n",
       "<p>1 rows × 512 columns</p>\n",
       "</div>"
      ],
      "text/plain": [
       "     0      1      2      3      4      5      6      7      8      9      10     11     12     13     14     15     16     17     18     19     20     21     22     23     24     25     26     27     28     29   ...    482    483    484    485    486    487    488    489    490    491    492  \\\n",
       "0  False  False  False  False  False  False  False  False  False  False  False  False  False  False  False  False  False  False  False  False  False  False  False  False  False  False  False  False  False  False  ...  False  False  False  False  False  False  False  False  False  False  False   \n",
       "\n",
       "     493    494    495    496    497    498    499    500    501    502    503    504    505    506    507    508    509    510    511  \n",
       "0  False  False  False  False  False  False  False  False  False  False  False  False  False  False  False  False  False  False  False  \n",
       "\n",
       "[1 rows x 512 columns]"
      ]
     },
     "execution_count": 80,
     "metadata": {},
     "output_type": "execute_result"
    }
   ],
   "source": [
    "np.equal(\n",
    "    df_embeddings1.head(1),\n",
    "    model(df_test.head(1)).numpy()\n",
    ")"
   ]
  },
  {
   "cell_type": "markdown",
   "id": "57a77873",
   "metadata": {},
   "source": [
    "### Equality fails even on the same input\n",
    "Looks like the output is not deterministic"
   ]
  },
  {
   "cell_type": "code",
   "execution_count": 87,
   "id": "5d213b00",
   "metadata": {},
   "outputs": [
    {
     "data": {
      "text/plain": [
       "array([[False, False, False, False,  True,  True,  True,  True, False,\n",
       "         True]])"
      ]
     },
     "execution_count": 87,
     "metadata": {},
     "output_type": "execute_result"
    }
   ],
   "source": [
    "np.equal(\n",
    "    model(df_test.head(1)).numpy()[:, :10],\n",
    "    model(df_test.head(1)).numpy()[:, :10],\n",
    ")"
   ]
  },
  {
   "cell_type": "code",
   "execution_count": 90,
   "id": "4555573f",
   "metadata": {},
   "outputs": [
    {
     "data": {
      "text/plain": [
       "False"
      ]
     },
     "execution_count": 90,
     "metadata": {},
     "output_type": "execute_result"
    }
   ],
   "source": [
    "np.allclose(\n",
    "    model(df_test.head(10)).numpy(),\n",
    "    model(df_test.head(10)).numpy(),\n",
    ")"
   ]
  },
  {
   "cell_type": "code",
   "execution_count": 91,
   "id": "37e5e1f1",
   "metadata": {},
   "outputs": [
    {
     "data": {
      "text/plain": [
       "True"
      ]
     },
     "execution_count": 91,
     "metadata": {},
     "output_type": "execute_result"
    }
   ],
   "source": [
    "np.allclose(\n",
    "    model(df_test.head(10)).numpy(),\n",
    "    model(df_test.head(10)).numpy(),\n",
    "    rtol=1e-04,\n",
    ")"
   ]
  },
  {
   "cell_type": "code",
   "execution_count": 93,
   "id": "8935d4df",
   "metadata": {},
   "outputs": [
    {
     "name": "stdout",
     "output_type": "stream",
     "text": [
      "CPU times: user 488 ms, sys: 77.4 ms, total: 566 ms\n",
      "Wall time: 2.12 s\n"
     ]
    },
    {
     "data": {
      "text/plain": [
       "False"
      ]
     },
     "execution_count": 93,
     "metadata": {},
     "output_type": "execute_result"
    }
   ],
   "source": [
    "%%time\n",
    "\n",
    "np.allclose(\n",
    "    model(df_test).numpy(),\n",
    "    model(df_test).numpy(),\n",
    "    rtol=1e-04,\n",
    ")"
   ]
  },
  {
   "cell_type": "code",
   "execution_count": 94,
   "id": "6e8c8263",
   "metadata": {},
   "outputs": [
    {
     "name": "stdout",
     "output_type": "stream",
     "text": [
      "CPU times: user 470 ms, sys: 117 ms, total: 587 ms\n",
      "Wall time: 2.15 s\n"
     ]
    },
    {
     "data": {
      "text/plain": [
       "True"
      ]
     },
     "execution_count": 94,
     "metadata": {},
     "output_type": "execute_result"
    }
   ],
   "source": [
    "%%time\n",
    "\n",
    "np.allclose(\n",
    "    model(df_test).numpy(),\n",
    "    model(df_test).numpy(),\n",
    "    rtol=1e-03,\n",
    ")"
   ]
  },
  {
   "cell_type": "code",
   "execution_count": 95,
   "id": "11b33bb5",
   "metadata": {},
   "outputs": [
    {
     "name": "stdout",
     "output_type": "stream",
     "text": [
      "CPU times: user 502 ms, sys: 69.2 ms, total: 571 ms\n",
      "Wall time: 2.14 s\n"
     ]
    },
    {
     "data": {
      "text/plain": [
       "True"
      ]
     },
     "execution_count": 95,
     "metadata": {},
     "output_type": "execute_result"
    }
   ],
   "source": [
    "%%time\n",
    "\n",
    "np.allclose(\n",
    "    model(df_test).numpy(),\n",
    "    model(df_test).numpy(),\n",
    "    rtol=1e-03,\n",
    ")"
   ]
  },
  {
   "cell_type": "markdown",
   "id": "e0f874c6",
   "metadata": {},
   "source": [
    "# Test checks on slicing strings"
   ]
  },
  {
   "cell_type": "code",
   "execution_count": 109,
   "id": "103577ba",
   "metadata": {},
   "outputs": [
    {
     "data": {
      "text/plain": [
       "0                                                                       dog\n",
       "1                                                         Puppies are nice.\n",
       "2                    I enjoy taking long walks along the beach with my dog.\n",
       "3                                                                      cane\n",
       "4                                                   I cuccioli sono carini.\n",
       "                                       ...                                 \n",
       "5395                                                I cuccioli sono carini.\n",
       "5396    Mi piace fare lunghe passeggiate lungo la spiaggia con il mio cane.\n",
       "5397                                                                      犬\n",
       "5398                                                                子犬はいいです\n",
       "5399                                                  私は犬と一緒にビーチを散歩するのが好きです\n",
       "Name: text, Length: 5400, dtype: object"
      ]
     },
     "execution_count": 109,
     "metadata": {},
     "output_type": "execute_result"
    }
   ],
   "source": [
    "df_test['text'].str[:None]"
   ]
  },
  {
   "cell_type": "code",
   "execution_count": 110,
   "id": "5f723f05",
   "metadata": {},
   "outputs": [
    {
     "data": {
      "text/plain": [
       "0        dog\n",
       "1       Pupp\n",
       "2       I en\n",
       "3       cane\n",
       "4       I cu\n",
       "        ... \n",
       "5395    I cu\n",
       "5396    Mi p\n",
       "5397       犬\n",
       "5398    子犬はい\n",
       "5399    私は犬と\n",
       "Name: text, Length: 5400, dtype: object"
      ]
     },
     "execution_count": 110,
     "metadata": {},
     "output_type": "execute_result"
    }
   ],
   "source": [
    "df_test['text'].str[:4]"
   ]
  },
  {
   "cell_type": "code",
   "execution_count": 111,
   "id": "c9477c08",
   "metadata": {},
   "outputs": [
    {
     "data": {
      "text/plain": [
       "0                  dog\n",
       "1       Puppies are ni\n",
       "2       I enjoy taking\n",
       "3                 cane\n",
       "4       I cuccioli son\n",
       "             ...      \n",
       "5395    I cuccioli son\n",
       "5396    Mi piace fare \n",
       "5397                 犬\n",
       "5398           子犬はいいです\n",
       "5399    私は犬と一緒にビーチを散歩す\n",
       "Name: text, Length: 5400, dtype: object"
      ]
     },
     "execution_count": 111,
     "metadata": {},
     "output_type": "execute_result"
    }
   ],
   "source": [
    "df_test['text'].str[:14]"
   ]
  },
  {
   "cell_type": "markdown",
   "id": "40a99e91",
   "metadata": {},
   "source": [
    "# Test limiting string length\n",
    "USE will run out of memory with really long text.\n",
    "\n",
    "\n",
    "So maybe let's cap things at around `7,000` characters because we'll start seeing diminishing returns and we don't want a batch held up by one long post/comment. 7k limit should keep inference for each post at less than 1 second.\n",
    "\n",
    "Rough time checks:\n",
    "- 770 characters ->  `0.0224 seconds`\n",
    "- 7.7k characters -> `0.860 seconds`\n",
    "- ~15k characters -> `1.55 seconds`\n",
    "- ~76k characters -> `22 seconds`\n",
    "- ~153k characters -> `1 min 44 seconds`\n",
    "- ~200k characters -> `OOM` errors (out of memory)\n",
    "\n",
    "\n",
    "```\n",
    "---------------------------------------------------------------------------\n",
    "ResourceExhaustedError                    Traceback (most recent call last)\n",
    "<timed exec> in <module>\n",
    "\n",
    "ResourceExhaustedError:  OOM when allocating tensor with shape[1,8,190002,190002] and type float on /job:localhost/replica:0/task:0/device:CPU:0 by allocator cpu\n",
    "\t [[{{node StatefulPartitionedCall/StatefulPartitionedCall/EncoderTransformer/Transformer/SparseTransformerEncode/Layer_0/SelfAttention/SparseMultiheadAttention/DotProductAttention/MatMul}}]]\n",
    "Hint: If you want to see a list of allocated tensors when OOM happens, add report_tensor_allocations_upon_oom to RunOptions for current allocation info.\n",
    " [Op:__inference_restored_function_body_51014]\n",
    "\n",
    "Function call stack:\n",
    "restored_function_body\n",
    "\n",
    "```\n"
   ]
  },
  {
   "cell_type": "code",
   "execution_count": 74,
   "id": "0df7aaf7",
   "metadata": {},
   "outputs": [
    {
     "data": {
      "text/plain": [
       "76"
      ]
     },
     "execution_count": 74,
     "metadata": {},
     "output_type": "execute_result"
    }
   ],
   "source": [
    "len(' '.join(english_sentences))"
   ]
  },
  {
   "cell_type": "code",
   "execution_count": 107,
   "id": "a4414285",
   "metadata": {},
   "outputs": [
    {
     "name": "stdout",
     "output_type": "stream",
     "text": [
      "    10 ->     769\n",
      "   100 ->   7,699\n",
      "   200 ->  15,399\n",
      "   650 ->  50,049\n",
      " 1,000 ->  76,999\n",
      " 1,500 -> 115,499\n",
      " 2,000 -> 153,999\n",
      " 3,000 -> 230,999\n",
      " 5,000 -> 384,999\n"
     ]
    }
   ],
   "source": [
    "len_check = [10, 100, 200, 650, 1000, 1500, 2000, 3000, 5000]\n",
    "\n",
    "for i in len_check:\n",
    "    print(f\"{i:6,.0f} -> {len(' '.join(english_sentences * i)):7,.0f}\")"
   ]
  },
  {
   "cell_type": "code",
   "execution_count": 76,
   "id": "5f6dba81",
   "metadata": {},
   "outputs": [
    {
     "name": "stdout",
     "output_type": "stream",
     "text": [
      "CPU times: user 110 ms, sys: 20.1 ms, total: 130 ms\n",
      "Wall time: 22.4 ms\n"
     ]
    }
   ],
   "source": [
    "%%time\n",
    "_ = model(' '.join(english_sentences))"
   ]
  },
  {
   "cell_type": "code",
   "execution_count": 78,
   "id": "14f1a8dd",
   "metadata": {},
   "outputs": [
    {
     "name": "stdout",
     "output_type": "stream",
     "text": [
      "CPU times: user 357 ms, sys: 34.3 ms, total: 392 ms\n",
      "Wall time: 55.1 ms\n"
     ]
    }
   ],
   "source": [
    "%%time\n",
    "_ = model(' '.join(english_sentences * 10))"
   ]
  },
  {
   "cell_type": "code",
   "execution_count": 79,
   "id": "910808f4",
   "metadata": {},
   "outputs": [
    {
     "name": "stdout",
     "output_type": "stream",
     "text": [
      "CPU times: user 10.3 s, sys: 979 ms, total: 11.3 s\n",
      "Wall time: 860 ms\n"
     ]
    }
   ],
   "source": [
    "%%time\n",
    "_ = model(' '.join(english_sentences * 100))"
   ]
  },
  {
   "cell_type": "code",
   "execution_count": 104,
   "id": "a5cf9960",
   "metadata": {},
   "outputs": [
    {
     "name": "stdout",
     "output_type": "stream",
     "text": [
      "CPU times: user 18.5 s, sys: 1.44 s, total: 20 s\n",
      "Wall time: 1.55 s\n"
     ]
    }
   ],
   "source": [
    "%%time\n",
    "_ = model(' '.join(english_sentences * 200))"
   ]
  },
  {
   "cell_type": "code",
   "execution_count": 103,
   "id": "d727a7c2",
   "metadata": {},
   "outputs": [
    {
     "name": "stdout",
     "output_type": "stream",
     "text": [
      "CPU times: user 2min 16s, sys: 10.5 s, total: 2min 27s\n",
      "Wall time: 11.3 s\n"
     ]
    }
   ],
   "source": [
    "%%time\n",
    "_ = model(' '.join(english_sentences * 650))"
   ]
  },
  {
   "cell_type": "code",
   "execution_count": 80,
   "id": "a0c8948d",
   "metadata": {},
   "outputs": [
    {
     "name": "stdout",
     "output_type": "stream",
     "text": [
      "CPU times: user 4min 48s, sys: 23.6 s, total: 5min 12s\n",
      "Wall time: 22.8 s\n"
     ]
    }
   ],
   "source": [
    "%%time\n",
    "_ = model(' '.join(english_sentences * 1000))"
   ]
  },
  {
   "cell_type": "code",
   "execution_count": 95,
   "id": "4c0c7d29",
   "metadata": {},
   "outputs": [
    {
     "name": "stdout",
     "output_type": "stream",
     "text": [
      "CPU times: user 22min 21s, sys: 1min 43s, total: 24min 5s\n",
      "Wall time: 1min 44s\n"
     ]
    }
   ],
   "source": [
    "%%time\n",
    "_ = model(' '.join(english_sentences * 2000))"
   ]
  },
  {
   "cell_type": "code",
   "execution_count": 116,
   "id": "d21b8eb9",
   "metadata": {},
   "outputs": [],
   "source": [
    "# %%time\n",
    "# # This is expected to fail\n",
    "# _ = model(' '.join(english_sentences * 5000))"
   ]
  },
  {
   "cell_type": "code",
   "execution_count": null,
   "id": "dbae6bc2",
   "metadata": {},
   "outputs": [],
   "source": []
  },
  {
   "cell_type": "code",
   "execution_count": null,
   "id": "479b9a42",
   "metadata": {},
   "outputs": [],
   "source": []
  },
  {
   "cell_type": "code",
   "execution_count": null,
   "id": "f63f1b1e",
   "metadata": {},
   "outputs": [],
   "source": []
  },
  {
   "cell_type": "code",
   "execution_count": null,
   "id": "9554cbc3",
   "metadata": {},
   "outputs": [],
   "source": [
    "LEGACY"
   ]
  },
  {
   "cell_type": "markdown",
   "id": "031b6688",
   "metadata": {},
   "source": [
    "### Try in parallel"
   ]
  },
  {
   "cell_type": "code",
   "execution_count": 17,
   "id": "944d3963",
   "metadata": {},
   "outputs": [],
   "source": [
    "import dask.dataframe as dd"
   ]
  },
  {
   "cell_type": "code",
   "execution_count": 18,
   "id": "7d28ec62",
   "metadata": {},
   "outputs": [],
   "source": [
    "ddf_text = dd.from_pandas(df_test, npartitions=6)"
   ]
  },
  {
   "cell_type": "code",
   "execution_count": 19,
   "id": "875c2782",
   "metadata": {},
   "outputs": [
    {
     "data": {
      "text/html": [
       "<div>\n",
       "<style scoped>\n",
       "    .dataframe tbody tr th:only-of-type {\n",
       "        vertical-align: middle;\n",
       "    }\n",
       "\n",
       "    .dataframe tbody tr th {\n",
       "        vertical-align: top;\n",
       "    }\n",
       "\n",
       "    .dataframe thead th {\n",
       "        text-align: right;\n",
       "    }\n",
       "</style>\n",
       "<table border=\"1\" class=\"dataframe\">\n",
       "  <thead>\n",
       "    <tr style=\"text-align: right;\">\n",
       "      <th></th>\n",
       "      <th>text</th>\n",
       "    </tr>\n",
       "  </thead>\n",
       "  <tbody>\n",
       "    <tr>\n",
       "      <th>0</th>\n",
       "      <td>dog</td>\n",
       "    </tr>\n",
       "    <tr>\n",
       "      <th>1</th>\n",
       "      <td>Puppies are nice.</td>\n",
       "    </tr>\n",
       "    <tr>\n",
       "      <th>2</th>\n",
       "      <td>I enjoy taking long walks along the beach with my dog.</td>\n",
       "    </tr>\n",
       "    <tr>\n",
       "      <th>3</th>\n",
       "      <td>dog</td>\n",
       "    </tr>\n",
       "    <tr>\n",
       "      <th>4</th>\n",
       "      <td>Puppies are nice.</td>\n",
       "    </tr>\n",
       "  </tbody>\n",
       "</table>\n",
       "</div>"
      ],
      "text/plain": [
       "                                                     text\n",
       "0                                                     dog\n",
       "1                                       Puppies are nice.\n",
       "2  I enjoy taking long walks along the beach with my dog.\n",
       "3                                                     dog\n",
       "4                                       Puppies are nice."
      ]
     },
     "execution_count": 19,
     "metadata": {},
     "output_type": "execute_result"
    }
   ],
   "source": [
    "ddf_text.head()"
   ]
  },
  {
   "cell_type": "code",
   "execution_count": 20,
   "id": "fb351dc3",
   "metadata": {},
   "outputs": [
    {
     "data": {
      "text/html": [
       "<div>\n",
       "<style scoped>\n",
       "    .dataframe tbody tr th:only-of-type {\n",
       "        vertical-align: middle;\n",
       "    }\n",
       "\n",
       "    .dataframe tbody tr th {\n",
       "        vertical-align: top;\n",
       "    }\n",
       "\n",
       "    .dataframe thead th {\n",
       "        text-align: right;\n",
       "    }\n",
       "</style>\n",
       "<table border=\"1\" class=\"dataframe\">\n",
       "  <thead>\n",
       "    <tr style=\"text-align: right;\">\n",
       "      <th></th>\n",
       "      <th>text</th>\n",
       "    </tr>\n",
       "  </thead>\n",
       "  <tbody>\n",
       "    <tr>\n",
       "      <th>5990</th>\n",
       "      <td>I enjoy taking long walks along the beach with my dog.</td>\n",
       "    </tr>\n",
       "    <tr>\n",
       "      <th>5991</th>\n",
       "      <td>dog</td>\n",
       "    </tr>\n",
       "    <tr>\n",
       "      <th>5992</th>\n",
       "      <td>Puppies are nice.</td>\n",
       "    </tr>\n",
       "    <tr>\n",
       "      <th>5993</th>\n",
       "      <td>I enjoy taking long walks along the beach with my dog.</td>\n",
       "    </tr>\n",
       "    <tr>\n",
       "      <th>5994</th>\n",
       "      <td>dog</td>\n",
       "    </tr>\n",
       "    <tr>\n",
       "      <th>5995</th>\n",
       "      <td>Puppies are nice.</td>\n",
       "    </tr>\n",
       "    <tr>\n",
       "      <th>5996</th>\n",
       "      <td>I enjoy taking long walks along the beach with my dog.</td>\n",
       "    </tr>\n",
       "    <tr>\n",
       "      <th>5997</th>\n",
       "      <td>dog</td>\n",
       "    </tr>\n",
       "    <tr>\n",
       "      <th>5998</th>\n",
       "      <td>Puppies are nice.</td>\n",
       "    </tr>\n",
       "    <tr>\n",
       "      <th>5999</th>\n",
       "      <td>I enjoy taking long walks along the beach with my dog.</td>\n",
       "    </tr>\n",
       "  </tbody>\n",
       "</table>\n",
       "</div>"
      ],
      "text/plain": [
       "                                                        text\n",
       "5990  I enjoy taking long walks along the beach with my dog.\n",
       "5991                                                     dog\n",
       "5992                                       Puppies are nice.\n",
       "5993  I enjoy taking long walks along the beach with my dog.\n",
       "5994                                                     dog\n",
       "5995                                       Puppies are nice.\n",
       "5996  I enjoy taking long walks along the beach with my dog.\n",
       "5997                                                     dog\n",
       "5998                                       Puppies are nice.\n",
       "5999  I enjoy taking long walks along the beach with my dog."
      ]
     },
     "execution_count": 20,
     "metadata": {},
     "output_type": "execute_result"
    }
   ],
   "source": [
    "ddf_text[['text']].tail(10)"
   ]
  },
  {
   "cell_type": "markdown",
   "id": "e42095ce",
   "metadata": {},
   "source": [
    "## Define functions to get numpy array"
   ]
  },
  {
   "cell_type": "code",
   "execution_count": 21,
   "id": "a745ed45",
   "metadata": {},
   "outputs": [],
   "source": [
    "def get_embeddings_as_numpy_df(\n",
    "    df: pd.DataFrame,\n",
    "    text_col: str = 'text',\n",
    "    model_fxn: callable = model,\n",
    "    apply_fxn: str = 'apply',\n",
    ") -> pd.Series:\n",
    "    \"\"\"Apply fxn to get embeddings to a df\n",
    "    Use it so that we can pair it with dask and apply it in parallel\n",
    "    \"\"\"\n",
    "    if apply_fxn == 'apply':\n",
    "        return df[text_col].apply(lambda x: model(x).numpy())\n",
    "    else:\n",
    "        # original example used map\n",
    "        return df[text_col].map(model_fxn).apply(lambda x: x.numpy())\n",
    "    "
   ]
  },
  {
   "cell_type": "code",
   "execution_count": 22,
   "id": "5326b9d8",
   "metadata": {},
   "outputs": [],
   "source": [
    "def get_embeddings_as_numpy(\n",
    "    text_string: str,\n",
    "#     tf_model: callable = model,\n",
    ") -> np.ndarray:\n",
    "    \"\"\"Wrapper to convert Tensor type to numpy to make downstream transformations faster\"\"\"\n",
    "    return model(text_string).numpy()"
   ]
  },
  {
   "cell_type": "markdown",
   "id": "fd8c0345",
   "metadata": {},
   "source": [
    "## Get embeddings with `dask.map_partition`"
   ]
  },
  {
   "cell_type": "code",
   "execution_count": 23,
   "id": "cd4d78a6",
   "metadata": {},
   "outputs": [
    {
     "name": "stdout",
     "output_type": "stream",
     "text": [
      "CPU times: user 2.69 s, sys: 953 ms, total: 3.64 s\n",
      "Wall time: 3.5 s\n"
     ]
    }
   ],
   "source": [
    "%%time\n",
    "\n",
    "ddf_text['embeddings'] = (\n",
    "    ddf_text[['text']]\n",
    "    .map_partitions(model,\n",
    "                    meta=pd.Series(name='embeddings', dtype=str)\n",
    "                    )\n",
    "    .compute()\n",
    ")"
   ]
  },
  {
   "cell_type": "code",
   "execution_count": 25,
   "id": "f23c7266",
   "metadata": {},
   "outputs": [
    {
     "data": {
      "text/html": [
       "<div>\n",
       "<style scoped>\n",
       "    .dataframe tbody tr th:only-of-type {\n",
       "        vertical-align: middle;\n",
       "    }\n",
       "\n",
       "    .dataframe tbody tr th {\n",
       "        vertical-align: top;\n",
       "    }\n",
       "\n",
       "    .dataframe thead th {\n",
       "        text-align: right;\n",
       "    }\n",
       "</style>\n",
       "<table border=\"1\" class=\"dataframe\">\n",
       "  <thead>\n",
       "    <tr style=\"text-align: right;\">\n",
       "      <th></th>\n",
       "      <th>embeddings</th>\n",
       "    </tr>\n",
       "  </thead>\n",
       "  <tbody>\n",
       "    <tr>\n",
       "      <th>5995</th>\n",
       "      <td>NaN</td>\n",
       "    </tr>\n",
       "    <tr>\n",
       "      <th>5996</th>\n",
       "      <td>NaN</td>\n",
       "    </tr>\n",
       "    <tr>\n",
       "      <th>5997</th>\n",
       "      <td>NaN</td>\n",
       "    </tr>\n",
       "    <tr>\n",
       "      <th>5998</th>\n",
       "      <td>NaN</td>\n",
       "    </tr>\n",
       "    <tr>\n",
       "      <th>5999</th>\n",
       "      <td>NaN</td>\n",
       "    </tr>\n",
       "  </tbody>\n",
       "</table>\n",
       "</div>"
      ],
      "text/plain": [
       "     embeddings\n",
       "5995        NaN\n",
       "5996        NaN\n",
       "5997        NaN\n",
       "5998        NaN\n",
       "5999        NaN"
      ]
     },
     "execution_count": 25,
     "metadata": {},
     "output_type": "execute_result"
    }
   ],
   "source": [
    "ddf_text[['embeddings']].compute().tail()"
   ]
  },
  {
   "cell_type": "code",
   "execution_count": 96,
   "id": "7443d9d2",
   "metadata": {},
   "outputs": [],
   "source": [
    "embeddings_size = 512\n",
    "# tf_embeddings = np.empty([len(ddf_text), embeddings_size])\n",
    "# tf_embeddings.shape"
   ]
  },
  {
   "cell_type": "code",
   "execution_count": 98,
   "id": "a257563d",
   "metadata": {},
   "outputs": [
    {
     "data": {
      "text/plain": [
       "dask.dataframe.core.DataFrame"
      ]
     },
     "execution_count": 98,
     "metadata": {},
     "output_type": "execute_result"
    }
   ],
   "source": [
    "type(ddf_text)"
   ]
  },
  {
   "cell_type": "code",
   "execution_count": 102,
   "id": "abf9083c",
   "metadata": {},
   "outputs": [
    {
     "name": "stdout",
     "output_type": "stream",
     "text": [
      "CPU times: user 39 ms, sys: 6.32 ms, total: 45.4 ms\n",
      "Wall time: 34.9 ms\n"
     ]
    },
    {
     "data": {
      "text/html": [
       "<div>\n",
       "<style scoped>\n",
       "    .dataframe tbody tr th:only-of-type {\n",
       "        vertical-align: middle;\n",
       "    }\n",
       "\n",
       "    .dataframe tbody tr th {\n",
       "        vertical-align: top;\n",
       "    }\n",
       "\n",
       "    .dataframe thead th {\n",
       "        text-align: right;\n",
       "    }\n",
       "</style>\n",
       "<table border=\"1\" class=\"dataframe\">\n",
       "  <thead>\n",
       "    <tr style=\"text-align: right;\">\n",
       "      <th></th>\n",
       "      <th>embeddings</th>\n",
       "    </tr>\n",
       "  </thead>\n",
       "  <tbody>\n",
       "    <tr>\n",
       "      <th>0</th>\n",
       "      <td>((tf.Tensor(-0.005252141, shape=(), dtype=float32), tf.Tensor(-0.038312018, shape=(), dtype=float32), tf.Tensor(-0.009220189, shape=(), dtype=float32), tf.Tensor(-0.04609629, shape=(), dtype=float32), tf.Tensor(-0.05765771, shape=(), dt...</td>\n",
       "    </tr>\n",
       "    <tr>\n",
       "      <th>1</th>\n",
       "      <td>((tf.Tensor(0.019088347, shape=(), dtype=float32), tf.Tensor(0.009552213, shape=(), dtype=float32), tf.Tensor(-0.047412947, shape=(), dtype=float32), tf.Tensor(0.0104937935, shape=(), dtype=float32), tf.Tensor(-0.04290844, shape=(), dty...</td>\n",
       "    </tr>\n",
       "    <tr>\n",
       "      <th>2</th>\n",
       "      <td>((tf.Tensor(-0.022675823, shape=(), dtype=float32), tf.Tensor(-0.069071874, shape=(), dtype=float32), tf.Tensor(0.0155086545, shape=(), dtype=float32), tf.Tensor(-0.029039716, shape=(), dtype=float32), tf.Tensor(-0.08988534, shape=(), d...</td>\n",
       "    </tr>\n",
       "    <tr>\n",
       "      <th>3</th>\n",
       "      <td>((tf.Tensor(0.01908833, shape=(), dtype=float32), tf.Tensor(0.009552218, shape=(), dtype=float32), tf.Tensor(-0.047412947, shape=(), dtype=float32), tf.Tensor(0.010493787, shape=(), dtype=float32), tf.Tensor(-0.04290844, shape=(), dtype...</td>\n",
       "    </tr>\n",
       "    <tr>\n",
       "      <th>4</th>\n",
       "      <td>((tf.Tensor(-0.0052521243, shape=(), dtype=float32), tf.Tensor(-0.03831199, shape=(), dtype=float32), tf.Tensor(-0.009220154, shape=(), dtype=float32), tf.Tensor(-0.0460963, shape=(), dtype=float32), tf.Tensor(-0.05765769, shape=(), dty...</td>\n",
       "    </tr>\n",
       "  </tbody>\n",
       "</table>\n",
       "</div>"
      ],
      "text/plain": [
       "                                                                                                                                                                                                                                        embeddings\n",
       "0  ((tf.Tensor(-0.005252141, shape=(), dtype=float32), tf.Tensor(-0.038312018, shape=(), dtype=float32), tf.Tensor(-0.009220189, shape=(), dtype=float32), tf.Tensor(-0.04609629, shape=(), dtype=float32), tf.Tensor(-0.05765771, shape=(), dt...\n",
       "1  ((tf.Tensor(0.019088347, shape=(), dtype=float32), tf.Tensor(0.009552213, shape=(), dtype=float32), tf.Tensor(-0.047412947, shape=(), dtype=float32), tf.Tensor(0.0104937935, shape=(), dtype=float32), tf.Tensor(-0.04290844, shape=(), dty...\n",
       "2  ((tf.Tensor(-0.022675823, shape=(), dtype=float32), tf.Tensor(-0.069071874, shape=(), dtype=float32), tf.Tensor(0.0155086545, shape=(), dtype=float32), tf.Tensor(-0.029039716, shape=(), dtype=float32), tf.Tensor(-0.08988534, shape=(), d...\n",
       "3  ((tf.Tensor(0.01908833, shape=(), dtype=float32), tf.Tensor(0.009552218, shape=(), dtype=float32), tf.Tensor(-0.047412947, shape=(), dtype=float32), tf.Tensor(0.010493787, shape=(), dtype=float32), tf.Tensor(-0.04290844, shape=(), dtype...\n",
       "4  ((tf.Tensor(-0.0052521243, shape=(), dtype=float32), tf.Tensor(-0.03831199, shape=(), dtype=float32), tf.Tensor(-0.009220154, shape=(), dtype=float32), tf.Tensor(-0.0460963, shape=(), dtype=float32), tf.Tensor(-0.05765769, shape=(), dty..."
      ]
     },
     "execution_count": 102,
     "metadata": {},
     "output_type": "execute_result"
    }
   ],
   "source": [
    "%%time\n",
    "\n",
    "ddf_text[['embeddings']].compute().head()"
   ]
  },
  {
   "cell_type": "code",
   "execution_count": 103,
   "id": "5b8df0d3",
   "metadata": {},
   "outputs": [],
   "source": [
    "# %%time\n",
    "\n",
    "# # This doesn't seem to work because dask expects the output to collapse to a single dimension (instead of 512)\n",
    "# # tf_embeddings = \n",
    "# (\n",
    "#     ddf_text[['text']]\n",
    "#     .map_partitions(get_embeddings_as_numpy,\n",
    "#                     meta=pd.Series(name='embeddings', dtype=str)\n",
    "#                     )\n",
    "#     .compute()\n",
    "# )"
   ]
  },
  {
   "cell_type": "code",
   "execution_count": 107,
   "id": "65641e0e",
   "metadata": {},
   "outputs": [
    {
     "name": "stdout",
     "output_type": "stream",
     "text": [
      "CPU times: user 2min 40s, sys: 52.2 s, total: 3min 32s\n",
      "Wall time: 46.8 s\n"
     ]
    }
   ],
   "source": [
    "%%time\n",
    "\n",
    "ddf_text['embeddings_np1'] = (\n",
    "    ddf_text\n",
    "    .map_partitions(get_embeddings_as_numpy_df,\n",
    "                    text_col='text',\n",
    "                    apply_fxn='map',\n",
    "                    meta=pd.Series(name='text', dtype=str)\n",
    "                    )\n",
    "    .compute()\n",
    ")"
   ]
  },
  {
   "cell_type": "code",
   "execution_count": 106,
   "id": "d3736bfa",
   "metadata": {},
   "outputs": [
    {
     "name": "stdout",
     "output_type": "stream",
     "text": [
      "CPU times: user 2min 43s, sys: 52.5 s, total: 3min 35s\n",
      "Wall time: 49.1 s\n"
     ]
    }
   ],
   "source": [
    "%%time\n",
    "\n",
    "ddf_text['embeddings_np2'] = (\n",
    "    ddf_text\n",
    "    .map_partitions(get_embeddings_as_numpy_df,\n",
    "                    text_col='text',\n",
    "                    apply_fxn='apply',\n",
    "                    meta=pd.Series(name='text', dtype=str)\n",
    "                    )\n",
    "    .compute()\n",
    ")"
   ]
  },
  {
   "cell_type": "markdown",
   "id": "52668cb0",
   "metadata": {},
   "source": [
    "## What is the dtype? / how do we get embeddings out of this output?\n",
    "\n",
    "By default it looks like the dtype is a `tensorflow.Tensor` object, which could be a pain to manipulate."
   ]
  },
  {
   "cell_type": "code",
   "execution_count": 108,
   "id": "b46d7c45",
   "metadata": {},
   "outputs": [
    {
     "data": {
      "text/plain": [
       "0    ((tf.Tensor(-0.005252141, shape=(), dtype=float32), tf.Tensor(-0.038312018, shape=(), dtype=float32), tf.Tensor(-0.009220189, shape=(), dtype=float32), tf.Tensor(-0.04609629, shape=(), dtype=float32), tf.Tensor(-0.05765771, shape=(), dt...\n",
       "1    ((tf.Tensor(0.019088347, shape=(), dtype=float32), tf.Tensor(0.009552213, shape=(), dtype=float32), tf.Tensor(-0.047412947, shape=(), dtype=float32), tf.Tensor(0.0104937935, shape=(), dtype=float32), tf.Tensor(-0.04290844, shape=(), dty...\n",
       "2    ((tf.Tensor(-0.022675823, shape=(), dtype=float32), tf.Tensor(-0.069071874, shape=(), dtype=float32), tf.Tensor(0.0155086545, shape=(), dtype=float32), tf.Tensor(-0.029039716, shape=(), dtype=float32), tf.Tensor(-0.08988534, shape=(), d...\n",
       "3    ((tf.Tensor(0.01908833, shape=(), dtype=float32), tf.Tensor(0.009552218, shape=(), dtype=float32), tf.Tensor(-0.047412947, shape=(), dtype=float32), tf.Tensor(0.010493787, shape=(), dtype=float32), tf.Tensor(-0.04290844, shape=(), dtype...\n",
       "4    ((tf.Tensor(-0.0052521243, shape=(), dtype=float32), tf.Tensor(-0.03831199, shape=(), dtype=float32), tf.Tensor(-0.009220154, shape=(), dtype=float32), tf.Tensor(-0.0460963, shape=(), dtype=float32), tf.Tensor(-0.05765769, shape=(), dty...\n",
       "Name: embeddings, dtype: object"
      ]
     },
     "execution_count": 108,
     "metadata": {},
     "output_type": "execute_result"
    }
   ],
   "source": [
    "ddf_text['embeddings'].head()"
   ]
  },
  {
   "cell_type": "code",
   "execution_count": 109,
   "id": "2a2b0d3e",
   "metadata": {},
   "outputs": [
    {
     "data": {
      "text/plain": [
       "5995    NaN\n",
       "5996    NaN\n",
       "5997    NaN\n",
       "5998    NaN\n",
       "5999    NaN\n",
       "Name: embeddings, dtype: object"
      ]
     },
     "execution_count": 109,
     "metadata": {},
     "output_type": "execute_result"
    }
   ],
   "source": [
    "ddf_text['embeddings'].tail()"
   ]
  },
  {
   "cell_type": "code",
   "execution_count": 49,
   "id": "8375bad4",
   "metadata": {},
   "outputs": [
    {
     "data": {
      "text/plain": [
       "0    [[-0.005252127, -0.03831199, -0.00922016, -0.046096295, -0.057657722, -0.04768436, -0.016511641, 0.0047285636, -0.013010718, -0.0713816, -0.030422542, 0.023165481, 0.017145848, 0.045331325, 0.015669955, -0.01395997, -0.05360133, -0.0118...\n",
       "1    [[-0.02267581, -0.069071844, 0.015508692, -0.029039733, -0.08988534, -0.0010676696, -0.014085712, 0.0072551174, -0.019989632, 0.0669519, 0.017029503, 0.022945907, -0.006108564, 0.05118298, -0.043797858, -0.041236266, 0.029429343, 0.0488...\n",
       "2    [[0.019088332, 0.009552218, -0.04741294, 0.0104937535, -0.042908445, -0.06331453, -0.0031612532, 0.051496144, 0.027147723, -0.010961102, 0.034988593, 0.057352275, 0.046823528, 0.057418354, -0.00366939, 0.0066046086, -0.0013654096, 0.003...\n",
       "3    [[-0.0052521275, -0.03831199, -0.009220155, -0.046096295, -0.05765772, -0.04768436, -0.016511641, 0.0047285655, -0.013010721, -0.0713816, -0.030422544, 0.023165483, 0.017145844, 0.04533133, 0.015669957, -0.013959968, -0.05360133, -0.011...\n",
       "4    [[-0.02267581, -0.069071844, 0.015508692, -0.029039731, -0.08988534, -0.0010676745, -0.014085707, 0.0072551128, -0.019989632, 0.0669519, 0.017029509, 0.02294591, -0.006108567, 0.05118298, -0.043797866, -0.041236263, 0.029429344, 0.04888...\n",
       "Name: embeddings_np, dtype: object"
      ]
     },
     "execution_count": 49,
     "metadata": {},
     "output_type": "execute_result"
    }
   ],
   "source": [
    "ddf_text['embeddings_np'].head()"
   ]
  },
  {
   "cell_type": "code",
   "execution_count": null,
   "id": "944513ec",
   "metadata": {},
   "outputs": [],
   "source": [
    "ddf_text['embeddings_np'].tail()"
   ]
  },
  {
   "cell_type": "code",
   "execution_count": 55,
   "id": "cc9f9fa3",
   "metadata": {},
   "outputs": [
    {
     "name": "stdout",
     "output_type": "stream",
     "text": [
      "CPU times: user 12.6 ms, sys: 0 ns, total: 12.6 ms\n",
      "Wall time: 10.2 ms\n"
     ]
    },
    {
     "data": {
      "text/plain": [
       "0    [[-0.0052521224, -0.03831199, -0.009220155, -0.0460963, -0.057657693, -0.047684345, -0.016511647, 0.004728538, -0.01301072, -0.07138159, -0.03042251, 0.023165515, 0.017145874, 0.045331337, 0.015669929, -0.013959975, -0.05360135, -0.0118...\n",
       "1    [[-0.022675814, -0.069071874, 0.015508659, -0.02903972, -0.08988533, -0.0010676887, -0.014085756, 0.007255134, -0.019989597, 0.06695186, 0.01702949, 0.02294587, -0.006108526, 0.05118297, -0.043797873, -0.04123629, 0.029429296, 0.0488887...\n",
       "2    [[0.019088339, 0.009552221, -0.04741294, 0.010493785, -0.04290844, -0.06331449, -0.0031612637, 0.051496122, 0.027147735, -0.010961098, 0.034988593, 0.057352237, 0.046823513, 0.057418343, -0.0036693846, 0.006604615, -0.0013653795, 0.0038...\n",
       "3    [[-0.0052521233, -0.03831199, -0.009220155, -0.0460963, -0.057657693, -0.047684345, -0.016511645, 0.0047285357, -0.013010718, -0.07138159, -0.030422507, 0.023165515, 0.017145874, 0.045331337, 0.015669929, -0.013959976, -0.05360135, -0.0...\n",
       "4    [[-0.022675822, -0.069071874, 0.015508652, -0.029039716, -0.08988534, -0.0010676958, -0.014085753, 0.007255138, -0.0199896, 0.06695186, 0.017029488, 0.022945873, -0.0061085303, 0.05118296, -0.04379786, -0.04123628, 0.029429302, 0.048888...\n",
       "Name: embeddings, dtype: object"
      ]
     },
     "execution_count": 55,
     "metadata": {},
     "output_type": "execute_result"
    }
   ],
   "source": [
    "%%time\n",
    "ddf_text['embeddings'].head().apply(lambda x: x.numpy())"
   ]
  },
  {
   "cell_type": "code",
   "execution_count": 108,
   "id": "898f5ae8",
   "metadata": {},
   "outputs": [],
   "source": [
    "# ddf_text['embeddings'].compute()"
   ]
  },
  {
   "cell_type": "code",
   "execution_count": 110,
   "id": "fb0fc12e",
   "metadata": {},
   "outputs": [],
   "source": [
    "# %%time\n",
    "# ddf_text['embeddings'].apply(lambda x: x.numpy())"
   ]
  },
  {
   "cell_type": "code",
   "execution_count": 112,
   "id": "057465b8",
   "metadata": {},
   "outputs": [
    {
     "data": {
      "text/plain": [
       "0    [[-0.005252141, -0.038312018, -0.009220189, -0.04609629, -0.05765771, -0.047684345, -0.01651165, 0.0047285794, -0.013010711, -0.071381606, -0.030422565, 0.02316548, 0.017145867, 0.045331288, 0.015669933, -0.013959985, -0.053601343, -0.0...\n",
       "1    [[0.019088347, 0.009552213, -0.047412947, 0.0104937935, -0.04290844, -0.06331449, -0.0031612592, 0.051496133, 0.027147729, -0.010961093, 0.034988593, 0.05735223, 0.046823505, 0.057418343, -0.0036693835, 0.0066046203, -0.0013653715, 0.00...\n",
       "2    [[-0.022675823, -0.069071874, 0.0155086545, -0.029039716, -0.08988534, -0.0010676958, -0.014085754, 0.0072551346, -0.019989599, 0.06695186, 0.01702949, 0.022945872, -0.0061085364, 0.051182974, -0.04379786, -0.04123629, 0.029429302, 0.04...\n",
       "3    [[0.01908833, 0.009552218, -0.047412947, 0.010493787, -0.04290844, -0.063314475, -0.0031612662, 0.051496133, 0.027147733, -0.010961089, 0.0349886, 0.05735224, 0.046823505, 0.057418346, -0.003669383, 0.0066046147, -0.0013653776, 0.003832...\n",
       "4    [[-0.0052521243, -0.03831199, -0.009220154, -0.0460963, -0.05765769, -0.047684345, -0.01651165, 0.0047285333, -0.013010722, -0.07138159, -0.030422512, 0.023165513, 0.017145878, 0.045331337, 0.01566993, -0.013959976, -0.05360135, -0.0118...\n",
       "Name: embeddings, dtype: object"
      ]
     },
     "execution_count": 112,
     "metadata": {},
     "output_type": "execute_result"
    }
   ],
   "source": [
    "ddf_text['embeddings'].head().apply(lambda x: x.numpy())"
   ]
  },
  {
   "cell_type": "code",
   "execution_count": 113,
   "id": "d803d3db",
   "metadata": {},
   "outputs": [],
   "source": [
    "# ddf_text['embeddings'].apply(lambda x: x.numpy())"
   ]
  },
  {
   "cell_type": "code",
   "execution_count": null,
   "id": "4253192d",
   "metadata": {},
   "outputs": [],
   "source": []
  }
 ],
 "metadata": {
  "environment": {
   "name": "tf2-gpu.2-3.m71",
   "type": "gcloud",
   "uri": "gcr.io/deeplearning-platform-release/tf2-gpu.2-3:m71"
  },
  "kernelspec": {
   "display_name": "Python [conda env:root] *",
   "language": "python",
   "name": "conda-root-py"
  },
  "language_info": {
   "codemirror_mode": {
    "name": "ipython",
    "version": 3
   },
   "file_extension": ".py",
   "mimetype": "text/x-python",
   "name": "python",
   "nbconvert_exporter": "python",
   "pygments_lexer": "ipython3",
   "version": "3.7.10"
  }
 },
 "nbformat": 4,
 "nbformat_minor": 5
}
